{
 "cells": [
  {
   "cell_type": "markdown",
   "metadata": {},
   "source": [
    "Manipulation of data top 1-5 zones"
   ]
  },
  {
   "cell_type": "code",
   "execution_count": 2,
   "metadata": {},
   "outputs": [
    {
     "name": "stdout",
     "output_type": "stream",
     "text": [
      "File saved to ../data/Updated_Theme_Parks_Survey_Responses A14.csv\n"
     ]
    }
   ],
   "source": [
    "import pandas as pd\n",
    "import re\n",
    "\n",
    "# Load the dataset with a relative path\n",
    "file_path = \"../data/Theme Parks Survey Responses 4 Nov.csv\"\n",
    "df = pd.read_csv(file_path)\n",
    "\n",
    "# Remove rows where the \"How long has it been since your last visit to USS?\" column contains \"I have not visited USS before\"\n",
    "df = df[df['How long has it been since your last visit to USS?'] != 'I have not visited USS before']\n",
    "\n",
    "# Rename relevant columns for easier reference\n",
    "df.rename(columns={\n",
    "    \"Are you Singaporean/PR or Foreigner?\": \"Nationality\",\n",
    "    \"Which age group do you belong to?\": \"Age_Group\",\n",
    "    \"Choose the top 3 amenities / attractions that are most important to you when you visit the theme park.\": \"Top_Amenities\",\n",
    "    \"Did you purchase an Express Pass?\": \"express_pass_purchase\"\n",
    "}, inplace=True)\n",
    "\n",
    "# Clean up the Nationality column\n",
    "df['Nationality'] = df['Nationality'].str.replace(\"I am a \", \"\", regex=False)\n",
    "\n",
    "# Update ranking columns with full names (excluding Madagascar)\n",
    "ranking_columns = [\n",
    "    \"Rank the following theme park zones based on the order in which you visited them. [Hollywood]\",\n",
    "    \"Rank the following theme park zones based on the order in which you visited them. [New York]\",\n",
    "    \"Rank the following theme park zones based on the order in which you visited them. [Sci-Fi City]\",\n",
    "    \"Rank the following theme park zones based on the order in which you visited them. [Ancient Egypt]\",\n",
    "    \"Rank the following theme park zones based on the order in which you visited them. [The Lost World]\",\n",
    "    \"Rank the following theme park zones based on the order in which you visited them. [Far Far Away]\"\n",
    "]\n",
    "\n",
    "# Extract the visited zones (ignoring Madagascar)\n",
    "def extract_visited_zones(row):\n",
    "    zones_with_ranks = {zone: rank for zone, rank in zip(ranking_columns, row)}\n",
    "    visited_zones = {zone: rank for zone, rank in zones_with_ranks.items() if rank != \"Did not visit\"}\n",
    "\n",
    "    # Extract the zone names, ensure at least 6 'Na' if no zones are found\n",
    "    visited_zone_names = [zone.split('[')[-1].strip(']') for zone in visited_zones]\n",
    "    return visited_zone_names if visited_zone_names else ['Na'] * 6  # Ensure 'Na' for all zones if none visited\n",
    "\n",
    "# Apply the function to extract the visited zones and split into 6 columns\n",
    "df[['first_visited_zone', 'second_visited_zone', 'third_visited_zone', \n",
    "    'fourth_visited_zone', 'fifth_visited_zone', 'sixth_visited_zone']] = pd.DataFrame(\n",
    "    df[ranking_columns].apply(extract_visited_zones, axis=1).tolist(), index=df.index\n",
    ")\n",
    "\n",
    "# Ensure that all missing values are filled with 'Na' where appropriate (in case there are any blanks in the zones)\n",
    "df[['first_visited_zone', 'second_visited_zone', 'third_visited_zone', \n",
    "    'fourth_visited_zone', 'fifth_visited_zone', 'sixth_visited_zone']] = df[['first_visited_zone', 'second_visited_zone', 'third_visited_zone', \n",
    "    'fourth_visited_zone', 'fifth_visited_zone', 'sixth_visited_zone']].fillna('Na')\n",
    "\n",
    "# Clean column names by stripping newline and extra spaces\n",
    "df.columns = df.columns.str.replace('\\n', ' ').str.strip()\n",
    "\n",
    "# Column name for the activity ranking\n",
    "activities_column_name = \"Arrange the following activities in the order in which you experienced them during your visit. A. Go to the rollercoasters B. Go to the Water-based rides C. Go to the F&B outlet D. Go and shop for souvenirs E. Go for a water/restroom break G. Go to the child-friendly rides H. Go to the Haunted House I. Go to the Simulator rides J. Sightseeing K. Go to the Spinning rides\"\n",
    "\n",
    "# Define activity mapping for the top activities\n",
    "activity_mapping = {\n",
    "    'A': 'Go to the rollercoasters',\n",
    "    'B': 'Go to the Water-based rides',\n",
    "    'C': 'Go to the F&B outlet',\n",
    "    'D': 'Go and shop for souvenirs',\n",
    "    'E': 'Go for a water/restroom break',\n",
    "    'G': 'Go to the child-friendly rides',\n",
    "    'H': 'Go to the Haunted House',\n",
    "    'I': 'Go to the Simulator rides',\n",
    "    'J': 'Sightseeing',\n",
    "    'K': 'Go to the Spinning rides'\n",
    "}\n",
    "\n",
    "# Extract up to 14 activities\n",
    "def extract_activities(activity_string):\n",
    "    # Ensure activity_string is a valid string\n",
    "    if isinstance(activity_string, str):\n",
    "        activities = re.findall(r'([A-K])', activity_string)  # Match valid activities\n",
    "        # Limit to the first 14 activities and ensure all 14 are returned, even if fewer activities are found\n",
    "        activities = activities[:14]  # Take up to the first 14 activities\n",
    "        activities += ['Na'] * (14 - len(activities))  # Pad with 'Na' if fewer than 14\n",
    "        return [activity_mapping.get(a, 'Na') for a in activities]  # Convert to activity names\n",
    "    else:\n",
    "        return ['Na'] * 14  # Return 'Na' for all activities if the value is not a string\n",
    "\n",
    "# Apply the function to extract the first to fourteenth activities\n",
    "if activities_column_name in df.columns:\n",
    "    activities_df = df[activities_column_name].apply(lambda x: pd.Series(extract_activities(x)))\n",
    "    \n",
    "    # Ensure the number of columns is 14 before renaming\n",
    "    if activities_df.shape[1] == 14:\n",
    "        activities_df.columns = [\n",
    "            'first_activity', 'second_activity', 'third_activity', 'fourth_activity', \n",
    "            'fifth_activity', 'sixth_activity', 'seventh_activity', 'eighth_activity', \n",
    "            'ninth_activity', 'tenth_activity', 'eleventh_activity', 'twelfth_activity', \n",
    "            'thirteenth_activity', 'fourteenth_activity'\n",
    "        ]\n",
    "        df = pd.concat([df, activities_df], axis=1)\n",
    "    else:\n",
    "        print(f\"Error: The number of columns in activities_df is {activities_df.shape[1]}, expected 14.\")\n",
    "else:\n",
    "    print(f\"Column '{activities_column_name}' not found in the DataFrame.\")\n",
    "\n",
    "# Save the updated DataFrame to a new CSV file\n",
    "output_file_path = \"../data/Updated_Theme_Parks_Survey_Responses A14.csv\"\n",
    "df.to_csv(output_file_path, index=False)\n",
    "\n",
    "print(f\"File saved to {output_file_path}\")\n"
   ]
  },
  {
   "cell_type": "markdown",
   "metadata": {},
   "source": [
    "Sanakey Diagram <br /> Sg/ Foreigner -> Age demographics -> Express pass or not -> Which zones"
   ]
  },
  {
   "cell_type": "code",
   "execution_count": null,
   "metadata": {},
   "outputs": [
    {
     "data": {
      "application/vnd.plotly.v1+json": {
       "config": {
        "plotlyServerURL": "https://plot.ly"
       },
       "data": [
        {
         "link": {
          "source": [
           0,
           6,
           7,
           0,
           3,
           8,
           8,
           1,
           3,
           7,
           8,
           8,
           8,
           0,
           2,
           0,
           4,
           2,
           1,
           4,
           7,
           0,
           5,
           1,
           5,
           8,
           7,
           6,
           1,
           1,
           7,
           7
          ],
          "target": [
           6,
           7,
           9,
           3,
           8,
           9,
           11,
           3,
           7,
           10,
           13,
           14,
           12,
           2,
           7,
           4,
           8,
           8,
           4,
           7,
           11,
           5,
           8,
           5,
           7,
           10,
           14,
           8,
           6,
           2,
           12,
           13
          ],
          "value": [
           2,
           3,
           7,
           42,
           48,
           49,
           21,
           9,
           3,
           8,
           6,
           9,
           17,
           5,
           1,
           8,
           23,
           6,
           34,
           19,
           22,
           8,
           26,
           33,
           15,
           5,
           1,
           4,
           5,
           2,
           2,
           1
          ]
         },
         "node": {
          "label": [
           "Singaporean/PR<br>(44.9%)",
           "foreigner<br>(55.1%)",
           "Below 18<br>(5.1%)",
           "18-25<br>(34.8%)",
           "26-35<br>(28.5%)",
           "36-59<br>(27.2%)",
           "60 and above<br>(4.4%)",
           "Express Pass<br>(27.8%)",
           "No Express Pass<br>(72.2%)",
           "Hollywood<br>(35.4%)",
           "New York<br>(8.2%)",
           "Sci-Fi City<br>(27.8%)",
           "Ancient Egypt<br>(12.7%)",
           "The Lost World<br>(4.4%)",
           "Far Far Away<br>(6.3%)"
          ],
          "line": {
           "color": "black",
           "width": 0.5
          },
          "pad": 15,
          "thickness": 20
         },
         "type": "sankey"
        }
       ],
       "layout": {
        "font": {
         "size": 12
        },
        "template": {
         "data": {
          "bar": [
           {
            "error_x": {
             "color": "#2a3f5f"
            },
            "error_y": {
             "color": "#2a3f5f"
            },
            "marker": {
             "line": {
              "color": "#E5ECF6",
              "width": 0.5
             },
             "pattern": {
              "fillmode": "overlay",
              "size": 10,
              "solidity": 0.2
             }
            },
            "type": "bar"
           }
          ],
          "barpolar": [
           {
            "marker": {
             "line": {
              "color": "#E5ECF6",
              "width": 0.5
             },
             "pattern": {
              "fillmode": "overlay",
              "size": 10,
              "solidity": 0.2
             }
            },
            "type": "barpolar"
           }
          ],
          "carpet": [
           {
            "aaxis": {
             "endlinecolor": "#2a3f5f",
             "gridcolor": "white",
             "linecolor": "white",
             "minorgridcolor": "white",
             "startlinecolor": "#2a3f5f"
            },
            "baxis": {
             "endlinecolor": "#2a3f5f",
             "gridcolor": "white",
             "linecolor": "white",
             "minorgridcolor": "white",
             "startlinecolor": "#2a3f5f"
            },
            "type": "carpet"
           }
          ],
          "choropleth": [
           {
            "colorbar": {
             "outlinewidth": 0,
             "ticks": ""
            },
            "type": "choropleth"
           }
          ],
          "contour": [
           {
            "colorbar": {
             "outlinewidth": 0,
             "ticks": ""
            },
            "colorscale": [
             [
              0,
              "#0d0887"
             ],
             [
              0.1111111111111111,
              "#46039f"
             ],
             [
              0.2222222222222222,
              "#7201a8"
             ],
             [
              0.3333333333333333,
              "#9c179e"
             ],
             [
              0.4444444444444444,
              "#bd3786"
             ],
             [
              0.5555555555555556,
              "#d8576b"
             ],
             [
              0.6666666666666666,
              "#ed7953"
             ],
             [
              0.7777777777777778,
              "#fb9f3a"
             ],
             [
              0.8888888888888888,
              "#fdca26"
             ],
             [
              1,
              "#f0f921"
             ]
            ],
            "type": "contour"
           }
          ],
          "contourcarpet": [
           {
            "colorbar": {
             "outlinewidth": 0,
             "ticks": ""
            },
            "type": "contourcarpet"
           }
          ],
          "heatmap": [
           {
            "colorbar": {
             "outlinewidth": 0,
             "ticks": ""
            },
            "colorscale": [
             [
              0,
              "#0d0887"
             ],
             [
              0.1111111111111111,
              "#46039f"
             ],
             [
              0.2222222222222222,
              "#7201a8"
             ],
             [
              0.3333333333333333,
              "#9c179e"
             ],
             [
              0.4444444444444444,
              "#bd3786"
             ],
             [
              0.5555555555555556,
              "#d8576b"
             ],
             [
              0.6666666666666666,
              "#ed7953"
             ],
             [
              0.7777777777777778,
              "#fb9f3a"
             ],
             [
              0.8888888888888888,
              "#fdca26"
             ],
             [
              1,
              "#f0f921"
             ]
            ],
            "type": "heatmap"
           }
          ],
          "heatmapgl": [
           {
            "colorbar": {
             "outlinewidth": 0,
             "ticks": ""
            },
            "colorscale": [
             [
              0,
              "#0d0887"
             ],
             [
              0.1111111111111111,
              "#46039f"
             ],
             [
              0.2222222222222222,
              "#7201a8"
             ],
             [
              0.3333333333333333,
              "#9c179e"
             ],
             [
              0.4444444444444444,
              "#bd3786"
             ],
             [
              0.5555555555555556,
              "#d8576b"
             ],
             [
              0.6666666666666666,
              "#ed7953"
             ],
             [
              0.7777777777777778,
              "#fb9f3a"
             ],
             [
              0.8888888888888888,
              "#fdca26"
             ],
             [
              1,
              "#f0f921"
             ]
            ],
            "type": "heatmapgl"
           }
          ],
          "histogram": [
           {
            "marker": {
             "pattern": {
              "fillmode": "overlay",
              "size": 10,
              "solidity": 0.2
             }
            },
            "type": "histogram"
           }
          ],
          "histogram2d": [
           {
            "colorbar": {
             "outlinewidth": 0,
             "ticks": ""
            },
            "colorscale": [
             [
              0,
              "#0d0887"
             ],
             [
              0.1111111111111111,
              "#46039f"
             ],
             [
              0.2222222222222222,
              "#7201a8"
             ],
             [
              0.3333333333333333,
              "#9c179e"
             ],
             [
              0.4444444444444444,
              "#bd3786"
             ],
             [
              0.5555555555555556,
              "#d8576b"
             ],
             [
              0.6666666666666666,
              "#ed7953"
             ],
             [
              0.7777777777777778,
              "#fb9f3a"
             ],
             [
              0.8888888888888888,
              "#fdca26"
             ],
             [
              1,
              "#f0f921"
             ]
            ],
            "type": "histogram2d"
           }
          ],
          "histogram2dcontour": [
           {
            "colorbar": {
             "outlinewidth": 0,
             "ticks": ""
            },
            "colorscale": [
             [
              0,
              "#0d0887"
             ],
             [
              0.1111111111111111,
              "#46039f"
             ],
             [
              0.2222222222222222,
              "#7201a8"
             ],
             [
              0.3333333333333333,
              "#9c179e"
             ],
             [
              0.4444444444444444,
              "#bd3786"
             ],
             [
              0.5555555555555556,
              "#d8576b"
             ],
             [
              0.6666666666666666,
              "#ed7953"
             ],
             [
              0.7777777777777778,
              "#fb9f3a"
             ],
             [
              0.8888888888888888,
              "#fdca26"
             ],
             [
              1,
              "#f0f921"
             ]
            ],
            "type": "histogram2dcontour"
           }
          ],
          "mesh3d": [
           {
            "colorbar": {
             "outlinewidth": 0,
             "ticks": ""
            },
            "type": "mesh3d"
           }
          ],
          "parcoords": [
           {
            "line": {
             "colorbar": {
              "outlinewidth": 0,
              "ticks": ""
             }
            },
            "type": "parcoords"
           }
          ],
          "pie": [
           {
            "automargin": true,
            "type": "pie"
           }
          ],
          "scatter": [
           {
            "fillpattern": {
             "fillmode": "overlay",
             "size": 10,
             "solidity": 0.2
            },
            "type": "scatter"
           }
          ],
          "scatter3d": [
           {
            "line": {
             "colorbar": {
              "outlinewidth": 0,
              "ticks": ""
             }
            },
            "marker": {
             "colorbar": {
              "outlinewidth": 0,
              "ticks": ""
             }
            },
            "type": "scatter3d"
           }
          ],
          "scattercarpet": [
           {
            "marker": {
             "colorbar": {
              "outlinewidth": 0,
              "ticks": ""
             }
            },
            "type": "scattercarpet"
           }
          ],
          "scattergeo": [
           {
            "marker": {
             "colorbar": {
              "outlinewidth": 0,
              "ticks": ""
             }
            },
            "type": "scattergeo"
           }
          ],
          "scattergl": [
           {
            "marker": {
             "colorbar": {
              "outlinewidth": 0,
              "ticks": ""
             }
            },
            "type": "scattergl"
           }
          ],
          "scattermapbox": [
           {
            "marker": {
             "colorbar": {
              "outlinewidth": 0,
              "ticks": ""
             }
            },
            "type": "scattermapbox"
           }
          ],
          "scatterpolar": [
           {
            "marker": {
             "colorbar": {
              "outlinewidth": 0,
              "ticks": ""
             }
            },
            "type": "scatterpolar"
           }
          ],
          "scatterpolargl": [
           {
            "marker": {
             "colorbar": {
              "outlinewidth": 0,
              "ticks": ""
             }
            },
            "type": "scatterpolargl"
           }
          ],
          "scatterternary": [
           {
            "marker": {
             "colorbar": {
              "outlinewidth": 0,
              "ticks": ""
             }
            },
            "type": "scatterternary"
           }
          ],
          "surface": [
           {
            "colorbar": {
             "outlinewidth": 0,
             "ticks": ""
            },
            "colorscale": [
             [
              0,
              "#0d0887"
             ],
             [
              0.1111111111111111,
              "#46039f"
             ],
             [
              0.2222222222222222,
              "#7201a8"
             ],
             [
              0.3333333333333333,
              "#9c179e"
             ],
             [
              0.4444444444444444,
              "#bd3786"
             ],
             [
              0.5555555555555556,
              "#d8576b"
             ],
             [
              0.6666666666666666,
              "#ed7953"
             ],
             [
              0.7777777777777778,
              "#fb9f3a"
             ],
             [
              0.8888888888888888,
              "#fdca26"
             ],
             [
              1,
              "#f0f921"
             ]
            ],
            "type": "surface"
           }
          ],
          "table": [
           {
            "cells": {
             "fill": {
              "color": "#EBF0F8"
             },
             "line": {
              "color": "white"
             }
            },
            "header": {
             "fill": {
              "color": "#C8D4E3"
             },
             "line": {
              "color": "white"
             }
            },
            "type": "table"
           }
          ]
         },
         "layout": {
          "annotationdefaults": {
           "arrowcolor": "#2a3f5f",
           "arrowhead": 0,
           "arrowwidth": 1
          },
          "autotypenumbers": "strict",
          "coloraxis": {
           "colorbar": {
            "outlinewidth": 0,
            "ticks": ""
           }
          },
          "colorscale": {
           "diverging": [
            [
             0,
             "#8e0152"
            ],
            [
             0.1,
             "#c51b7d"
            ],
            [
             0.2,
             "#de77ae"
            ],
            [
             0.3,
             "#f1b6da"
            ],
            [
             0.4,
             "#fde0ef"
            ],
            [
             0.5,
             "#f7f7f7"
            ],
            [
             0.6,
             "#e6f5d0"
            ],
            [
             0.7,
             "#b8e186"
            ],
            [
             0.8,
             "#7fbc41"
            ],
            [
             0.9,
             "#4d9221"
            ],
            [
             1,
             "#276419"
            ]
           ],
           "sequential": [
            [
             0,
             "#0d0887"
            ],
            [
             0.1111111111111111,
             "#46039f"
            ],
            [
             0.2222222222222222,
             "#7201a8"
            ],
            [
             0.3333333333333333,
             "#9c179e"
            ],
            [
             0.4444444444444444,
             "#bd3786"
            ],
            [
             0.5555555555555556,
             "#d8576b"
            ],
            [
             0.6666666666666666,
             "#ed7953"
            ],
            [
             0.7777777777777778,
             "#fb9f3a"
            ],
            [
             0.8888888888888888,
             "#fdca26"
            ],
            [
             1,
             "#f0f921"
            ]
           ],
           "sequentialminus": [
            [
             0,
             "#0d0887"
            ],
            [
             0.1111111111111111,
             "#46039f"
            ],
            [
             0.2222222222222222,
             "#7201a8"
            ],
            [
             0.3333333333333333,
             "#9c179e"
            ],
            [
             0.4444444444444444,
             "#bd3786"
            ],
            [
             0.5555555555555556,
             "#d8576b"
            ],
            [
             0.6666666666666666,
             "#ed7953"
            ],
            [
             0.7777777777777778,
             "#fb9f3a"
            ],
            [
             0.8888888888888888,
             "#fdca26"
            ],
            [
             1,
             "#f0f921"
            ]
           ]
          },
          "colorway": [
           "#636efa",
           "#EF553B",
           "#00cc96",
           "#ab63fa",
           "#FFA15A",
           "#19d3f3",
           "#FF6692",
           "#B6E880",
           "#FF97FF",
           "#FECB52"
          ],
          "font": {
           "color": "#2a3f5f"
          },
          "geo": {
           "bgcolor": "white",
           "lakecolor": "white",
           "landcolor": "#E5ECF6",
           "showlakes": true,
           "showland": true,
           "subunitcolor": "white"
          },
          "hoverlabel": {
           "align": "left"
          },
          "hovermode": "closest",
          "mapbox": {
           "style": "light"
          },
          "paper_bgcolor": "white",
          "plot_bgcolor": "#E5ECF6",
          "polar": {
           "angularaxis": {
            "gridcolor": "white",
            "linecolor": "white",
            "ticks": ""
           },
           "bgcolor": "#E5ECF6",
           "radialaxis": {
            "gridcolor": "white",
            "linecolor": "white",
            "ticks": ""
           }
          },
          "scene": {
           "xaxis": {
            "backgroundcolor": "#E5ECF6",
            "gridcolor": "white",
            "gridwidth": 2,
            "linecolor": "white",
            "showbackground": true,
            "ticks": "",
            "zerolinecolor": "white"
           },
           "yaxis": {
            "backgroundcolor": "#E5ECF6",
            "gridcolor": "white",
            "gridwidth": 2,
            "linecolor": "white",
            "showbackground": true,
            "ticks": "",
            "zerolinecolor": "white"
           },
           "zaxis": {
            "backgroundcolor": "#E5ECF6",
            "gridcolor": "white",
            "gridwidth": 2,
            "linecolor": "white",
            "showbackground": true,
            "ticks": "",
            "zerolinecolor": "white"
           }
          },
          "shapedefaults": {
           "line": {
            "color": "#2a3f5f"
           }
          },
          "ternary": {
           "aaxis": {
            "gridcolor": "white",
            "linecolor": "white",
            "ticks": ""
           },
           "baxis": {
            "gridcolor": "white",
            "linecolor": "white",
            "ticks": ""
           },
           "bgcolor": "#E5ECF6",
           "caxis": {
            "gridcolor": "white",
            "linecolor": "white",
            "ticks": ""
           }
          },
          "title": {
           "x": 0.05
          },
          "xaxis": {
           "automargin": true,
           "gridcolor": "white",
           "linecolor": "white",
           "ticks": "",
           "title": {
            "standoff": 15
           },
           "zerolinecolor": "white",
           "zerolinewidth": 2
          },
          "yaxis": {
           "automargin": true,
           "gridcolor": "white",
           "linecolor": "white",
           "ticks": "",
           "title": {
            "standoff": 15
           },
           "zerolinecolor": "white",
           "zerolinewidth": 2
          }
         }
        },
        "title": {
         "text": "Guest Segmentation and Journey Patterns"
        }
       }
      }
     },
     "metadata": {},
     "output_type": "display_data"
    }
   ],
   "source": [
    "import pandas as pd\n",
    "import plotly.graph_objects as go\n",
    "\n",
    "# Load the dataset\n",
    "file_path = r'../data/Updated_Theme_Parks_Survey_Responses 5.csv'\n",
    "df = pd.read_csv(file_path)\n",
    "\n",
    "# Define labels for the Sankey diagram (removed Madagascar)\n",
    "labels = [\n",
    "    \"Singaporean/PR\", \"Foreigner\", \n",
    "    \"Below 18\", \"Ages 18-25\", \"Ages 26-35\", \"Ages 36-59\", \"Ages 60 and above\", \n",
    "    \"Express Pass\", \"No Express Pass\", \n",
    "    \"Hollywood\", \"New York\", \"Sci-Fi City\", \"Ancient Egypt\", \"The Lost World\", \"Far Far Away\",\n",
    "    \"Roller Coasters\", \"Water Rides\", \"Simulators\", \n",
    "    \"Restroom\", \"Food Stops\", \"Shopping\",\n",
    "    \"Rides\", \"Restroom / Baby Nursing Room\", \"Restaurants / Food Stops\", \"Water Cooler\",\n",
    "    \"Seating Zone\", \"Shelter\", \"Seasonal Attractions\"\n",
    "]\n",
    "\n",
    "# Total responses to calculate percentages\n",
    "total_responses = len(df)\n",
    "\n",
    "# Prepare flow data\n",
    "flow_data = {}  # Dictionary to hold source-target counts\n",
    "\n",
    "# Loop through each guest in the dataframe\n",
    "for index, row in df.iterrows():\n",
    "    # 1. Nationality\n",
    "    nationality_index = 0 if row['Nationality'] == \"Singaporean/PR\" else 1\n",
    "    \n",
    "    # 2. Age Group\n",
    "    age_index = {\n",
    "        \"Below 18\": 2, \"18-25\": 3, \"26-35\": 4, \"36-59\": 5, \"60 and above\": 6\n",
    "    }.get(row['Age_Group'], None)\n",
    "    if age_index is None:\n",
    "        continue  # Skip if age group is not defined\n",
    "\n",
    "    # 3. Express Pass Usage\n",
    "    express_pass_index = 7 if row['express_pass_purchase'] == \"Yes\" else 8\n",
    "    \n",
    "    # 4. Theme Park Zones (identify first visited zone)\n",
    "    zone_mapping = {\n",
    "        \"Hollywood\": 9,\n",
    "        \"New York\": 10,\n",
    "        \"Sci-Fi City\": 11,\n",
    "        \"Ancient Egypt\": 12,\n",
    "        \"The Lost World\": 13,\n",
    "        \"Far Far Away\": 14,\n",
    "    }\n",
    "    \n",
    "    zone_index = None\n",
    "    for zone, idx in zone_mapping.items():\n",
    "        if row[f'Rank the following theme park zones based on the order in which you visited them. [{zone}]'] == \"1st\":\n",
    "            zone_index = idx\n",
    "            break\n",
    "            \n",
    "    # If \"Madagascar\" is selected as the first zone, filter out this row and add a comment\n",
    "    if \"Madagascar\" in row[f'Rank the following theme park zones based on the order in which you visited them. [{zone}]']:\n",
    "        print(f\"#zone has closed for row {index}\")\n",
    "        continue  # Skip this iteration if Madagascar was selected\n",
    "    \n",
    "    # Ensure zone_index is assigned\n",
    "    if zone_index is None:\n",
    "        continue  # Skip this iteration if no zone is found\n",
    "    \n",
    "    # 5. First Ride Preference - Removed activities section\n",
    "    # Skip the activity mapping logic as per the request\n",
    "    \n",
    "    # Increment counts for flows\n",
    "    flows = [\n",
    "        (nationality_index, age_index),\n",
    "        (age_index, express_pass_index),\n",
    "        (express_pass_index, zone_index)\n",
    "    ]\n",
    "    \n",
    "    for source_index, target_index in flows:\n",
    "        if (source_index, target_index) in flow_data:\n",
    "            flow_data[(source_index, target_index)] += 1\n",
    "        else:\n",
    "            flow_data[(source_index, target_index)] = 1\n",
    "\n",
    "# Prepare source, target, and values lists for the Sankey diagram\n",
    "source, target, values = zip(*[(s, t, v) for (s, t), v in flow_data.items()])\n",
    "\n",
    "# Prepare the labels with percentages\n",
    "labels_with_percentages = []\n",
    "\n",
    "# Calculate percentage for Nationality and Age Group\n",
    "# 1. Nationality percentages\n",
    "for nationality in [\"Singaporean/PR\", \"foreigner\"]:\n",
    "    nationality_count = df['Nationality'].value_counts().get(nationality, 0)\n",
    "    nationality_percentage = (nationality_count / total_responses) * 100\n",
    "    labels_with_percentages.append(f\"{nationality}<br>({nationality_percentage:.1f}%)\")\n",
    "\n",
    "# 2. Age Group percentages\n",
    "age_groups = [\"Below 18\", \"18-25\", \"26-35\", \"36-59\", \"60 and above\"]\n",
    "for age_group in age_groups:\n",
    "    age_group_count = df['Age_Group'].value_counts().get(age_group, 0)\n",
    "    age_group_percentage = (age_group_count / total_responses) * 100\n",
    "    labels_with_percentages.append(f\"{age_group}<br>({age_group_percentage:.1f}%)\")\n",
    "\n",
    "# 3. Express Pass percentages\n",
    "for express_pass in [\"Yes\", \"No\"]:\n",
    "    express_pass_count = df['express_pass_purchase'].value_counts().get(express_pass, 0)\n",
    "    express_pass_percentage = (express_pass_count / total_responses) * 100\n",
    "    express_pass_label = \"Express Pass\" if express_pass == \"Yes\" else \"No Express Pass\"\n",
    "    labels_with_percentages.append(f\"{express_pass_label}<br>({express_pass_percentage:.1f}%)\")\n",
    "\n",
    "# 4. Zone percentages (removed Madagascar)\n",
    "zone_mapping = {\n",
    "    \"Hollywood\": \"Hollywood\", \"New York\": \"New York\", \"Sci-Fi City\": \"Sci-Fi City\", \n",
    "    \"Ancient Egypt\": \"Ancient Egypt\", \"The Lost World\": \"The Lost World\", \"Far Far Away\": \"Far Far Away\",\n",
    "}\n",
    "for zone in zone_mapping.values():\n",
    "    zone_column = f'Rank the following theme park zones based on the order in which you visited them. [{zone}]'\n",
    "    zone_count = df[zone_column].value_counts().get(\"1st\", 0)\n",
    "    zone_percentage = (zone_count / total_responses) * 100\n",
    "    labels_with_percentages.append(f\"{zone}<br>({zone_percentage:.1f}%)\")\n",
    "\n",
    "# Create the Sankey diagram\n",
    "fig = go.Figure(go.Sankey(\n",
    "    node=dict(\n",
    "        pad=15, \n",
    "        thickness=20,\n",
    "        line=dict(color=\"black\", width=0.5), \n",
    "        label=labels_with_percentages  # Use labels with percentages\n",
    "    ),\n",
    "    link=dict(\n",
    "        source=source, \n",
    "        target=target, \n",
    "        value=values\n",
    "    )\n",
    "))\n",
    "\n",
    "# Add title and show figure\n",
    "fig.update_layout(title_text=\"Guest Segmentation and Journey Patterns\", font_size=12)\n",
    "fig.show()\n",
    "\n",
    "\n",
    "\n",
    "### to debug last pillar not 100%\n"
   ]
  },
  {
   "cell_type": "markdown",
   "metadata": {},
   "source": [
    "Sanakey Diagram <br /> Age demographics Which zones"
   ]
  },
  {
   "cell_type": "code",
   "execution_count": 46,
   "metadata": {},
   "outputs": [
    {
     "data": {
      "application/vnd.plotly.v1+json": {
       "config": {
        "plotlyServerURL": "https://plot.ly"
       },
       "data": [
        {
         "link": {
          "source": [
           4,
           1,
           1,
           1,
           1,
           1,
           1,
           0,
           2,
           0,
           3,
           3,
           2,
           3,
           2,
           2,
           0,
           3,
           3,
           4,
           4,
           2,
           2
          ],
          "target": [
           5,
           5,
           7,
           6,
           9,
           10,
           8,
           5,
           7,
           7,
           7,
           5,
           5,
           10,
           8,
           6,
           8,
           8,
           6,
           8,
           6,
           10,
           9
          ],
          "value": [
           3,
           23,
           9,
           3,
           5,
           3,
           8,
           5,
           18,
           1,
           15,
           9,
           16,
           6,
           4,
           1,
           1,
           5,
           6,
           1,
           3,
           1,
           2
          ]
         },
         "node": {
          "label": [
           "Below 18<br>(5.1%)",
           "18-25<br>(34.8%)",
           "26-35<br>(28.5%)",
           "36-59<br>(27.2%)",
           "60 and above<br>(4.4%)",
           "Hollywood<br>(37.3%)",
           "New York<br>(8.7%)",
           "Sci-Fi City<br>(29.3%)",
           "Ancient Egypt<br>(13.3%)",
           "The Lost World<br>(4.7%)",
           "Far Far Away<br>(6.7%)"
          ],
          "line": {
           "color": "black",
           "width": 0.5
          },
          "pad": 15,
          "thickness": 20,
          "y": [
           0,
           1,
           2,
           3,
           4,
           5,
           6,
           7,
           8,
           9,
           10
          ]
         },
         "type": "sankey"
        }
       ],
       "layout": {
        "font": {
         "size": 12
        },
        "template": {
         "data": {
          "bar": [
           {
            "error_x": {
             "color": "#2a3f5f"
            },
            "error_y": {
             "color": "#2a3f5f"
            },
            "marker": {
             "line": {
              "color": "#E5ECF6",
              "width": 0.5
             },
             "pattern": {
              "fillmode": "overlay",
              "size": 10,
              "solidity": 0.2
             }
            },
            "type": "bar"
           }
          ],
          "barpolar": [
           {
            "marker": {
             "line": {
              "color": "#E5ECF6",
              "width": 0.5
             },
             "pattern": {
              "fillmode": "overlay",
              "size": 10,
              "solidity": 0.2
             }
            },
            "type": "barpolar"
           }
          ],
          "carpet": [
           {
            "aaxis": {
             "endlinecolor": "#2a3f5f",
             "gridcolor": "white",
             "linecolor": "white",
             "minorgridcolor": "white",
             "startlinecolor": "#2a3f5f"
            },
            "baxis": {
             "endlinecolor": "#2a3f5f",
             "gridcolor": "white",
             "linecolor": "white",
             "minorgridcolor": "white",
             "startlinecolor": "#2a3f5f"
            },
            "type": "carpet"
           }
          ],
          "choropleth": [
           {
            "colorbar": {
             "outlinewidth": 0,
             "ticks": ""
            },
            "type": "choropleth"
           }
          ],
          "contour": [
           {
            "colorbar": {
             "outlinewidth": 0,
             "ticks": ""
            },
            "colorscale": [
             [
              0,
              "#0d0887"
             ],
             [
              0.1111111111111111,
              "#46039f"
             ],
             [
              0.2222222222222222,
              "#7201a8"
             ],
             [
              0.3333333333333333,
              "#9c179e"
             ],
             [
              0.4444444444444444,
              "#bd3786"
             ],
             [
              0.5555555555555556,
              "#d8576b"
             ],
             [
              0.6666666666666666,
              "#ed7953"
             ],
             [
              0.7777777777777778,
              "#fb9f3a"
             ],
             [
              0.8888888888888888,
              "#fdca26"
             ],
             [
              1,
              "#f0f921"
             ]
            ],
            "type": "contour"
           }
          ],
          "contourcarpet": [
           {
            "colorbar": {
             "outlinewidth": 0,
             "ticks": ""
            },
            "type": "contourcarpet"
           }
          ],
          "heatmap": [
           {
            "colorbar": {
             "outlinewidth": 0,
             "ticks": ""
            },
            "colorscale": [
             [
              0,
              "#0d0887"
             ],
             [
              0.1111111111111111,
              "#46039f"
             ],
             [
              0.2222222222222222,
              "#7201a8"
             ],
             [
              0.3333333333333333,
              "#9c179e"
             ],
             [
              0.4444444444444444,
              "#bd3786"
             ],
             [
              0.5555555555555556,
              "#d8576b"
             ],
             [
              0.6666666666666666,
              "#ed7953"
             ],
             [
              0.7777777777777778,
              "#fb9f3a"
             ],
             [
              0.8888888888888888,
              "#fdca26"
             ],
             [
              1,
              "#f0f921"
             ]
            ],
            "type": "heatmap"
           }
          ],
          "heatmapgl": [
           {
            "colorbar": {
             "outlinewidth": 0,
             "ticks": ""
            },
            "colorscale": [
             [
              0,
              "#0d0887"
             ],
             [
              0.1111111111111111,
              "#46039f"
             ],
             [
              0.2222222222222222,
              "#7201a8"
             ],
             [
              0.3333333333333333,
              "#9c179e"
             ],
             [
              0.4444444444444444,
              "#bd3786"
             ],
             [
              0.5555555555555556,
              "#d8576b"
             ],
             [
              0.6666666666666666,
              "#ed7953"
             ],
             [
              0.7777777777777778,
              "#fb9f3a"
             ],
             [
              0.8888888888888888,
              "#fdca26"
             ],
             [
              1,
              "#f0f921"
             ]
            ],
            "type": "heatmapgl"
           }
          ],
          "histogram": [
           {
            "marker": {
             "pattern": {
              "fillmode": "overlay",
              "size": 10,
              "solidity": 0.2
             }
            },
            "type": "histogram"
           }
          ],
          "histogram2d": [
           {
            "colorbar": {
             "outlinewidth": 0,
             "ticks": ""
            },
            "colorscale": [
             [
              0,
              "#0d0887"
             ],
             [
              0.1111111111111111,
              "#46039f"
             ],
             [
              0.2222222222222222,
              "#7201a8"
             ],
             [
              0.3333333333333333,
              "#9c179e"
             ],
             [
              0.4444444444444444,
              "#bd3786"
             ],
             [
              0.5555555555555556,
              "#d8576b"
             ],
             [
              0.6666666666666666,
              "#ed7953"
             ],
             [
              0.7777777777777778,
              "#fb9f3a"
             ],
             [
              0.8888888888888888,
              "#fdca26"
             ],
             [
              1,
              "#f0f921"
             ]
            ],
            "type": "histogram2d"
           }
          ],
          "histogram2dcontour": [
           {
            "colorbar": {
             "outlinewidth": 0,
             "ticks": ""
            },
            "colorscale": [
             [
              0,
              "#0d0887"
             ],
             [
              0.1111111111111111,
              "#46039f"
             ],
             [
              0.2222222222222222,
              "#7201a8"
             ],
             [
              0.3333333333333333,
              "#9c179e"
             ],
             [
              0.4444444444444444,
              "#bd3786"
             ],
             [
              0.5555555555555556,
              "#d8576b"
             ],
             [
              0.6666666666666666,
              "#ed7953"
             ],
             [
              0.7777777777777778,
              "#fb9f3a"
             ],
             [
              0.8888888888888888,
              "#fdca26"
             ],
             [
              1,
              "#f0f921"
             ]
            ],
            "type": "histogram2dcontour"
           }
          ],
          "mesh3d": [
           {
            "colorbar": {
             "outlinewidth": 0,
             "ticks": ""
            },
            "type": "mesh3d"
           }
          ],
          "parcoords": [
           {
            "line": {
             "colorbar": {
              "outlinewidth": 0,
              "ticks": ""
             }
            },
            "type": "parcoords"
           }
          ],
          "pie": [
           {
            "automargin": true,
            "type": "pie"
           }
          ],
          "scatter": [
           {
            "fillpattern": {
             "fillmode": "overlay",
             "size": 10,
             "solidity": 0.2
            },
            "type": "scatter"
           }
          ],
          "scatter3d": [
           {
            "line": {
             "colorbar": {
              "outlinewidth": 0,
              "ticks": ""
             }
            },
            "marker": {
             "colorbar": {
              "outlinewidth": 0,
              "ticks": ""
             }
            },
            "type": "scatter3d"
           }
          ],
          "scattercarpet": [
           {
            "marker": {
             "colorbar": {
              "outlinewidth": 0,
              "ticks": ""
             }
            },
            "type": "scattercarpet"
           }
          ],
          "scattergeo": [
           {
            "marker": {
             "colorbar": {
              "outlinewidth": 0,
              "ticks": ""
             }
            },
            "type": "scattergeo"
           }
          ],
          "scattergl": [
           {
            "marker": {
             "colorbar": {
              "outlinewidth": 0,
              "ticks": ""
             }
            },
            "type": "scattergl"
           }
          ],
          "scattermapbox": [
           {
            "marker": {
             "colorbar": {
              "outlinewidth": 0,
              "ticks": ""
             }
            },
            "type": "scattermapbox"
           }
          ],
          "scatterpolar": [
           {
            "marker": {
             "colorbar": {
              "outlinewidth": 0,
              "ticks": ""
             }
            },
            "type": "scatterpolar"
           }
          ],
          "scatterpolargl": [
           {
            "marker": {
             "colorbar": {
              "outlinewidth": 0,
              "ticks": ""
             }
            },
            "type": "scatterpolargl"
           }
          ],
          "scatterternary": [
           {
            "marker": {
             "colorbar": {
              "outlinewidth": 0,
              "ticks": ""
             }
            },
            "type": "scatterternary"
           }
          ],
          "surface": [
           {
            "colorbar": {
             "outlinewidth": 0,
             "ticks": ""
            },
            "colorscale": [
             [
              0,
              "#0d0887"
             ],
             [
              0.1111111111111111,
              "#46039f"
             ],
             [
              0.2222222222222222,
              "#7201a8"
             ],
             [
              0.3333333333333333,
              "#9c179e"
             ],
             [
              0.4444444444444444,
              "#bd3786"
             ],
             [
              0.5555555555555556,
              "#d8576b"
             ],
             [
              0.6666666666666666,
              "#ed7953"
             ],
             [
              0.7777777777777778,
              "#fb9f3a"
             ],
             [
              0.8888888888888888,
              "#fdca26"
             ],
             [
              1,
              "#f0f921"
             ]
            ],
            "type": "surface"
           }
          ],
          "table": [
           {
            "cells": {
             "fill": {
              "color": "#EBF0F8"
             },
             "line": {
              "color": "white"
             }
            },
            "header": {
             "fill": {
              "color": "#C8D4E3"
             },
             "line": {
              "color": "white"
             }
            },
            "type": "table"
           }
          ]
         },
         "layout": {
          "annotationdefaults": {
           "arrowcolor": "#2a3f5f",
           "arrowhead": 0,
           "arrowwidth": 1
          },
          "autotypenumbers": "strict",
          "coloraxis": {
           "colorbar": {
            "outlinewidth": 0,
            "ticks": ""
           }
          },
          "colorscale": {
           "diverging": [
            [
             0,
             "#8e0152"
            ],
            [
             0.1,
             "#c51b7d"
            ],
            [
             0.2,
             "#de77ae"
            ],
            [
             0.3,
             "#f1b6da"
            ],
            [
             0.4,
             "#fde0ef"
            ],
            [
             0.5,
             "#f7f7f7"
            ],
            [
             0.6,
             "#e6f5d0"
            ],
            [
             0.7,
             "#b8e186"
            ],
            [
             0.8,
             "#7fbc41"
            ],
            [
             0.9,
             "#4d9221"
            ],
            [
             1,
             "#276419"
            ]
           ],
           "sequential": [
            [
             0,
             "#0d0887"
            ],
            [
             0.1111111111111111,
             "#46039f"
            ],
            [
             0.2222222222222222,
             "#7201a8"
            ],
            [
             0.3333333333333333,
             "#9c179e"
            ],
            [
             0.4444444444444444,
             "#bd3786"
            ],
            [
             0.5555555555555556,
             "#d8576b"
            ],
            [
             0.6666666666666666,
             "#ed7953"
            ],
            [
             0.7777777777777778,
             "#fb9f3a"
            ],
            [
             0.8888888888888888,
             "#fdca26"
            ],
            [
             1,
             "#f0f921"
            ]
           ],
           "sequentialminus": [
            [
             0,
             "#0d0887"
            ],
            [
             0.1111111111111111,
             "#46039f"
            ],
            [
             0.2222222222222222,
             "#7201a8"
            ],
            [
             0.3333333333333333,
             "#9c179e"
            ],
            [
             0.4444444444444444,
             "#bd3786"
            ],
            [
             0.5555555555555556,
             "#d8576b"
            ],
            [
             0.6666666666666666,
             "#ed7953"
            ],
            [
             0.7777777777777778,
             "#fb9f3a"
            ],
            [
             0.8888888888888888,
             "#fdca26"
            ],
            [
             1,
             "#f0f921"
            ]
           ]
          },
          "colorway": [
           "#636efa",
           "#EF553B",
           "#00cc96",
           "#ab63fa",
           "#FFA15A",
           "#19d3f3",
           "#FF6692",
           "#B6E880",
           "#FF97FF",
           "#FECB52"
          ],
          "font": {
           "color": "#2a3f5f"
          },
          "geo": {
           "bgcolor": "white",
           "lakecolor": "white",
           "landcolor": "#E5ECF6",
           "showlakes": true,
           "showland": true,
           "subunitcolor": "white"
          },
          "hoverlabel": {
           "align": "left"
          },
          "hovermode": "closest",
          "mapbox": {
           "style": "light"
          },
          "paper_bgcolor": "white",
          "plot_bgcolor": "#E5ECF6",
          "polar": {
           "angularaxis": {
            "gridcolor": "white",
            "linecolor": "white",
            "ticks": ""
           },
           "bgcolor": "#E5ECF6",
           "radialaxis": {
            "gridcolor": "white",
            "linecolor": "white",
            "ticks": ""
           }
          },
          "scene": {
           "xaxis": {
            "backgroundcolor": "#E5ECF6",
            "gridcolor": "white",
            "gridwidth": 2,
            "linecolor": "white",
            "showbackground": true,
            "ticks": "",
            "zerolinecolor": "white"
           },
           "yaxis": {
            "backgroundcolor": "#E5ECF6",
            "gridcolor": "white",
            "gridwidth": 2,
            "linecolor": "white",
            "showbackground": true,
            "ticks": "",
            "zerolinecolor": "white"
           },
           "zaxis": {
            "backgroundcolor": "#E5ECF6",
            "gridcolor": "white",
            "gridwidth": 2,
            "linecolor": "white",
            "showbackground": true,
            "ticks": "",
            "zerolinecolor": "white"
           }
          },
          "shapedefaults": {
           "line": {
            "color": "#2a3f5f"
           }
          },
          "ternary": {
           "aaxis": {
            "gridcolor": "white",
            "linecolor": "white",
            "ticks": ""
           },
           "baxis": {
            "gridcolor": "white",
            "linecolor": "white",
            "ticks": ""
           },
           "bgcolor": "#E5ECF6",
           "caxis": {
            "gridcolor": "white",
            "linecolor": "white",
            "ticks": ""
           }
          },
          "title": {
           "x": 0.05
          },
          "xaxis": {
           "automargin": true,
           "gridcolor": "white",
           "linecolor": "white",
           "ticks": "",
           "title": {
            "standoff": 15
           },
           "zerolinecolor": "white",
           "zerolinewidth": 2
          },
          "yaxis": {
           "automargin": true,
           "gridcolor": "white",
           "linecolor": "white",
           "ticks": "",
           "title": {
            "standoff": 15
           },
           "zerolinecolor": "white",
           "zerolinewidth": 2
          }
         }
        },
        "title": {
         "text": "Age Demographics to Theme Park Zones"
        }
       }
      }
     },
     "metadata": {},
     "output_type": "display_data"
    }
   ],
   "source": [
    "import pandas as pd\n",
    "import plotly.graph_objects as go\n",
    "\n",
    "# Load the dataset\n",
    "file_path = r'../data/Updated_Theme_Parks_Survey_Responses 5.csv'\n",
    "df = pd.read_csv(file_path)\n",
    "\n",
    "# Define labels for the Sankey diagram (remove Madagascar)\n",
    "labels = [\n",
    "    \"Below 18\", \"Ages 18-25\", \"Ages 26-35\", \"Ages 36-59\", \"Ages 60 and above\",\n",
    "    \"Hollywood\", \"New York\", \"Sci-Fi City\", \"Ancient Egypt\", \"The Lost World\", \"Far Far Away\"\n",
    "]\n",
    "\n",
    "# Total responses to calculate percentages\n",
    "total_responses = len(df)\n",
    "\n",
    "# Prepare flow data\n",
    "flow_data = {}\n",
    "\n",
    "# Loop through each guest in the dataframe\n",
    "for index, row in df.iterrows():\n",
    "    # 1. Age Group\n",
    "    age_index = {\n",
    "        \"Below 18\": 0, \"18-25\": 1, \"26-35\": 2, \"36-59\": 3, \"60 and above\": 4\n",
    "    }.get(row['Age_Group'], None)\n",
    "    if age_index is None:\n",
    "        continue  # Skip if age group is not defined\n",
    "\n",
    "    # 2. Theme Park Zones (identify first visited zone)\n",
    "    zone_mapping = {\n",
    "        \"Hollywood\": 5,\n",
    "        \"New York\": 6,\n",
    "        \"Sci-Fi City\": 7,\n",
    "        \"Ancient Egypt\": 8,\n",
    "        \"The Lost World\": 9,\n",
    "        \"Far Far Away\": 10\n",
    "    }\n",
    "    \n",
    "    zone_index = None\n",
    "    for zone, idx in zone_mapping.items():\n",
    "        if row[f'Rank the following theme park zones based on the order in which you visited them. [{zone}]'] == \"1st\":\n",
    "            zone_index = idx\n",
    "            break\n",
    "            \n",
    "    # Ensure zone_index is assigned\n",
    "    if zone_index is None:\n",
    "        continue  # Skip this iteration if no zone is found\n",
    "    \n",
    "    # Increment counts for flows\n",
    "    flows = [(age_index, zone_index)]\n",
    "    \n",
    "    for source_index, target_index in flows:\n",
    "        if (source_index, target_index) in flow_data:\n",
    "            flow_data[(source_index, target_index)] += 1\n",
    "        else:\n",
    "            flow_data[(source_index, target_index)] = 1\n",
    "\n",
    "# Prepare source, target, and values lists for the Sankey diagram\n",
    "source, target, values = zip(*[(s, t, v) for (s, t), v in flow_data.items()])\n",
    "\n",
    "# Prepare the labels with percentages\n",
    "labels_with_percentages = []\n",
    "\n",
    "# Calculate percentage for Age Groups\n",
    "for age_group in [\"Below 18\", \"18-25\", \"26-35\", \"36-59\", \"60 and above\"]:\n",
    "    age_group_count = df['Age_Group'].value_counts().get(age_group, 0)\n",
    "    age_group_percentage = (age_group_count / total_responses) * 100\n",
    "    labels_with_percentages.append(f\"{age_group}<br>({age_group_percentage:.1f}%)\")\n",
    "\n",
    "# Calculate percentage for Zones (exclude Madagascar and sum correctly)\n",
    "zone_mapping = {\n",
    "    \"Hollywood\": \"Hollywood\", \"New York\": \"New York\", \"Sci-Fi City\": \"Sci-Fi City\", \n",
    "    \"Ancient Egypt\": \"Ancient Egypt\", \"The Lost World\": \"The Lost World\", \"Far Far Away\": \"Far Far Away\"\n",
    "}\n",
    "\n",
    "zone_counts = {zone: 0 for zone in zone_mapping.values()}\n",
    "for zone in zone_mapping.values():\n",
    "    zone_column = f'Rank the following theme park zones based on the order in which you visited them. [{zone}]'\n",
    "    zone_count = df[zone_column].value_counts().get(\"1st\", 0)\n",
    "    zone_counts[zone] = zone_count\n",
    "\n",
    "# Recalculate total number of responses for the remaining zones\n",
    "remaining_zone_responses = sum(zone_counts.values())\n",
    "\n",
    "# Calculate percentages for each zone\n",
    "for zone, zone_name in zone_mapping.items():\n",
    "    zone_percentage = (zone_counts[zone] / remaining_zone_responses) * 100 if remaining_zone_responses > 0 else 0\n",
    "    labels_with_percentages.append(f\"{zone_name}<br>({zone_percentage:.1f}%)\")\n",
    "\n",
    "# Define y-coordinates for the nodes to maintain the desired order\n",
    "y_coords = [\n",
    "    0,  # Below 18\n",
    "    1,  # Ages 18-25\n",
    "    2,  # Ages 26-35\n",
    "    3,  # Ages 36-59\n",
    "    4,  # Ages 60 and above\n",
    "    5,  # Hollywood\n",
    "    6,  # New York\n",
    "    7,  # Sci-Fi City\n",
    "    8,  # Ancient Egypt\n",
    "    9,  # The Lost World\n",
    "    10, # Far Far Away\n",
    "]\n",
    "\n",
    "# Create the Sankey diagram\n",
    "fig = go.Figure(go.Sankey(\n",
    "    node=dict(\n",
    "        pad=15, \n",
    "        thickness=20,\n",
    "        line=dict(color=\"black\", width=0.5), \n",
    "        label=labels_with_percentages,  # Use labels with percentages\n",
    "        y=y_coords  # Set y-coordinates to maintain order\n",
    "    ),\n",
    "    link=dict(\n",
    "        source=source, \n",
    "        target=target, \n",
    "        value=values\n",
    "    )\n",
    "))\n",
    "\n",
    "# Add title and show figure\n",
    "fig.update_layout(title_text=\"Age Demographics to Theme Park Zones\", font_size=12)\n",
    "fig.show()\n"
   ]
  },
  {
   "cell_type": "markdown",
   "metadata": {},
   "source": [
    "Sankey Diagram <br />  Foreigner Guests: Journey from Express Pass to Zones"
   ]
  },
  {
   "cell_type": "code",
   "execution_count": 17,
   "metadata": {},
   "outputs": [
    {
     "data": {
      "application/vnd.plotly.v1+json": {
       "config": {
        "plotlyServerURL": "https://plot.ly"
       },
       "data": [
        {
         "link": {
          "source": [
           0,
           2,
           2,
           0,
           1,
           2,
           2,
           2,
           1,
           1,
           2,
           1,
           1
          ],
          "target": [
           2,
           4,
           3,
           1,
           3,
           7,
           6,
           5,
           4,
           5,
           8,
           6,
           8
          ],
          "value": [
           49,
           22,
           9,
           34,
           20,
           5,
           8,
           4,
           4,
           7,
           1,
           2,
           1
          ]
         },
         "node": {
          "label": [
           "Foreigner<br>(100%)",
           "Express Pass<br>(40.2%)",
           "No Express Pass<br>(59.8%)",
           "Sci-Fi City<br>(33.3%)",
           "Hollywood<br>(29.9%)",
           "New York<br>(12.6%)",
           "Ancient Egypt<br>(11.5%)",
           "Far Far Away<br>(5.7%)",
           "The Lost World<br>(2.3%)"
          ],
          "line": {
           "color": "black",
           "width": 0.5
          },
          "pad": 15,
          "thickness": 20
         },
         "type": "sankey"
        }
       ],
       "layout": {
        "font": {
         "size": 12
        },
        "template": {
         "data": {
          "bar": [
           {
            "error_x": {
             "color": "#2a3f5f"
            },
            "error_y": {
             "color": "#2a3f5f"
            },
            "marker": {
             "line": {
              "color": "#E5ECF6",
              "width": 0.5
             },
             "pattern": {
              "fillmode": "overlay",
              "size": 10,
              "solidity": 0.2
             }
            },
            "type": "bar"
           }
          ],
          "barpolar": [
           {
            "marker": {
             "line": {
              "color": "#E5ECF6",
              "width": 0.5
             },
             "pattern": {
              "fillmode": "overlay",
              "size": 10,
              "solidity": 0.2
             }
            },
            "type": "barpolar"
           }
          ],
          "carpet": [
           {
            "aaxis": {
             "endlinecolor": "#2a3f5f",
             "gridcolor": "white",
             "linecolor": "white",
             "minorgridcolor": "white",
             "startlinecolor": "#2a3f5f"
            },
            "baxis": {
             "endlinecolor": "#2a3f5f",
             "gridcolor": "white",
             "linecolor": "white",
             "minorgridcolor": "white",
             "startlinecolor": "#2a3f5f"
            },
            "type": "carpet"
           }
          ],
          "choropleth": [
           {
            "colorbar": {
             "outlinewidth": 0,
             "ticks": ""
            },
            "type": "choropleth"
           }
          ],
          "contour": [
           {
            "colorbar": {
             "outlinewidth": 0,
             "ticks": ""
            },
            "colorscale": [
             [
              0,
              "#0d0887"
             ],
             [
              0.1111111111111111,
              "#46039f"
             ],
             [
              0.2222222222222222,
              "#7201a8"
             ],
             [
              0.3333333333333333,
              "#9c179e"
             ],
             [
              0.4444444444444444,
              "#bd3786"
             ],
             [
              0.5555555555555556,
              "#d8576b"
             ],
             [
              0.6666666666666666,
              "#ed7953"
             ],
             [
              0.7777777777777778,
              "#fb9f3a"
             ],
             [
              0.8888888888888888,
              "#fdca26"
             ],
             [
              1,
              "#f0f921"
             ]
            ],
            "type": "contour"
           }
          ],
          "contourcarpet": [
           {
            "colorbar": {
             "outlinewidth": 0,
             "ticks": ""
            },
            "type": "contourcarpet"
           }
          ],
          "heatmap": [
           {
            "colorbar": {
             "outlinewidth": 0,
             "ticks": ""
            },
            "colorscale": [
             [
              0,
              "#0d0887"
             ],
             [
              0.1111111111111111,
              "#46039f"
             ],
             [
              0.2222222222222222,
              "#7201a8"
             ],
             [
              0.3333333333333333,
              "#9c179e"
             ],
             [
              0.4444444444444444,
              "#bd3786"
             ],
             [
              0.5555555555555556,
              "#d8576b"
             ],
             [
              0.6666666666666666,
              "#ed7953"
             ],
             [
              0.7777777777777778,
              "#fb9f3a"
             ],
             [
              0.8888888888888888,
              "#fdca26"
             ],
             [
              1,
              "#f0f921"
             ]
            ],
            "type": "heatmap"
           }
          ],
          "heatmapgl": [
           {
            "colorbar": {
             "outlinewidth": 0,
             "ticks": ""
            },
            "colorscale": [
             [
              0,
              "#0d0887"
             ],
             [
              0.1111111111111111,
              "#46039f"
             ],
             [
              0.2222222222222222,
              "#7201a8"
             ],
             [
              0.3333333333333333,
              "#9c179e"
             ],
             [
              0.4444444444444444,
              "#bd3786"
             ],
             [
              0.5555555555555556,
              "#d8576b"
             ],
             [
              0.6666666666666666,
              "#ed7953"
             ],
             [
              0.7777777777777778,
              "#fb9f3a"
             ],
             [
              0.8888888888888888,
              "#fdca26"
             ],
             [
              1,
              "#f0f921"
             ]
            ],
            "type": "heatmapgl"
           }
          ],
          "histogram": [
           {
            "marker": {
             "pattern": {
              "fillmode": "overlay",
              "size": 10,
              "solidity": 0.2
             }
            },
            "type": "histogram"
           }
          ],
          "histogram2d": [
           {
            "colorbar": {
             "outlinewidth": 0,
             "ticks": ""
            },
            "colorscale": [
             [
              0,
              "#0d0887"
             ],
             [
              0.1111111111111111,
              "#46039f"
             ],
             [
              0.2222222222222222,
              "#7201a8"
             ],
             [
              0.3333333333333333,
              "#9c179e"
             ],
             [
              0.4444444444444444,
              "#bd3786"
             ],
             [
              0.5555555555555556,
              "#d8576b"
             ],
             [
              0.6666666666666666,
              "#ed7953"
             ],
             [
              0.7777777777777778,
              "#fb9f3a"
             ],
             [
              0.8888888888888888,
              "#fdca26"
             ],
             [
              1,
              "#f0f921"
             ]
            ],
            "type": "histogram2d"
           }
          ],
          "histogram2dcontour": [
           {
            "colorbar": {
             "outlinewidth": 0,
             "ticks": ""
            },
            "colorscale": [
             [
              0,
              "#0d0887"
             ],
             [
              0.1111111111111111,
              "#46039f"
             ],
             [
              0.2222222222222222,
              "#7201a8"
             ],
             [
              0.3333333333333333,
              "#9c179e"
             ],
             [
              0.4444444444444444,
              "#bd3786"
             ],
             [
              0.5555555555555556,
              "#d8576b"
             ],
             [
              0.6666666666666666,
              "#ed7953"
             ],
             [
              0.7777777777777778,
              "#fb9f3a"
             ],
             [
              0.8888888888888888,
              "#fdca26"
             ],
             [
              1,
              "#f0f921"
             ]
            ],
            "type": "histogram2dcontour"
           }
          ],
          "mesh3d": [
           {
            "colorbar": {
             "outlinewidth": 0,
             "ticks": ""
            },
            "type": "mesh3d"
           }
          ],
          "parcoords": [
           {
            "line": {
             "colorbar": {
              "outlinewidth": 0,
              "ticks": ""
             }
            },
            "type": "parcoords"
           }
          ],
          "pie": [
           {
            "automargin": true,
            "type": "pie"
           }
          ],
          "scatter": [
           {
            "fillpattern": {
             "fillmode": "overlay",
             "size": 10,
             "solidity": 0.2
            },
            "type": "scatter"
           }
          ],
          "scatter3d": [
           {
            "line": {
             "colorbar": {
              "outlinewidth": 0,
              "ticks": ""
             }
            },
            "marker": {
             "colorbar": {
              "outlinewidth": 0,
              "ticks": ""
             }
            },
            "type": "scatter3d"
           }
          ],
          "scattercarpet": [
           {
            "marker": {
             "colorbar": {
              "outlinewidth": 0,
              "ticks": ""
             }
            },
            "type": "scattercarpet"
           }
          ],
          "scattergeo": [
           {
            "marker": {
             "colorbar": {
              "outlinewidth": 0,
              "ticks": ""
             }
            },
            "type": "scattergeo"
           }
          ],
          "scattergl": [
           {
            "marker": {
             "colorbar": {
              "outlinewidth": 0,
              "ticks": ""
             }
            },
            "type": "scattergl"
           }
          ],
          "scattermapbox": [
           {
            "marker": {
             "colorbar": {
              "outlinewidth": 0,
              "ticks": ""
             }
            },
            "type": "scattermapbox"
           }
          ],
          "scatterpolar": [
           {
            "marker": {
             "colorbar": {
              "outlinewidth": 0,
              "ticks": ""
             }
            },
            "type": "scatterpolar"
           }
          ],
          "scatterpolargl": [
           {
            "marker": {
             "colorbar": {
              "outlinewidth": 0,
              "ticks": ""
             }
            },
            "type": "scatterpolargl"
           }
          ],
          "scatterternary": [
           {
            "marker": {
             "colorbar": {
              "outlinewidth": 0,
              "ticks": ""
             }
            },
            "type": "scatterternary"
           }
          ],
          "surface": [
           {
            "colorbar": {
             "outlinewidth": 0,
             "ticks": ""
            },
            "colorscale": [
             [
              0,
              "#0d0887"
             ],
             [
              0.1111111111111111,
              "#46039f"
             ],
             [
              0.2222222222222222,
              "#7201a8"
             ],
             [
              0.3333333333333333,
              "#9c179e"
             ],
             [
              0.4444444444444444,
              "#bd3786"
             ],
             [
              0.5555555555555556,
              "#d8576b"
             ],
             [
              0.6666666666666666,
              "#ed7953"
             ],
             [
              0.7777777777777778,
              "#fb9f3a"
             ],
             [
              0.8888888888888888,
              "#fdca26"
             ],
             [
              1,
              "#f0f921"
             ]
            ],
            "type": "surface"
           }
          ],
          "table": [
           {
            "cells": {
             "fill": {
              "color": "#EBF0F8"
             },
             "line": {
              "color": "white"
             }
            },
            "header": {
             "fill": {
              "color": "#C8D4E3"
             },
             "line": {
              "color": "white"
             }
            },
            "type": "table"
           }
          ]
         },
         "layout": {
          "annotationdefaults": {
           "arrowcolor": "#2a3f5f",
           "arrowhead": 0,
           "arrowwidth": 1
          },
          "autotypenumbers": "strict",
          "coloraxis": {
           "colorbar": {
            "outlinewidth": 0,
            "ticks": ""
           }
          },
          "colorscale": {
           "diverging": [
            [
             0,
             "#8e0152"
            ],
            [
             0.1,
             "#c51b7d"
            ],
            [
             0.2,
             "#de77ae"
            ],
            [
             0.3,
             "#f1b6da"
            ],
            [
             0.4,
             "#fde0ef"
            ],
            [
             0.5,
             "#f7f7f7"
            ],
            [
             0.6,
             "#e6f5d0"
            ],
            [
             0.7,
             "#b8e186"
            ],
            [
             0.8,
             "#7fbc41"
            ],
            [
             0.9,
             "#4d9221"
            ],
            [
             1,
             "#276419"
            ]
           ],
           "sequential": [
            [
             0,
             "#0d0887"
            ],
            [
             0.1111111111111111,
             "#46039f"
            ],
            [
             0.2222222222222222,
             "#7201a8"
            ],
            [
             0.3333333333333333,
             "#9c179e"
            ],
            [
             0.4444444444444444,
             "#bd3786"
            ],
            [
             0.5555555555555556,
             "#d8576b"
            ],
            [
             0.6666666666666666,
             "#ed7953"
            ],
            [
             0.7777777777777778,
             "#fb9f3a"
            ],
            [
             0.8888888888888888,
             "#fdca26"
            ],
            [
             1,
             "#f0f921"
            ]
           ],
           "sequentialminus": [
            [
             0,
             "#0d0887"
            ],
            [
             0.1111111111111111,
             "#46039f"
            ],
            [
             0.2222222222222222,
             "#7201a8"
            ],
            [
             0.3333333333333333,
             "#9c179e"
            ],
            [
             0.4444444444444444,
             "#bd3786"
            ],
            [
             0.5555555555555556,
             "#d8576b"
            ],
            [
             0.6666666666666666,
             "#ed7953"
            ],
            [
             0.7777777777777778,
             "#fb9f3a"
            ],
            [
             0.8888888888888888,
             "#fdca26"
            ],
            [
             1,
             "#f0f921"
            ]
           ]
          },
          "colorway": [
           "#636efa",
           "#EF553B",
           "#00cc96",
           "#ab63fa",
           "#FFA15A",
           "#19d3f3",
           "#FF6692",
           "#B6E880",
           "#FF97FF",
           "#FECB52"
          ],
          "font": {
           "color": "#2a3f5f"
          },
          "geo": {
           "bgcolor": "white",
           "lakecolor": "white",
           "landcolor": "#E5ECF6",
           "showlakes": true,
           "showland": true,
           "subunitcolor": "white"
          },
          "hoverlabel": {
           "align": "left"
          },
          "hovermode": "closest",
          "mapbox": {
           "style": "light"
          },
          "paper_bgcolor": "white",
          "plot_bgcolor": "#E5ECF6",
          "polar": {
           "angularaxis": {
            "gridcolor": "white",
            "linecolor": "white",
            "ticks": ""
           },
           "bgcolor": "#E5ECF6",
           "radialaxis": {
            "gridcolor": "white",
            "linecolor": "white",
            "ticks": ""
           }
          },
          "scene": {
           "xaxis": {
            "backgroundcolor": "#E5ECF6",
            "gridcolor": "white",
            "gridwidth": 2,
            "linecolor": "white",
            "showbackground": true,
            "ticks": "",
            "zerolinecolor": "white"
           },
           "yaxis": {
            "backgroundcolor": "#E5ECF6",
            "gridcolor": "white",
            "gridwidth": 2,
            "linecolor": "white",
            "showbackground": true,
            "ticks": "",
            "zerolinecolor": "white"
           },
           "zaxis": {
            "backgroundcolor": "#E5ECF6",
            "gridcolor": "white",
            "gridwidth": 2,
            "linecolor": "white",
            "showbackground": true,
            "ticks": "",
            "zerolinecolor": "white"
           }
          },
          "shapedefaults": {
           "line": {
            "color": "#2a3f5f"
           }
          },
          "ternary": {
           "aaxis": {
            "gridcolor": "white",
            "linecolor": "white",
            "ticks": ""
           },
           "baxis": {
            "gridcolor": "white",
            "linecolor": "white",
            "ticks": ""
           },
           "bgcolor": "#E5ECF6",
           "caxis": {
            "gridcolor": "white",
            "linecolor": "white",
            "ticks": ""
           }
          },
          "title": {
           "x": 0.05
          },
          "xaxis": {
           "automargin": true,
           "gridcolor": "white",
           "linecolor": "white",
           "ticks": "",
           "title": {
            "standoff": 15
           },
           "zerolinecolor": "white",
           "zerolinewidth": 2
          },
          "yaxis": {
           "automargin": true,
           "gridcolor": "white",
           "linecolor": "white",
           "ticks": "",
           "title": {
            "standoff": 15
           },
           "zerolinecolor": "white",
           "zerolinewidth": 2
          }
         }
        },
        "title": {
         "text": "Foreigner Guests: Journey from Express Pass to Zones"
        }
       }
      }
     },
     "metadata": {},
     "output_type": "display_data"
    }
   ],
   "source": [
    "import pandas as pd\n",
    "import plotly.graph_objects as go\n",
    "\n",
    "# Load the dataset\n",
    "file_path = r'../data/Updated_Theme_Parks_Survey_Responses 5.csv'\n",
    "df = pd.read_csv(file_path)\n",
    "\n",
    "# Define the categorical order for theme park zones according to your specified order (removed Madagascar)\n",
    "zone_order = [\"Sci-Fi City\", \"Hollywood\", \"New York\", \"Ancient Egypt\", \"Far Far Away\", \"The Lost World\"]\n",
    "\n",
    "# Filter only for \"Foreigner\" guests\n",
    "foreigner_df = df[df['Nationality'] == 'foreigner']\n",
    "\n",
    "# Total foreigner responses to calculate percentages\n",
    "total_foreigner_responses = len(foreigner_df)\n",
    "\n",
    "# Define labels for the Sankey diagram\n",
    "labels = [\n",
    "    \"Foreigner\",  # This will be 100%\n",
    "    \"Express Pass\", \"No Express Pass\"\n",
    "] + zone_order  # Using the updated zone order without Madagascar\n",
    "\n",
    "# Map labels to index positions for `source` and `target`\n",
    "label_indices = {label: idx for idx, label in enumerate(labels)}\n",
    "\n",
    "# Prepare flow data\n",
    "flow_counts = {}\n",
    "\n",
    "# Loop through each foreign guest in the filtered dataframe\n",
    "for index, row in foreigner_df.iterrows():\n",
    "    # Express Pass Usage\n",
    "    express_pass_index = 1 if row['express_pass_purchase'] == \"Yes\" else 2\n",
    "    \n",
    "    # Theme Park Zones (identify first visited zone)\n",
    "    zone_index = None\n",
    "    for zone in zone_order:\n",
    "        if row.get(f'Rank the following theme park zones based on the order in which you visited them. [{zone}]') == \"1st\":\n",
    "            zone_index = label_indices[zone]\n",
    "            break\n",
    "\n",
    "    # Ensure zone_index is assigned\n",
    "    if zone_index is None:\n",
    "        continue  # Skip this iteration if no zone is found\n",
    "\n",
    "    # Append flows for nationality to express pass and then to zones\n",
    "    # Create flow keys to count occurrences\n",
    "    flow_key_express_pass = (label_indices[\"Foreigner\"], express_pass_index)\n",
    "    flow_key_zone = (express_pass_index, zone_index)\n",
    "\n",
    "    # Count the flows for nationality to express pass\n",
    "    if flow_key_express_pass in flow_counts:\n",
    "        flow_counts[flow_key_express_pass] += 1\n",
    "    else:\n",
    "        flow_counts[flow_key_express_pass] = 1\n",
    "\n",
    "    # Count the flows for express pass to theme park zones\n",
    "    if flow_key_zone in flow_counts:\n",
    "        flow_counts[flow_key_zone] += 1\n",
    "    else:\n",
    "        flow_counts[flow_key_zone] = 1\n",
    "\n",
    "# Prepare source, target, and values lists for the Sankey diagram\n",
    "source = []\n",
    "target = []\n",
    "values = []\n",
    "\n",
    "# Calculate percentages and update labels\n",
    "labels_with_percentages = []\n",
    "\n",
    "# Set \"Foreigner\" as 100% in the first node\n",
    "labels_with_percentages.append(f\"Foreigner<br>(100%)\")\n",
    "\n",
    "# Calculate percentage for \"Express Pass\" and \"No Express Pass\"\n",
    "express_pass_count = foreigner_df['express_pass_purchase'].value_counts().get(\"Yes\", 0)\n",
    "express_pass_percentage = (express_pass_count / total_foreigner_responses) * 100\n",
    "labels_with_percentages.append(f\"Express Pass<br>({express_pass_percentage:.1f}%)\")\n",
    "\n",
    "no_express_pass_count = foreigner_df['express_pass_purchase'].value_counts().get(\"No\", 0)\n",
    "no_express_pass_percentage = (no_express_pass_count / total_foreigner_responses) * 100\n",
    "labels_with_percentages.append(f\"No Express Pass<br>({no_express_pass_percentage:.1f}%)\")\n",
    "\n",
    "# Add the rest of the labels (zones) with percentages\n",
    "for zone in zone_order:\n",
    "    zone_column = f'Rank the following theme park zones based on the order in which you visited them. [{zone}]'\n",
    "    zone_count = foreigner_df[zone_column].value_counts().get(\"1st\", 0)\n",
    "    zone_percentage = (zone_count / total_foreigner_responses) * 100\n",
    "    labels_with_percentages.append(f\"{zone}<br>({zone_percentage:.1f}%)\")\n",
    "\n",
    "# Now append the flows with values\n",
    "for (src, tgt), val in flow_counts.items():\n",
    "    source.append(src)\n",
    "    target.append(tgt)\n",
    "    values.append(val)\n",
    "\n",
    "# Define the node and link data for Sankey\n",
    "fig = go.Figure(go.Sankey(\n",
    "    node=dict(\n",
    "        pad=15,\n",
    "        thickness=20,\n",
    "        line=dict(color=\"black\", width=0.5),\n",
    "        label=labels_with_percentages  # Use labels with percentages\n",
    "    ),\n",
    "    link=dict(\n",
    "        source=source,\n",
    "        target=target,\n",
    "        value=values\n",
    "    )\n",
    "))\n",
    "\n",
    "# Add title and show figure\n",
    "fig.update_layout(title_text=\"Foreigner Guests: Journey from Express Pass to Zones\", font_size=12)\n",
    "fig.show()\n"
   ]
  },
  {
   "cell_type": "markdown",
   "metadata": {},
   "source": [
    "Singaporean/PR Guests: Journey from Express Pass to Zones"
   ]
  },
  {
   "cell_type": "code",
   "execution_count": null,
   "metadata": {},
   "outputs": [
    {
     "data": {
      "application/vnd.plotly.v1+json": {
       "config": {
        "plotlyServerURL": "https://plot.ly"
       },
       "data": [
        {
         "link": {
          "source": [
           0,
           1,
           0,
           2,
           2,
           1,
           2,
           2,
           2,
           1,
           1,
           2
          ],
          "target": [
           1,
           4,
           2,
           4,
           3,
           5,
           8,
           7,
           6,
           3,
           7,
           5
          ],
          "value": [
           7,
           3,
           58,
           26,
           13,
           1,
           5,
           4,
           9,
           2,
           1,
           1
          ]
         },
         "node": {
          "label": [
           "Singaporean/PR<br>(100%)",
           "Express Pass<br>(12.7%)",
           "No Express Pass<br>(87.3%)",
           "Sci-Fi City<br>(21.1%)",
           "Hollywood<br>(42.3%)",
           "New York<br>(2.8%)",
           "Ancient Egypt<br>(14.1%)",
           "Far Far Away<br>(7.0%)",
           "The Lost World<br>(7.0%)"
          ],
          "line": {
           "color": "black",
           "width": 0.5
          },
          "pad": 15,
          "thickness": 20
         },
         "type": "sankey"
        }
       ],
       "layout": {
        "font": {
         "size": 12
        },
        "template": {
         "data": {
          "bar": [
           {
            "error_x": {
             "color": "#2a3f5f"
            },
            "error_y": {
             "color": "#2a3f5f"
            },
            "marker": {
             "line": {
              "color": "#E5ECF6",
              "width": 0.5
             },
             "pattern": {
              "fillmode": "overlay",
              "size": 10,
              "solidity": 0.2
             }
            },
            "type": "bar"
           }
          ],
          "barpolar": [
           {
            "marker": {
             "line": {
              "color": "#E5ECF6",
              "width": 0.5
             },
             "pattern": {
              "fillmode": "overlay",
              "size": 10,
              "solidity": 0.2
             }
            },
            "type": "barpolar"
           }
          ],
          "carpet": [
           {
            "aaxis": {
             "endlinecolor": "#2a3f5f",
             "gridcolor": "white",
             "linecolor": "white",
             "minorgridcolor": "white",
             "startlinecolor": "#2a3f5f"
            },
            "baxis": {
             "endlinecolor": "#2a3f5f",
             "gridcolor": "white",
             "linecolor": "white",
             "minorgridcolor": "white",
             "startlinecolor": "#2a3f5f"
            },
            "type": "carpet"
           }
          ],
          "choropleth": [
           {
            "colorbar": {
             "outlinewidth": 0,
             "ticks": ""
            },
            "type": "choropleth"
           }
          ],
          "contour": [
           {
            "colorbar": {
             "outlinewidth": 0,
             "ticks": ""
            },
            "colorscale": [
             [
              0,
              "#0d0887"
             ],
             [
              0.1111111111111111,
              "#46039f"
             ],
             [
              0.2222222222222222,
              "#7201a8"
             ],
             [
              0.3333333333333333,
              "#9c179e"
             ],
             [
              0.4444444444444444,
              "#bd3786"
             ],
             [
              0.5555555555555556,
              "#d8576b"
             ],
             [
              0.6666666666666666,
              "#ed7953"
             ],
             [
              0.7777777777777778,
              "#fb9f3a"
             ],
             [
              0.8888888888888888,
              "#fdca26"
             ],
             [
              1,
              "#f0f921"
             ]
            ],
            "type": "contour"
           }
          ],
          "contourcarpet": [
           {
            "colorbar": {
             "outlinewidth": 0,
             "ticks": ""
            },
            "type": "contourcarpet"
           }
          ],
          "heatmap": [
           {
            "colorbar": {
             "outlinewidth": 0,
             "ticks": ""
            },
            "colorscale": [
             [
              0,
              "#0d0887"
             ],
             [
              0.1111111111111111,
              "#46039f"
             ],
             [
              0.2222222222222222,
              "#7201a8"
             ],
             [
              0.3333333333333333,
              "#9c179e"
             ],
             [
              0.4444444444444444,
              "#bd3786"
             ],
             [
              0.5555555555555556,
              "#d8576b"
             ],
             [
              0.6666666666666666,
              "#ed7953"
             ],
             [
              0.7777777777777778,
              "#fb9f3a"
             ],
             [
              0.8888888888888888,
              "#fdca26"
             ],
             [
              1,
              "#f0f921"
             ]
            ],
            "type": "heatmap"
           }
          ],
          "heatmapgl": [
           {
            "colorbar": {
             "outlinewidth": 0,
             "ticks": ""
            },
            "colorscale": [
             [
              0,
              "#0d0887"
             ],
             [
              0.1111111111111111,
              "#46039f"
             ],
             [
              0.2222222222222222,
              "#7201a8"
             ],
             [
              0.3333333333333333,
              "#9c179e"
             ],
             [
              0.4444444444444444,
              "#bd3786"
             ],
             [
              0.5555555555555556,
              "#d8576b"
             ],
             [
              0.6666666666666666,
              "#ed7953"
             ],
             [
              0.7777777777777778,
              "#fb9f3a"
             ],
             [
              0.8888888888888888,
              "#fdca26"
             ],
             [
              1,
              "#f0f921"
             ]
            ],
            "type": "heatmapgl"
           }
          ],
          "histogram": [
           {
            "marker": {
             "pattern": {
              "fillmode": "overlay",
              "size": 10,
              "solidity": 0.2
             }
            },
            "type": "histogram"
           }
          ],
          "histogram2d": [
           {
            "colorbar": {
             "outlinewidth": 0,
             "ticks": ""
            },
            "colorscale": [
             [
              0,
              "#0d0887"
             ],
             [
              0.1111111111111111,
              "#46039f"
             ],
             [
              0.2222222222222222,
              "#7201a8"
             ],
             [
              0.3333333333333333,
              "#9c179e"
             ],
             [
              0.4444444444444444,
              "#bd3786"
             ],
             [
              0.5555555555555556,
              "#d8576b"
             ],
             [
              0.6666666666666666,
              "#ed7953"
             ],
             [
              0.7777777777777778,
              "#fb9f3a"
             ],
             [
              0.8888888888888888,
              "#fdca26"
             ],
             [
              1,
              "#f0f921"
             ]
            ],
            "type": "histogram2d"
           }
          ],
          "histogram2dcontour": [
           {
            "colorbar": {
             "outlinewidth": 0,
             "ticks": ""
            },
            "colorscale": [
             [
              0,
              "#0d0887"
             ],
             [
              0.1111111111111111,
              "#46039f"
             ],
             [
              0.2222222222222222,
              "#7201a8"
             ],
             [
              0.3333333333333333,
              "#9c179e"
             ],
             [
              0.4444444444444444,
              "#bd3786"
             ],
             [
              0.5555555555555556,
              "#d8576b"
             ],
             [
              0.6666666666666666,
              "#ed7953"
             ],
             [
              0.7777777777777778,
              "#fb9f3a"
             ],
             [
              0.8888888888888888,
              "#fdca26"
             ],
             [
              1,
              "#f0f921"
             ]
            ],
            "type": "histogram2dcontour"
           }
          ],
          "mesh3d": [
           {
            "colorbar": {
             "outlinewidth": 0,
             "ticks": ""
            },
            "type": "mesh3d"
           }
          ],
          "parcoords": [
           {
            "line": {
             "colorbar": {
              "outlinewidth": 0,
              "ticks": ""
             }
            },
            "type": "parcoords"
           }
          ],
          "pie": [
           {
            "automargin": true,
            "type": "pie"
           }
          ],
          "scatter": [
           {
            "fillpattern": {
             "fillmode": "overlay",
             "size": 10,
             "solidity": 0.2
            },
            "type": "scatter"
           }
          ],
          "scatter3d": [
           {
            "line": {
             "colorbar": {
              "outlinewidth": 0,
              "ticks": ""
             }
            },
            "marker": {
             "colorbar": {
              "outlinewidth": 0,
              "ticks": ""
             }
            },
            "type": "scatter3d"
           }
          ],
          "scattercarpet": [
           {
            "marker": {
             "colorbar": {
              "outlinewidth": 0,
              "ticks": ""
             }
            },
            "type": "scattercarpet"
           }
          ],
          "scattergeo": [
           {
            "marker": {
             "colorbar": {
              "outlinewidth": 0,
              "ticks": ""
             }
            },
            "type": "scattergeo"
           }
          ],
          "scattergl": [
           {
            "marker": {
             "colorbar": {
              "outlinewidth": 0,
              "ticks": ""
             }
            },
            "type": "scattergl"
           }
          ],
          "scattermapbox": [
           {
            "marker": {
             "colorbar": {
              "outlinewidth": 0,
              "ticks": ""
             }
            },
            "type": "scattermapbox"
           }
          ],
          "scatterpolar": [
           {
            "marker": {
             "colorbar": {
              "outlinewidth": 0,
              "ticks": ""
             }
            },
            "type": "scatterpolar"
           }
          ],
          "scatterpolargl": [
           {
            "marker": {
             "colorbar": {
              "outlinewidth": 0,
              "ticks": ""
             }
            },
            "type": "scatterpolargl"
           }
          ],
          "scatterternary": [
           {
            "marker": {
             "colorbar": {
              "outlinewidth": 0,
              "ticks": ""
             }
            },
            "type": "scatterternary"
           }
          ],
          "surface": [
           {
            "colorbar": {
             "outlinewidth": 0,
             "ticks": ""
            },
            "colorscale": [
             [
              0,
              "#0d0887"
             ],
             [
              0.1111111111111111,
              "#46039f"
             ],
             [
              0.2222222222222222,
              "#7201a8"
             ],
             [
              0.3333333333333333,
              "#9c179e"
             ],
             [
              0.4444444444444444,
              "#bd3786"
             ],
             [
              0.5555555555555556,
              "#d8576b"
             ],
             [
              0.6666666666666666,
              "#ed7953"
             ],
             [
              0.7777777777777778,
              "#fb9f3a"
             ],
             [
              0.8888888888888888,
              "#fdca26"
             ],
             [
              1,
              "#f0f921"
             ]
            ],
            "type": "surface"
           }
          ],
          "table": [
           {
            "cells": {
             "fill": {
              "color": "#EBF0F8"
             },
             "line": {
              "color": "white"
             }
            },
            "header": {
             "fill": {
              "color": "#C8D4E3"
             },
             "line": {
              "color": "white"
             }
            },
            "type": "table"
           }
          ]
         },
         "layout": {
          "annotationdefaults": {
           "arrowcolor": "#2a3f5f",
           "arrowhead": 0,
           "arrowwidth": 1
          },
          "autotypenumbers": "strict",
          "coloraxis": {
           "colorbar": {
            "outlinewidth": 0,
            "ticks": ""
           }
          },
          "colorscale": {
           "diverging": [
            [
             0,
             "#8e0152"
            ],
            [
             0.1,
             "#c51b7d"
            ],
            [
             0.2,
             "#de77ae"
            ],
            [
             0.3,
             "#f1b6da"
            ],
            [
             0.4,
             "#fde0ef"
            ],
            [
             0.5,
             "#f7f7f7"
            ],
            [
             0.6,
             "#e6f5d0"
            ],
            [
             0.7,
             "#b8e186"
            ],
            [
             0.8,
             "#7fbc41"
            ],
            [
             0.9,
             "#4d9221"
            ],
            [
             1,
             "#276419"
            ]
           ],
           "sequential": [
            [
             0,
             "#0d0887"
            ],
            [
             0.1111111111111111,
             "#46039f"
            ],
            [
             0.2222222222222222,
             "#7201a8"
            ],
            [
             0.3333333333333333,
             "#9c179e"
            ],
            [
             0.4444444444444444,
             "#bd3786"
            ],
            [
             0.5555555555555556,
             "#d8576b"
            ],
            [
             0.6666666666666666,
             "#ed7953"
            ],
            [
             0.7777777777777778,
             "#fb9f3a"
            ],
            [
             0.8888888888888888,
             "#fdca26"
            ],
            [
             1,
             "#f0f921"
            ]
           ],
           "sequentialminus": [
            [
             0,
             "#0d0887"
            ],
            [
             0.1111111111111111,
             "#46039f"
            ],
            [
             0.2222222222222222,
             "#7201a8"
            ],
            [
             0.3333333333333333,
             "#9c179e"
            ],
            [
             0.4444444444444444,
             "#bd3786"
            ],
            [
             0.5555555555555556,
             "#d8576b"
            ],
            [
             0.6666666666666666,
             "#ed7953"
            ],
            [
             0.7777777777777778,
             "#fb9f3a"
            ],
            [
             0.8888888888888888,
             "#fdca26"
            ],
            [
             1,
             "#f0f921"
            ]
           ]
          },
          "colorway": [
           "#636efa",
           "#EF553B",
           "#00cc96",
           "#ab63fa",
           "#FFA15A",
           "#19d3f3",
           "#FF6692",
           "#B6E880",
           "#FF97FF",
           "#FECB52"
          ],
          "font": {
           "color": "#2a3f5f"
          },
          "geo": {
           "bgcolor": "white",
           "lakecolor": "white",
           "landcolor": "#E5ECF6",
           "showlakes": true,
           "showland": true,
           "subunitcolor": "white"
          },
          "hoverlabel": {
           "align": "left"
          },
          "hovermode": "closest",
          "mapbox": {
           "style": "light"
          },
          "paper_bgcolor": "white",
          "plot_bgcolor": "#E5ECF6",
          "polar": {
           "angularaxis": {
            "gridcolor": "white",
            "linecolor": "white",
            "ticks": ""
           },
           "bgcolor": "#E5ECF6",
           "radialaxis": {
            "gridcolor": "white",
            "linecolor": "white",
            "ticks": ""
           }
          },
          "scene": {
           "xaxis": {
            "backgroundcolor": "#E5ECF6",
            "gridcolor": "white",
            "gridwidth": 2,
            "linecolor": "white",
            "showbackground": true,
            "ticks": "",
            "zerolinecolor": "white"
           },
           "yaxis": {
            "backgroundcolor": "#E5ECF6",
            "gridcolor": "white",
            "gridwidth": 2,
            "linecolor": "white",
            "showbackground": true,
            "ticks": "",
            "zerolinecolor": "white"
           },
           "zaxis": {
            "backgroundcolor": "#E5ECF6",
            "gridcolor": "white",
            "gridwidth": 2,
            "linecolor": "white",
            "showbackground": true,
            "ticks": "",
            "zerolinecolor": "white"
           }
          },
          "shapedefaults": {
           "line": {
            "color": "#2a3f5f"
           }
          },
          "ternary": {
           "aaxis": {
            "gridcolor": "white",
            "linecolor": "white",
            "ticks": ""
           },
           "baxis": {
            "gridcolor": "white",
            "linecolor": "white",
            "ticks": ""
           },
           "bgcolor": "#E5ECF6",
           "caxis": {
            "gridcolor": "white",
            "linecolor": "white",
            "ticks": ""
           }
          },
          "title": {
           "x": 0.05
          },
          "xaxis": {
           "automargin": true,
           "gridcolor": "white",
           "linecolor": "white",
           "ticks": "",
           "title": {
            "standoff": 15
           },
           "zerolinecolor": "white",
           "zerolinewidth": 2
          },
          "yaxis": {
           "automargin": true,
           "gridcolor": "white",
           "linecolor": "white",
           "ticks": "",
           "title": {
            "standoff": 15
           },
           "zerolinecolor": "white",
           "zerolinewidth": 2
          }
         }
        },
        "title": {
         "text": "Singaporean/PR Guests: Journey from Express Pass to Zones"
        }
       }
      }
     },
     "metadata": {},
     "output_type": "display_data"
    }
   ],
   "source": [
    "import pandas as pd\n",
    "import plotly.graph_objects as go\n",
    "\n",
    "# Load the dataset\n",
    "file_path = r'../data/Updated_Theme_Parks_Survey_Responses 5.csv'\n",
    "df = pd.read_csv(file_path)\n",
    "\n",
    "# Define the categorical order for theme park zones according to your specified order (removed Madagascar)\n",
    "zone_order = [\"Sci-Fi City\", \"Hollywood\", \"New York\", \"Ancient Egypt\", \"Far Far Away\", \"The Lost World\"]\n",
    "\n",
    "# Filter only for \"Singaporean/PR\" guests\n",
    "S_PR_df = df[df['Nationality'] == 'Singaporean/PR']\n",
    "\n",
    "# Total Singaporean/PR responses to calculate percentages\n",
    "total_S_PR_responses = len(S_PR_df)\n",
    "\n",
    "# Define labels for the Sankey diagram\n",
    "labels = [\n",
    "    \"Singaporean/PR\",  # This will be 100%\n",
    "    \"Express Pass\", \"No Express Pass\"\n",
    "] + zone_order  # Using the updated zone order without Madagascar\n",
    "\n",
    "# Map labels to index positions for `source` and `target`\n",
    "label_indices = {label: idx for idx, label in enumerate(labels)}\n",
    "\n",
    "# Prepare flow data\n",
    "flow_counts = {}\n",
    "\n",
    "# Loop through each Singaporean/PR guest in the filtered dataframe\n",
    "for index, row in S_PR_df.iterrows():\n",
    "    # Express Pass Usage\n",
    "    express_pass_index = 1 if row['express_pass_purchase'] == \"Yes\" else 2\n",
    "    \n",
    "    # Theme Park Zones (identify first visited zone)\n",
    "    zone_index = None\n",
    "    for zone in zone_order:\n",
    "        if row.get(f'Rank the following theme park zones based on the order in which you visited them. [{zone}]') == \"1st\":\n",
    "            zone_index = label_indices[zone]\n",
    "            break\n",
    "\n",
    "    # Ensure zone_index is assigned\n",
    "    if zone_index is None:\n",
    "        continue  # Skip this iteration if no zone is found\n",
    "\n",
    "    # Append flows for nationality to express pass and then to zones\n",
    "    # Create flow keys to count occurrences\n",
    "    flow_key_express_pass = (label_indices[\"Singaporean/PR\"], express_pass_index)\n",
    "    flow_key_zone = (express_pass_index, zone_index)\n",
    "\n",
    "    # Count the flows for nationality to express pass\n",
    "    if flow_key_express_pass in flow_counts:\n",
    "        flow_counts[flow_key_express_pass] += 1\n",
    "    else:\n",
    "        flow_counts[flow_key_express_pass] = 1\n",
    "\n",
    "    # Count the flows for express pass to theme park zones\n",
    "    if flow_key_zone in flow_counts:\n",
    "        flow_counts[flow_key_zone] += 1\n",
    "    else:\n",
    "        flow_counts[flow_key_zone] = 1\n",
    "\n",
    "# Prepare source, target, and values lists for the Sankey diagram\n",
    "source = []\n",
    "target = []\n",
    "values = []\n",
    "\n",
    "# Calculate percentages and update labels\n",
    "labels_with_percentages = []\n",
    "\n",
    "# Set \"Singaporean/PR\" as 100% in the first node\n",
    "labels_with_percentages.append(f\"Singaporean/PR<br>(100%)\")\n",
    "\n",
    "# Calculate percentage for \"Express Pass\" and \"No Express Pass\"\n",
    "express_pass_count = S_PR_df['express_pass_purchase'].value_counts().get(\"Yes\", 0)\n",
    "express_pass_percentage = (express_pass_count / total_S_PR_responses) * 100\n",
    "labels_with_percentages.append(f\"Express Pass<br>({express_pass_percentage:.1f}%)\")\n",
    "\n",
    "no_express_pass_count = S_PR_df['express_pass_purchase'].value_counts().get(\"No\", 0)\n",
    "no_express_pass_percentage = (no_express_pass_count / total_S_PR_responses) * 100\n",
    "labels_with_percentages.append(f\"No Express Pass<br>({no_express_pass_percentage:.1f}%)\")\n",
    "\n",
    "# Add the rest of the labels (zones) with percentages\n",
    "for zone in zone_order:\n",
    "    zone_column = f'Rank the following theme park zones based on the order in which you visited them. [{zone}]'\n",
    "    zone_count = S_PR_df[zone_column].value_counts().get(\"1st\", 0)\n",
    "    zone_percentage = (zone_count / total_S_PR_responses) * 100\n",
    "    labels_with_percentages.append(f\"{zone}<br>({zone_percentage:.1f}%)\")\n",
    "\n",
    "# Now append the flows with values\n",
    "for (src, tgt), val in flow_counts.items():\n",
    "    source.append(src)\n",
    "    target.append(tgt)\n",
    "    values.append(val)\n",
    "\n",
    "# Define the node and link data for Sankey\n",
    "fig = go.Figure(go.Sankey(\n",
    "    node=dict(\n",
    "        pad=15,\n",
    "        thickness=20,\n",
    "        line=dict(color=\"black\", width=0.5),\n",
    "        label=labels_with_percentages  # Use labels with percentages\n",
    "    ),\n",
    "    link=dict(\n",
    "        source=source,\n",
    "        target=target,\n",
    "        value=values\n",
    "    )\n",
    "))\n",
    "\n",
    "# Add title and show figure\n",
    "fig.update_layout(title_text=\"Singaporean/PR Guests: Journey from Express Pass to Zones\", font_size=12)\n",
    "fig.show()"
   ]
  },
  {
   "cell_type": "markdown",
   "metadata": {},
   "source": [
    "Age grp to purchase"
   ]
  },
  {
   "cell_type": "code",
   "execution_count": 55,
   "metadata": {},
   "outputs": [
    {
     "data": {
      "application/vnd.plotly.v1+json": {
       "config": {
        "plotlyServerURL": "https://plot.ly"
       },
       "data": [
        {
         "link": {
          "source": [
           4,
           1,
           1,
           0,
           2,
           3,
           0,
           2,
           3,
           4
          ],
          "target": [
           5,
           6,
           5,
           5,
           6,
           6,
           6,
           5,
           5,
           6
          ],
          "value": [
           3,
           52,
           3,
           2,
           25,
           27,
           6,
           20,
           16,
           4
          ]
         },
         "node": {
          "label": [
           "Below 18<br>(5.1%)",
           "18-25<br>(34.8%)",
           "26-35<br>(28.5%)",
           "36-59<br>(27.2%)",
           "60 and above<br>(4.4%)",
           "Express Pass<br>(27.8%)",
           "No Express Pass<br>(72.2%)"
          ],
          "line": {
           "color": "black",
           "width": 0.5
          },
          "pad": 15,
          "thickness": 20
         },
         "type": "sankey"
        }
       ],
       "layout": {
        "font": {
         "size": 12
        },
        "template": {
         "data": {
          "bar": [
           {
            "error_x": {
             "color": "#2a3f5f"
            },
            "error_y": {
             "color": "#2a3f5f"
            },
            "marker": {
             "line": {
              "color": "#E5ECF6",
              "width": 0.5
             },
             "pattern": {
              "fillmode": "overlay",
              "size": 10,
              "solidity": 0.2
             }
            },
            "type": "bar"
           }
          ],
          "barpolar": [
           {
            "marker": {
             "line": {
              "color": "#E5ECF6",
              "width": 0.5
             },
             "pattern": {
              "fillmode": "overlay",
              "size": 10,
              "solidity": 0.2
             }
            },
            "type": "barpolar"
           }
          ],
          "carpet": [
           {
            "aaxis": {
             "endlinecolor": "#2a3f5f",
             "gridcolor": "white",
             "linecolor": "white",
             "minorgridcolor": "white",
             "startlinecolor": "#2a3f5f"
            },
            "baxis": {
             "endlinecolor": "#2a3f5f",
             "gridcolor": "white",
             "linecolor": "white",
             "minorgridcolor": "white",
             "startlinecolor": "#2a3f5f"
            },
            "type": "carpet"
           }
          ],
          "choropleth": [
           {
            "colorbar": {
             "outlinewidth": 0,
             "ticks": ""
            },
            "type": "choropleth"
           }
          ],
          "contour": [
           {
            "colorbar": {
             "outlinewidth": 0,
             "ticks": ""
            },
            "colorscale": [
             [
              0,
              "#0d0887"
             ],
             [
              0.1111111111111111,
              "#46039f"
             ],
             [
              0.2222222222222222,
              "#7201a8"
             ],
             [
              0.3333333333333333,
              "#9c179e"
             ],
             [
              0.4444444444444444,
              "#bd3786"
             ],
             [
              0.5555555555555556,
              "#d8576b"
             ],
             [
              0.6666666666666666,
              "#ed7953"
             ],
             [
              0.7777777777777778,
              "#fb9f3a"
             ],
             [
              0.8888888888888888,
              "#fdca26"
             ],
             [
              1,
              "#f0f921"
             ]
            ],
            "type": "contour"
           }
          ],
          "contourcarpet": [
           {
            "colorbar": {
             "outlinewidth": 0,
             "ticks": ""
            },
            "type": "contourcarpet"
           }
          ],
          "heatmap": [
           {
            "colorbar": {
             "outlinewidth": 0,
             "ticks": ""
            },
            "colorscale": [
             [
              0,
              "#0d0887"
             ],
             [
              0.1111111111111111,
              "#46039f"
             ],
             [
              0.2222222222222222,
              "#7201a8"
             ],
             [
              0.3333333333333333,
              "#9c179e"
             ],
             [
              0.4444444444444444,
              "#bd3786"
             ],
             [
              0.5555555555555556,
              "#d8576b"
             ],
             [
              0.6666666666666666,
              "#ed7953"
             ],
             [
              0.7777777777777778,
              "#fb9f3a"
             ],
             [
              0.8888888888888888,
              "#fdca26"
             ],
             [
              1,
              "#f0f921"
             ]
            ],
            "type": "heatmap"
           }
          ],
          "heatmapgl": [
           {
            "colorbar": {
             "outlinewidth": 0,
             "ticks": ""
            },
            "colorscale": [
             [
              0,
              "#0d0887"
             ],
             [
              0.1111111111111111,
              "#46039f"
             ],
             [
              0.2222222222222222,
              "#7201a8"
             ],
             [
              0.3333333333333333,
              "#9c179e"
             ],
             [
              0.4444444444444444,
              "#bd3786"
             ],
             [
              0.5555555555555556,
              "#d8576b"
             ],
             [
              0.6666666666666666,
              "#ed7953"
             ],
             [
              0.7777777777777778,
              "#fb9f3a"
             ],
             [
              0.8888888888888888,
              "#fdca26"
             ],
             [
              1,
              "#f0f921"
             ]
            ],
            "type": "heatmapgl"
           }
          ],
          "histogram": [
           {
            "marker": {
             "pattern": {
              "fillmode": "overlay",
              "size": 10,
              "solidity": 0.2
             }
            },
            "type": "histogram"
           }
          ],
          "histogram2d": [
           {
            "colorbar": {
             "outlinewidth": 0,
             "ticks": ""
            },
            "colorscale": [
             [
              0,
              "#0d0887"
             ],
             [
              0.1111111111111111,
              "#46039f"
             ],
             [
              0.2222222222222222,
              "#7201a8"
             ],
             [
              0.3333333333333333,
              "#9c179e"
             ],
             [
              0.4444444444444444,
              "#bd3786"
             ],
             [
              0.5555555555555556,
              "#d8576b"
             ],
             [
              0.6666666666666666,
              "#ed7953"
             ],
             [
              0.7777777777777778,
              "#fb9f3a"
             ],
             [
              0.8888888888888888,
              "#fdca26"
             ],
             [
              1,
              "#f0f921"
             ]
            ],
            "type": "histogram2d"
           }
          ],
          "histogram2dcontour": [
           {
            "colorbar": {
             "outlinewidth": 0,
             "ticks": ""
            },
            "colorscale": [
             [
              0,
              "#0d0887"
             ],
             [
              0.1111111111111111,
              "#46039f"
             ],
             [
              0.2222222222222222,
              "#7201a8"
             ],
             [
              0.3333333333333333,
              "#9c179e"
             ],
             [
              0.4444444444444444,
              "#bd3786"
             ],
             [
              0.5555555555555556,
              "#d8576b"
             ],
             [
              0.6666666666666666,
              "#ed7953"
             ],
             [
              0.7777777777777778,
              "#fb9f3a"
             ],
             [
              0.8888888888888888,
              "#fdca26"
             ],
             [
              1,
              "#f0f921"
             ]
            ],
            "type": "histogram2dcontour"
           }
          ],
          "mesh3d": [
           {
            "colorbar": {
             "outlinewidth": 0,
             "ticks": ""
            },
            "type": "mesh3d"
           }
          ],
          "parcoords": [
           {
            "line": {
             "colorbar": {
              "outlinewidth": 0,
              "ticks": ""
             }
            },
            "type": "parcoords"
           }
          ],
          "pie": [
           {
            "automargin": true,
            "type": "pie"
           }
          ],
          "scatter": [
           {
            "fillpattern": {
             "fillmode": "overlay",
             "size": 10,
             "solidity": 0.2
            },
            "type": "scatter"
           }
          ],
          "scatter3d": [
           {
            "line": {
             "colorbar": {
              "outlinewidth": 0,
              "ticks": ""
             }
            },
            "marker": {
             "colorbar": {
              "outlinewidth": 0,
              "ticks": ""
             }
            },
            "type": "scatter3d"
           }
          ],
          "scattercarpet": [
           {
            "marker": {
             "colorbar": {
              "outlinewidth": 0,
              "ticks": ""
             }
            },
            "type": "scattercarpet"
           }
          ],
          "scattergeo": [
           {
            "marker": {
             "colorbar": {
              "outlinewidth": 0,
              "ticks": ""
             }
            },
            "type": "scattergeo"
           }
          ],
          "scattergl": [
           {
            "marker": {
             "colorbar": {
              "outlinewidth": 0,
              "ticks": ""
             }
            },
            "type": "scattergl"
           }
          ],
          "scattermapbox": [
           {
            "marker": {
             "colorbar": {
              "outlinewidth": 0,
              "ticks": ""
             }
            },
            "type": "scattermapbox"
           }
          ],
          "scatterpolar": [
           {
            "marker": {
             "colorbar": {
              "outlinewidth": 0,
              "ticks": ""
             }
            },
            "type": "scatterpolar"
           }
          ],
          "scatterpolargl": [
           {
            "marker": {
             "colorbar": {
              "outlinewidth": 0,
              "ticks": ""
             }
            },
            "type": "scatterpolargl"
           }
          ],
          "scatterternary": [
           {
            "marker": {
             "colorbar": {
              "outlinewidth": 0,
              "ticks": ""
             }
            },
            "type": "scatterternary"
           }
          ],
          "surface": [
           {
            "colorbar": {
             "outlinewidth": 0,
             "ticks": ""
            },
            "colorscale": [
             [
              0,
              "#0d0887"
             ],
             [
              0.1111111111111111,
              "#46039f"
             ],
             [
              0.2222222222222222,
              "#7201a8"
             ],
             [
              0.3333333333333333,
              "#9c179e"
             ],
             [
              0.4444444444444444,
              "#bd3786"
             ],
             [
              0.5555555555555556,
              "#d8576b"
             ],
             [
              0.6666666666666666,
              "#ed7953"
             ],
             [
              0.7777777777777778,
              "#fb9f3a"
             ],
             [
              0.8888888888888888,
              "#fdca26"
             ],
             [
              1,
              "#f0f921"
             ]
            ],
            "type": "surface"
           }
          ],
          "table": [
           {
            "cells": {
             "fill": {
              "color": "#EBF0F8"
             },
             "line": {
              "color": "white"
             }
            },
            "header": {
             "fill": {
              "color": "#C8D4E3"
             },
             "line": {
              "color": "white"
             }
            },
            "type": "table"
           }
          ]
         },
         "layout": {
          "annotationdefaults": {
           "arrowcolor": "#2a3f5f",
           "arrowhead": 0,
           "arrowwidth": 1
          },
          "autotypenumbers": "strict",
          "coloraxis": {
           "colorbar": {
            "outlinewidth": 0,
            "ticks": ""
           }
          },
          "colorscale": {
           "diverging": [
            [
             0,
             "#8e0152"
            ],
            [
             0.1,
             "#c51b7d"
            ],
            [
             0.2,
             "#de77ae"
            ],
            [
             0.3,
             "#f1b6da"
            ],
            [
             0.4,
             "#fde0ef"
            ],
            [
             0.5,
             "#f7f7f7"
            ],
            [
             0.6,
             "#e6f5d0"
            ],
            [
             0.7,
             "#b8e186"
            ],
            [
             0.8,
             "#7fbc41"
            ],
            [
             0.9,
             "#4d9221"
            ],
            [
             1,
             "#276419"
            ]
           ],
           "sequential": [
            [
             0,
             "#0d0887"
            ],
            [
             0.1111111111111111,
             "#46039f"
            ],
            [
             0.2222222222222222,
             "#7201a8"
            ],
            [
             0.3333333333333333,
             "#9c179e"
            ],
            [
             0.4444444444444444,
             "#bd3786"
            ],
            [
             0.5555555555555556,
             "#d8576b"
            ],
            [
             0.6666666666666666,
             "#ed7953"
            ],
            [
             0.7777777777777778,
             "#fb9f3a"
            ],
            [
             0.8888888888888888,
             "#fdca26"
            ],
            [
             1,
             "#f0f921"
            ]
           ],
           "sequentialminus": [
            [
             0,
             "#0d0887"
            ],
            [
             0.1111111111111111,
             "#46039f"
            ],
            [
             0.2222222222222222,
             "#7201a8"
            ],
            [
             0.3333333333333333,
             "#9c179e"
            ],
            [
             0.4444444444444444,
             "#bd3786"
            ],
            [
             0.5555555555555556,
             "#d8576b"
            ],
            [
             0.6666666666666666,
             "#ed7953"
            ],
            [
             0.7777777777777778,
             "#fb9f3a"
            ],
            [
             0.8888888888888888,
             "#fdca26"
            ],
            [
             1,
             "#f0f921"
            ]
           ]
          },
          "colorway": [
           "#636efa",
           "#EF553B",
           "#00cc96",
           "#ab63fa",
           "#FFA15A",
           "#19d3f3",
           "#FF6692",
           "#B6E880",
           "#FF97FF",
           "#FECB52"
          ],
          "font": {
           "color": "#2a3f5f"
          },
          "geo": {
           "bgcolor": "white",
           "lakecolor": "white",
           "landcolor": "#E5ECF6",
           "showlakes": true,
           "showland": true,
           "subunitcolor": "white"
          },
          "hoverlabel": {
           "align": "left"
          },
          "hovermode": "closest",
          "mapbox": {
           "style": "light"
          },
          "paper_bgcolor": "white",
          "plot_bgcolor": "#E5ECF6",
          "polar": {
           "angularaxis": {
            "gridcolor": "white",
            "linecolor": "white",
            "ticks": ""
           },
           "bgcolor": "#E5ECF6",
           "radialaxis": {
            "gridcolor": "white",
            "linecolor": "white",
            "ticks": ""
           }
          },
          "scene": {
           "xaxis": {
            "backgroundcolor": "#E5ECF6",
            "gridcolor": "white",
            "gridwidth": 2,
            "linecolor": "white",
            "showbackground": true,
            "ticks": "",
            "zerolinecolor": "white"
           },
           "yaxis": {
            "backgroundcolor": "#E5ECF6",
            "gridcolor": "white",
            "gridwidth": 2,
            "linecolor": "white",
            "showbackground": true,
            "ticks": "",
            "zerolinecolor": "white"
           },
           "zaxis": {
            "backgroundcolor": "#E5ECF6",
            "gridcolor": "white",
            "gridwidth": 2,
            "linecolor": "white",
            "showbackground": true,
            "ticks": "",
            "zerolinecolor": "white"
           }
          },
          "shapedefaults": {
           "line": {
            "color": "#2a3f5f"
           }
          },
          "ternary": {
           "aaxis": {
            "gridcolor": "white",
            "linecolor": "white",
            "ticks": ""
           },
           "baxis": {
            "gridcolor": "white",
            "linecolor": "white",
            "ticks": ""
           },
           "bgcolor": "#E5ECF6",
           "caxis": {
            "gridcolor": "white",
            "linecolor": "white",
            "ticks": ""
           }
          },
          "title": {
           "x": 0.05
          },
          "xaxis": {
           "automargin": true,
           "gridcolor": "white",
           "linecolor": "white",
           "ticks": "",
           "title": {
            "standoff": 15
           },
           "zerolinecolor": "white",
           "zerolinewidth": 2
          },
          "yaxis": {
           "automargin": true,
           "gridcolor": "white",
           "linecolor": "white",
           "ticks": "",
           "title": {
            "standoff": 15
           },
           "zerolinecolor": "white",
           "zerolinewidth": 2
          }
         }
        },
        "title": {
         "text": "Age Group to Express Pass Purchase"
        }
       }
      }
     },
     "metadata": {},
     "output_type": "display_data"
    }
   ],
   "source": [
    "import pandas as pd\n",
    "import plotly.graph_objects as go\n",
    "\n",
    "# Load the dataset\n",
    "file_path = r'../data/Updated_Theme_Parks_Survey_Responses 5.csv'\n",
    "df = pd.read_csv(file_path)\n",
    "\n",
    "# Define labels for the Sankey diagram with the corrected age group label\n",
    "labels = [\n",
    "    \"Below 18\", \"18-25\", \"26-35\", \"36-59\", \"60 and above\", \n",
    "    \"Express Pass\", \"No Express Pass\"\n",
    "]\n",
    "\n",
    "# Map labels to index positions for `source` and `target`\n",
    "label_indices = {label: idx for idx, label in enumerate(labels)}\n",
    "\n",
    "# Prepare flow data\n",
    "flow_data = {}\n",
    "\n",
    "# Calculate total number of responses for each age group\n",
    "age_group_counts = df['Age_Group'].value_counts()\n",
    "\n",
    "# Loop through each guest in the dataframe\n",
    "for index, row in df.iterrows():\n",
    "    # Use exact age group labels from data\n",
    "    age_group = row['Age_Group']\n",
    "    if age_group not in labels:\n",
    "        continue  # Skip if age group is not in the specified labels\n",
    "    age_index = label_indices[age_group]\n",
    "\n",
    "    # Express Pass Usage\n",
    "    express_pass_index = label_indices[\"Express Pass\"] if row['express_pass_purchase'] == \"Yes\" else label_indices[\"No Express Pass\"]\n",
    "    \n",
    "    # Increment counts for flows\n",
    "    flow_key = (age_index, express_pass_index)\n",
    "    if flow_key in flow_data:\n",
    "        flow_data[flow_key] += 1\n",
    "    else:\n",
    "        flow_data[flow_key] = 1\n",
    "\n",
    "# Prepare source, target, and values lists for the Sankey diagram\n",
    "source, target, values = zip(*[(src, tgt, val) for (src, tgt), val in flow_data.items()])\n",
    "\n",
    "# Now we calculate percentages and update the labels to include them\n",
    "labels_with_percentages = []\n",
    "\n",
    "# Add the age group labels with percentages\n",
    "total_responses = len(df)\n",
    "for age_group in [\"Below 18\", \"18-25\", \"26-35\", \"36-59\", \"60 and above\"]:  # Updated label\n",
    "    total_age_group_responses = age_group_counts.get(age_group, 0)\n",
    "    if total_age_group_responses > 0:\n",
    "        age_percent = (total_age_group_responses / total_responses) * 100\n",
    "        labels_with_percentages.append(f\"{age_group}<br>({age_percent:.1f}%)\")\n",
    "    else:\n",
    "        labels_with_percentages.append(age_group)\n",
    "\n",
    "# Add the express pass labels with percentages\n",
    "express_pass_count = df[df['express_pass_purchase'] == \"Yes\"].shape[0]\n",
    "express_pass_percentage = (express_pass_count / total_responses) * 100\n",
    "labels_with_percentages.append(f\"Express Pass<br>({express_pass_percentage:.1f}%)\")\n",
    "\n",
    "no_express_pass_count = df[df['express_pass_purchase'] == \"No\"].shape[0]\n",
    "no_express_pass_percentage = (no_express_pass_count / total_responses) * 100\n",
    "labels_with_percentages.append(f\"No Express Pass<br>({no_express_pass_percentage:.1f}%)\")\n",
    "\n",
    "# Create the Sankey diagram with updated labels\n",
    "fig = go.Figure(go.Sankey(\n",
    "    node=dict(\n",
    "        pad=15, \n",
    "        thickness=20,\n",
    "        line=dict(color=\"black\", width=0.5), \n",
    "        label=labels_with_percentages  # Updated labels with percentages\n",
    "    ),\n",
    "    link=dict(\n",
    "        source=source, \n",
    "        target=target, \n",
    "        value=values\n",
    "    )\n",
    "))\n",
    "\n",
    "# Add title and show figure\n",
    "fig.update_layout(title_text=\"Age Group to Express Pass Purchase\", font_size=12)\n",
    "fig.show()\n"
   ]
  },
  {
   "cell_type": "markdown",
   "metadata": {},
   "source": [
    "Family segmentation"
   ]
  },
  {
   "cell_type": "code",
   "execution_count": 19,
   "metadata": {},
   "outputs": [
    {
     "data": {
      "application/vnd.plotly.v1+json": {
       "config": {
        "plotlyServerURL": "https://plot.ly"
       },
       "data": [
        {
         "link": {
          "customdata": [
           "17.7%",
           "15.2%",
           "4.4%",
           "34.2%",
           "30.4%",
           "19.6%",
           "25.9%",
           "13.9%",
           "31.6%",
           "13.3%",
           "5.1%",
           "3.8%",
           "5.7%",
           "10.8%",
           "0.6%",
           "0.6%",
           "2.5%",
           "6.3%",
           "7.0%",
           "13.9%",
           "0.6%",
           "0.6%",
           "3.2%",
           "7.6%",
           "0.6%",
           "3.8%",
           "1.3%",
           "0.6%"
          ],
          "hovertemplate": "Flow: %{value} (<b>%{customdata}</b>)<extra></extra>",
          "source": [
           0,
           2,
           8,
           2,
           7,
           0,
           3,
           7,
           1,
           1,
           8,
           7,
           7,
           7,
           0,
           5,
           0,
           4,
           3,
           8,
           0,
           6,
           7,
           1,
           8,
           4,
           8,
           8
          ],
          "target": [
           2,
           8,
           10,
           7,
           10,
           3,
           7,
           9,
           2,
           3,
           11,
           14,
           13,
           12,
           5,
           7,
           4,
           7,
           8,
           9,
           6,
           7,
           11,
           4,
           13,
           8,
           12,
           14
          ],
          "value": [
           28,
           24,
           7,
           54,
           48,
           31,
           41,
           22,
           50,
           21,
           8,
           6,
           9,
           17,
           1,
           1,
           4,
           10,
           11,
           22,
           1,
           1,
           5,
           12,
           1,
           6,
           2,
           1
          ]
         },
         "node": {
          "label": [
           "Singaporean/pr<br>(44.9%)",
           "Foreigner<br>(55.1%)",
           "I am visiting with family<br>(51.3%)",
           "I am visiting with friend(s)<br>(35.4%)",
           "I am visiting with my partner<br>(12.0%)",
           "I do visit with my family, friends and partner.<br>(0.6%)",
           "Work colleagues<br>(0.6%)",
           "Express Pass<br>(No)<br>(72.2%)",
           "Express Pass<br>(Yes)<br>(27.8%)",
           "Sci-Fi City<br>(27.8%)",
           "Hollywood<br>(35.4%)",
           "New York<br>(8.2%)",
           "Ancient Egypt<br>(12.7%)",
           "Far Far Away<br>(6.3%)",
           "The Lost World<br>(4.4%)"
          ],
          "line": {
           "color": "black",
           "width": 0.5
          },
          "pad": 15,
          "thickness": 20
         },
         "type": "sankey"
        }
       ],
       "layout": {
        "font": {
         "size": 12
        },
        "template": {
         "data": {
          "bar": [
           {
            "error_x": {
             "color": "#2a3f5f"
            },
            "error_y": {
             "color": "#2a3f5f"
            },
            "marker": {
             "line": {
              "color": "#E5ECF6",
              "width": 0.5
             },
             "pattern": {
              "fillmode": "overlay",
              "size": 10,
              "solidity": 0.2
             }
            },
            "type": "bar"
           }
          ],
          "barpolar": [
           {
            "marker": {
             "line": {
              "color": "#E5ECF6",
              "width": 0.5
             },
             "pattern": {
              "fillmode": "overlay",
              "size": 10,
              "solidity": 0.2
             }
            },
            "type": "barpolar"
           }
          ],
          "carpet": [
           {
            "aaxis": {
             "endlinecolor": "#2a3f5f",
             "gridcolor": "white",
             "linecolor": "white",
             "minorgridcolor": "white",
             "startlinecolor": "#2a3f5f"
            },
            "baxis": {
             "endlinecolor": "#2a3f5f",
             "gridcolor": "white",
             "linecolor": "white",
             "minorgridcolor": "white",
             "startlinecolor": "#2a3f5f"
            },
            "type": "carpet"
           }
          ],
          "choropleth": [
           {
            "colorbar": {
             "outlinewidth": 0,
             "ticks": ""
            },
            "type": "choropleth"
           }
          ],
          "contour": [
           {
            "colorbar": {
             "outlinewidth": 0,
             "ticks": ""
            },
            "colorscale": [
             [
              0,
              "#0d0887"
             ],
             [
              0.1111111111111111,
              "#46039f"
             ],
             [
              0.2222222222222222,
              "#7201a8"
             ],
             [
              0.3333333333333333,
              "#9c179e"
             ],
             [
              0.4444444444444444,
              "#bd3786"
             ],
             [
              0.5555555555555556,
              "#d8576b"
             ],
             [
              0.6666666666666666,
              "#ed7953"
             ],
             [
              0.7777777777777778,
              "#fb9f3a"
             ],
             [
              0.8888888888888888,
              "#fdca26"
             ],
             [
              1,
              "#f0f921"
             ]
            ],
            "type": "contour"
           }
          ],
          "contourcarpet": [
           {
            "colorbar": {
             "outlinewidth": 0,
             "ticks": ""
            },
            "type": "contourcarpet"
           }
          ],
          "heatmap": [
           {
            "colorbar": {
             "outlinewidth": 0,
             "ticks": ""
            },
            "colorscale": [
             [
              0,
              "#0d0887"
             ],
             [
              0.1111111111111111,
              "#46039f"
             ],
             [
              0.2222222222222222,
              "#7201a8"
             ],
             [
              0.3333333333333333,
              "#9c179e"
             ],
             [
              0.4444444444444444,
              "#bd3786"
             ],
             [
              0.5555555555555556,
              "#d8576b"
             ],
             [
              0.6666666666666666,
              "#ed7953"
             ],
             [
              0.7777777777777778,
              "#fb9f3a"
             ],
             [
              0.8888888888888888,
              "#fdca26"
             ],
             [
              1,
              "#f0f921"
             ]
            ],
            "type": "heatmap"
           }
          ],
          "heatmapgl": [
           {
            "colorbar": {
             "outlinewidth": 0,
             "ticks": ""
            },
            "colorscale": [
             [
              0,
              "#0d0887"
             ],
             [
              0.1111111111111111,
              "#46039f"
             ],
             [
              0.2222222222222222,
              "#7201a8"
             ],
             [
              0.3333333333333333,
              "#9c179e"
             ],
             [
              0.4444444444444444,
              "#bd3786"
             ],
             [
              0.5555555555555556,
              "#d8576b"
             ],
             [
              0.6666666666666666,
              "#ed7953"
             ],
             [
              0.7777777777777778,
              "#fb9f3a"
             ],
             [
              0.8888888888888888,
              "#fdca26"
             ],
             [
              1,
              "#f0f921"
             ]
            ],
            "type": "heatmapgl"
           }
          ],
          "histogram": [
           {
            "marker": {
             "pattern": {
              "fillmode": "overlay",
              "size": 10,
              "solidity": 0.2
             }
            },
            "type": "histogram"
           }
          ],
          "histogram2d": [
           {
            "colorbar": {
             "outlinewidth": 0,
             "ticks": ""
            },
            "colorscale": [
             [
              0,
              "#0d0887"
             ],
             [
              0.1111111111111111,
              "#46039f"
             ],
             [
              0.2222222222222222,
              "#7201a8"
             ],
             [
              0.3333333333333333,
              "#9c179e"
             ],
             [
              0.4444444444444444,
              "#bd3786"
             ],
             [
              0.5555555555555556,
              "#d8576b"
             ],
             [
              0.6666666666666666,
              "#ed7953"
             ],
             [
              0.7777777777777778,
              "#fb9f3a"
             ],
             [
              0.8888888888888888,
              "#fdca26"
             ],
             [
              1,
              "#f0f921"
             ]
            ],
            "type": "histogram2d"
           }
          ],
          "histogram2dcontour": [
           {
            "colorbar": {
             "outlinewidth": 0,
             "ticks": ""
            },
            "colorscale": [
             [
              0,
              "#0d0887"
             ],
             [
              0.1111111111111111,
              "#46039f"
             ],
             [
              0.2222222222222222,
              "#7201a8"
             ],
             [
              0.3333333333333333,
              "#9c179e"
             ],
             [
              0.4444444444444444,
              "#bd3786"
             ],
             [
              0.5555555555555556,
              "#d8576b"
             ],
             [
              0.6666666666666666,
              "#ed7953"
             ],
             [
              0.7777777777777778,
              "#fb9f3a"
             ],
             [
              0.8888888888888888,
              "#fdca26"
             ],
             [
              1,
              "#f0f921"
             ]
            ],
            "type": "histogram2dcontour"
           }
          ],
          "mesh3d": [
           {
            "colorbar": {
             "outlinewidth": 0,
             "ticks": ""
            },
            "type": "mesh3d"
           }
          ],
          "parcoords": [
           {
            "line": {
             "colorbar": {
              "outlinewidth": 0,
              "ticks": ""
             }
            },
            "type": "parcoords"
           }
          ],
          "pie": [
           {
            "automargin": true,
            "type": "pie"
           }
          ],
          "scatter": [
           {
            "fillpattern": {
             "fillmode": "overlay",
             "size": 10,
             "solidity": 0.2
            },
            "type": "scatter"
           }
          ],
          "scatter3d": [
           {
            "line": {
             "colorbar": {
              "outlinewidth": 0,
              "ticks": ""
             }
            },
            "marker": {
             "colorbar": {
              "outlinewidth": 0,
              "ticks": ""
             }
            },
            "type": "scatter3d"
           }
          ],
          "scattercarpet": [
           {
            "marker": {
             "colorbar": {
              "outlinewidth": 0,
              "ticks": ""
             }
            },
            "type": "scattercarpet"
           }
          ],
          "scattergeo": [
           {
            "marker": {
             "colorbar": {
              "outlinewidth": 0,
              "ticks": ""
             }
            },
            "type": "scattergeo"
           }
          ],
          "scattergl": [
           {
            "marker": {
             "colorbar": {
              "outlinewidth": 0,
              "ticks": ""
             }
            },
            "type": "scattergl"
           }
          ],
          "scattermapbox": [
           {
            "marker": {
             "colorbar": {
              "outlinewidth": 0,
              "ticks": ""
             }
            },
            "type": "scattermapbox"
           }
          ],
          "scatterpolar": [
           {
            "marker": {
             "colorbar": {
              "outlinewidth": 0,
              "ticks": ""
             }
            },
            "type": "scatterpolar"
           }
          ],
          "scatterpolargl": [
           {
            "marker": {
             "colorbar": {
              "outlinewidth": 0,
              "ticks": ""
             }
            },
            "type": "scatterpolargl"
           }
          ],
          "scatterternary": [
           {
            "marker": {
             "colorbar": {
              "outlinewidth": 0,
              "ticks": ""
             }
            },
            "type": "scatterternary"
           }
          ],
          "surface": [
           {
            "colorbar": {
             "outlinewidth": 0,
             "ticks": ""
            },
            "colorscale": [
             [
              0,
              "#0d0887"
             ],
             [
              0.1111111111111111,
              "#46039f"
             ],
             [
              0.2222222222222222,
              "#7201a8"
             ],
             [
              0.3333333333333333,
              "#9c179e"
             ],
             [
              0.4444444444444444,
              "#bd3786"
             ],
             [
              0.5555555555555556,
              "#d8576b"
             ],
             [
              0.6666666666666666,
              "#ed7953"
             ],
             [
              0.7777777777777778,
              "#fb9f3a"
             ],
             [
              0.8888888888888888,
              "#fdca26"
             ],
             [
              1,
              "#f0f921"
             ]
            ],
            "type": "surface"
           }
          ],
          "table": [
           {
            "cells": {
             "fill": {
              "color": "#EBF0F8"
             },
             "line": {
              "color": "white"
             }
            },
            "header": {
             "fill": {
              "color": "#C8D4E3"
             },
             "line": {
              "color": "white"
             }
            },
            "type": "table"
           }
          ]
         },
         "layout": {
          "annotationdefaults": {
           "arrowcolor": "#2a3f5f",
           "arrowhead": 0,
           "arrowwidth": 1
          },
          "autotypenumbers": "strict",
          "coloraxis": {
           "colorbar": {
            "outlinewidth": 0,
            "ticks": ""
           }
          },
          "colorscale": {
           "diverging": [
            [
             0,
             "#8e0152"
            ],
            [
             0.1,
             "#c51b7d"
            ],
            [
             0.2,
             "#de77ae"
            ],
            [
             0.3,
             "#f1b6da"
            ],
            [
             0.4,
             "#fde0ef"
            ],
            [
             0.5,
             "#f7f7f7"
            ],
            [
             0.6,
             "#e6f5d0"
            ],
            [
             0.7,
             "#b8e186"
            ],
            [
             0.8,
             "#7fbc41"
            ],
            [
             0.9,
             "#4d9221"
            ],
            [
             1,
             "#276419"
            ]
           ],
           "sequential": [
            [
             0,
             "#0d0887"
            ],
            [
             0.1111111111111111,
             "#46039f"
            ],
            [
             0.2222222222222222,
             "#7201a8"
            ],
            [
             0.3333333333333333,
             "#9c179e"
            ],
            [
             0.4444444444444444,
             "#bd3786"
            ],
            [
             0.5555555555555556,
             "#d8576b"
            ],
            [
             0.6666666666666666,
             "#ed7953"
            ],
            [
             0.7777777777777778,
             "#fb9f3a"
            ],
            [
             0.8888888888888888,
             "#fdca26"
            ],
            [
             1,
             "#f0f921"
            ]
           ],
           "sequentialminus": [
            [
             0,
             "#0d0887"
            ],
            [
             0.1111111111111111,
             "#46039f"
            ],
            [
             0.2222222222222222,
             "#7201a8"
            ],
            [
             0.3333333333333333,
             "#9c179e"
            ],
            [
             0.4444444444444444,
             "#bd3786"
            ],
            [
             0.5555555555555556,
             "#d8576b"
            ],
            [
             0.6666666666666666,
             "#ed7953"
            ],
            [
             0.7777777777777778,
             "#fb9f3a"
            ],
            [
             0.8888888888888888,
             "#fdca26"
            ],
            [
             1,
             "#f0f921"
            ]
           ]
          },
          "colorway": [
           "#636efa",
           "#EF553B",
           "#00cc96",
           "#ab63fa",
           "#FFA15A",
           "#19d3f3",
           "#FF6692",
           "#B6E880",
           "#FF97FF",
           "#FECB52"
          ],
          "font": {
           "color": "#2a3f5f"
          },
          "geo": {
           "bgcolor": "white",
           "lakecolor": "white",
           "landcolor": "#E5ECF6",
           "showlakes": true,
           "showland": true,
           "subunitcolor": "white"
          },
          "hoverlabel": {
           "align": "left"
          },
          "hovermode": "closest",
          "mapbox": {
           "style": "light"
          },
          "paper_bgcolor": "white",
          "plot_bgcolor": "#E5ECF6",
          "polar": {
           "angularaxis": {
            "gridcolor": "white",
            "linecolor": "white",
            "ticks": ""
           },
           "bgcolor": "#E5ECF6",
           "radialaxis": {
            "gridcolor": "white",
            "linecolor": "white",
            "ticks": ""
           }
          },
          "scene": {
           "xaxis": {
            "backgroundcolor": "#E5ECF6",
            "gridcolor": "white",
            "gridwidth": 2,
            "linecolor": "white",
            "showbackground": true,
            "ticks": "",
            "zerolinecolor": "white"
           },
           "yaxis": {
            "backgroundcolor": "#E5ECF6",
            "gridcolor": "white",
            "gridwidth": 2,
            "linecolor": "white",
            "showbackground": true,
            "ticks": "",
            "zerolinecolor": "white"
           },
           "zaxis": {
            "backgroundcolor": "#E5ECF6",
            "gridcolor": "white",
            "gridwidth": 2,
            "linecolor": "white",
            "showbackground": true,
            "ticks": "",
            "zerolinecolor": "white"
           }
          },
          "shapedefaults": {
           "line": {
            "color": "#2a3f5f"
           }
          },
          "ternary": {
           "aaxis": {
            "gridcolor": "white",
            "linecolor": "white",
            "ticks": ""
           },
           "baxis": {
            "gridcolor": "white",
            "linecolor": "white",
            "ticks": ""
           },
           "bgcolor": "#E5ECF6",
           "caxis": {
            "gridcolor": "white",
            "linecolor": "white",
            "ticks": ""
           }
          },
          "title": {
           "x": 0.05
          },
          "xaxis": {
           "automargin": true,
           "gridcolor": "white",
           "linecolor": "white",
           "ticks": "",
           "title": {
            "standoff": 15
           },
           "zerolinecolor": "white",
           "zerolinewidth": 2
          },
          "yaxis": {
           "automargin": true,
           "gridcolor": "white",
           "linecolor": "white",
           "ticks": "",
           "title": {
            "standoff": 15
           },
           "zerolinecolor": "white",
           "zerolinewidth": 2
          }
         }
        },
        "title": {
         "text": "Guest Journey: Nationality to Companion Type to Express Pass to Zone"
        }
       }
      }
     },
     "metadata": {},
     "output_type": "display_data"
    }
   ],
   "source": [
    "import pandas as pd\n",
    "import plotly.graph_objects as go\n",
    "\n",
    "# Load the dataset\n",
    "file_path = r'../data/Updated_Theme_Parks_Survey_Responses 5.csv'\n",
    "df = pd.read_csv(file_path)\n",
    "\n",
    "# Standardize the 'Nationality' column by stripping spaces and converting to lowercase\n",
    "df['Nationality'] = df['Nationality'].str.strip().str.lower()\n",
    "\n",
    "# Define categories and labels\n",
    "zone_order = [\"Sci-Fi City\", \"Hollywood\", \"New York\", \"Ancient Egypt\", \"Far Far Away\", \"The Lost World\"]\n",
    "nationality_labels = [\"singaporean/pr\", \"foreigner\"]\n",
    "companion_types = [\"I am visiting with family\", \"I am visiting with friend(s)\", \"I am visiting with my partner\", \n",
    "                   \"I do visit with my family, friends and partner.\", \"Work colleagues\"]\n",
    "express_pass_labels = [\"No\", \"Yes\"]\n",
    "\n",
    "# Full list of labels\n",
    "labels = nationality_labels + companion_types + express_pass_labels + zone_order\n",
    "label_indices = {label: idx for idx, label in enumerate(labels)}\n",
    "\n",
    "# Total number of responses\n",
    "total_responses = len(df)\n",
    "\n",
    "# Helper function to calculate percentage for each category\n",
    "def calculate_percentage(column, category):\n",
    "    count = df[column].value_counts().get(category, 0)\n",
    "    return (count / total_responses) * 100\n",
    "\n",
    "# Prepare list to store labels with percentages\n",
    "labels_with_percentages = []\n",
    "\n",
    "# Calculate percentages for nationality labels\n",
    "for label in nationality_labels:\n",
    "    nationality_count = df[df['Nationality'] == label].shape[0]\n",
    "    percentage = (nationality_count / total_responses) * 100\n",
    "    labels_with_percentages.append(f\"{label.capitalize()}<br>({percentage:.1f}%)\")\n",
    "\n",
    "# Calculate percentages for companion types\n",
    "for label in companion_types:\n",
    "    percentage = calculate_percentage('Did you visit the theme park with other people?', label)\n",
    "    labels_with_percentages.append(f\"{label}<br>({percentage:.1f}%)\")\n",
    "\n",
    "# Calculate percentages for express pass labels\n",
    "for label in express_pass_labels:\n",
    "    percentage = calculate_percentage('express_pass_purchase', label)\n",
    "    labels_with_percentages.append(f\"Express Pass<br>({label})<br>({percentage:.1f}%)\")\n",
    "\n",
    "# Calculate percentages for zone labels\n",
    "for label in zone_order:\n",
    "    zone_column = f'Rank the following theme park zones based on the order in which you visited them. [{label}]'\n",
    "    percentage = (df[zone_column].value_counts().get(\"1st\", 0) / total_responses) * 100\n",
    "    labels_with_percentages.append(f\"{label}<br>({percentage:.1f}%)\")\n",
    "\n",
    "\n",
    "\n",
    "# Prepare flow data from dataset\n",
    "flow_counts = {}\n",
    "for _, row in df.iterrows():\n",
    "    # Get nationality index\n",
    "    nationality = row['Nationality']\n",
    "    if pd.isnull(nationality): continue\n",
    "    nationality_index = label_indices[\"singaporean/pr\"] if nationality == 'singaporean/pr' else label_indices[\"foreigner\"]\n",
    "    \n",
    "    # Get companion type index\n",
    "    companion_type = row['Did you visit the theme park with other people?']\n",
    "    if pd.isnull(companion_type): continue\n",
    "    companion_label = {\n",
    "        \"I am visiting with family\": \"I am visiting with family\", \n",
    "        \"I am visiting with my partner\": \"I am visiting with my partner\",\n",
    "        \"I am visiting with friend(s)\": \"I am visiting with friend(s)\",\n",
    "        \"I do visit with my family, friends and partner.\": \"I do visit with my family, friends and partner.\",\n",
    "        \"Work colleagues\": \"Work colleagues\"\n",
    "    }.get(companion_type, \"Visiting alone\")\n",
    "    companion_index = label_indices[companion_label]\n",
    "    \n",
    "    # Get express pass status index\n",
    "    express_pass = row['express_pass_purchase']\n",
    "    if pd.isnull(express_pass): continue\n",
    "    express_pass_label = \"Yes\" if express_pass == \"Yes\" else \"No\"\n",
    "    express_pass_index = label_indices[express_pass_label]\n",
    "    \n",
    "    # Find the first visited zone\n",
    "    zone_index = None\n",
    "    for zone in zone_order:\n",
    "        zone_column = f'Rank the following theme park zones based on the order in which you visited them. [{zone}]'\n",
    "        if row.get(zone_column) == \"1st\":\n",
    "            zone_index = label_indices[zone]\n",
    "            break\n",
    "    if zone_index is None:\n",
    "        continue\n",
    "\n",
    "    # Collect flow data\n",
    "    flow_keys = [\n",
    "        (nationality_index, companion_index),\n",
    "        (companion_index, express_pass_index),\n",
    "        (express_pass_index, zone_index)\n",
    "    ]\n",
    "    for key in flow_keys:\n",
    "        flow_counts[key] = flow_counts.get(key, 0) + 1\n",
    "\n",
    "# Prepare source, target, values, and percentages lists\n",
    "source = []\n",
    "target = []\n",
    "values = []\n",
    "percentages = []\n",
    "\n",
    "for (src, tgt), val in flow_counts.items():\n",
    "    source.append(src)\n",
    "    target.append(tgt)\n",
    "    values.append(val)\n",
    "    percentage = (val / total_responses) * 100\n",
    "    percentages.append(f\"{percentage:.1f}%\")\n",
    "\n",
    "# Define the Sankey figure with updated labels and hovertemplate to show percentages\n",
    "fig = go.Figure(go.Sankey(\n",
    "    node=dict(\n",
    "        pad=15,\n",
    "        thickness=20,\n",
    "        line=dict(color=\"black\", width=0.5),\n",
    "        label=labels_with_percentages\n",
    "    ),\n",
    "    link=dict(\n",
    "        source=source,\n",
    "        target=target,\n",
    "        value=values,\n",
    "        customdata=percentages,\n",
    "        hovertemplate=\"Flow: %{value} (<b>%{customdata}</b>)<extra></extra>\"  # Display flow value and percentage\n",
    "    )\n",
    "))\n",
    "\n",
    "# Update layout and display figure\n",
    "fig.update_layout(title_text=\"Guest Journey: Nationality to Companion Type to Express Pass to Zone\", font_size=12)\n",
    "fig.show()\n"
   ]
  },
  {
   "cell_type": "markdown",
   "metadata": {},
   "source": [
    "Express Pass Purchases: Singaporean/PR vs Foreigner"
   ]
  },
  {
   "cell_type": "code",
   "execution_count": 5,
   "metadata": {},
   "outputs": [
    {
     "data": {
      "application/vnd.plotly.v1+json": {
       "config": {
        "plotlyServerURL": "https://plot.ly"
       },
       "data": [
        {
         "alignmentgroup": "True",
         "hovertemplate": "Express Pass=Yes %<br>Nationality=%{x}<br>Percentage of Guests=%{text}<extra></extra>",
         "legendgroup": "Yes %",
         "marker": {
          "color": "#636efa",
          "pattern": {
           "shape": ""
          }
         },
         "name": "Yes %",
         "offsetgroup": "Yes %",
         "orientation": "v",
         "showlegend": true,
         "text": [
          12.676056338028168,
          40.229885057471265
         ],
         "textposition": "outside",
         "texttemplate": "%{text:.1f}%",
         "type": "bar",
         "x": [
          "Singaporean/PR",
          "foreigner"
         ],
         "xaxis": "x",
         "y": [
          12.676056338028168,
          40.229885057471265
         ],
         "yaxis": "y"
        },
        {
         "alignmentgroup": "True",
         "hovertemplate": "Express Pass=No %<br>Nationality=%{x}<br>Percentage of Guests=%{text}<extra></extra>",
         "legendgroup": "No %",
         "marker": {
          "color": "#EF553B",
          "pattern": {
           "shape": ""
          }
         },
         "name": "No %",
         "offsetgroup": "No %",
         "orientation": "v",
         "showlegend": true,
         "text": [
          87.32394366197182,
          59.77011494252874
         ],
         "textposition": "outside",
         "texttemplate": "%{text:.1f}%",
         "type": "bar",
         "x": [
          "Singaporean/PR",
          "foreigner"
         ],
         "xaxis": "x",
         "y": [
          87.32394366197182,
          59.77011494252874
         ],
         "yaxis": "y"
        }
       ],
       "layout": {
        "barmode": "group",
        "legend": {
         "title": {
          "text": "Express Pass"
         },
         "tracegroupgap": 0
        },
        "template": {
         "data": {
          "bar": [
           {
            "error_x": {
             "color": "#2a3f5f"
            },
            "error_y": {
             "color": "#2a3f5f"
            },
            "marker": {
             "line": {
              "color": "#E5ECF6",
              "width": 0.5
             },
             "pattern": {
              "fillmode": "overlay",
              "size": 10,
              "solidity": 0.2
             }
            },
            "type": "bar"
           }
          ],
          "barpolar": [
           {
            "marker": {
             "line": {
              "color": "#E5ECF6",
              "width": 0.5
             },
             "pattern": {
              "fillmode": "overlay",
              "size": 10,
              "solidity": 0.2
             }
            },
            "type": "barpolar"
           }
          ],
          "carpet": [
           {
            "aaxis": {
             "endlinecolor": "#2a3f5f",
             "gridcolor": "white",
             "linecolor": "white",
             "minorgridcolor": "white",
             "startlinecolor": "#2a3f5f"
            },
            "baxis": {
             "endlinecolor": "#2a3f5f",
             "gridcolor": "white",
             "linecolor": "white",
             "minorgridcolor": "white",
             "startlinecolor": "#2a3f5f"
            },
            "type": "carpet"
           }
          ],
          "choropleth": [
           {
            "colorbar": {
             "outlinewidth": 0,
             "ticks": ""
            },
            "type": "choropleth"
           }
          ],
          "contour": [
           {
            "colorbar": {
             "outlinewidth": 0,
             "ticks": ""
            },
            "colorscale": [
             [
              0,
              "#0d0887"
             ],
             [
              0.1111111111111111,
              "#46039f"
             ],
             [
              0.2222222222222222,
              "#7201a8"
             ],
             [
              0.3333333333333333,
              "#9c179e"
             ],
             [
              0.4444444444444444,
              "#bd3786"
             ],
             [
              0.5555555555555556,
              "#d8576b"
             ],
             [
              0.6666666666666666,
              "#ed7953"
             ],
             [
              0.7777777777777778,
              "#fb9f3a"
             ],
             [
              0.8888888888888888,
              "#fdca26"
             ],
             [
              1,
              "#f0f921"
             ]
            ],
            "type": "contour"
           }
          ],
          "contourcarpet": [
           {
            "colorbar": {
             "outlinewidth": 0,
             "ticks": ""
            },
            "type": "contourcarpet"
           }
          ],
          "heatmap": [
           {
            "colorbar": {
             "outlinewidth": 0,
             "ticks": ""
            },
            "colorscale": [
             [
              0,
              "#0d0887"
             ],
             [
              0.1111111111111111,
              "#46039f"
             ],
             [
              0.2222222222222222,
              "#7201a8"
             ],
             [
              0.3333333333333333,
              "#9c179e"
             ],
             [
              0.4444444444444444,
              "#bd3786"
             ],
             [
              0.5555555555555556,
              "#d8576b"
             ],
             [
              0.6666666666666666,
              "#ed7953"
             ],
             [
              0.7777777777777778,
              "#fb9f3a"
             ],
             [
              0.8888888888888888,
              "#fdca26"
             ],
             [
              1,
              "#f0f921"
             ]
            ],
            "type": "heatmap"
           }
          ],
          "heatmapgl": [
           {
            "colorbar": {
             "outlinewidth": 0,
             "ticks": ""
            },
            "colorscale": [
             [
              0,
              "#0d0887"
             ],
             [
              0.1111111111111111,
              "#46039f"
             ],
             [
              0.2222222222222222,
              "#7201a8"
             ],
             [
              0.3333333333333333,
              "#9c179e"
             ],
             [
              0.4444444444444444,
              "#bd3786"
             ],
             [
              0.5555555555555556,
              "#d8576b"
             ],
             [
              0.6666666666666666,
              "#ed7953"
             ],
             [
              0.7777777777777778,
              "#fb9f3a"
             ],
             [
              0.8888888888888888,
              "#fdca26"
             ],
             [
              1,
              "#f0f921"
             ]
            ],
            "type": "heatmapgl"
           }
          ],
          "histogram": [
           {
            "marker": {
             "pattern": {
              "fillmode": "overlay",
              "size": 10,
              "solidity": 0.2
             }
            },
            "type": "histogram"
           }
          ],
          "histogram2d": [
           {
            "colorbar": {
             "outlinewidth": 0,
             "ticks": ""
            },
            "colorscale": [
             [
              0,
              "#0d0887"
             ],
             [
              0.1111111111111111,
              "#46039f"
             ],
             [
              0.2222222222222222,
              "#7201a8"
             ],
             [
              0.3333333333333333,
              "#9c179e"
             ],
             [
              0.4444444444444444,
              "#bd3786"
             ],
             [
              0.5555555555555556,
              "#d8576b"
             ],
             [
              0.6666666666666666,
              "#ed7953"
             ],
             [
              0.7777777777777778,
              "#fb9f3a"
             ],
             [
              0.8888888888888888,
              "#fdca26"
             ],
             [
              1,
              "#f0f921"
             ]
            ],
            "type": "histogram2d"
           }
          ],
          "histogram2dcontour": [
           {
            "colorbar": {
             "outlinewidth": 0,
             "ticks": ""
            },
            "colorscale": [
             [
              0,
              "#0d0887"
             ],
             [
              0.1111111111111111,
              "#46039f"
             ],
             [
              0.2222222222222222,
              "#7201a8"
             ],
             [
              0.3333333333333333,
              "#9c179e"
             ],
             [
              0.4444444444444444,
              "#bd3786"
             ],
             [
              0.5555555555555556,
              "#d8576b"
             ],
             [
              0.6666666666666666,
              "#ed7953"
             ],
             [
              0.7777777777777778,
              "#fb9f3a"
             ],
             [
              0.8888888888888888,
              "#fdca26"
             ],
             [
              1,
              "#f0f921"
             ]
            ],
            "type": "histogram2dcontour"
           }
          ],
          "mesh3d": [
           {
            "colorbar": {
             "outlinewidth": 0,
             "ticks": ""
            },
            "type": "mesh3d"
           }
          ],
          "parcoords": [
           {
            "line": {
             "colorbar": {
              "outlinewidth": 0,
              "ticks": ""
             }
            },
            "type": "parcoords"
           }
          ],
          "pie": [
           {
            "automargin": true,
            "type": "pie"
           }
          ],
          "scatter": [
           {
            "fillpattern": {
             "fillmode": "overlay",
             "size": 10,
             "solidity": 0.2
            },
            "type": "scatter"
           }
          ],
          "scatter3d": [
           {
            "line": {
             "colorbar": {
              "outlinewidth": 0,
              "ticks": ""
             }
            },
            "marker": {
             "colorbar": {
              "outlinewidth": 0,
              "ticks": ""
             }
            },
            "type": "scatter3d"
           }
          ],
          "scattercarpet": [
           {
            "marker": {
             "colorbar": {
              "outlinewidth": 0,
              "ticks": ""
             }
            },
            "type": "scattercarpet"
           }
          ],
          "scattergeo": [
           {
            "marker": {
             "colorbar": {
              "outlinewidth": 0,
              "ticks": ""
             }
            },
            "type": "scattergeo"
           }
          ],
          "scattergl": [
           {
            "marker": {
             "colorbar": {
              "outlinewidth": 0,
              "ticks": ""
             }
            },
            "type": "scattergl"
           }
          ],
          "scattermapbox": [
           {
            "marker": {
             "colorbar": {
              "outlinewidth": 0,
              "ticks": ""
             }
            },
            "type": "scattermapbox"
           }
          ],
          "scatterpolar": [
           {
            "marker": {
             "colorbar": {
              "outlinewidth": 0,
              "ticks": ""
             }
            },
            "type": "scatterpolar"
           }
          ],
          "scatterpolargl": [
           {
            "marker": {
             "colorbar": {
              "outlinewidth": 0,
              "ticks": ""
             }
            },
            "type": "scatterpolargl"
           }
          ],
          "scatterternary": [
           {
            "marker": {
             "colorbar": {
              "outlinewidth": 0,
              "ticks": ""
             }
            },
            "type": "scatterternary"
           }
          ],
          "surface": [
           {
            "colorbar": {
             "outlinewidth": 0,
             "ticks": ""
            },
            "colorscale": [
             [
              0,
              "#0d0887"
             ],
             [
              0.1111111111111111,
              "#46039f"
             ],
             [
              0.2222222222222222,
              "#7201a8"
             ],
             [
              0.3333333333333333,
              "#9c179e"
             ],
             [
              0.4444444444444444,
              "#bd3786"
             ],
             [
              0.5555555555555556,
              "#d8576b"
             ],
             [
              0.6666666666666666,
              "#ed7953"
             ],
             [
              0.7777777777777778,
              "#fb9f3a"
             ],
             [
              0.8888888888888888,
              "#fdca26"
             ],
             [
              1,
              "#f0f921"
             ]
            ],
            "type": "surface"
           }
          ],
          "table": [
           {
            "cells": {
             "fill": {
              "color": "#EBF0F8"
             },
             "line": {
              "color": "white"
             }
            },
            "header": {
             "fill": {
              "color": "#C8D4E3"
             },
             "line": {
              "color": "white"
             }
            },
            "type": "table"
           }
          ]
         },
         "layout": {
          "annotationdefaults": {
           "arrowcolor": "#2a3f5f",
           "arrowhead": 0,
           "arrowwidth": 1
          },
          "autotypenumbers": "strict",
          "coloraxis": {
           "colorbar": {
            "outlinewidth": 0,
            "ticks": ""
           }
          },
          "colorscale": {
           "diverging": [
            [
             0,
             "#8e0152"
            ],
            [
             0.1,
             "#c51b7d"
            ],
            [
             0.2,
             "#de77ae"
            ],
            [
             0.3,
             "#f1b6da"
            ],
            [
             0.4,
             "#fde0ef"
            ],
            [
             0.5,
             "#f7f7f7"
            ],
            [
             0.6,
             "#e6f5d0"
            ],
            [
             0.7,
             "#b8e186"
            ],
            [
             0.8,
             "#7fbc41"
            ],
            [
             0.9,
             "#4d9221"
            ],
            [
             1,
             "#276419"
            ]
           ],
           "sequential": [
            [
             0,
             "#0d0887"
            ],
            [
             0.1111111111111111,
             "#46039f"
            ],
            [
             0.2222222222222222,
             "#7201a8"
            ],
            [
             0.3333333333333333,
             "#9c179e"
            ],
            [
             0.4444444444444444,
             "#bd3786"
            ],
            [
             0.5555555555555556,
             "#d8576b"
            ],
            [
             0.6666666666666666,
             "#ed7953"
            ],
            [
             0.7777777777777778,
             "#fb9f3a"
            ],
            [
             0.8888888888888888,
             "#fdca26"
            ],
            [
             1,
             "#f0f921"
            ]
           ],
           "sequentialminus": [
            [
             0,
             "#0d0887"
            ],
            [
             0.1111111111111111,
             "#46039f"
            ],
            [
             0.2222222222222222,
             "#7201a8"
            ],
            [
             0.3333333333333333,
             "#9c179e"
            ],
            [
             0.4444444444444444,
             "#bd3786"
            ],
            [
             0.5555555555555556,
             "#d8576b"
            ],
            [
             0.6666666666666666,
             "#ed7953"
            ],
            [
             0.7777777777777778,
             "#fb9f3a"
            ],
            [
             0.8888888888888888,
             "#fdca26"
            ],
            [
             1,
             "#f0f921"
            ]
           ]
          },
          "colorway": [
           "#636efa",
           "#EF553B",
           "#00cc96",
           "#ab63fa",
           "#FFA15A",
           "#19d3f3",
           "#FF6692",
           "#B6E880",
           "#FF97FF",
           "#FECB52"
          ],
          "font": {
           "color": "#2a3f5f"
          },
          "geo": {
           "bgcolor": "white",
           "lakecolor": "white",
           "landcolor": "#E5ECF6",
           "showlakes": true,
           "showland": true,
           "subunitcolor": "white"
          },
          "hoverlabel": {
           "align": "left"
          },
          "hovermode": "closest",
          "mapbox": {
           "style": "light"
          },
          "paper_bgcolor": "white",
          "plot_bgcolor": "#E5ECF6",
          "polar": {
           "angularaxis": {
            "gridcolor": "white",
            "linecolor": "white",
            "ticks": ""
           },
           "bgcolor": "#E5ECF6",
           "radialaxis": {
            "gridcolor": "white",
            "linecolor": "white",
            "ticks": ""
           }
          },
          "scene": {
           "xaxis": {
            "backgroundcolor": "#E5ECF6",
            "gridcolor": "white",
            "gridwidth": 2,
            "linecolor": "white",
            "showbackground": true,
            "ticks": "",
            "zerolinecolor": "white"
           },
           "yaxis": {
            "backgroundcolor": "#E5ECF6",
            "gridcolor": "white",
            "gridwidth": 2,
            "linecolor": "white",
            "showbackground": true,
            "ticks": "",
            "zerolinecolor": "white"
           },
           "zaxis": {
            "backgroundcolor": "#E5ECF6",
            "gridcolor": "white",
            "gridwidth": 2,
            "linecolor": "white",
            "showbackground": true,
            "ticks": "",
            "zerolinecolor": "white"
           }
          },
          "shapedefaults": {
           "line": {
            "color": "#2a3f5f"
           }
          },
          "ternary": {
           "aaxis": {
            "gridcolor": "white",
            "linecolor": "white",
            "ticks": ""
           },
           "baxis": {
            "gridcolor": "white",
            "linecolor": "white",
            "ticks": ""
           },
           "bgcolor": "#E5ECF6",
           "caxis": {
            "gridcolor": "white",
            "linecolor": "white",
            "ticks": ""
           }
          },
          "title": {
           "x": 0.05
          },
          "xaxis": {
           "automargin": true,
           "gridcolor": "white",
           "linecolor": "white",
           "ticks": "",
           "title": {
            "standoff": 15
           },
           "zerolinecolor": "white",
           "zerolinewidth": 2
          },
          "yaxis": {
           "automargin": true,
           "gridcolor": "white",
           "linecolor": "white",
           "ticks": "",
           "title": {
            "standoff": 15
           },
           "zerolinecolor": "white",
           "zerolinewidth": 2
          }
         }
        },
        "title": {
         "text": "Express Pass Purchases: Singaporean/PR vs Foreigner"
        },
        "xaxis": {
         "anchor": "y",
         "domain": [
          0,
          1
         ],
         "title": {
          "text": "Nationality"
         }
        },
        "yaxis": {
         "anchor": "x",
         "domain": [
          0,
          1
         ],
         "range": [
          0,
          95
         ],
         "title": {
          "text": "Percentage"
         }
        }
       }
      }
     },
     "metadata": {},
     "output_type": "display_data"
    }
   ],
   "source": [
    "import pandas as pd\n",
    "import plotly.express as px\n",
    "\n",
    "# Load the dataset\n",
    "file_path = r'../data/Updated_Theme_Parks_Survey_Responses 5.csv'\n",
    "df = pd.read_csv(file_path)\n",
    "\n",
    "# Filter the data by nationality groups and calculate the percentages of Express Pass purchases\n",
    "# Create a new column to indicate if the Express Pass was purchased\n",
    "df['Express Pass Purchased'] = df['express_pass_purchase'].apply(lambda x: 'Yes' if x == 'Yes' else 'No')\n",
    "\n",
    "# Group by nationality and Express Pass purchase, and calculate the percentage for each group\n",
    "express_pass_summary = df.groupby(['Nationality', 'Express Pass Purchased']).size().unstack(fill_value=0)\n",
    "express_pass_summary['Total'] = express_pass_summary['Yes'] + express_pass_summary['No']\n",
    "express_pass_summary['Yes %'] = (express_pass_summary['Yes'] / express_pass_summary['Total']) * 100\n",
    "express_pass_summary['No %'] = (express_pass_summary['No'] / express_pass_summary['Total']) * 100\n",
    "\n",
    "# Reset the index for easy plotting and melt the data to have separate columns for Yes and No percentages\n",
    "express_pass_summary.reset_index(inplace=True)\n",
    "express_pass_summary = express_pass_summary.melt(id_vars='Nationality', value_vars=['Yes %', 'No %'],\n",
    "                                                 var_name='Express Pass', value_name='Percentage')\n",
    "\n",
    "# Plot the data using Plotly Express\n",
    "fig = px.bar(express_pass_summary, x='Nationality', y='Percentage', color='Express Pass',\n",
    "             title='Express Pass Purchases: Singaporean/PR vs Foreigner',\n",
    "             labels={'Percentage': 'Percentage of Guests'},\n",
    "             barmode='group',\n",
    "             text='Percentage')  # Add percentage text on top of each bar\n",
    "\n",
    "# Format the text on the bars to show percentages with 1 decimal place\n",
    "fig.update_traces(texttemplate='%{text:.1f}%', textposition='outside')\n",
    "\n",
    "# Update layout to set axis titles and limit y-axis range to 0-90%\n",
    "fig.update_layout(\n",
    "    yaxis=dict(title='Percentage', range=[0, 95]), \n",
    "    xaxis=dict(title='Nationality')\n",
    ")\n",
    "\n",
    "fig.show()\n"
   ]
  }
 ],
 "metadata": {
  "kernelspec": {
   "display_name": "Python 3",
   "language": "python",
   "name": "python3"
  },
  "language_info": {
   "codemirror_mode": {
    "name": "ipython",
    "version": 3
   },
   "file_extension": ".py",
   "mimetype": "text/x-python",
   "name": "python",
   "nbconvert_exporter": "python",
   "pygments_lexer": "ipython3",
   "version": "3.10.6"
  }
 },
 "nbformat": 4,
 "nbformat_minor": 2
}

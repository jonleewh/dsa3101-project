{
 "cells": [
  {
   "cell_type": "markdown",
   "metadata": {},
   "source": [
    "Theme Park Activity Flow from Hollywood"
   ]
  },
  {
   "cell_type": "code",
   "execution_count": 8,
   "metadata": {},
   "outputs": [
    {
     "data": {
      "application/vnd.plotly.v1+json": {
       "config": {
        "plotlyServerURL": "https://plot.ly"
       },
       "data": [
        {
         "link": {
          "source": [
           0,
           1,
           30,
           31,
           32,
           0,
           7,
           34,
           35,
           36,
           0,
           8,
           38,
           39,
           32,
           0,
           17,
           38,
           41,
           42,
           1,
           43,
           39,
           44,
           43,
           7,
           38,
           45,
           44,
           17,
           30,
           45,
           36,
           43,
           32,
           1,
           35,
           42,
           7,
           45,
           39,
           8,
           43,
           30,
           35,
           48,
           7,
           48,
           39,
           42,
           0,
           28,
           34,
           44,
           1,
           49,
           41,
           44,
           1,
           49,
           32,
           45,
           8,
           34,
           39,
           49,
           31,
           48,
           32,
           45,
           8,
           36,
           31,
           42,
           42,
           38,
           31,
           7,
           49,
           36,
           28,
           17,
           35,
           34,
           41,
           34,
           17,
           28,
           41,
           28,
           48,
           41,
           36,
           31,
           44,
           30,
           48,
           28,
           49
          ],
          "target": [
           1,
           30,
           31,
           32,
           33,
           7,
           34,
           35,
           36,
           37,
           8,
           38,
           39,
           32,
           40,
           17,
           38,
           41,
           42,
           37,
           43,
           39,
           44,
           40,
           41,
           38,
           45,
           44,
           46,
           30,
           45,
           36,
           33,
           31,
           47,
           34,
           42,
           33,
           30,
           32,
           36,
           43,
           35,
           35,
           48,
           46,
           43,
           37,
           42,
           46,
           28,
           30,
           45,
           47,
           49,
           41,
           44,
           33,
           38,
           45,
           46,
           48,
           49,
           39,
           48,
           31,
           48,
           40,
           37,
           42,
           34,
           40,
           42,
           47,
           40,
           31,
           36,
           49,
           39,
           46,
           43,
           34,
           44,
           41,
           48,
           31,
           49,
           34,
           32,
           38,
           33,
           36,
           47,
           44,
           37,
           41,
           47,
           49,
           35
          ],
          "value": [
           28,
           7,
           2,
           9,
           4,
           72,
           12,
           7,
           13,
           9,
           23,
           9,
           10,
           4,
           7,
           21,
           12,
           8,
           8,
           12,
           10,
           3,
           3,
           3,
           5,
           13,
           16,
           9,
           24,
           5,
           8,
           2,
           7,
           6,
           4,
           7,
           9,
           6,
           13,
           13,
           4,
           5,
           37,
           15,
           16,
           8,
           33,
           9,
           3,
           8,
           12,
           1,
           6,
           7,
           3,
           1,
           2,
           3,
           1,
           6,
           6,
           2,
           7,
           4,
           4,
           5,
           4,
           6,
           6,
           10,
           2,
           5,
           4,
           1,
           7,
           7,
           7,
           1,
           1,
           4,
           3,
           1,
           23,
           1,
           1,
           5,
           3,
           1,
           1,
           6,
           3,
           4,
           5,
           1,
           1,
           1,
           1,
           1,
           2
          ]
         },
         "node": {
          "label": [
           "Hollywood<br>(100%)",
           "Water/restroom break<br>(17.95%)",
           "Shop for souvenirs<br>(16.67%)",
           "Shop for souvenirs<br>(16.03%)",
           "Water/restroom break<br>(17.31%)",
           "F&B outlet<br>(14.74%)",
           "Water/restroom break",
           "Sightseeing<br>(46.15%)",
           "Haunted House<br>(14.74%)",
           "Water/restroom break<br>(39.10%)",
           "F&B outlet<br>(19.23%)",
           "Shop for souvenirs<br>(23.72%)",
           "Sightseeing",
           "Water/restroom break<br>(26.28%)",
           "Sightseeing<br>(11.54%)",
           "Haunted House<br>(17.95%)",
           "Haunted House",
           "F&B outlet<br>(13.46%)",
           "Haunted House<br>(10.26%)",
           "Sightseeing<br>(21.79%)",
           "F&B outlet",
           "F&B outlet<br>(32.69%)",
           "Shop for souvenirs<br>(24.36%)",
           "F&B outlet<br>(23.08%)",
           "Sightseeing<br>(32.05%)",
           "Water/restroom break<br>(11.54%)",
           "Shop for souvenirs",
           "Haunted House<br>(17.31%)",
           "Shop for souvenirs<br>(7.69%)",
           "Sightseeing<br>(9.62%)",
           "2: Shop for souvenirs<br>(16.67%)",
           "3: Shop for souvenirs<br>(16.03%)",
           "4: Water/restroom break<br>(17.31%)",
           "5: F&B outlet<br>(14.74%)",
           "2: Haunted House<br>(14.74%)",
           "3: Water/restroom break<br>(39.10%)",
           "4: F&B outlet<br>(19.23%)",
           "5: Shop for souvenirs<br>(23.72%)",
           "2: Water/restroom break<br>(26.28%)",
           "3: Sightseeing<br>(11.54%)",
           "5: Haunted House<br>(17.95%)",
           "3: Haunted House<br>(10.26%)",
           "4: Sightseeing<br>(21.79%)",
           "2: F&B outlet<br>(32.69%)",
           "4: Shop for souvenirs<br>(24.36%)",
           "3: F&B outlet<br>(23.08%)",
           "5: Sightseeing<br>(32.05%)",
           "5: Water/restroom break<br>(11.54%)",
           "4: Haunted House<br>(17.31%)",
           "2: Sightseeing<br>(9.62%)"
          ],
          "line": {
           "color": "black",
           "width": 0.5
          },
          "pad": 15,
          "thickness": 20
         },
         "type": "sankey"
        }
       ],
       "layout": {
        "font": {
         "size": 12
        },
        "template": {
         "data": {
          "bar": [
           {
            "error_x": {
             "color": "#2a3f5f"
            },
            "error_y": {
             "color": "#2a3f5f"
            },
            "marker": {
             "line": {
              "color": "#E5ECF6",
              "width": 0.5
             },
             "pattern": {
              "fillmode": "overlay",
              "size": 10,
              "solidity": 0.2
             }
            },
            "type": "bar"
           }
          ],
          "barpolar": [
           {
            "marker": {
             "line": {
              "color": "#E5ECF6",
              "width": 0.5
             },
             "pattern": {
              "fillmode": "overlay",
              "size": 10,
              "solidity": 0.2
             }
            },
            "type": "barpolar"
           }
          ],
          "carpet": [
           {
            "aaxis": {
             "endlinecolor": "#2a3f5f",
             "gridcolor": "white",
             "linecolor": "white",
             "minorgridcolor": "white",
             "startlinecolor": "#2a3f5f"
            },
            "baxis": {
             "endlinecolor": "#2a3f5f",
             "gridcolor": "white",
             "linecolor": "white",
             "minorgridcolor": "white",
             "startlinecolor": "#2a3f5f"
            },
            "type": "carpet"
           }
          ],
          "choropleth": [
           {
            "colorbar": {
             "outlinewidth": 0,
             "ticks": ""
            },
            "type": "choropleth"
           }
          ],
          "contour": [
           {
            "colorbar": {
             "outlinewidth": 0,
             "ticks": ""
            },
            "colorscale": [
             [
              0,
              "#0d0887"
             ],
             [
              0.1111111111111111,
              "#46039f"
             ],
             [
              0.2222222222222222,
              "#7201a8"
             ],
             [
              0.3333333333333333,
              "#9c179e"
             ],
             [
              0.4444444444444444,
              "#bd3786"
             ],
             [
              0.5555555555555556,
              "#d8576b"
             ],
             [
              0.6666666666666666,
              "#ed7953"
             ],
             [
              0.7777777777777778,
              "#fb9f3a"
             ],
             [
              0.8888888888888888,
              "#fdca26"
             ],
             [
              1,
              "#f0f921"
             ]
            ],
            "type": "contour"
           }
          ],
          "contourcarpet": [
           {
            "colorbar": {
             "outlinewidth": 0,
             "ticks": ""
            },
            "type": "contourcarpet"
           }
          ],
          "heatmap": [
           {
            "colorbar": {
             "outlinewidth": 0,
             "ticks": ""
            },
            "colorscale": [
             [
              0,
              "#0d0887"
             ],
             [
              0.1111111111111111,
              "#46039f"
             ],
             [
              0.2222222222222222,
              "#7201a8"
             ],
             [
              0.3333333333333333,
              "#9c179e"
             ],
             [
              0.4444444444444444,
              "#bd3786"
             ],
             [
              0.5555555555555556,
              "#d8576b"
             ],
             [
              0.6666666666666666,
              "#ed7953"
             ],
             [
              0.7777777777777778,
              "#fb9f3a"
             ],
             [
              0.8888888888888888,
              "#fdca26"
             ],
             [
              1,
              "#f0f921"
             ]
            ],
            "type": "heatmap"
           }
          ],
          "heatmapgl": [
           {
            "colorbar": {
             "outlinewidth": 0,
             "ticks": ""
            },
            "colorscale": [
             [
              0,
              "#0d0887"
             ],
             [
              0.1111111111111111,
              "#46039f"
             ],
             [
              0.2222222222222222,
              "#7201a8"
             ],
             [
              0.3333333333333333,
              "#9c179e"
             ],
             [
              0.4444444444444444,
              "#bd3786"
             ],
             [
              0.5555555555555556,
              "#d8576b"
             ],
             [
              0.6666666666666666,
              "#ed7953"
             ],
             [
              0.7777777777777778,
              "#fb9f3a"
             ],
             [
              0.8888888888888888,
              "#fdca26"
             ],
             [
              1,
              "#f0f921"
             ]
            ],
            "type": "heatmapgl"
           }
          ],
          "histogram": [
           {
            "marker": {
             "pattern": {
              "fillmode": "overlay",
              "size": 10,
              "solidity": 0.2
             }
            },
            "type": "histogram"
           }
          ],
          "histogram2d": [
           {
            "colorbar": {
             "outlinewidth": 0,
             "ticks": ""
            },
            "colorscale": [
             [
              0,
              "#0d0887"
             ],
             [
              0.1111111111111111,
              "#46039f"
             ],
             [
              0.2222222222222222,
              "#7201a8"
             ],
             [
              0.3333333333333333,
              "#9c179e"
             ],
             [
              0.4444444444444444,
              "#bd3786"
             ],
             [
              0.5555555555555556,
              "#d8576b"
             ],
             [
              0.6666666666666666,
              "#ed7953"
             ],
             [
              0.7777777777777778,
              "#fb9f3a"
             ],
             [
              0.8888888888888888,
              "#fdca26"
             ],
             [
              1,
              "#f0f921"
             ]
            ],
            "type": "histogram2d"
           }
          ],
          "histogram2dcontour": [
           {
            "colorbar": {
             "outlinewidth": 0,
             "ticks": ""
            },
            "colorscale": [
             [
              0,
              "#0d0887"
             ],
             [
              0.1111111111111111,
              "#46039f"
             ],
             [
              0.2222222222222222,
              "#7201a8"
             ],
             [
              0.3333333333333333,
              "#9c179e"
             ],
             [
              0.4444444444444444,
              "#bd3786"
             ],
             [
              0.5555555555555556,
              "#d8576b"
             ],
             [
              0.6666666666666666,
              "#ed7953"
             ],
             [
              0.7777777777777778,
              "#fb9f3a"
             ],
             [
              0.8888888888888888,
              "#fdca26"
             ],
             [
              1,
              "#f0f921"
             ]
            ],
            "type": "histogram2dcontour"
           }
          ],
          "mesh3d": [
           {
            "colorbar": {
             "outlinewidth": 0,
             "ticks": ""
            },
            "type": "mesh3d"
           }
          ],
          "parcoords": [
           {
            "line": {
             "colorbar": {
              "outlinewidth": 0,
              "ticks": ""
             }
            },
            "type": "parcoords"
           }
          ],
          "pie": [
           {
            "automargin": true,
            "type": "pie"
           }
          ],
          "scatter": [
           {
            "fillpattern": {
             "fillmode": "overlay",
             "size": 10,
             "solidity": 0.2
            },
            "type": "scatter"
           }
          ],
          "scatter3d": [
           {
            "line": {
             "colorbar": {
              "outlinewidth": 0,
              "ticks": ""
             }
            },
            "marker": {
             "colorbar": {
              "outlinewidth": 0,
              "ticks": ""
             }
            },
            "type": "scatter3d"
           }
          ],
          "scattercarpet": [
           {
            "marker": {
             "colorbar": {
              "outlinewidth": 0,
              "ticks": ""
             }
            },
            "type": "scattercarpet"
           }
          ],
          "scattergeo": [
           {
            "marker": {
             "colorbar": {
              "outlinewidth": 0,
              "ticks": ""
             }
            },
            "type": "scattergeo"
           }
          ],
          "scattergl": [
           {
            "marker": {
             "colorbar": {
              "outlinewidth": 0,
              "ticks": ""
             }
            },
            "type": "scattergl"
           }
          ],
          "scattermapbox": [
           {
            "marker": {
             "colorbar": {
              "outlinewidth": 0,
              "ticks": ""
             }
            },
            "type": "scattermapbox"
           }
          ],
          "scatterpolar": [
           {
            "marker": {
             "colorbar": {
              "outlinewidth": 0,
              "ticks": ""
             }
            },
            "type": "scatterpolar"
           }
          ],
          "scatterpolargl": [
           {
            "marker": {
             "colorbar": {
              "outlinewidth": 0,
              "ticks": ""
             }
            },
            "type": "scatterpolargl"
           }
          ],
          "scatterternary": [
           {
            "marker": {
             "colorbar": {
              "outlinewidth": 0,
              "ticks": ""
             }
            },
            "type": "scatterternary"
           }
          ],
          "surface": [
           {
            "colorbar": {
             "outlinewidth": 0,
             "ticks": ""
            },
            "colorscale": [
             [
              0,
              "#0d0887"
             ],
             [
              0.1111111111111111,
              "#46039f"
             ],
             [
              0.2222222222222222,
              "#7201a8"
             ],
             [
              0.3333333333333333,
              "#9c179e"
             ],
             [
              0.4444444444444444,
              "#bd3786"
             ],
             [
              0.5555555555555556,
              "#d8576b"
             ],
             [
              0.6666666666666666,
              "#ed7953"
             ],
             [
              0.7777777777777778,
              "#fb9f3a"
             ],
             [
              0.8888888888888888,
              "#fdca26"
             ],
             [
              1,
              "#f0f921"
             ]
            ],
            "type": "surface"
           }
          ],
          "table": [
           {
            "cells": {
             "fill": {
              "color": "#EBF0F8"
             },
             "line": {
              "color": "white"
             }
            },
            "header": {
             "fill": {
              "color": "#C8D4E3"
             },
             "line": {
              "color": "white"
             }
            },
            "type": "table"
           }
          ]
         },
         "layout": {
          "annotationdefaults": {
           "arrowcolor": "#2a3f5f",
           "arrowhead": 0,
           "arrowwidth": 1
          },
          "autotypenumbers": "strict",
          "coloraxis": {
           "colorbar": {
            "outlinewidth": 0,
            "ticks": ""
           }
          },
          "colorscale": {
           "diverging": [
            [
             0,
             "#8e0152"
            ],
            [
             0.1,
             "#c51b7d"
            ],
            [
             0.2,
             "#de77ae"
            ],
            [
             0.3,
             "#f1b6da"
            ],
            [
             0.4,
             "#fde0ef"
            ],
            [
             0.5,
             "#f7f7f7"
            ],
            [
             0.6,
             "#e6f5d0"
            ],
            [
             0.7,
             "#b8e186"
            ],
            [
             0.8,
             "#7fbc41"
            ],
            [
             0.9,
             "#4d9221"
            ],
            [
             1,
             "#276419"
            ]
           ],
           "sequential": [
            [
             0,
             "#0d0887"
            ],
            [
             0.1111111111111111,
             "#46039f"
            ],
            [
             0.2222222222222222,
             "#7201a8"
            ],
            [
             0.3333333333333333,
             "#9c179e"
            ],
            [
             0.4444444444444444,
             "#bd3786"
            ],
            [
             0.5555555555555556,
             "#d8576b"
            ],
            [
             0.6666666666666666,
             "#ed7953"
            ],
            [
             0.7777777777777778,
             "#fb9f3a"
            ],
            [
             0.8888888888888888,
             "#fdca26"
            ],
            [
             1,
             "#f0f921"
            ]
           ],
           "sequentialminus": [
            [
             0,
             "#0d0887"
            ],
            [
             0.1111111111111111,
             "#46039f"
            ],
            [
             0.2222222222222222,
             "#7201a8"
            ],
            [
             0.3333333333333333,
             "#9c179e"
            ],
            [
             0.4444444444444444,
             "#bd3786"
            ],
            [
             0.5555555555555556,
             "#d8576b"
            ],
            [
             0.6666666666666666,
             "#ed7953"
            ],
            [
             0.7777777777777778,
             "#fb9f3a"
            ],
            [
             0.8888888888888888,
             "#fdca26"
            ],
            [
             1,
             "#f0f921"
            ]
           ]
          },
          "colorway": [
           "#636efa",
           "#EF553B",
           "#00cc96",
           "#ab63fa",
           "#FFA15A",
           "#19d3f3",
           "#FF6692",
           "#B6E880",
           "#FF97FF",
           "#FECB52"
          ],
          "font": {
           "color": "#2a3f5f"
          },
          "geo": {
           "bgcolor": "white",
           "lakecolor": "white",
           "landcolor": "#E5ECF6",
           "showlakes": true,
           "showland": true,
           "subunitcolor": "white"
          },
          "hoverlabel": {
           "align": "left"
          },
          "hovermode": "closest",
          "mapbox": {
           "style": "light"
          },
          "paper_bgcolor": "white",
          "plot_bgcolor": "#E5ECF6",
          "polar": {
           "angularaxis": {
            "gridcolor": "white",
            "linecolor": "white",
            "ticks": ""
           },
           "bgcolor": "#E5ECF6",
           "radialaxis": {
            "gridcolor": "white",
            "linecolor": "white",
            "ticks": ""
           }
          },
          "scene": {
           "xaxis": {
            "backgroundcolor": "#E5ECF6",
            "gridcolor": "white",
            "gridwidth": 2,
            "linecolor": "white",
            "showbackground": true,
            "ticks": "",
            "zerolinecolor": "white"
           },
           "yaxis": {
            "backgroundcolor": "#E5ECF6",
            "gridcolor": "white",
            "gridwidth": 2,
            "linecolor": "white",
            "showbackground": true,
            "ticks": "",
            "zerolinecolor": "white"
           },
           "zaxis": {
            "backgroundcolor": "#E5ECF6",
            "gridcolor": "white",
            "gridwidth": 2,
            "linecolor": "white",
            "showbackground": true,
            "ticks": "",
            "zerolinecolor": "white"
           }
          },
          "shapedefaults": {
           "line": {
            "color": "#2a3f5f"
           }
          },
          "ternary": {
           "aaxis": {
            "gridcolor": "white",
            "linecolor": "white",
            "ticks": ""
           },
           "baxis": {
            "gridcolor": "white",
            "linecolor": "white",
            "ticks": ""
           },
           "bgcolor": "#E5ECF6",
           "caxis": {
            "gridcolor": "white",
            "linecolor": "white",
            "ticks": ""
           }
          },
          "title": {
           "x": 0.05
          },
          "xaxis": {
           "automargin": true,
           "gridcolor": "white",
           "linecolor": "white",
           "ticks": "",
           "title": {
            "standoff": 15
           },
           "zerolinecolor": "white",
           "zerolinewidth": 2
          },
          "yaxis": {
           "automargin": true,
           "gridcolor": "white",
           "linecolor": "white",
           "ticks": "",
           "title": {
            "standoff": 15
           },
           "zerolinecolor": "white",
           "zerolinewidth": 2
          }
         }
        },
        "title": {
         "text": "Theme Park Activity Flow from Hollywood"
        }
       }
      }
     },
     "metadata": {},
     "output_type": "display_data"
    }
   ],
   "source": [
    "import pandas as pd\n",
    "import plotly.graph_objects as go\n",
    "from collections import Counter\n",
    "\n",
    "# Load the dataset\n",
    "file_path = '../data/Updated_Theme_Parks_Survey_Responses A14.csv'\n",
    "df = pd.read_csv(file_path)\n",
    "\n",
    "# Define activity columns and valid activities\n",
    "activity_columns = [\n",
    "    'first_activity', 'second_activity', 'third_activity', 'fourth_activity', 'fifth_activity', \n",
    "    'sixth_activity', 'seventh_activity', 'eighth_activity', 'ninth_activity', 'tenth_activity',\n",
    "    'eleventh_activity', 'twelfth_activity', 'thirteenth_activity', 'fourteenth_activity'\n",
    "]\n",
    "\n",
    "valid_activities = [\n",
    "    \"Go To The F&B Outlet\", \"Go And Shop For Souvenirs\", \"Go For A Water/Restroom Break\", \n",
    "    \"Go To The Haunted House\", \"Sightseeing\"\n",
    "]\n",
    "\n",
    "# Replace any activity not in valid_activities with 'Na'\n",
    "for col in activity_columns:\n",
    "    df[col] = df[col].str.strip().str.title().fillna('Na').map(lambda x: x if x in valid_activities else 'Na')\n",
    "\n",
    "# Create the valid activity mapping\n",
    "activity_mapping = {\n",
    "    \"Go To The F&B Outlet\": \"F&B outlet\",\n",
    "    \"Go And Shop For Souvenirs\": \"Shop for souvenirs\",\n",
    "    \"Go For A Water/Restroom Break\": \"Water/restroom break\",\n",
    "    \"Go To The Haunted House\": \"Haunted House\",\n",
    "    \"Sightseeing\": \"Sightseeing\",\n",
    "}\n",
    "\n",
    "# Initialize the list for valid activities\n",
    "valid_activity_df = []\n",
    "\n",
    "# Process each row and find the valid activities\n",
    "for index, row in df.iterrows():\n",
    "    activity_indices = []\n",
    "    for i in range(14):  # Check from 1st to 14th activity\n",
    "        activity_name = row[activity_columns[i]]\n",
    "        if activity_name in activity_mapping:\n",
    "            normalized_activity = activity_mapping[activity_name]\n",
    "            activity_indices.append(normalized_activity)\n",
    "\n",
    "    # Ensure the activity_indices has at least 14 activities, filling up missing ones with the first activity\n",
    "    while len(activity_indices) < 14:\n",
    "        activity_indices.append(activity_indices[0] if activity_indices else \"Na\")\n",
    "\n",
    "    valid_activity_df.append(activity_indices)\n",
    "\n",
    "# Create a new dataframe with the valid activities (up to 14 activities)\n",
    "valid_activity_df = pd.DataFrame(valid_activity_df, columns=[f\"activity_{i+1}\" for i in range(14)])\n",
    "\n",
    "# Remove rows where the first activity is 'Na'\n",
    "valid_activity_df = valid_activity_df[valid_activity_df['activity_1'] != \"Na\"]\n",
    "\n",
    "# Flatten the activity columns and count the frequency of each activity\n",
    "activities = valid_activity_df.values.flatten().tolist()\n",
    "activity_counts = Counter([activity for activity in activities if activity != \"Na\"])\n",
    "\n",
    "# Get the top 5 most frequent activities\n",
    "top_5_activities = [activity for activity, _ in activity_counts.most_common(5)]\n",
    "\n",
    "# Filter the dataframe to only include rows with top 5 activities\n",
    "filtered_df = valid_activity_df.apply(lambda col: col.map(lambda x: x if x in top_5_activities else 'Na'))\n",
    "\n",
    "# Calculate percentage for each activity in each of the columns (activity_1 to activity_5)\n",
    "for col in ['activity_1', 'activity_2', 'activity_3', 'activity_4', 'activity_5']:\n",
    "    activity_percentage = filtered_df[col].value_counts(normalize=True) * 100\n",
    "    # Update the label with the percentage for each activity\n",
    "    filtered_df[col] = filtered_df[col].map(lambda x: f\"{x}<br>({activity_percentage.get(x, 0):.2f}%)\" if x != 'Na' else 'Na')\n",
    "\n",
    "# Collect all activities for the nodes (excluding \"Na\")\n",
    "activities = filtered_df.values.flatten().tolist()\n",
    "activities = [activity for activity in activities if activity != \"Na\"]\n",
    "\n",
    "# Add the start node \"Hollywood\" to the nodes list\n",
    "start_node = \"Hollywood\"\n",
    "nodes = [start_node] + list(pd.Series(activities).unique())\n",
    "\n",
    "# Add \"Hollywood\" to the activity_to_index dictionary with its index\n",
    "activity_to_index = {start_node: 0}  # Manually add Hollywood with index 0\n",
    "\n",
    "# Manually add 100% for Hollywood\n",
    "nodes[0] = f\"{start_node}<br>(100%)\"\n",
    "\n",
    "# Create a dictionary for activity to index mapping\n",
    "for index, activity in enumerate(nodes[1:], start=1):  # Start from index 1 for the rest\n",
    "    activity_to_index[activity] = index\n",
    "\n",
    "# Initialize the list to count occurrences of each transition (source-target pair)\n",
    "link_counts = Counter()\n",
    "\n",
    "# Loop through the dataframe to create links for the Sankey diagram\n",
    "for index, row in filtered_df.iterrows():\n",
    "    first = row['activity_1']\n",
    "    second = f\"2: {row['activity_2']}\" if row['activity_2'] != \"Na\" else \"Na\"\n",
    "    third = f\"3: {row['activity_3']}\" if row['activity_3'] != \"Na\" else \"Na\"\n",
    "    fourth = f\"4: {row['activity_4']}\" if row['activity_4'] != \"Na\" else \"Na\"\n",
    "    fifth = f\"5: {row['activity_5']}\" if row['activity_5'] != \"Na\" else \"Na\"\n",
    "\n",
    "    # Add to the dictionary if second, third, fourth, or fifth prefixed activities are not in activity_to_index\n",
    "    for activity in [second, third, fourth, fifth]:\n",
    "        if activity != \"Na\" and activity not in activity_to_index:\n",
    "            activity_to_index[activity] = len(activity_to_index)\n",
    "            nodes.append(activity)\n",
    "\n",
    "    # Track links between consecutive activities, ensuring they are valid (not \"Na\")\n",
    "    if first != \"Na\":\n",
    "        link_counts[(start_node, first)] += 1\n",
    "    if first != \"Na\" and second != \"Na\" and first != second:\n",
    "        link_counts[(first, second)] += 1\n",
    "    if second != \"Na\" and third != \"Na\" and second != third:\n",
    "        link_counts[(second, third)] += 1\n",
    "    if third != \"Na\" and fourth != \"Na\" and third != fourth:\n",
    "        link_counts[(third, fourth)] += 1\n",
    "    if fourth != \"Na\" and fifth != \"Na\" and fourth != fifth:\n",
    "        link_counts[(fourth, fifth)] += 1\n",
    "\n",
    "# Prepare lists for sources, targets, and values based on the link counts\n",
    "sources = []\n",
    "targets = []\n",
    "values = []\n",
    "\n",
    "for (source, target), count in link_counts.items():\n",
    "    if source != \"Na\" and target != \"Na\":  # Only add links that are valid\n",
    "        sources.append(activity_to_index[source])\n",
    "        targets.append(activity_to_index[target])\n",
    "        values.append(count)\n",
    "\n",
    "# Create the Sankey diagram\n",
    "fig = go.Figure(go.Sankey(\n",
    "    node=dict(\n",
    "        pad=15,\n",
    "        thickness=20,\n",
    "        line=dict(color=\"black\", width=0.5),\n",
    "        label=nodes\n",
    "    ),\n",
    "    link=dict(\n",
    "        source=sources,\n",
    "        target=targets,\n",
    "        value=values\n",
    "    )\n",
    "))\n",
    "\n",
    "# Update layout for better visualization\n",
    "fig.update_layout(title=\"Theme Park Activity Flow from Hollywood\", font_size=12)\n",
    "\n",
    "# Show the Sankey diagram\n",
    "fig.show()\n"
   ]
  },
  {
   "cell_type": "code",
   "execution_count": 33,
   "metadata": {},
   "outputs": [
    {
     "data": {
      "application/vnd.plotly.v1+json": {
       "config": {
        "plotlyServerURL": "https://plot.ly"
       },
       "data": [
        {
         "link": {
          "source": [
           0,
           1,
           6,
           7,
           8,
           0,
           4,
           10,
           11,
           12,
           0,
           5,
           14,
           15,
           8,
           0,
           3,
           14,
           17,
           18,
           1,
           19,
           15,
           20,
           19,
           4,
           14,
           21,
           20,
           3,
           6,
           21,
           12,
           19,
           8,
           1,
           11,
           18,
           4,
           21,
           15,
           5,
           19,
           6,
           11,
           24,
           4,
           24,
           15,
           18,
           0,
           2,
           10,
           20,
           1,
           25,
           17,
           20,
           1,
           25,
           8,
           21,
           5,
           10,
           15,
           25,
           7,
           24,
           8,
           21,
           5,
           12,
           7,
           18,
           18,
           14,
           7,
           4,
           25,
           12,
           2,
           3,
           11,
           10,
           17,
           10,
           3,
           2,
           17,
           2,
           24,
           17,
           12,
           7,
           20,
           6,
           24,
           2,
           25
          ],
          "target": [
           1,
           6,
           7,
           8,
           9,
           4,
           10,
           11,
           12,
           13,
           5,
           14,
           15,
           8,
           16,
           3,
           14,
           17,
           18,
           13,
           19,
           15,
           20,
           16,
           17,
           14,
           21,
           20,
           22,
           6,
           21,
           12,
           9,
           7,
           23,
           10,
           18,
           9,
           6,
           8,
           12,
           19,
           11,
           11,
           24,
           22,
           19,
           13,
           18,
           22,
           2,
           6,
           21,
           23,
           25,
           17,
           20,
           9,
           14,
           21,
           22,
           24,
           25,
           15,
           24,
           7,
           24,
           16,
           13,
           18,
           10,
           16,
           18,
           23,
           16,
           7,
           12,
           25,
           15,
           22,
           19,
           10,
           20,
           17,
           24,
           7,
           25,
           10,
           8,
           14,
           9,
           12,
           23,
           20,
           13,
           17,
           23,
           25,
           11
          ],
          "value": [
           28,
           7,
           2,
           9,
           4,
           72,
           12,
           7,
           13,
           9,
           23,
           9,
           10,
           4,
           7,
           21,
           12,
           8,
           8,
           12,
           10,
           3,
           3,
           3,
           5,
           13,
           16,
           9,
           24,
           5,
           8,
           2,
           7,
           6,
           4,
           7,
           9,
           6,
           13,
           13,
           4,
           5,
           37,
           15,
           16,
           8,
           33,
           9,
           3,
           8,
           12,
           1,
           6,
           7,
           3,
           1,
           2,
           3,
           1,
           6,
           6,
           2,
           7,
           4,
           4,
           5,
           4,
           6,
           6,
           10,
           2,
           5,
           4,
           1,
           7,
           7,
           7,
           1,
           1,
           4,
           3,
           1,
           23,
           1,
           1,
           5,
           3,
           1,
           1,
           6,
           3,
           4,
           5,
           1,
           1,
           1,
           1,
           1,
           2
          ]
         },
         "node": {
          "label": [
           "Hollywood<br>(100.0%)",
           "Water/restroom break<br>(238.0%)",
           "Shop for souvenirs<br>(198.7%)",
           "F&B outlet<br>(182.3%)",
           "Sightseeing<br>(198.7%)",
           "Haunted House<br>(134.2%)",
           "2 - Shop for souvenirs<br>(0.0%)",
           "3 - Shop for souvenirs<br>(0.0%)",
           "4 - Water/restroom break<br>(0.0%)",
           "5 - F&B outlet<br>(0.0%)",
           "2 - Haunted House<br>(0.0%)",
           "3 - Water/restroom break<br>(0.0%)",
           "4 - F&B outlet<br>(0.0%)",
           "5 - Shop for souvenirs<br>(0.0%)",
           "2 - Water/restroom break<br>(0.0%)",
           "3 - Sightseeing<br>(0.0%)",
           "5 - Haunted House<br>(0.0%)",
           "3 - Haunted House<br>(0.0%)",
           "4 - Sightseeing<br>(0.0%)",
           "2 - F&B outlet<br>(0.0%)",
           "4 - Shop for souvenirs<br>(0.0%)",
           "3 - F&B outlet<br>(0.0%)",
           "5 - Sightseeing<br>(0.0%)",
           "5 - Water/restroom break<br>(0.0%)",
           "4 - Haunted House<br>(0.0%)",
           "2 - Sightseeing<br>(0.0%)"
          ],
          "line": {
           "color": "black",
           "width": 0.5
          },
          "pad": 15,
          "thickness": 20
         },
         "type": "sankey"
        }
       ],
       "layout": {
        "font": {
         "size": 12
        },
        "template": {
         "data": {
          "bar": [
           {
            "error_x": {
             "color": "#2a3f5f"
            },
            "error_y": {
             "color": "#2a3f5f"
            },
            "marker": {
             "line": {
              "color": "#E5ECF6",
              "width": 0.5
             },
             "pattern": {
              "fillmode": "overlay",
              "size": 10,
              "solidity": 0.2
             }
            },
            "type": "bar"
           }
          ],
          "barpolar": [
           {
            "marker": {
             "line": {
              "color": "#E5ECF6",
              "width": 0.5
             },
             "pattern": {
              "fillmode": "overlay",
              "size": 10,
              "solidity": 0.2
             }
            },
            "type": "barpolar"
           }
          ],
          "carpet": [
           {
            "aaxis": {
             "endlinecolor": "#2a3f5f",
             "gridcolor": "white",
             "linecolor": "white",
             "minorgridcolor": "white",
             "startlinecolor": "#2a3f5f"
            },
            "baxis": {
             "endlinecolor": "#2a3f5f",
             "gridcolor": "white",
             "linecolor": "white",
             "minorgridcolor": "white",
             "startlinecolor": "#2a3f5f"
            },
            "type": "carpet"
           }
          ],
          "choropleth": [
           {
            "colorbar": {
             "outlinewidth": 0,
             "ticks": ""
            },
            "type": "choropleth"
           }
          ],
          "contour": [
           {
            "colorbar": {
             "outlinewidth": 0,
             "ticks": ""
            },
            "colorscale": [
             [
              0,
              "#0d0887"
             ],
             [
              0.1111111111111111,
              "#46039f"
             ],
             [
              0.2222222222222222,
              "#7201a8"
             ],
             [
              0.3333333333333333,
              "#9c179e"
             ],
             [
              0.4444444444444444,
              "#bd3786"
             ],
             [
              0.5555555555555556,
              "#d8576b"
             ],
             [
              0.6666666666666666,
              "#ed7953"
             ],
             [
              0.7777777777777778,
              "#fb9f3a"
             ],
             [
              0.8888888888888888,
              "#fdca26"
             ],
             [
              1,
              "#f0f921"
             ]
            ],
            "type": "contour"
           }
          ],
          "contourcarpet": [
           {
            "colorbar": {
             "outlinewidth": 0,
             "ticks": ""
            },
            "type": "contourcarpet"
           }
          ],
          "heatmap": [
           {
            "colorbar": {
             "outlinewidth": 0,
             "ticks": ""
            },
            "colorscale": [
             [
              0,
              "#0d0887"
             ],
             [
              0.1111111111111111,
              "#46039f"
             ],
             [
              0.2222222222222222,
              "#7201a8"
             ],
             [
              0.3333333333333333,
              "#9c179e"
             ],
             [
              0.4444444444444444,
              "#bd3786"
             ],
             [
              0.5555555555555556,
              "#d8576b"
             ],
             [
              0.6666666666666666,
              "#ed7953"
             ],
             [
              0.7777777777777778,
              "#fb9f3a"
             ],
             [
              0.8888888888888888,
              "#fdca26"
             ],
             [
              1,
              "#f0f921"
             ]
            ],
            "type": "heatmap"
           }
          ],
          "heatmapgl": [
           {
            "colorbar": {
             "outlinewidth": 0,
             "ticks": ""
            },
            "colorscale": [
             [
              0,
              "#0d0887"
             ],
             [
              0.1111111111111111,
              "#46039f"
             ],
             [
              0.2222222222222222,
              "#7201a8"
             ],
             [
              0.3333333333333333,
              "#9c179e"
             ],
             [
              0.4444444444444444,
              "#bd3786"
             ],
             [
              0.5555555555555556,
              "#d8576b"
             ],
             [
              0.6666666666666666,
              "#ed7953"
             ],
             [
              0.7777777777777778,
              "#fb9f3a"
             ],
             [
              0.8888888888888888,
              "#fdca26"
             ],
             [
              1,
              "#f0f921"
             ]
            ],
            "type": "heatmapgl"
           }
          ],
          "histogram": [
           {
            "marker": {
             "pattern": {
              "fillmode": "overlay",
              "size": 10,
              "solidity": 0.2
             }
            },
            "type": "histogram"
           }
          ],
          "histogram2d": [
           {
            "colorbar": {
             "outlinewidth": 0,
             "ticks": ""
            },
            "colorscale": [
             [
              0,
              "#0d0887"
             ],
             [
              0.1111111111111111,
              "#46039f"
             ],
             [
              0.2222222222222222,
              "#7201a8"
             ],
             [
              0.3333333333333333,
              "#9c179e"
             ],
             [
              0.4444444444444444,
              "#bd3786"
             ],
             [
              0.5555555555555556,
              "#d8576b"
             ],
             [
              0.6666666666666666,
              "#ed7953"
             ],
             [
              0.7777777777777778,
              "#fb9f3a"
             ],
             [
              0.8888888888888888,
              "#fdca26"
             ],
             [
              1,
              "#f0f921"
             ]
            ],
            "type": "histogram2d"
           }
          ],
          "histogram2dcontour": [
           {
            "colorbar": {
             "outlinewidth": 0,
             "ticks": ""
            },
            "colorscale": [
             [
              0,
              "#0d0887"
             ],
             [
              0.1111111111111111,
              "#46039f"
             ],
             [
              0.2222222222222222,
              "#7201a8"
             ],
             [
              0.3333333333333333,
              "#9c179e"
             ],
             [
              0.4444444444444444,
              "#bd3786"
             ],
             [
              0.5555555555555556,
              "#d8576b"
             ],
             [
              0.6666666666666666,
              "#ed7953"
             ],
             [
              0.7777777777777778,
              "#fb9f3a"
             ],
             [
              0.8888888888888888,
              "#fdca26"
             ],
             [
              1,
              "#f0f921"
             ]
            ],
            "type": "histogram2dcontour"
           }
          ],
          "mesh3d": [
           {
            "colorbar": {
             "outlinewidth": 0,
             "ticks": ""
            },
            "type": "mesh3d"
           }
          ],
          "parcoords": [
           {
            "line": {
             "colorbar": {
              "outlinewidth": 0,
              "ticks": ""
             }
            },
            "type": "parcoords"
           }
          ],
          "pie": [
           {
            "automargin": true,
            "type": "pie"
           }
          ],
          "scatter": [
           {
            "fillpattern": {
             "fillmode": "overlay",
             "size": 10,
             "solidity": 0.2
            },
            "type": "scatter"
           }
          ],
          "scatter3d": [
           {
            "line": {
             "colorbar": {
              "outlinewidth": 0,
              "ticks": ""
             }
            },
            "marker": {
             "colorbar": {
              "outlinewidth": 0,
              "ticks": ""
             }
            },
            "type": "scatter3d"
           }
          ],
          "scattercarpet": [
           {
            "marker": {
             "colorbar": {
              "outlinewidth": 0,
              "ticks": ""
             }
            },
            "type": "scattercarpet"
           }
          ],
          "scattergeo": [
           {
            "marker": {
             "colorbar": {
              "outlinewidth": 0,
              "ticks": ""
             }
            },
            "type": "scattergeo"
           }
          ],
          "scattergl": [
           {
            "marker": {
             "colorbar": {
              "outlinewidth": 0,
              "ticks": ""
             }
            },
            "type": "scattergl"
           }
          ],
          "scattermapbox": [
           {
            "marker": {
             "colorbar": {
              "outlinewidth": 0,
              "ticks": ""
             }
            },
            "type": "scattermapbox"
           }
          ],
          "scatterpolar": [
           {
            "marker": {
             "colorbar": {
              "outlinewidth": 0,
              "ticks": ""
             }
            },
            "type": "scatterpolar"
           }
          ],
          "scatterpolargl": [
           {
            "marker": {
             "colorbar": {
              "outlinewidth": 0,
              "ticks": ""
             }
            },
            "type": "scatterpolargl"
           }
          ],
          "scatterternary": [
           {
            "marker": {
             "colorbar": {
              "outlinewidth": 0,
              "ticks": ""
             }
            },
            "type": "scatterternary"
           }
          ],
          "surface": [
           {
            "colorbar": {
             "outlinewidth": 0,
             "ticks": ""
            },
            "colorscale": [
             [
              0,
              "#0d0887"
             ],
             [
              0.1111111111111111,
              "#46039f"
             ],
             [
              0.2222222222222222,
              "#7201a8"
             ],
             [
              0.3333333333333333,
              "#9c179e"
             ],
             [
              0.4444444444444444,
              "#bd3786"
             ],
             [
              0.5555555555555556,
              "#d8576b"
             ],
             [
              0.6666666666666666,
              "#ed7953"
             ],
             [
              0.7777777777777778,
              "#fb9f3a"
             ],
             [
              0.8888888888888888,
              "#fdca26"
             ],
             [
              1,
              "#f0f921"
             ]
            ],
            "type": "surface"
           }
          ],
          "table": [
           {
            "cells": {
             "fill": {
              "color": "#EBF0F8"
             },
             "line": {
              "color": "white"
             }
            },
            "header": {
             "fill": {
              "color": "#C8D4E3"
             },
             "line": {
              "color": "white"
             }
            },
            "type": "table"
           }
          ]
         },
         "layout": {
          "annotationdefaults": {
           "arrowcolor": "#2a3f5f",
           "arrowhead": 0,
           "arrowwidth": 1
          },
          "autotypenumbers": "strict",
          "coloraxis": {
           "colorbar": {
            "outlinewidth": 0,
            "ticks": ""
           }
          },
          "colorscale": {
           "diverging": [
            [
             0,
             "#8e0152"
            ],
            [
             0.1,
             "#c51b7d"
            ],
            [
             0.2,
             "#de77ae"
            ],
            [
             0.3,
             "#f1b6da"
            ],
            [
             0.4,
             "#fde0ef"
            ],
            [
             0.5,
             "#f7f7f7"
            ],
            [
             0.6,
             "#e6f5d0"
            ],
            [
             0.7,
             "#b8e186"
            ],
            [
             0.8,
             "#7fbc41"
            ],
            [
             0.9,
             "#4d9221"
            ],
            [
             1,
             "#276419"
            ]
           ],
           "sequential": [
            [
             0,
             "#0d0887"
            ],
            [
             0.1111111111111111,
             "#46039f"
            ],
            [
             0.2222222222222222,
             "#7201a8"
            ],
            [
             0.3333333333333333,
             "#9c179e"
            ],
            [
             0.4444444444444444,
             "#bd3786"
            ],
            [
             0.5555555555555556,
             "#d8576b"
            ],
            [
             0.6666666666666666,
             "#ed7953"
            ],
            [
             0.7777777777777778,
             "#fb9f3a"
            ],
            [
             0.8888888888888888,
             "#fdca26"
            ],
            [
             1,
             "#f0f921"
            ]
           ],
           "sequentialminus": [
            [
             0,
             "#0d0887"
            ],
            [
             0.1111111111111111,
             "#46039f"
            ],
            [
             0.2222222222222222,
             "#7201a8"
            ],
            [
             0.3333333333333333,
             "#9c179e"
            ],
            [
             0.4444444444444444,
             "#bd3786"
            ],
            [
             0.5555555555555556,
             "#d8576b"
            ],
            [
             0.6666666666666666,
             "#ed7953"
            ],
            [
             0.7777777777777778,
             "#fb9f3a"
            ],
            [
             0.8888888888888888,
             "#fdca26"
            ],
            [
             1,
             "#f0f921"
            ]
           ]
          },
          "colorway": [
           "#636efa",
           "#EF553B",
           "#00cc96",
           "#ab63fa",
           "#FFA15A",
           "#19d3f3",
           "#FF6692",
           "#B6E880",
           "#FF97FF",
           "#FECB52"
          ],
          "font": {
           "color": "#2a3f5f"
          },
          "geo": {
           "bgcolor": "white",
           "lakecolor": "white",
           "landcolor": "#E5ECF6",
           "showlakes": true,
           "showland": true,
           "subunitcolor": "white"
          },
          "hoverlabel": {
           "align": "left"
          },
          "hovermode": "closest",
          "mapbox": {
           "style": "light"
          },
          "paper_bgcolor": "white",
          "plot_bgcolor": "#E5ECF6",
          "polar": {
           "angularaxis": {
            "gridcolor": "white",
            "linecolor": "white",
            "ticks": ""
           },
           "bgcolor": "#E5ECF6",
           "radialaxis": {
            "gridcolor": "white",
            "linecolor": "white",
            "ticks": ""
           }
          },
          "scene": {
           "xaxis": {
            "backgroundcolor": "#E5ECF6",
            "gridcolor": "white",
            "gridwidth": 2,
            "linecolor": "white",
            "showbackground": true,
            "ticks": "",
            "zerolinecolor": "white"
           },
           "yaxis": {
            "backgroundcolor": "#E5ECF6",
            "gridcolor": "white",
            "gridwidth": 2,
            "linecolor": "white",
            "showbackground": true,
            "ticks": "",
            "zerolinecolor": "white"
           },
           "zaxis": {
            "backgroundcolor": "#E5ECF6",
            "gridcolor": "white",
            "gridwidth": 2,
            "linecolor": "white",
            "showbackground": true,
            "ticks": "",
            "zerolinecolor": "white"
           }
          },
          "shapedefaults": {
           "line": {
            "color": "#2a3f5f"
           }
          },
          "ternary": {
           "aaxis": {
            "gridcolor": "white",
            "linecolor": "white",
            "ticks": ""
           },
           "baxis": {
            "gridcolor": "white",
            "linecolor": "white",
            "ticks": ""
           },
           "bgcolor": "#E5ECF6",
           "caxis": {
            "gridcolor": "white",
            "linecolor": "white",
            "ticks": ""
           }
          },
          "title": {
           "x": 0.05
          },
          "xaxis": {
           "automargin": true,
           "gridcolor": "white",
           "linecolor": "white",
           "ticks": "",
           "title": {
            "standoff": 15
           },
           "zerolinecolor": "white",
           "zerolinewidth": 2
          },
          "yaxis": {
           "automargin": true,
           "gridcolor": "white",
           "linecolor": "white",
           "ticks": "",
           "title": {
            "standoff": 15
           },
           "zerolinecolor": "white",
           "zerolinewidth": 2
          }
         }
        },
        "title": {
         "text": "Theme Park Activity Flow"
        }
       }
      }
     },
     "metadata": {},
     "output_type": "display_data"
    }
   ],
   "source": [
    "# Calculate percentage for each node (excluding \"Na\")\n",
    "total_count = sum(link_counts.values())\n",
    "\n",
    "# Initialize node percentages\n",
    "node_percentages = {node: 0 for node in nodes}\n",
    "node_percentages[start_node] = 100  # Set Hollywood to 100% as it's the starting point\n",
    "\n",
    "# Calculate node percentages based on counts in each activity column\n",
    "for col in activity_columns:\n",
    "    activity_column_counts = df[col].value_counts(normalize=True) * 100  # Percentage calculation\n",
    "    for activity, percentage in activity_column_counts.items():\n",
    "        if activity != \"Na\":  # Skip Na values\n",
    "            node_percentages[activity_mapping.get(activity, activity)] += percentage\n",
    "\n",
    "# Normalize the node percentages so that they sum up to 100% for each activity column\n",
    "for col in activity_columns:\n",
    "    column_total = df[col].value_counts().sum()\n",
    "    if column_total > 0:\n",
    "        activity_column_counts = df[col].value_counts(normalize=True) * 100\n",
    "        for activity, percentage in activity_column_counts.items():\n",
    "            if activity != \"Na\":  # Skip Na values\n",
    "                node_percentages[activity_mapping.get(activity, activity)] += percentage\n",
    "\n",
    "# Prepare nodes with percentages\n",
    "nodes_with_percentages = []\n",
    "for node in nodes:\n",
    "    percentage = node_percentages[node]\n",
    "    nodes_with_percentages.append(f\"{node}<br>({percentage:.1f}%)\")\n",
    "\n",
    "# Prepare lists for sources, targets, and values based on the link counts\n",
    "sources = []\n",
    "targets = []\n",
    "values = []\n",
    "\n",
    "for (source, target), count in link_counts.items():\n",
    "    if source != \"Na\" and target != \"Na\":  # Only add links that are valid\n",
    "        sources.append(activity_to_index[source])\n",
    "        targets.append(activity_to_index[target])\n",
    "        values.append(count)\n",
    "\n",
    "# Create the Sankey diagram\n",
    "fig = go.Figure(go.Sankey(\n",
    "    node=dict(\n",
    "        pad=15, \n",
    "        thickness=20,\n",
    "        line=dict(color=\"black\", width=0.5), \n",
    "        label=nodes_with_percentages  # Use labels with percentages\n",
    "    ),\n",
    "    link=dict(\n",
    "        source=sources, \n",
    "        target=targets, \n",
    "        value=values\n",
    "    )\n",
    "))\n",
    "\n",
    "# Add title and show figure\n",
    "fig.update_layout(title_text=\"Theme Park Activity Flow\", font_size=12)\n",
    "fig.show()\n"
   ]
  },
  {
   "cell_type": "markdown",
   "metadata": {},
   "source": [
    "Theme Park Activity Flow from Sci-Fi City (5 activities)"
   ]
  },
  {
   "cell_type": "code",
   "execution_count": 58,
   "metadata": {},
   "outputs": [
    {
     "data": {
      "application/vnd.plotly.v1+json": {
       "config": {
        "plotlyServerURL": "https://plot.ly"
       },
       "data": [
        {
         "link": {
          "source": [
           0,
           1,
           9,
           0,
           12,
           13,
           0,
           7,
           15,
           16,
           17,
           0,
           19,
           20,
           2,
           15,
           22,
           23,
           0,
           4,
           9,
           6,
           25,
           9,
           19,
           2,
           9,
           27,
           28,
           27,
           13,
           6,
           30,
           19,
           20,
           2,
           23,
           7,
           26,
           6,
           9,
           22,
           32,
           22,
           10,
           9,
           12,
           23,
           22,
           20,
           20,
           25,
           12,
           17,
           27,
           32,
           23,
           2,
           33,
           22,
           17,
           25,
           33,
           35,
           12,
           36,
           7,
           25,
           35,
           36,
           16,
           7,
           23,
           15,
           19,
           13,
           2,
           37,
           20,
           12,
           28,
           16,
           27,
           23,
           22,
           33,
           13,
           0,
           38,
           6,
           39,
           25,
           10,
           26,
           0,
           8,
           40,
           38,
           0,
           3,
           15,
           26,
           2,
           40,
           16,
           40,
           22,
           38,
           36,
           27,
           32,
           2,
           30,
           39,
           12,
           40,
           17,
           2,
           32,
           6,
           39,
           25,
           26,
           30,
           28,
           17,
           25,
           16,
           10,
           20,
           40,
           6,
           8,
           35,
           19
          ],
          "target": [
           1,
           9,
           10,
           6,
           13,
           14,
           7,
           15,
           16,
           17,
           18,
           2,
           20,
           21,
           15,
           22,
           23,
           24,
           4,
           9,
           16,
           25,
           16,
           19,
           26,
           9,
           27,
           28,
           29,
           13,
           21,
           30,
           19,
           28,
           24,
           25,
           31,
           9,
           14,
           9,
           22,
           32,
           14,
           28,
           26,
           12,
           23,
           11,
           20,
           18,
           29,
           12,
           17,
           31,
           32,
           18,
           14,
           33,
           22,
           17,
           11,
           27,
           35,
           23,
           36,
           14,
           25,
           35,
           36,
           34,
           13,
           33,
           21,
           19,
           13,
           31,
           37,
           22,
           11,
           28,
           14,
           23,
           23,
           18,
           36,
           27,
           29,
           5,
           17,
           39,
           38,
           10,
           23,
           18,
           8,
           40,
           38,
           23,
           3,
           15,
           38,
           29,
           40,
           16,
           20,
           22,
           26,
           36,
           11,
           17,
           11,
           30,
           27,
           12,
           26,
           19,
           29,
           39,
           29,
           37,
           22,
           19,
           21,
           22,
           11,
           14,
           38,
           26,
           20,
           31,
           12,
           33,
           25,
           28,
           17
          ],
          "value": [
           2,
           2,
           2,
           41,
           2,
           3,
           8,
           1,
           1,
           1,
           2,
           76,
           7,
           4,
           5,
           1,
           7,
           2,
           10,
           7,
           3,
           7,
           3,
           4,
           5,
           1,
           1,
           1,
           3,
           3,
           2,
           2,
           1,
           1,
           5,
           25,
           2,
           5,
           15,
           11,
           10,
           3,
           2,
           2,
           1,
           1,
           1,
           1,
           3,
           4,
           3,
           3,
           1,
           4,
           4,
           4,
           15,
           11,
           4,
           3,
           2,
           4,
           3,
           5,
           1,
           3,
           1,
           8,
           2,
           2,
           1,
           1,
           2,
           2,
           2,
           3,
           2,
           1,
           1,
           1,
           2,
           2,
           2,
           1,
           2,
           1,
           2,
           1,
           2,
           7,
           1,
           2,
           1,
           1,
           2,
           1,
           1,
           3,
           1,
           1,
           1,
           4,
           8,
           1,
           1,
           3,
           4,
           1,
           1,
           1,
           1,
           1,
           1,
           2,
           3,
           2,
           7,
           2,
           1,
           1,
           1,
           2,
           1,
           1,
           1,
           3,
           1,
           1,
           2,
           1,
           1,
           1,
           1,
           1,
           1
          ]
         },
         "node": {
          "label": [
           "Sci-Fi City<br>(100%)",
           "Go for a water/restroom break<br>(15.77%)",
           "Go to the rollercoasters<br>(13.58%)",
           "Go and shop for souvenirs<br>(13.29%)",
           "Go to the Simulator rides<br>(13.00%)",
           "Go to the F&B outlet<br>(12.33%)",
           "Sightseeing<br>(13.67%)",
           "Go to the Haunted House<br>(9.37%)",
           "Go to the Spinning rides<br>(8.99%)",
           "2: Go to the rollercoasters<br>(13.58%)",
           "3: Go and shop for souvenirs<br>(13.29%)",
           "5: Go and shop for souvenirs<br>(13.29%)",
           "3: Go to the Haunted House<br>(9.37%)",
           "4: Go to the Simulator rides<br>(13.00%)",
           "5: Go for a water/restroom break<br>(15.77%)",
           "2: Go for a water/restroom break<br>(15.77%)",
           "3: Go to the Spinning rides<br>(8.99%)",
           "4: Sightseeing<br>(13.67%)",
           "5: Go to the Simulator rides<br>(13.00%)",
           "3: Go to the F&B outlet<br>(12.33%)",
           "4: Go for a water/restroom break<br>(15.77%)",
           "5: Go to the Haunted House<br>(9.37%)",
           "3: Go to the Simulator rides<br>(13.00%)",
           "4: Go to the F&B outlet<br>(12.33%)",
           "5: Sightseeing<br>(13.67%)",
           "2: Go to the Simulator rides<br>(13.00%)",
           "4: Go and shop for souvenirs<br>(13.29%)",
           "3: Go for a water/restroom break<br>(15.77%)",
           "4: Go to the rollercoasters<br>(13.58%)",
           "5: Go to the F&B outlet<br>(12.33%)",
           "2: Go and shop for souvenirs<br>(13.29%)",
           "5: Go to the Spinning rides<br>(8.99%)",
           "4: Go to the Haunted House<br>(9.37%)",
           "2: Go to the Haunted House<br>(9.37%)",
           "5: Go to the rollercoasters<br>(13.58%)",
           "3: Sightseeing<br>(13.67%)",
           "4: Go to the Spinning rides<br>(8.99%)",
           "2: Go to the F&B outlet<br>(12.33%)",
           "3: Go to the rollercoasters<br>(13.58%)",
           "2: Go to the Spinning rides<br>(8.99%)",
           "2: Sightseeing<br>(13.67%)"
          ],
          "line": {
           "color": "black",
           "width": 0.5
          },
          "pad": 15,
          "thickness": 20
         },
         "type": "sankey"
        }
       ],
       "layout": {
        "font": {
         "size": 12
        },
        "template": {
         "data": {
          "bar": [
           {
            "error_x": {
             "color": "#2a3f5f"
            },
            "error_y": {
             "color": "#2a3f5f"
            },
            "marker": {
             "line": {
              "color": "#E5ECF6",
              "width": 0.5
             },
             "pattern": {
              "fillmode": "overlay",
              "size": 10,
              "solidity": 0.2
             }
            },
            "type": "bar"
           }
          ],
          "barpolar": [
           {
            "marker": {
             "line": {
              "color": "#E5ECF6",
              "width": 0.5
             },
             "pattern": {
              "fillmode": "overlay",
              "size": 10,
              "solidity": 0.2
             }
            },
            "type": "barpolar"
           }
          ],
          "carpet": [
           {
            "aaxis": {
             "endlinecolor": "#2a3f5f",
             "gridcolor": "white",
             "linecolor": "white",
             "minorgridcolor": "white",
             "startlinecolor": "#2a3f5f"
            },
            "baxis": {
             "endlinecolor": "#2a3f5f",
             "gridcolor": "white",
             "linecolor": "white",
             "minorgridcolor": "white",
             "startlinecolor": "#2a3f5f"
            },
            "type": "carpet"
           }
          ],
          "choropleth": [
           {
            "colorbar": {
             "outlinewidth": 0,
             "ticks": ""
            },
            "type": "choropleth"
           }
          ],
          "contour": [
           {
            "colorbar": {
             "outlinewidth": 0,
             "ticks": ""
            },
            "colorscale": [
             [
              0,
              "#0d0887"
             ],
             [
              0.1111111111111111,
              "#46039f"
             ],
             [
              0.2222222222222222,
              "#7201a8"
             ],
             [
              0.3333333333333333,
              "#9c179e"
             ],
             [
              0.4444444444444444,
              "#bd3786"
             ],
             [
              0.5555555555555556,
              "#d8576b"
             ],
             [
              0.6666666666666666,
              "#ed7953"
             ],
             [
              0.7777777777777778,
              "#fb9f3a"
             ],
             [
              0.8888888888888888,
              "#fdca26"
             ],
             [
              1,
              "#f0f921"
             ]
            ],
            "type": "contour"
           }
          ],
          "contourcarpet": [
           {
            "colorbar": {
             "outlinewidth": 0,
             "ticks": ""
            },
            "type": "contourcarpet"
           }
          ],
          "heatmap": [
           {
            "colorbar": {
             "outlinewidth": 0,
             "ticks": ""
            },
            "colorscale": [
             [
              0,
              "#0d0887"
             ],
             [
              0.1111111111111111,
              "#46039f"
             ],
             [
              0.2222222222222222,
              "#7201a8"
             ],
             [
              0.3333333333333333,
              "#9c179e"
             ],
             [
              0.4444444444444444,
              "#bd3786"
             ],
             [
              0.5555555555555556,
              "#d8576b"
             ],
             [
              0.6666666666666666,
              "#ed7953"
             ],
             [
              0.7777777777777778,
              "#fb9f3a"
             ],
             [
              0.8888888888888888,
              "#fdca26"
             ],
             [
              1,
              "#f0f921"
             ]
            ],
            "type": "heatmap"
           }
          ],
          "heatmapgl": [
           {
            "colorbar": {
             "outlinewidth": 0,
             "ticks": ""
            },
            "colorscale": [
             [
              0,
              "#0d0887"
             ],
             [
              0.1111111111111111,
              "#46039f"
             ],
             [
              0.2222222222222222,
              "#7201a8"
             ],
             [
              0.3333333333333333,
              "#9c179e"
             ],
             [
              0.4444444444444444,
              "#bd3786"
             ],
             [
              0.5555555555555556,
              "#d8576b"
             ],
             [
              0.6666666666666666,
              "#ed7953"
             ],
             [
              0.7777777777777778,
              "#fb9f3a"
             ],
             [
              0.8888888888888888,
              "#fdca26"
             ],
             [
              1,
              "#f0f921"
             ]
            ],
            "type": "heatmapgl"
           }
          ],
          "histogram": [
           {
            "marker": {
             "pattern": {
              "fillmode": "overlay",
              "size": 10,
              "solidity": 0.2
             }
            },
            "type": "histogram"
           }
          ],
          "histogram2d": [
           {
            "colorbar": {
             "outlinewidth": 0,
             "ticks": ""
            },
            "colorscale": [
             [
              0,
              "#0d0887"
             ],
             [
              0.1111111111111111,
              "#46039f"
             ],
             [
              0.2222222222222222,
              "#7201a8"
             ],
             [
              0.3333333333333333,
              "#9c179e"
             ],
             [
              0.4444444444444444,
              "#bd3786"
             ],
             [
              0.5555555555555556,
              "#d8576b"
             ],
             [
              0.6666666666666666,
              "#ed7953"
             ],
             [
              0.7777777777777778,
              "#fb9f3a"
             ],
             [
              0.8888888888888888,
              "#fdca26"
             ],
             [
              1,
              "#f0f921"
             ]
            ],
            "type": "histogram2d"
           }
          ],
          "histogram2dcontour": [
           {
            "colorbar": {
             "outlinewidth": 0,
             "ticks": ""
            },
            "colorscale": [
             [
              0,
              "#0d0887"
             ],
             [
              0.1111111111111111,
              "#46039f"
             ],
             [
              0.2222222222222222,
              "#7201a8"
             ],
             [
              0.3333333333333333,
              "#9c179e"
             ],
             [
              0.4444444444444444,
              "#bd3786"
             ],
             [
              0.5555555555555556,
              "#d8576b"
             ],
             [
              0.6666666666666666,
              "#ed7953"
             ],
             [
              0.7777777777777778,
              "#fb9f3a"
             ],
             [
              0.8888888888888888,
              "#fdca26"
             ],
             [
              1,
              "#f0f921"
             ]
            ],
            "type": "histogram2dcontour"
           }
          ],
          "mesh3d": [
           {
            "colorbar": {
             "outlinewidth": 0,
             "ticks": ""
            },
            "type": "mesh3d"
           }
          ],
          "parcoords": [
           {
            "line": {
             "colorbar": {
              "outlinewidth": 0,
              "ticks": ""
             }
            },
            "type": "parcoords"
           }
          ],
          "pie": [
           {
            "automargin": true,
            "type": "pie"
           }
          ],
          "scatter": [
           {
            "fillpattern": {
             "fillmode": "overlay",
             "size": 10,
             "solidity": 0.2
            },
            "type": "scatter"
           }
          ],
          "scatter3d": [
           {
            "line": {
             "colorbar": {
              "outlinewidth": 0,
              "ticks": ""
             }
            },
            "marker": {
             "colorbar": {
              "outlinewidth": 0,
              "ticks": ""
             }
            },
            "type": "scatter3d"
           }
          ],
          "scattercarpet": [
           {
            "marker": {
             "colorbar": {
              "outlinewidth": 0,
              "ticks": ""
             }
            },
            "type": "scattercarpet"
           }
          ],
          "scattergeo": [
           {
            "marker": {
             "colorbar": {
              "outlinewidth": 0,
              "ticks": ""
             }
            },
            "type": "scattergeo"
           }
          ],
          "scattergl": [
           {
            "marker": {
             "colorbar": {
              "outlinewidth": 0,
              "ticks": ""
             }
            },
            "type": "scattergl"
           }
          ],
          "scattermapbox": [
           {
            "marker": {
             "colorbar": {
              "outlinewidth": 0,
              "ticks": ""
             }
            },
            "type": "scattermapbox"
           }
          ],
          "scatterpolar": [
           {
            "marker": {
             "colorbar": {
              "outlinewidth": 0,
              "ticks": ""
             }
            },
            "type": "scatterpolar"
           }
          ],
          "scatterpolargl": [
           {
            "marker": {
             "colorbar": {
              "outlinewidth": 0,
              "ticks": ""
             }
            },
            "type": "scatterpolargl"
           }
          ],
          "scatterternary": [
           {
            "marker": {
             "colorbar": {
              "outlinewidth": 0,
              "ticks": ""
             }
            },
            "type": "scatterternary"
           }
          ],
          "surface": [
           {
            "colorbar": {
             "outlinewidth": 0,
             "ticks": ""
            },
            "colorscale": [
             [
              0,
              "#0d0887"
             ],
             [
              0.1111111111111111,
              "#46039f"
             ],
             [
              0.2222222222222222,
              "#7201a8"
             ],
             [
              0.3333333333333333,
              "#9c179e"
             ],
             [
              0.4444444444444444,
              "#bd3786"
             ],
             [
              0.5555555555555556,
              "#d8576b"
             ],
             [
              0.6666666666666666,
              "#ed7953"
             ],
             [
              0.7777777777777778,
              "#fb9f3a"
             ],
             [
              0.8888888888888888,
              "#fdca26"
             ],
             [
              1,
              "#f0f921"
             ]
            ],
            "type": "surface"
           }
          ],
          "table": [
           {
            "cells": {
             "fill": {
              "color": "#EBF0F8"
             },
             "line": {
              "color": "white"
             }
            },
            "header": {
             "fill": {
              "color": "#C8D4E3"
             },
             "line": {
              "color": "white"
             }
            },
            "type": "table"
           }
          ]
         },
         "layout": {
          "annotationdefaults": {
           "arrowcolor": "#2a3f5f",
           "arrowhead": 0,
           "arrowwidth": 1
          },
          "autotypenumbers": "strict",
          "coloraxis": {
           "colorbar": {
            "outlinewidth": 0,
            "ticks": ""
           }
          },
          "colorscale": {
           "diverging": [
            [
             0,
             "#8e0152"
            ],
            [
             0.1,
             "#c51b7d"
            ],
            [
             0.2,
             "#de77ae"
            ],
            [
             0.3,
             "#f1b6da"
            ],
            [
             0.4,
             "#fde0ef"
            ],
            [
             0.5,
             "#f7f7f7"
            ],
            [
             0.6,
             "#e6f5d0"
            ],
            [
             0.7,
             "#b8e186"
            ],
            [
             0.8,
             "#7fbc41"
            ],
            [
             0.9,
             "#4d9221"
            ],
            [
             1,
             "#276419"
            ]
           ],
           "sequential": [
            [
             0,
             "#0d0887"
            ],
            [
             0.1111111111111111,
             "#46039f"
            ],
            [
             0.2222222222222222,
             "#7201a8"
            ],
            [
             0.3333333333333333,
             "#9c179e"
            ],
            [
             0.4444444444444444,
             "#bd3786"
            ],
            [
             0.5555555555555556,
             "#d8576b"
            ],
            [
             0.6666666666666666,
             "#ed7953"
            ],
            [
             0.7777777777777778,
             "#fb9f3a"
            ],
            [
             0.8888888888888888,
             "#fdca26"
            ],
            [
             1,
             "#f0f921"
            ]
           ],
           "sequentialminus": [
            [
             0,
             "#0d0887"
            ],
            [
             0.1111111111111111,
             "#46039f"
            ],
            [
             0.2222222222222222,
             "#7201a8"
            ],
            [
             0.3333333333333333,
             "#9c179e"
            ],
            [
             0.4444444444444444,
             "#bd3786"
            ],
            [
             0.5555555555555556,
             "#d8576b"
            ],
            [
             0.6666666666666666,
             "#ed7953"
            ],
            [
             0.7777777777777778,
             "#fb9f3a"
            ],
            [
             0.8888888888888888,
             "#fdca26"
            ],
            [
             1,
             "#f0f921"
            ]
           ]
          },
          "colorway": [
           "#636efa",
           "#EF553B",
           "#00cc96",
           "#ab63fa",
           "#FFA15A",
           "#19d3f3",
           "#FF6692",
           "#B6E880",
           "#FF97FF",
           "#FECB52"
          ],
          "font": {
           "color": "#2a3f5f"
          },
          "geo": {
           "bgcolor": "white",
           "lakecolor": "white",
           "landcolor": "#E5ECF6",
           "showlakes": true,
           "showland": true,
           "subunitcolor": "white"
          },
          "hoverlabel": {
           "align": "left"
          },
          "hovermode": "closest",
          "mapbox": {
           "style": "light"
          },
          "paper_bgcolor": "white",
          "plot_bgcolor": "#E5ECF6",
          "polar": {
           "angularaxis": {
            "gridcolor": "white",
            "linecolor": "white",
            "ticks": ""
           },
           "bgcolor": "#E5ECF6",
           "radialaxis": {
            "gridcolor": "white",
            "linecolor": "white",
            "ticks": ""
           }
          },
          "scene": {
           "xaxis": {
            "backgroundcolor": "#E5ECF6",
            "gridcolor": "white",
            "gridwidth": 2,
            "linecolor": "white",
            "showbackground": true,
            "ticks": "",
            "zerolinecolor": "white"
           },
           "yaxis": {
            "backgroundcolor": "#E5ECF6",
            "gridcolor": "white",
            "gridwidth": 2,
            "linecolor": "white",
            "showbackground": true,
            "ticks": "",
            "zerolinecolor": "white"
           },
           "zaxis": {
            "backgroundcolor": "#E5ECF6",
            "gridcolor": "white",
            "gridwidth": 2,
            "linecolor": "white",
            "showbackground": true,
            "ticks": "",
            "zerolinecolor": "white"
           }
          },
          "shapedefaults": {
           "line": {
            "color": "#2a3f5f"
           }
          },
          "ternary": {
           "aaxis": {
            "gridcolor": "white",
            "linecolor": "white",
            "ticks": ""
           },
           "baxis": {
            "gridcolor": "white",
            "linecolor": "white",
            "ticks": ""
           },
           "bgcolor": "#E5ECF6",
           "caxis": {
            "gridcolor": "white",
            "linecolor": "white",
            "ticks": ""
           }
          },
          "title": {
           "x": 0.05
          },
          "xaxis": {
           "automargin": true,
           "gridcolor": "white",
           "linecolor": "white",
           "ticks": "",
           "title": {
            "standoff": 15
           },
           "zerolinecolor": "white",
           "zerolinewidth": 2
          },
          "yaxis": {
           "automargin": true,
           "gridcolor": "white",
           "linecolor": "white",
           "ticks": "",
           "title": {
            "standoff": 15
           },
           "zerolinecolor": "white",
           "zerolinewidth": 2
          }
         }
        },
        "title": {
         "text": "Theme Park Activity Flow from Sci-Fi City"
        }
       }
      }
     },
     "metadata": {},
     "output_type": "display_data"
    }
   ],
   "source": [
    "import pandas as pd\n",
    "import plotly.graph_objects as go\n",
    "from collections import Counter\n",
    "\n",
    "# Load the dataset\n",
    "file_path = '../data/Updated_Theme_Parks_Survey_Responses A14.csv'\n",
    "df = pd.read_csv(file_path)\n",
    "\n",
    "# Define the list of all possible activities (excluding \"Go to the Water-based rides\" and \"Go to the child-friendly rides\")\n",
    "all_possible_activities = [\n",
    "    \"Go to the rollercoasters\", \"Go to the F&B outlet\", \n",
    "    \"Go and shop for souvenirs\", \"Go for a water/restroom break\", \n",
    "    \"Go to the Haunted House\", \"Go to the Simulator rides\", \n",
    "    \"Sightseeing\", \"Go to the Spinning rides\"\n",
    "]\n",
    "\n",
    "# Activity columns to check\n",
    "activity_columns = [\n",
    "    'first_activity', 'second_activity', 'third_activity', 'fourth_activity', 'fifth_activity', \n",
    "    'sixth_activity', 'seventh_activity', 'eighth_activity', 'ninth_activity', 'tenth_activity',\n",
    "    'eleventh_activity', 'twelfth_activity', 'thirteenth_activity', 'fourteenth_activity'\n",
    "]\n",
    "\n",
    "# Ensure each activity in the columns is valid and does not change the name\n",
    "for col in activity_columns:\n",
    "    df[col] = df[col].str.strip().fillna('Na')\n",
    "\n",
    "# Initialize the list for valid activities\n",
    "valid_activity_df = []\n",
    "\n",
    "# Process each row and find the valid activities\n",
    "for index, row in df.iterrows():\n",
    "    activity_indices = []\n",
    "    for i in range(len(activity_columns)):  # Process all activity columns\n",
    "        activity_name = row[activity_columns[i]]\n",
    "        if activity_name in all_possible_activities:\n",
    "            activity_indices.append(activity_name)\n",
    "        else:\n",
    "            activity_indices.append('Na')\n",
    "\n",
    "    # Ensure the activity_indices list contains only valid activities\n",
    "    valid_activity_df.append(activity_indices)\n",
    "\n",
    "# Create a new dataframe with the valid activities\n",
    "valid_activity_df = pd.DataFrame(valid_activity_df, columns=[f\"activity_{i+1}\" for i in range(len(activity_columns))])\n",
    "\n",
    "# Remove rows where the first activity is 'Na' (this filters out empty or invalid rows)\n",
    "valid_activity_df = valid_activity_df[valid_activity_df['activity_1'] != \"Na\"]\n",
    "\n",
    "# Flatten the activity columns and count the frequency of each activity\n",
    "activities = valid_activity_df.values.flatten().tolist()\n",
    "activity_counts = Counter([activity for activity in activities if activity != \"Na\"])\n",
    "\n",
    "# Get all possible activities (to ensure the Sankey diagram includes all)\n",
    "top_activities = all_possible_activities\n",
    "\n",
    "# Filter the dataframe to include only valid activities\n",
    "filtered_df = valid_activity_df.apply(lambda col: col.map(lambda x: x if x in top_activities else 'Na'))\n",
    "\n",
    "# Collect all activities for the nodes (excluding \"Na\")\n",
    "activities = filtered_df.values.flatten().tolist()\n",
    "activities = [activity for activity in activities if activity != \"Na\"]\n",
    "\n",
    "# Set the start node as \"Sci-Fi City\"\n",
    "start_node = \"Sci-Fi City\"\n",
    "nodes = [start_node] + list(pd.Series(activities).unique())\n",
    "\n",
    "# Create a dictionary for activity to index mapping\n",
    "activity_to_index = {activity: index for index, activity in enumerate(nodes)}\n",
    "\n",
    "# Initialize the list to count occurrences of each transition (source-target pair)\n",
    "link_counts = Counter()\n",
    "\n",
    "# Loop through the dataframe to create links for the Sankey diagram\n",
    "for index, row in filtered_df.iterrows():\n",
    "    first = row['activity_1']\n",
    "    second = row['activity_2']\n",
    "    third = row['activity_3']\n",
    "    fourth = row['activity_4']\n",
    "    fifth = row['activity_5']\n",
    "\n",
    "    # Add \"2 - \", \"3 - \", \"4 - \", \"5 - \" to the activities\n",
    "    second = f\"2 - {second}\" if second != \"Na\" else \"Na\"\n",
    "    third = f\"3 - {third}\" if third != \"Na\" else \"Na\"\n",
    "    fourth = f\"4 - {fourth}\" if fourth != \"Na\" else \"Na\"\n",
    "    fifth = f\"5 - {fifth}\" if fifth != \"Na\" else \"Na\"\n",
    "\n",
    "    # Add to the dictionary if second, third, fourth, or fifth prefixed activities are not in activity_to_index\n",
    "    for activity in [second, third, fourth, fifth]:\n",
    "        if activity != \"Na\" and activity not in activity_to_index:\n",
    "            activity_to_index[activity] = len(activity_to_index)\n",
    "            nodes.append(activity)\n",
    "\n",
    "    # Track links between consecutive activities, ensuring they are valid (not \"Na\")\n",
    "    if first != \"Na\":\n",
    "        link_counts[(start_node, first)] += 1\n",
    "    if first != \"Na\" and second != \"Na\" and first != second:\n",
    "        link_counts[(first, second)] += 1\n",
    "    if second != \"Na\" and third != \"Na\" and second != third:\n",
    "        link_counts[(second, third)] += 1\n",
    "    if third != \"Na\" and fourth != \"Na\" and third != fourth:\n",
    "        link_counts[(third, fourth)] += 1\n",
    "    if fourth != \"Na\" and fifth != \"Na\" and fourth != fifth:\n",
    "        link_counts[(fourth, fifth)] += 1\n",
    "\n",
    "# Calculate percentages for each activity in the dataset\n",
    "total_activities = sum(activity_counts.values())\n",
    "activity_percentage = {activity: (count / total_activities) * 100 for activity, count in activity_counts.items()}\n",
    "\n",
    "# Format the node labels to include percentages, ensuring \"Sci-Fi City\" shows 100%\n",
    "nodes_with_percentage = []\n",
    "for node in nodes:\n",
    "    if node == start_node:\n",
    "        nodes_with_percentage.append(f\"{node}<br>(100%)\")\n",
    "    elif \" - \" in node:\n",
    "        # Format with line break for prefixed nodes like \"2 - \", \"3 - \", etc.\n",
    "        base_activity = node.split(\" - \")[1]\n",
    "        percentage = activity_percentage.get(base_activity, 0)\n",
    "        nodes_with_percentage.append(f\"{node.split(' - ')[0]}: {base_activity}<br>({percentage:.2f}%)\")\n",
    "    else:\n",
    "        # Format all other nodes with a line break between the activity name and percentage\n",
    "        percentage = activity_percentage.get(node, 0)\n",
    "        nodes_with_percentage.append(f\"{node}<br>({percentage:.2f}%)\")\n",
    "\n",
    "# Prepare lists for sources, targets, and values based on the link counts\n",
    "sources = []\n",
    "targets = []\n",
    "values = []\n",
    "\n",
    "for (source, target), count in link_counts.items():\n",
    "    if source != \"Na\" and target != \"Na\":  # Only add links that are valid\n",
    "        sources.append(activity_to_index[source])\n",
    "        targets.append(activity_to_index[target])\n",
    "        values.append(count)\n",
    "\n",
    "# Create the Sankey diagram with updated labels\n",
    "fig = go.Figure(go.Sankey(\n",
    "    node=dict(\n",
    "        pad=15,\n",
    "        thickness=20,\n",
    "        line=dict(color=\"black\", width=0.5),\n",
    "        label=nodes_with_percentage\n",
    "    ),\n",
    "    link=dict(\n",
    "        source=sources,\n",
    "        target=targets,\n",
    "        value=values\n",
    "    )\n",
    "))\n",
    "\n",
    "# Update layout for better visualization\n",
    "fig.update_layout(title=\"Theme Park Activity Flow from Sci-Fi City\", font_size=12)\n",
    "\n",
    "# Show the Sankey diagram\n",
    "fig.show()\n"
   ]
  },
  {
   "cell_type": "markdown",
   "metadata": {},
   "source": [
    "Theme Park Activity Flow from Sci-Fi City (3 activities)"
   ]
  },
  {
   "cell_type": "code",
   "execution_count": 37,
   "metadata": {},
   "outputs": [
    {
     "data": {
      "application/vnd.plotly.v1+json": {
       "config": {
        "plotlyServerURL": "https://plot.ly"
       },
       "data": [
        {
         "link": {
          "source": [
           0,
           1,
           9,
           0,
           0,
           5,
           12,
           0,
           2,
           12,
           0,
           8,
           9,
           4,
           16,
           9,
           2,
           9,
           4,
           18,
           2,
           5,
           4,
           9,
           9,
           16,
           2,
           19,
           16,
           19,
           5,
           16,
           5,
           12,
           2,
           21,
           19,
           0,
           4,
           23,
           16,
           0,
           6,
           24,
           0,
           3,
           12,
           2,
           24,
           24,
           2,
           18,
           23,
           24,
           2,
           4,
           23,
           16,
           18,
           16,
           24,
           4,
           6
          ],
          "target": [
           1,
           9,
           10,
           4,
           5,
           12,
           13,
           2,
           12,
           15,
           8,
           9,
           13,
           16,
           13,
           14,
           9,
           17,
           18,
           14,
           16,
           9,
           9,
           15,
           11,
           11,
           19,
           15,
           17,
           20,
           16,
           20,
           19,
           14,
           21,
           15,
           17,
           7,
           23,
           22,
           10,
           6,
           24,
           22,
           3,
           12,
           22,
           24,
           13,
           15,
           18,
           17,
           11,
           14,
           23,
           21,
           15,
           14,
           15,
           22,
           11,
           19,
           16
          ],
          "value": [
           2,
           2,
           2,
           41,
           8,
           1,
           1,
           76,
           5,
           1,
           10,
           7,
           3,
           7,
           3,
           4,
           1,
           1,
           2,
           1,
           25,
           5,
           11,
           10,
           1,
           3,
           11,
           4,
           4,
           3,
           1,
           8,
           1,
           2,
           2,
           1,
           1,
           1,
           7,
           1,
           2,
           2,
           1,
           1,
           1,
           1,
           1,
           8,
           1,
           3,
           1,
           1,
           2,
           2,
           2,
           1,
           1,
           2,
           1,
           1,
           1,
           1,
           1
          ]
         },
         "node": {
          "label": [
           "Sci-Fi City<br>(100%)",
           "Go for a water/restroom break<br>(6.84%)",
           "Go to the rollercoasters<br>(31.34%)",
           "Go and shop for souvenirs<br>(2.85%)",
           "Sightseeing<br>(17.38%)",
           "Go to the Haunted House<br>(8.83%)",
           "Go to the Spinning rides<br>(5.98%)",
           "Go to the F&B outlet<br>(6.27%)",
           "Go to the Simulator rides<br>(20.51%)",
           "2: Go to the rollercoasters<br>(31.34%)",
           "3: Go and shop for souvenirs<br>(2.85%)",
           "3: Go to the Haunted House<br>(8.83%)",
           "2: Go for a water/restroom break<br>(6.84%)",
           "3: Go to the Spinning rides<br>(5.98%)",
           "3: Go to the F&B outlet<br>(6.27%)",
           "3: Go to the Simulator rides<br>(20.51%)",
           "2: Go to the Simulator rides<br>(20.51%)",
           "3: Go for a water/restroom break<br>(6.84%)",
           "2: Go and shop for souvenirs<br>(2.85%)",
           "2: Go to the Haunted House<br>(8.83%)",
           "3: Sightseeing<br>(17.38%)",
           "2: Go to the F&B outlet<br>(6.27%)",
           "3: Go to the rollercoasters<br>(31.34%)",
           "2: Go to the Spinning rides<br>(5.98%)",
           "2: Sightseeing<br>(17.38%)"
          ],
          "line": {
           "color": "black",
           "width": 0.5
          },
          "pad": 15,
          "thickness": 20
         },
         "type": "sankey"
        }
       ],
       "layout": {
        "font": {
         "size": 12
        },
        "template": {
         "data": {
          "bar": [
           {
            "error_x": {
             "color": "#2a3f5f"
            },
            "error_y": {
             "color": "#2a3f5f"
            },
            "marker": {
             "line": {
              "color": "#E5ECF6",
              "width": 0.5
             },
             "pattern": {
              "fillmode": "overlay",
              "size": 10,
              "solidity": 0.2
             }
            },
            "type": "bar"
           }
          ],
          "barpolar": [
           {
            "marker": {
             "line": {
              "color": "#E5ECF6",
              "width": 0.5
             },
             "pattern": {
              "fillmode": "overlay",
              "size": 10,
              "solidity": 0.2
             }
            },
            "type": "barpolar"
           }
          ],
          "carpet": [
           {
            "aaxis": {
             "endlinecolor": "#2a3f5f",
             "gridcolor": "white",
             "linecolor": "white",
             "minorgridcolor": "white",
             "startlinecolor": "#2a3f5f"
            },
            "baxis": {
             "endlinecolor": "#2a3f5f",
             "gridcolor": "white",
             "linecolor": "white",
             "minorgridcolor": "white",
             "startlinecolor": "#2a3f5f"
            },
            "type": "carpet"
           }
          ],
          "choropleth": [
           {
            "colorbar": {
             "outlinewidth": 0,
             "ticks": ""
            },
            "type": "choropleth"
           }
          ],
          "contour": [
           {
            "colorbar": {
             "outlinewidth": 0,
             "ticks": ""
            },
            "colorscale": [
             [
              0,
              "#0d0887"
             ],
             [
              0.1111111111111111,
              "#46039f"
             ],
             [
              0.2222222222222222,
              "#7201a8"
             ],
             [
              0.3333333333333333,
              "#9c179e"
             ],
             [
              0.4444444444444444,
              "#bd3786"
             ],
             [
              0.5555555555555556,
              "#d8576b"
             ],
             [
              0.6666666666666666,
              "#ed7953"
             ],
             [
              0.7777777777777778,
              "#fb9f3a"
             ],
             [
              0.8888888888888888,
              "#fdca26"
             ],
             [
              1,
              "#f0f921"
             ]
            ],
            "type": "contour"
           }
          ],
          "contourcarpet": [
           {
            "colorbar": {
             "outlinewidth": 0,
             "ticks": ""
            },
            "type": "contourcarpet"
           }
          ],
          "heatmap": [
           {
            "colorbar": {
             "outlinewidth": 0,
             "ticks": ""
            },
            "colorscale": [
             [
              0,
              "#0d0887"
             ],
             [
              0.1111111111111111,
              "#46039f"
             ],
             [
              0.2222222222222222,
              "#7201a8"
             ],
             [
              0.3333333333333333,
              "#9c179e"
             ],
             [
              0.4444444444444444,
              "#bd3786"
             ],
             [
              0.5555555555555556,
              "#d8576b"
             ],
             [
              0.6666666666666666,
              "#ed7953"
             ],
             [
              0.7777777777777778,
              "#fb9f3a"
             ],
             [
              0.8888888888888888,
              "#fdca26"
             ],
             [
              1,
              "#f0f921"
             ]
            ],
            "type": "heatmap"
           }
          ],
          "heatmapgl": [
           {
            "colorbar": {
             "outlinewidth": 0,
             "ticks": ""
            },
            "colorscale": [
             [
              0,
              "#0d0887"
             ],
             [
              0.1111111111111111,
              "#46039f"
             ],
             [
              0.2222222222222222,
              "#7201a8"
             ],
             [
              0.3333333333333333,
              "#9c179e"
             ],
             [
              0.4444444444444444,
              "#bd3786"
             ],
             [
              0.5555555555555556,
              "#d8576b"
             ],
             [
              0.6666666666666666,
              "#ed7953"
             ],
             [
              0.7777777777777778,
              "#fb9f3a"
             ],
             [
              0.8888888888888888,
              "#fdca26"
             ],
             [
              1,
              "#f0f921"
             ]
            ],
            "type": "heatmapgl"
           }
          ],
          "histogram": [
           {
            "marker": {
             "pattern": {
              "fillmode": "overlay",
              "size": 10,
              "solidity": 0.2
             }
            },
            "type": "histogram"
           }
          ],
          "histogram2d": [
           {
            "colorbar": {
             "outlinewidth": 0,
             "ticks": ""
            },
            "colorscale": [
             [
              0,
              "#0d0887"
             ],
             [
              0.1111111111111111,
              "#46039f"
             ],
             [
              0.2222222222222222,
              "#7201a8"
             ],
             [
              0.3333333333333333,
              "#9c179e"
             ],
             [
              0.4444444444444444,
              "#bd3786"
             ],
             [
              0.5555555555555556,
              "#d8576b"
             ],
             [
              0.6666666666666666,
              "#ed7953"
             ],
             [
              0.7777777777777778,
              "#fb9f3a"
             ],
             [
              0.8888888888888888,
              "#fdca26"
             ],
             [
              1,
              "#f0f921"
             ]
            ],
            "type": "histogram2d"
           }
          ],
          "histogram2dcontour": [
           {
            "colorbar": {
             "outlinewidth": 0,
             "ticks": ""
            },
            "colorscale": [
             [
              0,
              "#0d0887"
             ],
             [
              0.1111111111111111,
              "#46039f"
             ],
             [
              0.2222222222222222,
              "#7201a8"
             ],
             [
              0.3333333333333333,
              "#9c179e"
             ],
             [
              0.4444444444444444,
              "#bd3786"
             ],
             [
              0.5555555555555556,
              "#d8576b"
             ],
             [
              0.6666666666666666,
              "#ed7953"
             ],
             [
              0.7777777777777778,
              "#fb9f3a"
             ],
             [
              0.8888888888888888,
              "#fdca26"
             ],
             [
              1,
              "#f0f921"
             ]
            ],
            "type": "histogram2dcontour"
           }
          ],
          "mesh3d": [
           {
            "colorbar": {
             "outlinewidth": 0,
             "ticks": ""
            },
            "type": "mesh3d"
           }
          ],
          "parcoords": [
           {
            "line": {
             "colorbar": {
              "outlinewidth": 0,
              "ticks": ""
             }
            },
            "type": "parcoords"
           }
          ],
          "pie": [
           {
            "automargin": true,
            "type": "pie"
           }
          ],
          "scatter": [
           {
            "fillpattern": {
             "fillmode": "overlay",
             "size": 10,
             "solidity": 0.2
            },
            "type": "scatter"
           }
          ],
          "scatter3d": [
           {
            "line": {
             "colorbar": {
              "outlinewidth": 0,
              "ticks": ""
             }
            },
            "marker": {
             "colorbar": {
              "outlinewidth": 0,
              "ticks": ""
             }
            },
            "type": "scatter3d"
           }
          ],
          "scattercarpet": [
           {
            "marker": {
             "colorbar": {
              "outlinewidth": 0,
              "ticks": ""
             }
            },
            "type": "scattercarpet"
           }
          ],
          "scattergeo": [
           {
            "marker": {
             "colorbar": {
              "outlinewidth": 0,
              "ticks": ""
             }
            },
            "type": "scattergeo"
           }
          ],
          "scattergl": [
           {
            "marker": {
             "colorbar": {
              "outlinewidth": 0,
              "ticks": ""
             }
            },
            "type": "scattergl"
           }
          ],
          "scattermapbox": [
           {
            "marker": {
             "colorbar": {
              "outlinewidth": 0,
              "ticks": ""
             }
            },
            "type": "scattermapbox"
           }
          ],
          "scatterpolar": [
           {
            "marker": {
             "colorbar": {
              "outlinewidth": 0,
              "ticks": ""
             }
            },
            "type": "scatterpolar"
           }
          ],
          "scatterpolargl": [
           {
            "marker": {
             "colorbar": {
              "outlinewidth": 0,
              "ticks": ""
             }
            },
            "type": "scatterpolargl"
           }
          ],
          "scatterternary": [
           {
            "marker": {
             "colorbar": {
              "outlinewidth": 0,
              "ticks": ""
             }
            },
            "type": "scatterternary"
           }
          ],
          "surface": [
           {
            "colorbar": {
             "outlinewidth": 0,
             "ticks": ""
            },
            "colorscale": [
             [
              0,
              "#0d0887"
             ],
             [
              0.1111111111111111,
              "#46039f"
             ],
             [
              0.2222222222222222,
              "#7201a8"
             ],
             [
              0.3333333333333333,
              "#9c179e"
             ],
             [
              0.4444444444444444,
              "#bd3786"
             ],
             [
              0.5555555555555556,
              "#d8576b"
             ],
             [
              0.6666666666666666,
              "#ed7953"
             ],
             [
              0.7777777777777778,
              "#fb9f3a"
             ],
             [
              0.8888888888888888,
              "#fdca26"
             ],
             [
              1,
              "#f0f921"
             ]
            ],
            "type": "surface"
           }
          ],
          "table": [
           {
            "cells": {
             "fill": {
              "color": "#EBF0F8"
             },
             "line": {
              "color": "white"
             }
            },
            "header": {
             "fill": {
              "color": "#C8D4E3"
             },
             "line": {
              "color": "white"
             }
            },
            "type": "table"
           }
          ]
         },
         "layout": {
          "annotationdefaults": {
           "arrowcolor": "#2a3f5f",
           "arrowhead": 0,
           "arrowwidth": 1
          },
          "autotypenumbers": "strict",
          "coloraxis": {
           "colorbar": {
            "outlinewidth": 0,
            "ticks": ""
           }
          },
          "colorscale": {
           "diverging": [
            [
             0,
             "#8e0152"
            ],
            [
             0.1,
             "#c51b7d"
            ],
            [
             0.2,
             "#de77ae"
            ],
            [
             0.3,
             "#f1b6da"
            ],
            [
             0.4,
             "#fde0ef"
            ],
            [
             0.5,
             "#f7f7f7"
            ],
            [
             0.6,
             "#e6f5d0"
            ],
            [
             0.7,
             "#b8e186"
            ],
            [
             0.8,
             "#7fbc41"
            ],
            [
             0.9,
             "#4d9221"
            ],
            [
             1,
             "#276419"
            ]
           ],
           "sequential": [
            [
             0,
             "#0d0887"
            ],
            [
             0.1111111111111111,
             "#46039f"
            ],
            [
             0.2222222222222222,
             "#7201a8"
            ],
            [
             0.3333333333333333,
             "#9c179e"
            ],
            [
             0.4444444444444444,
             "#bd3786"
            ],
            [
             0.5555555555555556,
             "#d8576b"
            ],
            [
             0.6666666666666666,
             "#ed7953"
            ],
            [
             0.7777777777777778,
             "#fb9f3a"
            ],
            [
             0.8888888888888888,
             "#fdca26"
            ],
            [
             1,
             "#f0f921"
            ]
           ],
           "sequentialminus": [
            [
             0,
             "#0d0887"
            ],
            [
             0.1111111111111111,
             "#46039f"
            ],
            [
             0.2222222222222222,
             "#7201a8"
            ],
            [
             0.3333333333333333,
             "#9c179e"
            ],
            [
             0.4444444444444444,
             "#bd3786"
            ],
            [
             0.5555555555555556,
             "#d8576b"
            ],
            [
             0.6666666666666666,
             "#ed7953"
            ],
            [
             0.7777777777777778,
             "#fb9f3a"
            ],
            [
             0.8888888888888888,
             "#fdca26"
            ],
            [
             1,
             "#f0f921"
            ]
           ]
          },
          "colorway": [
           "#636efa",
           "#EF553B",
           "#00cc96",
           "#ab63fa",
           "#FFA15A",
           "#19d3f3",
           "#FF6692",
           "#B6E880",
           "#FF97FF",
           "#FECB52"
          ],
          "font": {
           "color": "#2a3f5f"
          },
          "geo": {
           "bgcolor": "white",
           "lakecolor": "white",
           "landcolor": "#E5ECF6",
           "showlakes": true,
           "showland": true,
           "subunitcolor": "white"
          },
          "hoverlabel": {
           "align": "left"
          },
          "hovermode": "closest",
          "mapbox": {
           "style": "light"
          },
          "paper_bgcolor": "white",
          "plot_bgcolor": "#E5ECF6",
          "polar": {
           "angularaxis": {
            "gridcolor": "white",
            "linecolor": "white",
            "ticks": ""
           },
           "bgcolor": "#E5ECF6",
           "radialaxis": {
            "gridcolor": "white",
            "linecolor": "white",
            "ticks": ""
           }
          },
          "scene": {
           "xaxis": {
            "backgroundcolor": "#E5ECF6",
            "gridcolor": "white",
            "gridwidth": 2,
            "linecolor": "white",
            "showbackground": true,
            "ticks": "",
            "zerolinecolor": "white"
           },
           "yaxis": {
            "backgroundcolor": "#E5ECF6",
            "gridcolor": "white",
            "gridwidth": 2,
            "linecolor": "white",
            "showbackground": true,
            "ticks": "",
            "zerolinecolor": "white"
           },
           "zaxis": {
            "backgroundcolor": "#E5ECF6",
            "gridcolor": "white",
            "gridwidth": 2,
            "linecolor": "white",
            "showbackground": true,
            "ticks": "",
            "zerolinecolor": "white"
           }
          },
          "shapedefaults": {
           "line": {
            "color": "#2a3f5f"
           }
          },
          "ternary": {
           "aaxis": {
            "gridcolor": "white",
            "linecolor": "white",
            "ticks": ""
           },
           "baxis": {
            "gridcolor": "white",
            "linecolor": "white",
            "ticks": ""
           },
           "bgcolor": "#E5ECF6",
           "caxis": {
            "gridcolor": "white",
            "linecolor": "white",
            "ticks": ""
           }
          },
          "title": {
           "x": 0.05
          },
          "xaxis": {
           "automargin": true,
           "gridcolor": "white",
           "linecolor": "white",
           "ticks": "",
           "title": {
            "standoff": 15
           },
           "zerolinecolor": "white",
           "zerolinewidth": 2
          },
          "yaxis": {
           "automargin": true,
           "gridcolor": "white",
           "linecolor": "white",
           "ticks": "",
           "title": {
            "standoff": 15
           },
           "zerolinecolor": "white",
           "zerolinewidth": 2
          }
         }
        },
        "title": {
         "text": "Theme Park Activity Flow from Sci-Fi City"
        }
       }
      }
     },
     "metadata": {},
     "output_type": "display_data"
    }
   ],
   "source": [
    "import pandas as pd\n",
    "import plotly.graph_objects as go\n",
    "from collections import Counter\n",
    "\n",
    "# Load the dataset\n",
    "file_path = '../data/Updated_Theme_Parks_Survey_Responses A14.csv'\n",
    "df = pd.read_csv(file_path)\n",
    "\n",
    "# Define the list of all possible activities (excluding \"Go to the Water-based rides\" and \"Go to the child-friendly rides\")\n",
    "all_possible_activities = [\n",
    "    \"Go to the rollercoasters\", \"Go to the F&B outlet\", \n",
    "    \"Go and shop for souvenirs\", \"Go for a water/restroom break\", \n",
    "    \"Go to the Haunted House\", \"Go to the Simulator rides\", \n",
    "    \"Sightseeing\", \"Go to the Spinning rides\"\n",
    "]\n",
    "\n",
    "# Activity columns to check (only first 3 activities)\n",
    "activity_columns = [\n",
    "    'first_activity', 'second_activity', 'third_activity'\n",
    "]\n",
    "\n",
    "# Ensure each activity in the columns is valid and does not change the name\n",
    "for col in activity_columns:\n",
    "    df[col] = df[col].str.strip().fillna('Na')\n",
    "\n",
    "# Initialize the list for valid activities\n",
    "valid_activity_df = []\n",
    "\n",
    "# Process each row and find the valid activities\n",
    "for index, row in df.iterrows():\n",
    "    activity_indices = []\n",
    "    for i in range(len(activity_columns)):  # Process only the first 3 activity columns\n",
    "        activity_name = row[activity_columns[i]]\n",
    "        if activity_name in all_possible_activities:\n",
    "            activity_indices.append(activity_name)\n",
    "        else:\n",
    "            activity_indices.append('Na')\n",
    "\n",
    "    # Ensure the activity_indices list contains only valid activities\n",
    "    valid_activity_df.append(activity_indices)\n",
    "\n",
    "# Create a new dataframe with the valid activities (first 3 activities)\n",
    "valid_activity_df = pd.DataFrame(valid_activity_df, columns=[f\"activity_{i+1}\" for i in range(len(activity_columns))])\n",
    "\n",
    "# Remove rows where the first activity is 'Na' (this filters out empty or invalid rows)\n",
    "valid_activity_df = valid_activity_df[valid_activity_df['activity_1'] != \"Na\"]\n",
    "\n",
    "# Flatten the activity columns and count the frequency of each activity\n",
    "activities = valid_activity_df.values.flatten().tolist()\n",
    "activity_counts = Counter([activity for activity in activities if activity != \"Na\"])\n",
    "\n",
    "# Get all possible activities (to ensure the Sankey diagram includes all)\n",
    "top_activities = all_possible_activities\n",
    "\n",
    "# Filter the dataframe to include only valid activities\n",
    "filtered_df = valid_activity_df.apply(lambda col: col.map(lambda x: x if x in top_activities else 'Na'))\n",
    "\n",
    "# Collect all activities for the nodes (excluding \"Na\")\n",
    "activities = filtered_df.values.flatten().tolist()\n",
    "activities = [activity for activity in activities if activity != \"Na\"]\n",
    "\n",
    "# Set the start node as \"Sci-Fi City\"\n",
    "start_node = \"Sci-Fi City\"\n",
    "nodes = [start_node] + list(pd.Series(activities).unique())\n",
    "\n",
    "# Create a dictionary for activity to index mapping\n",
    "activity_to_index = {activity: index for index, activity in enumerate(nodes)}\n",
    "\n",
    "# Initialize the list to count occurrences of each transition (source-target pair)\n",
    "link_counts = Counter()\n",
    "\n",
    "# Loop through the dataframe to create links for the Sankey diagram\n",
    "for index, row in filtered_df.iterrows():\n",
    "    first = row['activity_1']\n",
    "    second = row['activity_2']\n",
    "    third = row['activity_3']\n",
    "\n",
    "    # Add \"2 - \", \"3 - \" to the activities\n",
    "    second = f\"2 - {second}\" if second != \"Na\" else \"Na\"\n",
    "    third = f\"3 - {third}\" if third != \"Na\" else \"Na\"\n",
    "\n",
    "    # Add to the dictionary if second or third prefixed activities are not in activity_to_index\n",
    "    for activity in [second, third]:\n",
    "        if activity != \"Na\" and activity not in activity_to_index:\n",
    "            activity_to_index[activity] = len(activity_to_index)\n",
    "            nodes.append(activity)\n",
    "\n",
    "    # Track links between consecutive activities, ensuring they are valid (not \"Na\")\n",
    "    if first != \"Na\":\n",
    "        link_counts[(start_node, first)] += 1\n",
    "    if first != \"Na\" and second != \"Na\" and first != second:\n",
    "        link_counts[(first, second)] += 1\n",
    "    if second != \"Na\" and third != \"Na\" and second != third:\n",
    "        link_counts[(second, third)] += 1\n",
    "\n",
    "# Calculate percentages for each activity in the dataset\n",
    "total_activities = sum(activity_counts.values())\n",
    "activity_percentage = {activity: (count / total_activities) * 100 for activity, count in activity_counts.items()}\n",
    "\n",
    "# Format the node labels to include percentages, ensuring \"Sci-Fi City\" shows 100%\n",
    "nodes_with_percentage = []\n",
    "for node in nodes:\n",
    "    if node == start_node:\n",
    "        nodes_with_percentage.append(f\"{node}<br>(100%)\")\n",
    "    elif \" - \" in node:\n",
    "        # Format with line break for prefixed nodes like \"2 - \", \"3 - \", etc.\n",
    "        base_activity = node.split(\" - \")[1]\n",
    "        percentage = activity_percentage.get(base_activity, 0)\n",
    "        nodes_with_percentage.append(f\"{node.split(' - ')[0]}: {base_activity}<br>({percentage:.2f}%)\")\n",
    "    else:\n",
    "        # Format all other nodes with a line break between the activity name and percentage\n",
    "        percentage = activity_percentage.get(node, 0)\n",
    "        nodes_with_percentage.append(f\"{node}<br>({percentage:.2f}%)\")\n",
    "\n",
    "# Prepare lists for sources, targets, and values based on the link counts\n",
    "sources = []\n",
    "targets = []\n",
    "values = []\n",
    "\n",
    "for (source, target), count in link_counts.items():\n",
    "    if source != \"Na\" and target != \"Na\":  # Only add links that are valid\n",
    "        sources.append(activity_to_index[source])\n",
    "        targets.append(activity_to_index[target])\n",
    "        values.append(count)\n",
    "\n",
    "# Create the Sankey diagram with updated labels\n",
    "fig = go.Figure(go.Sankey(\n",
    "    node=dict(\n",
    "        pad=15,\n",
    "        thickness=20,\n",
    "        line=dict(color=\"black\", width=0.5),\n",
    "        label=nodes_with_percentage\n",
    "    ),\n",
    "    link=dict(\n",
    "        source=sources,\n",
    "        target=targets,\n",
    "        value=values\n",
    "    )\n",
    "))\n",
    "\n",
    "# Update layout for better visualization\n",
    "fig.update_layout(title=\"Theme Park Activity Flow from Sci-Fi City\", font_size=12)\n",
    "\n",
    "# Show the Sankey diagram\n",
    "fig.show()\n"
   ]
  },
  {
   "cell_type": "markdown",
   "metadata": {},
   "source": [
    "Theme Park Activity Flow from Ancient Egypt"
   ]
  },
  {
   "cell_type": "code",
   "execution_count": 54,
   "metadata": {},
   "outputs": [
    {
     "data": {
      "application/vnd.plotly.v1+json": {
       "config": {
        "plotlyServerURL": "https://plot.ly"
       },
       "data": [
        {
         "link": {
          "source": [
           0,
           1,
           2,
           3,
           4,
           0,
           6,
           7,
           8,
           9,
           0,
           11,
           12,
           13,
           14,
           0,
           15,
           16,
           17,
           9,
           15,
           12,
           17,
           19,
           15,
           2,
           21,
           6,
           12,
           2,
           17,
           21,
           22,
           21,
           24,
           6,
           25,
           17,
           22,
           9,
           19,
           11,
           19,
           4,
           6,
           2,
           13,
           2,
           8,
           24,
           2,
           26,
           15,
           25,
           8,
           19,
           9,
           15,
           8,
           14,
           24,
           7,
           14,
           22,
           13,
           11,
           11,
           28,
           13,
           7,
           19,
           7,
           16,
           9,
           1,
           21,
           15,
           8,
           0,
           29,
           0,
           30,
           3,
           16,
           6,
           28,
           26,
           28,
           12,
           24,
           29,
           26,
           3,
           4,
           28,
           30,
           12,
           14,
           12,
           28,
           24,
           26,
           21,
           24,
           25,
           6,
           8,
           17,
           14,
           16,
           4,
           25,
           22,
           21,
           26,
           3,
           9,
           25,
           3,
           28,
           7
          ],
          "target": [
           1,
           2,
           3,
           4,
           5,
           6,
           7,
           8,
           9,
           10,
           11,
           12,
           13,
           14,
           10,
           15,
           16,
           17,
           9,
           18,
           12,
           17,
           19,
           20,
           2,
           21,
           9,
           12,
           21,
           17,
           4,
           22,
           23,
           24,
           18,
           25,
           17,
           22,
           10,
           20,
           10,
           2,
           23,
           10,
           2,
           13,
           9,
           8,
           24,
           10,
           26,
           22,
           25,
           3,
           19,
           5,
           23,
           7,
           14,
           23,
           20,
           13,
           5,
           27,
           19,
           7,
           28,
           13,
           22,
           17,
           18,
           21,
           21,
           5,
           12,
           19,
           28,
           22,
           29,
           16,
           30,
           25,
           19,
           8,
           28,
           17,
           19,
           21,
           8,
           27,
           2,
           14,
           24,
           23,
           26,
           12,
           26,
           18,
           3,
           3,
           23,
           4,
           14,
           5,
           21,
           16,
           4,
           14,
           20,
           26,
           18,
           26,
           5,
           4,
           9,
           9,
           27,
           13,
           22,
           8,
           26
          ],
          "value": [
           7,
           2,
           4,
           15,
           6,
           46,
           7,
           10,
           2,
           16,
           9,
           1,
           1,
           14,
           4,
           89,
           13,
           14,
           9,
           7,
           16,
           3,
           19,
           3,
           15,
           7,
           18,
           4,
           18,
           14,
           6,
           2,
           4,
           6,
           4,
           10,
           1,
           1,
           4,
           8,
           24,
           5,
           11,
           15,
           17,
           2,
           3,
           3,
           7,
           3,
           10,
           5,
           6,
           15,
           2,
           2,
           4,
           14,
           2,
           10,
           2,
           5,
           3,
           3,
           9,
           2,
           1,
           19,
           2,
           1,
           2,
           5,
           1,
           1,
           5,
           5,
           24,
           1,
           2,
           1,
           4,
           3,
           2,
           1,
           5,
           4,
           5,
           3,
           1,
           1,
           1,
           2,
           1,
           5,
           1,
           1,
           1,
           1,
           3,
           1,
           2,
           2,
           1,
           1,
           1,
           3,
           3,
           2,
           2,
           1,
           1,
           1,
           1,
           2,
           1,
           4,
           1,
           1,
           1,
           2,
           1
          ]
         },
         "node": {
          "label": [
           "Ancient Egypt<br>(100%)",
           "Water/restroom break<br>(4.46%)",
           "Rollercoasters<br>(25.48%)",
           "Shop for souvenirs<br>(14.65%)",
           "Shop for souvenirs<br>(17.83%)",
           "Shop for souvenirs<br>(8.92%)",
           "Sightseeing<br>(29.30%)",
           "Haunted House<br>(14.65%)",
           "Haunted House<br>(10.83%)",
           "Water/restroom break<br>(23.57%)",
           "Water/restroom break<br>(42.04%)",
           "Haunted House<br>(5.73%)",
           "Water/restroom break<br>(17.20%)",
           "Sightseeing<br>(17.83%)",
           "Sightseeing<br>(13.38%)",
           "Rollercoasters<br>(56.69%)",
           "F&B outlet<br>(10.83%)",
           "F&B outlet<br>(23.57%)",
           "Haunted House<br>(9.55%)",
           "F&B outlet<br>(26.75%)",
           "Sightseeing<br>(9.55%)",
           "Water/restroom break<br>(22.29%)",
           "Rollercoasters<br>(7.64%)",
           "F&B outlet<br>(22.93%)",
           "Haunted House<br>(8.92%)",
           "Shop for souvenirs<br>(12.10%)",
           "Rollercoasters<br>(9.55%)",
           "Rollercoasters<br>(3.18%)",
           "Sightseeing<br>(19.11%)",
           "F&B outlet<br>(1.27%)",
           "Shop for souvenirs<br>(2.55%)"
          ],
          "line": {
           "color": "black",
           "width": 0.5
          },
          "pad": 15,
          "thickness": 20
         },
         "type": "sankey"
        }
       ],
       "layout": {
        "font": {
         "size": 12
        },
        "template": {
         "data": {
          "bar": [
           {
            "error_x": {
             "color": "#2a3f5f"
            },
            "error_y": {
             "color": "#2a3f5f"
            },
            "marker": {
             "line": {
              "color": "#E5ECF6",
              "width": 0.5
             },
             "pattern": {
              "fillmode": "overlay",
              "size": 10,
              "solidity": 0.2
             }
            },
            "type": "bar"
           }
          ],
          "barpolar": [
           {
            "marker": {
             "line": {
              "color": "#E5ECF6",
              "width": 0.5
             },
             "pattern": {
              "fillmode": "overlay",
              "size": 10,
              "solidity": 0.2
             }
            },
            "type": "barpolar"
           }
          ],
          "carpet": [
           {
            "aaxis": {
             "endlinecolor": "#2a3f5f",
             "gridcolor": "white",
             "linecolor": "white",
             "minorgridcolor": "white",
             "startlinecolor": "#2a3f5f"
            },
            "baxis": {
             "endlinecolor": "#2a3f5f",
             "gridcolor": "white",
             "linecolor": "white",
             "minorgridcolor": "white",
             "startlinecolor": "#2a3f5f"
            },
            "type": "carpet"
           }
          ],
          "choropleth": [
           {
            "colorbar": {
             "outlinewidth": 0,
             "ticks": ""
            },
            "type": "choropleth"
           }
          ],
          "contour": [
           {
            "colorbar": {
             "outlinewidth": 0,
             "ticks": ""
            },
            "colorscale": [
             [
              0,
              "#0d0887"
             ],
             [
              0.1111111111111111,
              "#46039f"
             ],
             [
              0.2222222222222222,
              "#7201a8"
             ],
             [
              0.3333333333333333,
              "#9c179e"
             ],
             [
              0.4444444444444444,
              "#bd3786"
             ],
             [
              0.5555555555555556,
              "#d8576b"
             ],
             [
              0.6666666666666666,
              "#ed7953"
             ],
             [
              0.7777777777777778,
              "#fb9f3a"
             ],
             [
              0.8888888888888888,
              "#fdca26"
             ],
             [
              1,
              "#f0f921"
             ]
            ],
            "type": "contour"
           }
          ],
          "contourcarpet": [
           {
            "colorbar": {
             "outlinewidth": 0,
             "ticks": ""
            },
            "type": "contourcarpet"
           }
          ],
          "heatmap": [
           {
            "colorbar": {
             "outlinewidth": 0,
             "ticks": ""
            },
            "colorscale": [
             [
              0,
              "#0d0887"
             ],
             [
              0.1111111111111111,
              "#46039f"
             ],
             [
              0.2222222222222222,
              "#7201a8"
             ],
             [
              0.3333333333333333,
              "#9c179e"
             ],
             [
              0.4444444444444444,
              "#bd3786"
             ],
             [
              0.5555555555555556,
              "#d8576b"
             ],
             [
              0.6666666666666666,
              "#ed7953"
             ],
             [
              0.7777777777777778,
              "#fb9f3a"
             ],
             [
              0.8888888888888888,
              "#fdca26"
             ],
             [
              1,
              "#f0f921"
             ]
            ],
            "type": "heatmap"
           }
          ],
          "heatmapgl": [
           {
            "colorbar": {
             "outlinewidth": 0,
             "ticks": ""
            },
            "colorscale": [
             [
              0,
              "#0d0887"
             ],
             [
              0.1111111111111111,
              "#46039f"
             ],
             [
              0.2222222222222222,
              "#7201a8"
             ],
             [
              0.3333333333333333,
              "#9c179e"
             ],
             [
              0.4444444444444444,
              "#bd3786"
             ],
             [
              0.5555555555555556,
              "#d8576b"
             ],
             [
              0.6666666666666666,
              "#ed7953"
             ],
             [
              0.7777777777777778,
              "#fb9f3a"
             ],
             [
              0.8888888888888888,
              "#fdca26"
             ],
             [
              1,
              "#f0f921"
             ]
            ],
            "type": "heatmapgl"
           }
          ],
          "histogram": [
           {
            "marker": {
             "pattern": {
              "fillmode": "overlay",
              "size": 10,
              "solidity": 0.2
             }
            },
            "type": "histogram"
           }
          ],
          "histogram2d": [
           {
            "colorbar": {
             "outlinewidth": 0,
             "ticks": ""
            },
            "colorscale": [
             [
              0,
              "#0d0887"
             ],
             [
              0.1111111111111111,
              "#46039f"
             ],
             [
              0.2222222222222222,
              "#7201a8"
             ],
             [
              0.3333333333333333,
              "#9c179e"
             ],
             [
              0.4444444444444444,
              "#bd3786"
             ],
             [
              0.5555555555555556,
              "#d8576b"
             ],
             [
              0.6666666666666666,
              "#ed7953"
             ],
             [
              0.7777777777777778,
              "#fb9f3a"
             ],
             [
              0.8888888888888888,
              "#fdca26"
             ],
             [
              1,
              "#f0f921"
             ]
            ],
            "type": "histogram2d"
           }
          ],
          "histogram2dcontour": [
           {
            "colorbar": {
             "outlinewidth": 0,
             "ticks": ""
            },
            "colorscale": [
             [
              0,
              "#0d0887"
             ],
             [
              0.1111111111111111,
              "#46039f"
             ],
             [
              0.2222222222222222,
              "#7201a8"
             ],
             [
              0.3333333333333333,
              "#9c179e"
             ],
             [
              0.4444444444444444,
              "#bd3786"
             ],
             [
              0.5555555555555556,
              "#d8576b"
             ],
             [
              0.6666666666666666,
              "#ed7953"
             ],
             [
              0.7777777777777778,
              "#fb9f3a"
             ],
             [
              0.8888888888888888,
              "#fdca26"
             ],
             [
              1,
              "#f0f921"
             ]
            ],
            "type": "histogram2dcontour"
           }
          ],
          "mesh3d": [
           {
            "colorbar": {
             "outlinewidth": 0,
             "ticks": ""
            },
            "type": "mesh3d"
           }
          ],
          "parcoords": [
           {
            "line": {
             "colorbar": {
              "outlinewidth": 0,
              "ticks": ""
             }
            },
            "type": "parcoords"
           }
          ],
          "pie": [
           {
            "automargin": true,
            "type": "pie"
           }
          ],
          "scatter": [
           {
            "fillpattern": {
             "fillmode": "overlay",
             "size": 10,
             "solidity": 0.2
            },
            "type": "scatter"
           }
          ],
          "scatter3d": [
           {
            "line": {
             "colorbar": {
              "outlinewidth": 0,
              "ticks": ""
             }
            },
            "marker": {
             "colorbar": {
              "outlinewidth": 0,
              "ticks": ""
             }
            },
            "type": "scatter3d"
           }
          ],
          "scattercarpet": [
           {
            "marker": {
             "colorbar": {
              "outlinewidth": 0,
              "ticks": ""
             }
            },
            "type": "scattercarpet"
           }
          ],
          "scattergeo": [
           {
            "marker": {
             "colorbar": {
              "outlinewidth": 0,
              "ticks": ""
             }
            },
            "type": "scattergeo"
           }
          ],
          "scattergl": [
           {
            "marker": {
             "colorbar": {
              "outlinewidth": 0,
              "ticks": ""
             }
            },
            "type": "scattergl"
           }
          ],
          "scattermapbox": [
           {
            "marker": {
             "colorbar": {
              "outlinewidth": 0,
              "ticks": ""
             }
            },
            "type": "scattermapbox"
           }
          ],
          "scatterpolar": [
           {
            "marker": {
             "colorbar": {
              "outlinewidth": 0,
              "ticks": ""
             }
            },
            "type": "scatterpolar"
           }
          ],
          "scatterpolargl": [
           {
            "marker": {
             "colorbar": {
              "outlinewidth": 0,
              "ticks": ""
             }
            },
            "type": "scatterpolargl"
           }
          ],
          "scatterternary": [
           {
            "marker": {
             "colorbar": {
              "outlinewidth": 0,
              "ticks": ""
             }
            },
            "type": "scatterternary"
           }
          ],
          "surface": [
           {
            "colorbar": {
             "outlinewidth": 0,
             "ticks": ""
            },
            "colorscale": [
             [
              0,
              "#0d0887"
             ],
             [
              0.1111111111111111,
              "#46039f"
             ],
             [
              0.2222222222222222,
              "#7201a8"
             ],
             [
              0.3333333333333333,
              "#9c179e"
             ],
             [
              0.4444444444444444,
              "#bd3786"
             ],
             [
              0.5555555555555556,
              "#d8576b"
             ],
             [
              0.6666666666666666,
              "#ed7953"
             ],
             [
              0.7777777777777778,
              "#fb9f3a"
             ],
             [
              0.8888888888888888,
              "#fdca26"
             ],
             [
              1,
              "#f0f921"
             ]
            ],
            "type": "surface"
           }
          ],
          "table": [
           {
            "cells": {
             "fill": {
              "color": "#EBF0F8"
             },
             "line": {
              "color": "white"
             }
            },
            "header": {
             "fill": {
              "color": "#C8D4E3"
             },
             "line": {
              "color": "white"
             }
            },
            "type": "table"
           }
          ]
         },
         "layout": {
          "annotationdefaults": {
           "arrowcolor": "#2a3f5f",
           "arrowhead": 0,
           "arrowwidth": 1
          },
          "autotypenumbers": "strict",
          "coloraxis": {
           "colorbar": {
            "outlinewidth": 0,
            "ticks": ""
           }
          },
          "colorscale": {
           "diverging": [
            [
             0,
             "#8e0152"
            ],
            [
             0.1,
             "#c51b7d"
            ],
            [
             0.2,
             "#de77ae"
            ],
            [
             0.3,
             "#f1b6da"
            ],
            [
             0.4,
             "#fde0ef"
            ],
            [
             0.5,
             "#f7f7f7"
            ],
            [
             0.6,
             "#e6f5d0"
            ],
            [
             0.7,
             "#b8e186"
            ],
            [
             0.8,
             "#7fbc41"
            ],
            [
             0.9,
             "#4d9221"
            ],
            [
             1,
             "#276419"
            ]
           ],
           "sequential": [
            [
             0,
             "#0d0887"
            ],
            [
             0.1111111111111111,
             "#46039f"
            ],
            [
             0.2222222222222222,
             "#7201a8"
            ],
            [
             0.3333333333333333,
             "#9c179e"
            ],
            [
             0.4444444444444444,
             "#bd3786"
            ],
            [
             0.5555555555555556,
             "#d8576b"
            ],
            [
             0.6666666666666666,
             "#ed7953"
            ],
            [
             0.7777777777777778,
             "#fb9f3a"
            ],
            [
             0.8888888888888888,
             "#fdca26"
            ],
            [
             1,
             "#f0f921"
            ]
           ],
           "sequentialminus": [
            [
             0,
             "#0d0887"
            ],
            [
             0.1111111111111111,
             "#46039f"
            ],
            [
             0.2222222222222222,
             "#7201a8"
            ],
            [
             0.3333333333333333,
             "#9c179e"
            ],
            [
             0.4444444444444444,
             "#bd3786"
            ],
            [
             0.5555555555555556,
             "#d8576b"
            ],
            [
             0.6666666666666666,
             "#ed7953"
            ],
            [
             0.7777777777777778,
             "#fb9f3a"
            ],
            [
             0.8888888888888888,
             "#fdca26"
            ],
            [
             1,
             "#f0f921"
            ]
           ]
          },
          "colorway": [
           "#636efa",
           "#EF553B",
           "#00cc96",
           "#ab63fa",
           "#FFA15A",
           "#19d3f3",
           "#FF6692",
           "#B6E880",
           "#FF97FF",
           "#FECB52"
          ],
          "font": {
           "color": "#2a3f5f"
          },
          "geo": {
           "bgcolor": "white",
           "lakecolor": "white",
           "landcolor": "#E5ECF6",
           "showlakes": true,
           "showland": true,
           "subunitcolor": "white"
          },
          "hoverlabel": {
           "align": "left"
          },
          "hovermode": "closest",
          "mapbox": {
           "style": "light"
          },
          "paper_bgcolor": "white",
          "plot_bgcolor": "#E5ECF6",
          "polar": {
           "angularaxis": {
            "gridcolor": "white",
            "linecolor": "white",
            "ticks": ""
           },
           "bgcolor": "#E5ECF6",
           "radialaxis": {
            "gridcolor": "white",
            "linecolor": "white",
            "ticks": ""
           }
          },
          "scene": {
           "xaxis": {
            "backgroundcolor": "#E5ECF6",
            "gridcolor": "white",
            "gridwidth": 2,
            "linecolor": "white",
            "showbackground": true,
            "ticks": "",
            "zerolinecolor": "white"
           },
           "yaxis": {
            "backgroundcolor": "#E5ECF6",
            "gridcolor": "white",
            "gridwidth": 2,
            "linecolor": "white",
            "showbackground": true,
            "ticks": "",
            "zerolinecolor": "white"
           },
           "zaxis": {
            "backgroundcolor": "#E5ECF6",
            "gridcolor": "white",
            "gridwidth": 2,
            "linecolor": "white",
            "showbackground": true,
            "ticks": "",
            "zerolinecolor": "white"
           }
          },
          "shapedefaults": {
           "line": {
            "color": "#2a3f5f"
           }
          },
          "ternary": {
           "aaxis": {
            "gridcolor": "white",
            "linecolor": "white",
            "ticks": ""
           },
           "baxis": {
            "gridcolor": "white",
            "linecolor": "white",
            "ticks": ""
           },
           "bgcolor": "#E5ECF6",
           "caxis": {
            "gridcolor": "white",
            "linecolor": "white",
            "ticks": ""
           }
          },
          "title": {
           "x": 0.05
          },
          "xaxis": {
           "automargin": true,
           "gridcolor": "white",
           "linecolor": "white",
           "ticks": "",
           "title": {
            "standoff": 15
           },
           "zerolinecolor": "white",
           "zerolinewidth": 2
          },
          "yaxis": {
           "automargin": true,
           "gridcolor": "white",
           "linecolor": "white",
           "ticks": "",
           "title": {
            "standoff": 15
           },
           "zerolinecolor": "white",
           "zerolinewidth": 2
          }
         }
        },
        "title": {
         "text": "Ancient Egypt Zone Activity Flow"
        }
       }
      }
     },
     "metadata": {},
     "output_type": "display_data"
    }
   ],
   "source": [
    "import pandas as pd\n",
    "import plotly.graph_objects as go\n",
    "from collections import Counter\n",
    "\n",
    "# Load the dataset\n",
    "file_path = '../data/Updated_Theme_Parks_Survey_Responses A14.csv'\n",
    "df = pd.read_csv(file_path)\n",
    "\n",
    "# Define the list of valid Ancient Egypt activities (simplified names)\n",
    "ancient_egypt_activities = [\n",
    "    \"Rollercoasters\", \"F&B outlet\", \"Shop for souvenirs\", \n",
    "    \"Water/restroom break\", \"Haunted House\", \"Sightseeing\"\n",
    "]\n",
    "\n",
    "# Mapping from dataset activity names to simplified activity names\n",
    "activity_mapping = {\n",
    "    \"Go to the rollercoasters\": \"Rollercoasters\",\n",
    "    \"Go to the F&B outlet\": \"F&B outlet\",\n",
    "    \"Go and shop for souvenirs\": \"Shop for souvenirs\",\n",
    "    \"Go for a water/restroom break\": \"Water/restroom break\",\n",
    "    \"Go to the Haunted House\": \"Haunted House\",\n",
    "    \"Sightseeing\": \"Sightseeing\"\n",
    "}\n",
    "\n",
    "# Activity columns to check\n",
    "activity_columns = [\n",
    "    'first_activity', 'second_activity', 'third_activity', 'fourth_activity', 'fifth_activity', \n",
    "    'sixth_activity', 'seventh_activity', 'eighth_activity', 'ninth_activity', 'tenth_activity',\n",
    "    'eleventh_activity', 'twelfth_activity', 'thirteenth_activity', 'fourteenth_activity'\n",
    "]\n",
    "\n",
    "# Clean the activity columns (strip and handle Na values)\n",
    "for col in activity_columns:\n",
    "    df[col] = df[col].str.strip().fillna('Na')\n",
    "\n",
    "# Initialize the list for valid activities (up to the 5th activity)\n",
    "valid_activity_df = []\n",
    "\n",
    "# Process each row and find the valid activities for Ancient Egypt\n",
    "for index, row in df.iterrows():\n",
    "    activity_indices = []\n",
    "    count = 0\n",
    "    \n",
    "    # Go through the first 5 activities and select the valid ones\n",
    "    for i in range(5):  # Only check the first 5 activities\n",
    "        activity_name = row[activity_columns[i]]\n",
    "        \n",
    "        # If activity is valid, add it, otherwise skip to the next\n",
    "        if activity_name in activity_mapping:\n",
    "            activity_indices.append(activity_mapping[activity_name])\n",
    "            count += 1\n",
    "        elif count < 5:  # If we haven't yet captured 5 valid activities, get the next valid one\n",
    "            for j in range(i+1, len(activity_columns)):\n",
    "                next_activity_name = row[activity_columns[j]]\n",
    "                if next_activity_name in activity_mapping:\n",
    "                    activity_indices.append(activity_mapping[next_activity_name])\n",
    "                    count += 1\n",
    "                    break\n",
    "    \n",
    "    # Ensure the activity_indices has exactly 5 activities, filling up missing ones with 'Na'\n",
    "    while len(activity_indices) < 5:\n",
    "        activity_indices.append('Na')\n",
    "\n",
    "    valid_activity_df.append(activity_indices)\n",
    "\n",
    "# Create a new dataframe with the valid activities (up to 5 activities)\n",
    "valid_activity_df = pd.DataFrame(valid_activity_df, columns=[f\"activity_{i+1}\" for i in range(5)])\n",
    "\n",
    "# Remove rows where the first activity is 'Na' (this filters out empty or invalid rows)\n",
    "valid_activity_df = valid_activity_df[valid_activity_df['activity_1'] != \"Na\"]\n",
    "\n",
    "# Calculate percentage for each activity in each of the columns (activity_1 to activity_5)\n",
    "for col in ['activity_1', 'activity_2', 'activity_3', 'activity_4', 'activity_5']:\n",
    "    activity_percentage = valid_activity_df[col].value_counts(normalize=True) * 100\n",
    "    # Update the label with the percentage for each activity\n",
    "    valid_activity_df[col] = valid_activity_df[col].map(lambda x: f\"{x}<br>({activity_percentage.get(x, 0):.2f}%)\" if x != 'Na' else 'Na')\n",
    "\n",
    "# Collect all activities for the nodes (excluding \"Na\")\n",
    "activities = valid_activity_df.values.flatten().tolist()\n",
    "activities = [activity for activity in activities if activity != \"Na\"]\n",
    "\n",
    "# Add the start node \"Ancient Egypt\" to the nodes list\n",
    "start_node = \"Ancient Egypt\"\n",
    "nodes = [start_node] + list(pd.Series(activities).unique())\n",
    "\n",
    "# Create a dictionary for activity to index mapping\n",
    "activity_to_index = {activity: index for index, activity in enumerate(nodes)}\n",
    "\n",
    "# Manually add 100% for Ancient Egypt\n",
    "nodes[0] = f\"{start_node}<br>(100%)\"\n",
    "\n",
    "# Initialize the list to count occurrences of each transition (source-target pair)\n",
    "link_counts = Counter()\n",
    "\n",
    "# Loop through the dataframe to create links for the Sankey diagram\n",
    "for index, row in valid_activity_df.iterrows():\n",
    "    first = row['activity_1']\n",
    "    second = row['activity_2']\n",
    "    third = row['activity_3']\n",
    "    fourth = row['activity_4']\n",
    "    fifth = row['activity_5']\n",
    "\n",
    "    # Add to the dictionary if second, third, fourth, or fifth activities are not in activity_to_index\n",
    "    for activity in [second, third, fourth, fifth]:\n",
    "        if activity != \"Na\" and activity not in activity_to_index:\n",
    "            activity_to_index[activity] = len(activity_to_index)\n",
    "            nodes.append(activity)\n",
    "\n",
    "    # Track links between consecutive activities, ensuring they are valid (not \"Na\")\n",
    "    if first != \"Na\":\n",
    "        link_counts[(start_node, first)] += 1\n",
    "    if first != \"Na\" and second != \"Na\" and first != second:\n",
    "        link_counts[(first, second)] += 1\n",
    "    if second != \"Na\" and third != \"Na\" and second != third:\n",
    "        link_counts[(second, third)] += 1\n",
    "    if third != \"Na\" and fourth != \"Na\" and third != fourth:\n",
    "        link_counts[(third, fourth)] += 1\n",
    "    if fourth != \"Na\" and fifth != \"Na\" and fourth != fifth:\n",
    "        link_counts[(fourth, fifth)] += 1\n",
    "\n",
    "# Prepare lists for sources, targets, and values based on the link counts\n",
    "sources = []\n",
    "targets = []\n",
    "values = []\n",
    "\n",
    "for (source, target), count in link_counts.items():\n",
    "    if source != \"Na\" and target != \"Na\":  # Only add links that are valid\n",
    "        sources.append(activity_to_index[source])\n",
    "        targets.append(activity_to_index[target])\n",
    "        values.append(count)\n",
    "\n",
    "# Create the Sankey diagram\n",
    "fig = go.Figure(go.Sankey(\n",
    "    node=dict(\n",
    "        pad=15,\n",
    "        thickness=20,\n",
    "        line=dict(color=\"black\", width=0.5),\n",
    "        label=nodes\n",
    "    ),\n",
    "    link=dict(\n",
    "        source=sources,\n",
    "        target=targets,\n",
    "        value=values\n",
    "    )\n",
    "))\n",
    "\n",
    "# Update layout for better visualization\n",
    "fig.update_layout(title=\"Ancient Egypt Zone Activity Flow\", font_size=12)\n",
    "\n",
    "# Show the Sankey diagram\n",
    "fig.show()\n"
   ]
  },
  {
   "cell_type": "markdown",
   "metadata": {},
   "source": [
    "Theme Park Activity Flow from The Lost World"
   ]
  },
  {
   "cell_type": "code",
   "execution_count": 72,
   "metadata": {},
   "outputs": [
    {
     "data": {
      "application/vnd.plotly.v1+json": {
       "config": {
        "plotlyServerURL": "https://plot.ly"
       },
       "data": [
        {
         "link": {
          "label": [
           "0.3%",
           "0.3%",
           "0.3%",
           "0.1%",
           "0.4%",
           "5.5%",
           "1.3%",
           "0.4%",
           "0.3%",
           "1.2%",
           "1.0%",
           "0.1%",
           "0.1%",
           "0.5%",
           "0.5%",
           "10.7%",
           "4.0%",
           "1.0%",
           "1.0%",
           "0.8%",
           "1.0%",
           "0.4%",
           "1.2%",
           "0.4%",
           "1.0%",
           "1.3%",
           "1.0%",
           "0.6%",
           "0.8%",
           "1.9%",
           "1.2%",
           "0.8%",
           "0.5%",
           "0.1%",
           "0.5%",
           "1.0%",
           "0.6%",
           "0.4%",
           "0.5%",
           "0.1%",
           "0.1%",
           "0.3%",
           "1.0%",
           "0.6%",
           "0.3%",
           "0.6%",
           "0.9%",
           "1.9%",
           "1.7%",
           "1.3%",
           "0.4%",
           "0.1%",
           "0.3%",
           "0.4%",
           "0.5%",
           "0.4%",
           "0.3%",
           "0.4%",
           "0.3%",
           "0.8%",
           "0.3%",
           "0.3%",
           "0.8%",
           "0.3%",
           "0.9%",
           "0.5%",
           "0.4%",
           "1.5%",
           "0.6%",
           "0.1%",
           "1.3%",
           "0.1%",
           "0.3%",
           "0.3%",
           "0.3%",
           "2.7%",
           "0.5%",
           "0.4%",
           "0.1%",
           "0.1%",
           "0.6%",
           "0.3%",
           "0.1%",
           "0.8%",
           "0.3%",
           "0.1%",
           "0.1%",
           "1.2%",
           "0.3%",
           "0.3%",
           "0.6%",
           "0.1%",
           "0.3%",
           "0.4%",
           "0.3%",
           "0.5%",
           "0.4%",
           "0.1%",
           "0.3%",
           "0.6%",
           "0.5%",
           "0.3%",
           "0.6%",
           "0.1%",
           "0.3%",
           "1.8%",
           "1.2%",
           "0.1%",
           "0.8%",
           "0.3%",
           "0.3%",
           "0.1%",
           "0.1%",
           "0.1%",
           "0.4%",
           "0.6%",
           "0.5%",
           "0.3%",
           "0.3%",
           "0.3%",
           "0.1%",
           "0.1%",
           "0.1%",
           "0.1%",
           "0.1%",
           "0.3%",
           "0.1%",
           "0.3%",
           "0.4%",
           "0.1%",
           "0.4%",
           "0.1%",
           "0.3%",
           "0.1%",
           "0.1%",
           "0.1%",
           "0.1%",
           "0.1%",
           "0.6%",
           "0.5%",
           "0.1%",
           "0.1%",
           "0.3%",
           "0.3%",
           "0.1%",
           "0.1%",
           "0.1%",
           "0.1%",
           "0.1%",
           "0.1%",
           "0.3%",
           "0.3%",
           "0.1%",
           "0.3%",
           "0.3%",
           "0.1%",
           "0.3%",
           "0.4%",
           "0.4%",
           "0.4%",
           "0.1%",
           "1.3%",
           "0.4%",
           "0.1%",
           "0.1%",
           "0.1%",
           "0.1%",
           "0.1%",
           "0.3%",
           "0.5%",
           "0.1%",
           "0.1%",
           "0.1%",
           "0.1%",
           "0.3%",
           "0.3%",
           "0.1%",
           "0.1%",
           "0.1%",
           "0.1%",
           "0.3%",
           "0.1%",
           "0.1%"
          ],
          "source": [
           0,
           1,
           9,
           10,
           11,
           0,
           5,
           13,
           14,
           15,
           0,
           7,
           17,
           18,
           19,
           0,
           2,
           20,
           21,
           15,
           2,
           17,
           21,
           23,
           2,
           9,
           25,
           11,
           5,
           20,
           9,
           21,
           9,
           27,
           28,
           20,
           27,
           30,
           5,
           31,
           21,
           28,
           15,
           25,
           23,
           7,
           11,
           26,
           5,
           0,
           4,
           9,
           18,
           9,
           14,
           30,
           13,
           34,
           20,
           10,
           14,
           23,
           27,
           17,
           25,
           15,
           13,
           2,
           35,
           14,
           19,
           30,
           2,
           13,
           36,
           23,
           35,
           19,
           30,
           5,
           17,
           27,
           11,
           18,
           4,
           20,
           7,
           38,
           18,
           28,
           35,
           7,
           23,
           26,
           25,
           2,
           39,
           15,
           4,
           27,
           23,
           20,
           5,
           14,
           28,
           2,
           0,
           6,
           31,
           10,
           25,
           4,
           38,
           23,
           6,
           9,
           34,
           35,
           6,
           38,
           17,
           36,
           30,
           0,
           8,
           34,
           10,
           34,
           2,
           9,
           36,
           26,
           5,
           38,
           0,
           3,
           17,
           19,
           25,
           26,
           15,
           38,
           30,
           20,
           34,
           6,
           13,
           27,
           30,
           31,
           27,
           13,
           38,
           21,
           40,
           30,
           5,
           39,
           14,
           38,
           40,
           25,
           18,
           26,
           31,
           28,
           27,
           34,
           4,
           10,
           15,
           31,
           18,
           20,
           6,
           17,
           10,
           40,
           14,
           11,
           38,
           35,
           21
          ],
          "target": [
           1,
           9,
           10,
           11,
           12,
           5,
           13,
           14,
           15,
           16,
           7,
           17,
           18,
           19,
           16,
           2,
           20,
           21,
           15,
           22,
           17,
           21,
           23,
           24,
           9,
           25,
           11,
           16,
           20,
           25,
           21,
           26,
           27,
           28,
           29,
           27,
           30,
           22,
           31,
           21,
           28,
           32,
           24,
           23,
           33,
           9,
           29,
           16,
           9,
           4,
           9,
           18,
           15,
           14,
           30,
           16,
           34,
           28,
           10,
           26,
           23,
           12,
           15,
           25,
           15,
           29,
           25,
           35,
           14,
           19,
           29,
           33,
           13,
           36,
           23,
           16,
           18,
           12,
           24,
           17,
           27,
           11,
           37,
           23,
           20,
           14,
           38,
           18,
           28,
           37,
           25,
           35,
           22,
           12,
           28,
           39,
           25,
           12,
           17,
           23,
           29,
           18,
           35,
           28,
           16,
           38,
           6,
           31,
           10,
           23,
           30,
           38,
           36,
           32,
           9,
           34,
           23,
           27,
           38,
           27,
           36,
           30,
           37,
           8,
           9,
           19,
           30,
           11,
           31,
           36,
           26,
           32,
           38,
           34,
           3,
           17,
           34,
           22,
           26,
           29,
           33,
           10,
           29,
           34,
           26,
           13,
           27,
           19,
           12,
           27,
           40,
           10,
           25,
           40,
           16,
           32,
           39,
           21,
           26,
           21,
           24,
           19,
           11,
           22,
           34,
           12,
           26,
           15,
           31,
           15,
           37,
           18,
           40,
           36,
           17,
           10,
           28,
           22,
           11,
           24,
           14,
           34,
           19
          ],
          "value": [
           2,
           2,
           2,
           1,
           3,
           43,
           10,
           3,
           2,
           9,
           8,
           1,
           1,
           4,
           4,
           83,
           31,
           8,
           8,
           6,
           8,
           3,
           9,
           3,
           8,
           10,
           8,
           5,
           6,
           15,
           9,
           6,
           4,
           1,
           4,
           8,
           5,
           3,
           4,
           1,
           1,
           2,
           8,
           5,
           2,
           5,
           7,
           15,
           13,
           10,
           3,
           1,
           2,
           3,
           4,
           3,
           2,
           3,
           2,
           6,
           2,
           2,
           6,
           2,
           7,
           4,
           3,
           12,
           5,
           1,
           10,
           1,
           2,
           2,
           2,
           21,
           4,
           3,
           1,
           1,
           5,
           2,
           1,
           6,
           2,
           1,
           1,
           9,
           2,
           2,
           5,
           1,
           2,
           3,
           2,
           4,
           3,
           1,
           2,
           5,
           4,
           2,
           5,
           1,
           2,
           14,
           9,
           1,
           6,
           2,
           2,
           1,
           1,
           1,
           3,
           5,
           4,
           2,
           2,
           2,
           1,
           1,
           1,
           1,
           1,
           2,
           1,
           2,
           3,
           1,
           3,
           1,
           2,
           1,
           1,
           1,
           1,
           1,
           5,
           4,
           1,
           1,
           2,
           2,
           1,
           1,
           1,
           1,
           1,
           1,
           2,
           2,
           1,
           2,
           2,
           1,
           2,
           3,
           3,
           3,
           1,
           10,
           3,
           1,
           1,
           1,
           1,
           1,
           2,
           4,
           1,
           1,
           1,
           1,
           2,
           2,
           1,
           1,
           1,
           1,
           2,
           1,
           1
          ]
         },
         "node": {
          "label": [
           "The Lost World",
           "Water/restroom break",
           "Rollercoasters",
           "Shop for souvenirs",
           "Water-based rides",
           "Sightseeing",
           "Child-friendly rides",
           "Haunted House",
           "F&B outlet",
           "2: Rollercoasters",
           "3: Shop for souvenirs",
           "4: Water-based rides",
           "5: Shop for souvenirs",
           "2: Child-friendly rides",
           "3: Haunted House",
           "4: Water/restroom break",
           "5: Water/restroom break",
           "2: Water/restroom break",
           "3: Sightseeing",
           "4: Sightseeing",
           "2: Water-based rides",
           "3: F&B outlet",
           "5: Haunted House",
           "4: F&B outlet",
           "5: Sightseeing",
           "3: Water-based rides",
           "4: Shop for souvenirs",
           "3: Water/restroom break",
           "4: Rollercoasters",
           "5: F&B outlet",
           "4: Haunted House",
           "2: Shop for souvenirs",
           "5: Water-based rides",
           "5: Child-friendly rides",
           "3: Rollercoasters",
           "2: Haunted House",
           "3: Child-friendly rides",
           "5: Rollercoasters",
           "2: Sightseeing",
           "2: F&B outlet",
           "4: Child-friendly rides"
          ],
          "line": {
           "color": "black",
           "width": 0.5
          },
          "pad": 15,
          "thickness": 20
         },
         "type": "sankey"
        }
       ],
       "layout": {
        "font": {
         "size": 12
        },
        "template": {
         "data": {
          "bar": [
           {
            "error_x": {
             "color": "#2a3f5f"
            },
            "error_y": {
             "color": "#2a3f5f"
            },
            "marker": {
             "line": {
              "color": "#E5ECF6",
              "width": 0.5
             },
             "pattern": {
              "fillmode": "overlay",
              "size": 10,
              "solidity": 0.2
             }
            },
            "type": "bar"
           }
          ],
          "barpolar": [
           {
            "marker": {
             "line": {
              "color": "#E5ECF6",
              "width": 0.5
             },
             "pattern": {
              "fillmode": "overlay",
              "size": 10,
              "solidity": 0.2
             }
            },
            "type": "barpolar"
           }
          ],
          "carpet": [
           {
            "aaxis": {
             "endlinecolor": "#2a3f5f",
             "gridcolor": "white",
             "linecolor": "white",
             "minorgridcolor": "white",
             "startlinecolor": "#2a3f5f"
            },
            "baxis": {
             "endlinecolor": "#2a3f5f",
             "gridcolor": "white",
             "linecolor": "white",
             "minorgridcolor": "white",
             "startlinecolor": "#2a3f5f"
            },
            "type": "carpet"
           }
          ],
          "choropleth": [
           {
            "colorbar": {
             "outlinewidth": 0,
             "ticks": ""
            },
            "type": "choropleth"
           }
          ],
          "contour": [
           {
            "colorbar": {
             "outlinewidth": 0,
             "ticks": ""
            },
            "colorscale": [
             [
              0,
              "#0d0887"
             ],
             [
              0.1111111111111111,
              "#46039f"
             ],
             [
              0.2222222222222222,
              "#7201a8"
             ],
             [
              0.3333333333333333,
              "#9c179e"
             ],
             [
              0.4444444444444444,
              "#bd3786"
             ],
             [
              0.5555555555555556,
              "#d8576b"
             ],
             [
              0.6666666666666666,
              "#ed7953"
             ],
             [
              0.7777777777777778,
              "#fb9f3a"
             ],
             [
              0.8888888888888888,
              "#fdca26"
             ],
             [
              1,
              "#f0f921"
             ]
            ],
            "type": "contour"
           }
          ],
          "contourcarpet": [
           {
            "colorbar": {
             "outlinewidth": 0,
             "ticks": ""
            },
            "type": "contourcarpet"
           }
          ],
          "heatmap": [
           {
            "colorbar": {
             "outlinewidth": 0,
             "ticks": ""
            },
            "colorscale": [
             [
              0,
              "#0d0887"
             ],
             [
              0.1111111111111111,
              "#46039f"
             ],
             [
              0.2222222222222222,
              "#7201a8"
             ],
             [
              0.3333333333333333,
              "#9c179e"
             ],
             [
              0.4444444444444444,
              "#bd3786"
             ],
             [
              0.5555555555555556,
              "#d8576b"
             ],
             [
              0.6666666666666666,
              "#ed7953"
             ],
             [
              0.7777777777777778,
              "#fb9f3a"
             ],
             [
              0.8888888888888888,
              "#fdca26"
             ],
             [
              1,
              "#f0f921"
             ]
            ],
            "type": "heatmap"
           }
          ],
          "heatmapgl": [
           {
            "colorbar": {
             "outlinewidth": 0,
             "ticks": ""
            },
            "colorscale": [
             [
              0,
              "#0d0887"
             ],
             [
              0.1111111111111111,
              "#46039f"
             ],
             [
              0.2222222222222222,
              "#7201a8"
             ],
             [
              0.3333333333333333,
              "#9c179e"
             ],
             [
              0.4444444444444444,
              "#bd3786"
             ],
             [
              0.5555555555555556,
              "#d8576b"
             ],
             [
              0.6666666666666666,
              "#ed7953"
             ],
             [
              0.7777777777777778,
              "#fb9f3a"
             ],
             [
              0.8888888888888888,
              "#fdca26"
             ],
             [
              1,
              "#f0f921"
             ]
            ],
            "type": "heatmapgl"
           }
          ],
          "histogram": [
           {
            "marker": {
             "pattern": {
              "fillmode": "overlay",
              "size": 10,
              "solidity": 0.2
             }
            },
            "type": "histogram"
           }
          ],
          "histogram2d": [
           {
            "colorbar": {
             "outlinewidth": 0,
             "ticks": ""
            },
            "colorscale": [
             [
              0,
              "#0d0887"
             ],
             [
              0.1111111111111111,
              "#46039f"
             ],
             [
              0.2222222222222222,
              "#7201a8"
             ],
             [
              0.3333333333333333,
              "#9c179e"
             ],
             [
              0.4444444444444444,
              "#bd3786"
             ],
             [
              0.5555555555555556,
              "#d8576b"
             ],
             [
              0.6666666666666666,
              "#ed7953"
             ],
             [
              0.7777777777777778,
              "#fb9f3a"
             ],
             [
              0.8888888888888888,
              "#fdca26"
             ],
             [
              1,
              "#f0f921"
             ]
            ],
            "type": "histogram2d"
           }
          ],
          "histogram2dcontour": [
           {
            "colorbar": {
             "outlinewidth": 0,
             "ticks": ""
            },
            "colorscale": [
             [
              0,
              "#0d0887"
             ],
             [
              0.1111111111111111,
              "#46039f"
             ],
             [
              0.2222222222222222,
              "#7201a8"
             ],
             [
              0.3333333333333333,
              "#9c179e"
             ],
             [
              0.4444444444444444,
              "#bd3786"
             ],
             [
              0.5555555555555556,
              "#d8576b"
             ],
             [
              0.6666666666666666,
              "#ed7953"
             ],
             [
              0.7777777777777778,
              "#fb9f3a"
             ],
             [
              0.8888888888888888,
              "#fdca26"
             ],
             [
              1,
              "#f0f921"
             ]
            ],
            "type": "histogram2dcontour"
           }
          ],
          "mesh3d": [
           {
            "colorbar": {
             "outlinewidth": 0,
             "ticks": ""
            },
            "type": "mesh3d"
           }
          ],
          "parcoords": [
           {
            "line": {
             "colorbar": {
              "outlinewidth": 0,
              "ticks": ""
             }
            },
            "type": "parcoords"
           }
          ],
          "pie": [
           {
            "automargin": true,
            "type": "pie"
           }
          ],
          "scatter": [
           {
            "fillpattern": {
             "fillmode": "overlay",
             "size": 10,
             "solidity": 0.2
            },
            "type": "scatter"
           }
          ],
          "scatter3d": [
           {
            "line": {
             "colorbar": {
              "outlinewidth": 0,
              "ticks": ""
             }
            },
            "marker": {
             "colorbar": {
              "outlinewidth": 0,
              "ticks": ""
             }
            },
            "type": "scatter3d"
           }
          ],
          "scattercarpet": [
           {
            "marker": {
             "colorbar": {
              "outlinewidth": 0,
              "ticks": ""
             }
            },
            "type": "scattercarpet"
           }
          ],
          "scattergeo": [
           {
            "marker": {
             "colorbar": {
              "outlinewidth": 0,
              "ticks": ""
             }
            },
            "type": "scattergeo"
           }
          ],
          "scattergl": [
           {
            "marker": {
             "colorbar": {
              "outlinewidth": 0,
              "ticks": ""
             }
            },
            "type": "scattergl"
           }
          ],
          "scattermapbox": [
           {
            "marker": {
             "colorbar": {
              "outlinewidth": 0,
              "ticks": ""
             }
            },
            "type": "scattermapbox"
           }
          ],
          "scatterpolar": [
           {
            "marker": {
             "colorbar": {
              "outlinewidth": 0,
              "ticks": ""
             }
            },
            "type": "scatterpolar"
           }
          ],
          "scatterpolargl": [
           {
            "marker": {
             "colorbar": {
              "outlinewidth": 0,
              "ticks": ""
             }
            },
            "type": "scatterpolargl"
           }
          ],
          "scatterternary": [
           {
            "marker": {
             "colorbar": {
              "outlinewidth": 0,
              "ticks": ""
             }
            },
            "type": "scatterternary"
           }
          ],
          "surface": [
           {
            "colorbar": {
             "outlinewidth": 0,
             "ticks": ""
            },
            "colorscale": [
             [
              0,
              "#0d0887"
             ],
             [
              0.1111111111111111,
              "#46039f"
             ],
             [
              0.2222222222222222,
              "#7201a8"
             ],
             [
              0.3333333333333333,
              "#9c179e"
             ],
             [
              0.4444444444444444,
              "#bd3786"
             ],
             [
              0.5555555555555556,
              "#d8576b"
             ],
             [
              0.6666666666666666,
              "#ed7953"
             ],
             [
              0.7777777777777778,
              "#fb9f3a"
             ],
             [
              0.8888888888888888,
              "#fdca26"
             ],
             [
              1,
              "#f0f921"
             ]
            ],
            "type": "surface"
           }
          ],
          "table": [
           {
            "cells": {
             "fill": {
              "color": "#EBF0F8"
             },
             "line": {
              "color": "white"
             }
            },
            "header": {
             "fill": {
              "color": "#C8D4E3"
             },
             "line": {
              "color": "white"
             }
            },
            "type": "table"
           }
          ]
         },
         "layout": {
          "annotationdefaults": {
           "arrowcolor": "#2a3f5f",
           "arrowhead": 0,
           "arrowwidth": 1
          },
          "autotypenumbers": "strict",
          "coloraxis": {
           "colorbar": {
            "outlinewidth": 0,
            "ticks": ""
           }
          },
          "colorscale": {
           "diverging": [
            [
             0,
             "#8e0152"
            ],
            [
             0.1,
             "#c51b7d"
            ],
            [
             0.2,
             "#de77ae"
            ],
            [
             0.3,
             "#f1b6da"
            ],
            [
             0.4,
             "#fde0ef"
            ],
            [
             0.5,
             "#f7f7f7"
            ],
            [
             0.6,
             "#e6f5d0"
            ],
            [
             0.7,
             "#b8e186"
            ],
            [
             0.8,
             "#7fbc41"
            ],
            [
             0.9,
             "#4d9221"
            ],
            [
             1,
             "#276419"
            ]
           ],
           "sequential": [
            [
             0,
             "#0d0887"
            ],
            [
             0.1111111111111111,
             "#46039f"
            ],
            [
             0.2222222222222222,
             "#7201a8"
            ],
            [
             0.3333333333333333,
             "#9c179e"
            ],
            [
             0.4444444444444444,
             "#bd3786"
            ],
            [
             0.5555555555555556,
             "#d8576b"
            ],
            [
             0.6666666666666666,
             "#ed7953"
            ],
            [
             0.7777777777777778,
             "#fb9f3a"
            ],
            [
             0.8888888888888888,
             "#fdca26"
            ],
            [
             1,
             "#f0f921"
            ]
           ],
           "sequentialminus": [
            [
             0,
             "#0d0887"
            ],
            [
             0.1111111111111111,
             "#46039f"
            ],
            [
             0.2222222222222222,
             "#7201a8"
            ],
            [
             0.3333333333333333,
             "#9c179e"
            ],
            [
             0.4444444444444444,
             "#bd3786"
            ],
            [
             0.5555555555555556,
             "#d8576b"
            ],
            [
             0.6666666666666666,
             "#ed7953"
            ],
            [
             0.7777777777777778,
             "#fb9f3a"
            ],
            [
             0.8888888888888888,
             "#fdca26"
            ],
            [
             1,
             "#f0f921"
            ]
           ]
          },
          "colorway": [
           "#636efa",
           "#EF553B",
           "#00cc96",
           "#ab63fa",
           "#FFA15A",
           "#19d3f3",
           "#FF6692",
           "#B6E880",
           "#FF97FF",
           "#FECB52"
          ],
          "font": {
           "color": "#2a3f5f"
          },
          "geo": {
           "bgcolor": "white",
           "lakecolor": "white",
           "landcolor": "#E5ECF6",
           "showlakes": true,
           "showland": true,
           "subunitcolor": "white"
          },
          "hoverlabel": {
           "align": "left"
          },
          "hovermode": "closest",
          "mapbox": {
           "style": "light"
          },
          "paper_bgcolor": "white",
          "plot_bgcolor": "#E5ECF6",
          "polar": {
           "angularaxis": {
            "gridcolor": "white",
            "linecolor": "white",
            "ticks": ""
           },
           "bgcolor": "#E5ECF6",
           "radialaxis": {
            "gridcolor": "white",
            "linecolor": "white",
            "ticks": ""
           }
          },
          "scene": {
           "xaxis": {
            "backgroundcolor": "#E5ECF6",
            "gridcolor": "white",
            "gridwidth": 2,
            "linecolor": "white",
            "showbackground": true,
            "ticks": "",
            "zerolinecolor": "white"
           },
           "yaxis": {
            "backgroundcolor": "#E5ECF6",
            "gridcolor": "white",
            "gridwidth": 2,
            "linecolor": "white",
            "showbackground": true,
            "ticks": "",
            "zerolinecolor": "white"
           },
           "zaxis": {
            "backgroundcolor": "#E5ECF6",
            "gridcolor": "white",
            "gridwidth": 2,
            "linecolor": "white",
            "showbackground": true,
            "ticks": "",
            "zerolinecolor": "white"
           }
          },
          "shapedefaults": {
           "line": {
            "color": "#2a3f5f"
           }
          },
          "ternary": {
           "aaxis": {
            "gridcolor": "white",
            "linecolor": "white",
            "ticks": ""
           },
           "baxis": {
            "gridcolor": "white",
            "linecolor": "white",
            "ticks": ""
           },
           "bgcolor": "#E5ECF6",
           "caxis": {
            "gridcolor": "white",
            "linecolor": "white",
            "ticks": ""
           }
          },
          "title": {
           "x": 0.05
          },
          "xaxis": {
           "automargin": true,
           "gridcolor": "white",
           "linecolor": "white",
           "ticks": "",
           "title": {
            "standoff": 15
           },
           "zerolinecolor": "white",
           "zerolinewidth": 2
          },
          "yaxis": {
           "automargin": true,
           "gridcolor": "white",
           "linecolor": "white",
           "ticks": "",
           "title": {
            "standoff": 15
           },
           "zerolinecolor": "white",
           "zerolinewidth": 2
          }
         }
        },
        "title": {
         "text": "The Lost World Zone Activity Flow"
        }
       }
      }
     },
     "metadata": {},
     "output_type": "display_data"
    }
   ],
   "source": [
    "import pandas as pd\n",
    "import plotly.graph_objects as go\n",
    "from collections import Counter\n",
    "\n",
    "# Load the dataset\n",
    "file_path = '../data/Updated_Theme_Parks_Survey_Responses A14.csv'\n",
    "df = pd.read_csv(file_path)\n",
    "\n",
    "# Define the list of valid Lost World activities (simplified names)\n",
    "lost_world_activities = [\n",
    "    \"Rollercoasters\", \"Water-based rides\", \"F&B outlet\", \"Shop for souvenirs\",\n",
    "    \"Water/restroom break\", \"Child-friendly rides\", \"Haunted House\", \"Sightseeing\"\n",
    "]\n",
    "\n",
    "# Mapping from dataset activity names to simplified activity names for Lost World zone\n",
    "activity_mapping = {\n",
    "    \"Go to the rollercoasters\": \"Rollercoasters\",\n",
    "    \"Go to the Water-based rides\": \"Water-based rides\",\n",
    "    \"Go to the F&B outlet\": \"F&B outlet\",\n",
    "    \"Go and shop for souvenirs\": \"Shop for souvenirs\",\n",
    "    \"Go for a water/restroom break\": \"Water/restroom break\",\n",
    "    \"Go to the child-friendly rides\": \"Child-friendly rides\",\n",
    "    \"Go to the Haunted House\": \"Haunted House\",\n",
    "    \"Sightseeing\": \"Sightseeing\"\n",
    "}\n",
    "\n",
    "# Activity columns to check\n",
    "activity_columns = [\n",
    "    'first_activity', 'second_activity', 'third_activity', 'fourth_activity', 'fifth_activity', \n",
    "    'sixth_activity', 'seventh_activity', 'eighth_activity', 'ninth_activity', 'tenth_activity',\n",
    "    'eleventh_activity', 'twelfth_activity', 'thirteenth_activity', 'fourteenth_activity'\n",
    "]\n",
    "\n",
    "# Clean the activity columns (strip and handle Na values)\n",
    "for col in activity_columns:\n",
    "    df[col] = df[col].str.strip().fillna('Na')\n",
    "\n",
    "# Initialize the list for valid activities (up to the 5th activity)\n",
    "valid_activity_df = []\n",
    "\n",
    "# Process each row and find the valid activities for Lost World\n",
    "for index, row in df.iterrows():\n",
    "    activity_indices = []\n",
    "    count = 0\n",
    "    \n",
    "    # Go through the first 5 activities and select the valid ones\n",
    "    for i in range(5):  # Only check the first 5 activities\n",
    "        activity_name = row[activity_columns[i]]\n",
    "        \n",
    "        # If activity is valid, add it, otherwise skip to the next\n",
    "        if activity_name in activity_mapping:\n",
    "            activity_indices.append(activity_mapping[activity_name])\n",
    "            count += 1\n",
    "        elif count < 5:  # If we haven't yet captured 5 valid activities, get the next valid one\n",
    "            for j in range(i+1, len(activity_columns)):\n",
    "                next_activity_name = row[activity_columns[j]]\n",
    "                if next_activity_name in activity_mapping:\n",
    "                    activity_indices.append(activity_mapping[next_activity_name])\n",
    "                    count += 1\n",
    "                    break\n",
    "    \n",
    "    # Ensure the activity_indices has exactly 5 activities, filling up missing ones with 'Na'\n",
    "    while len(activity_indices) < 5:\n",
    "        activity_indices.append('Na')\n",
    "\n",
    "    valid_activity_df.append(activity_indices)\n",
    "\n",
    "# Create a new dataframe with the valid activities (up to 5 activities)\n",
    "valid_activity_df = pd.DataFrame(valid_activity_df, columns=[f\"activity_{i+1}\" for i in range(5)])\n",
    "\n",
    "# Remove rows where the first activity is 'Na' (this filters out empty or invalid rows)\n",
    "valid_activity_df = valid_activity_df[valid_activity_df['activity_1'] != \"Na\"]\n",
    "\n",
    "# Flatten the activity columns and count the frequency of each activity\n",
    "activities = valid_activity_df.values.flatten().tolist()\n",
    "activity_counts = Counter([activity for activity in activities if activity != \"Na\"])\n",
    "\n",
    "# Define the top activities for the Lost World zone (simplified names)\n",
    "top_activities = lost_world_activities\n",
    "\n",
    "# Filter the dataframe to include only valid activities (up to 5 activities)\n",
    "filtered_df = valid_activity_df.apply(lambda col: col.map(lambda x: x if x in top_activities else 'Na'))\n",
    "\n",
    "# Collect all activities for the nodes (excluding \"Na\")\n",
    "activities = filtered_df.values.flatten().tolist()\n",
    "activities = [activity for activity in activities if activity != \"Na\"]\n",
    "\n",
    "# Add the start node \"The Lost World\" to the nodes list\n",
    "start_node = \"The Lost World\"\n",
    "nodes = [start_node] + list(pd.Series(activities).unique())\n",
    "\n",
    "# Create a dictionary for activity to index mapping\n",
    "activity_to_index = {activity: index for index, activity in enumerate(nodes)}\n",
    "\n",
    "# Initialize the list to count occurrences of each transition (source-target pair)\n",
    "link_counts = Counter()\n",
    "\n",
    "# Loop through the dataframe to create links for the Sankey diagram\n",
    "for index, row in filtered_df.iterrows():\n",
    "    first = row['activity_1']\n",
    "    second = row['activity_2']\n",
    "    third = row['activity_3']\n",
    "    fourth = row['activity_4']\n",
    "    fifth = row['activity_5']\n",
    "\n",
    "    # Add \"2: \", \"3: \", \"4: \", \"5: \" to the activities\n",
    "    second = f\"2: {second}\" if second != \"Na\" else \"Na\"\n",
    "    third = f\"3: {third}\" if third != \"Na\" else \"Na\"\n",
    "    fourth = f\"4: {fourth}\" if fourth != \"Na\" else \"Na\"\n",
    "    fifth = f\"5: {fifth}\" if fifth != \"Na\" else \"Na\"\n",
    "\n",
    "    # Add to the dictionary if second, third, fourth, or fifth prefixed activities are not in activity_to_index\n",
    "    for activity in [second, third, fourth, fifth]:\n",
    "        if activity != \"Na\" and activity not in activity_to_index:\n",
    "            activity_to_index[activity] = len(activity_to_index)\n",
    "            nodes.append(activity)\n",
    "\n",
    "    # Track links between consecutive activities, ensuring they are valid (not \"Na\")\n",
    "    if first != \"Na\":\n",
    "        link_counts[(start_node, first)] += 1\n",
    "    if first != \"Na\" and second != \"Na\" and first != second:\n",
    "        link_counts[(first, second)] += 1\n",
    "    if second != \"Na\" and third != \"Na\" and second != third:\n",
    "        link_counts[(second, third)] += 1\n",
    "    if third != \"Na\" and fourth != \"Na\" and third != fourth:\n",
    "        link_counts[(third, fourth)] += 1\n",
    "    if fourth != \"Na\" and fifth != \"Na\" and fourth != fifth:\n",
    "        link_counts[(fourth, fifth)] += 1\n",
    "\n",
    "# Prepare lists for sources, targets, and values based on the link counts\n",
    "sources = []\n",
    "targets = []\n",
    "values = []\n",
    "\n",
    "# Calculate the total number of links\n",
    "total_links = sum(link_counts.values())\n",
    "\n",
    "for (source, target), count in link_counts.items():\n",
    "    if source != \"Na\" and target != \"Na\":  # Only add links that are valid\n",
    "        sources.append(activity_to_index[source])\n",
    "        targets.append(activity_to_index[target])\n",
    "        values.append(count)\n",
    "\n",
    "# Calculate percentages for each link\n",
    "percentages = [count / total_links * 100 for count in values]\n",
    "\n",
    "# Create the Sankey diagram\n",
    "fig = go.Figure(go.Sankey(\n",
    "    node=dict(\n",
    "        pad=15,\n",
    "        thickness=20,\n",
    "        line=dict(color=\"black\", width=0.5),\n",
    "        label=nodes\n",
    "    ),\n",
    "    link=dict(\n",
    "        source=sources,\n",
    "        target=targets,\n",
    "        value=values,\n",
    "        label=[f\"{value:.1f}%\" for value in percentages]  # Add percentage labels to the links\n",
    "    )\n",
    "))\n",
    "\n",
    "# Update layout for better visualization\n",
    "fig.update_layout(title=\"The Lost World Zone Activity Flow\", font_size=12)\n",
    "\n",
    "# Show the Sankey diagram\n",
    "fig.show()\n"
   ]
  },
  {
   "cell_type": "markdown",
   "metadata": {},
   "source": [
    "Far Far Away"
   ]
  },
  {
   "cell_type": "code",
   "execution_count": null,
   "metadata": {},
   "outputs": [],
   "source": [
    "import pandas as pd\n",
    "import plotly.graph_objects as go\n",
    "from collections import Counter\n",
    "\n",
    "# Load the dataset\n",
    "file_path = '../data/Updated_Theme_Parks_Survey_Responses A14.csv'\n",
    "df = pd.read_csv(file_path)\n",
    "\n",
    "# Define the list of valid Far Far Away activities (simplified names)\n",
    "far_far_away_activities = [\n",
    "    \"Rollercoasters\", \"Shop for souvenirs\", \"Water/restroom break\", \n",
    "    \"Child-friendly rides\", \"Haunted House\", \"Simulator rides\", \"Sightseeing\"\n",
    "]\n",
    "\n",
    "# Mapping from dataset activity names to simplified activity names for Far Far Away zone\n",
    "activity_mapping = {\n",
    "    \"Go to the rollercoasters\": \"Rollercoasters\",\n",
    "    \"Go and shop for souvenirs\": \"Shop for souvenirs\",\n",
    "    \"Go for a water/restroom break\": \"Water/restroom break\",\n",
    "    \"Go to the child-friendly rides\": \"Child-friendly rides\",\n",
    "    \"Go to the Haunted House\": \"Haunted House\",\n",
    "    \"Go to the Simulator rides\": \"Simulator rides\",\n",
    "    \"Sightseeing\": \"Sightseeing\"\n",
    "}\n",
    "\n",
    "# Activity columns to check\n",
    "activity_columns = [\n",
    "    'first_activity', 'second_activity', 'third_activity', 'fourth_activity', 'fifth_activity', \n",
    "    'sixth_activity', 'seventh_activity', 'eighth_activity', 'ninth_activity', 'tenth_activity',\n",
    "    'eleventh_activity', 'twelfth_activity', 'thirteenth_activity', 'fourteenth_activity'\n",
    "]\n",
    "\n",
    "# Clean the activity columns (strip and handle Na values)\n",
    "for col in activity_columns:\n",
    "    df[col] = df[col].str.strip().fillna('Na')\n",
    "\n",
    "# Initialize the list for valid activities (up to the 5th activity)\n",
    "valid_activity_df = []\n",
    "\n",
    "# Process each row and find the valid activities for Far Far Away\n",
    "for index, row in df.iterrows():\n",
    "    activity_indices = []\n",
    "    count = 0\n",
    "    \n",
    "    # Go through the first 5 activities and select the valid ones\n",
    "    for i in range(5):  # Only check the first 5 activities\n",
    "        activity_name = row[activity_columns[i]]\n",
    "        \n",
    "        # If activity is valid, add it, otherwise skip to the next\n",
    "        if activity_name in activity_mapping:\n",
    "            activity_indices.append(activity_mapping[activity_name])\n",
    "            count += 1\n",
    "        elif count < 5:  # If we haven't yet captured 5 valid activities, get the next valid one\n",
    "            for j in range(i+1, len(activity_columns)):\n",
    "                next_activity_name = row[activity_columns[j]]\n",
    "                if next_activity_name in activity_mapping:\n",
    "                    activity_indices.append(activity_mapping[next_activity_name])\n",
    "                    count += 1\n",
    "                    break\n",
    "    \n",
    "    # Ensure the activity_indices has exactly 5 activities, filling up missing ones with 'Na'\n",
    "    while len(activity_indices) < 5:\n",
    "        activity_indices.append('Na')\n",
    "\n",
    "    valid_activity_df.append(activity_indices)\n",
    "\n",
    "# Create a new dataframe with the valid activities (up to 5 activities)\n",
    "valid_activity_df = pd.DataFrame(valid_activity_df, columns=[f\"activity_{i+1}\" for i in range(5)])\n",
    "\n",
    "# Remove rows where the first activity is 'Na' (this filters out empty or invalid rows)\n",
    "valid_activity_df = valid_activity_df[valid_activity_df['activity_1'] != \"Na\"]\n",
    "\n",
    "# Flatten the activity columns and count the frequency of each activity\n",
    "activities = valid_activity_df.values.flatten().tolist()\n",
    "activity_counts = Counter([activity for activity in activities if activity != \"Na\"])\n",
    "\n",
    "# Define the top activities for the Far Far Away zone (simplified names)\n",
    "top_activities = far_far_away_activities\n",
    "\n",
    "# Filter the dataframe to include only valid activities (up to 5 activities)\n",
    "filtered_df = valid_activity_df.apply(lambda col: col.map(lambda x: x if x in top_activities else 'Na'))\n",
    "\n",
    "# Collect all activities for the nodes (excluding \"Na\")\n",
    "activities = filtered_df.values.flatten().tolist()\n",
    "activities = [activity for activity in activities if activity != \"Na\"]\n",
    "\n",
    "# Add the start node \"Far Far Away\" to the nodes list\n",
    "start_node = \"Far Far Away\"\n",
    "nodes = [start_node] + list(pd.Series(activities).unique())\n",
    "\n",
    "# Create a dictionary for activity to index mapping\n",
    "activity_to_index = {activity: index for index, activity in enumerate(nodes)}\n",
    "\n",
    "# Initialize the list to count occurrences of each transition (source-target pair)\n",
    "link_counts = Counter()\n",
    "\n",
    "# Loop through the dataframe to create links for the Sankey diagram\n",
    "for index, row in filtered_df.iterrows():\n",
    "    first = row['activity_1']\n",
    "    second = row['activity_2']\n",
    "    third = row['activity_3']\n",
    "    fourth = row['activity_4']\n",
    "    fifth = row['activity_5']\n",
    "\n",
    "    # Add \"2 - \", \"3 - \", \"4 - \", \"5 - \" to the activities\n",
    "    second = f\"2 - {second}\" if second != \"Na\" else \"Na\"\n",
    "    third = f\"3 - {third}\" if third != \"Na\" else \"Na\"\n",
    "    fourth = f\"4 - {fourth}\" if fourth != \"Na\" else \"Na\"\n",
    "    fifth = f\"5 - {fifth}\" if fifth != \"Na\" else \"Na\"\n",
    "\n",
    "    # Add to the dictionary if second, third, fourth, or fifth prefixed activities are not in activity_to_index\n",
    "    for activity in [second, third, fourth, fifth]:\n",
    "        if activity != \"Na\" and activity not in activity_to_index:\n",
    "            activity_to_index[activity] = len(activity_to_index)\n",
    "            nodes.append(activity)\n",
    "\n",
    "    # Track links between consecutive activities, ensuring they are valid (not \"Na\")\n",
    "    if first != \"Na\":\n",
    "        link_counts[(start_node, first)] += 1\n",
    "    if first != \"Na\" and second != \"Na\" and first != second:\n",
    "        link_counts[(first, second)] += 1\n",
    "    if second != \"Na\" and third != \"Na\" and second != third:\n",
    "        link_counts[(second, third)] += 1\n",
    "    if third != \"Na\" and fourth != \"Na\" and third != fourth:\n",
    "        link_counts[(third, fourth)] += 1\n",
    "    if fourth != \"Na\" and fifth != \"Na\" and fourth != fifth:\n",
    "        link_counts[(fourth, fifth)] += 1\n",
    "\n",
    "# Prepare lists for sources, targets, and values based on the link counts\n",
    "sources = []\n",
    "targets = []\n",
    "values = []\n",
    "\n",
    "for (source, target), count in link_counts.items():\n",
    "    if source != \"Na\" and target != \"Na\":  # Only add links that are valid\n",
    "        sources.append(activity_to_index[source])\n",
    "        targets.append(activity_to_index[target])\n",
    "        values.append(count)\n",
    "\n",
    "# Create the Sankey diagram\n",
    "fig = go.Figure(go.Sankey(\n",
    "    node=dict(\n",
    "        pad=15,\n",
    "        thickness=20,\n",
    "        line=dict(color=\"black\", width=0.5),\n",
    "        label=nodes\n",
    "    ),\n",
    "    link=dict(\n",
    "        source=sources,\n",
    "        target=targets,\n",
    "        value=values\n",
    "    )\n",
    "))\n",
    "\n",
    "# Update layout for better visualization\n",
    "fig.update_layout(title=\"Far Far Away Zone Activity Flow\", font_size=12)\n",
    "\n",
    "# Show the Sankey diagram\n",
    "fig.show()\n"
   ]
  },
  {
   "cell_type": "markdown",
   "metadata": {},
   "source": [
    "New York"
   ]
  },
  {
   "cell_type": "code",
   "execution_count": 71,
   "metadata": {},
   "outputs": [
    {
     "data": {
      "application/vnd.plotly.v1+json": {
       "config": {
        "plotlyServerURL": "https://plot.ly"
       },
       "data": [
        {
         "link": {
          "source": [
           0,
           1,
           8,
           9,
           10,
           0,
           3,
           12,
           13,
           14,
           0,
           5,
           16,
           17,
           18,
           0,
           7,
           20,
           21,
           22,
           1,
           16,
           24,
           25,
           0,
           6,
           16,
           27,
           22,
           3,
           28,
           6,
           21,
           27,
           25,
           27,
           14,
           3,
           8,
           22,
           6,
           28,
           21,
           25,
           5,
           10,
           3,
           3,
           31,
           17,
           22,
           28,
           24,
           32,
           12,
           24,
           0,
           2,
           3,
           33,
           13,
           25,
           22,
           28,
           13,
           18,
           27,
           32,
           28,
           34,
           25,
           5,
           33,
           24,
           18,
           33,
           17,
           6,
           13,
           5,
           28,
           24,
           25,
           16,
           21,
           14,
           12,
           20,
           22,
           0,
           4,
           28,
           9,
           20,
           13,
           31,
           25,
           33,
           14,
           4,
           31,
           16,
           34,
           7,
           6,
           9,
           14,
           1,
           12,
           34,
           10,
           31,
           2,
           18,
           16,
           10,
           31,
           24,
           6,
           12,
           27,
           32,
           8,
           27,
           35,
           21,
           35,
           13,
           35,
           32,
           20,
           10,
           8,
           18,
           27,
           9,
           8,
           17,
           12,
           4,
           4,
           3,
           35,
           4,
           31,
           21,
           6
          ],
          "target": [
           1,
           8,
           9,
           10,
           11,
           3,
           12,
           13,
           14,
           15,
           5,
           16,
           17,
           18,
           19,
           7,
           20,
           21,
           22,
           23,
           16,
           24,
           25,
           26,
           6,
           16,
           27,
           22,
           15,
           28,
           27,
           20,
           10,
           25,
           29,
           14,
           23,
           8,
           21,
           26,
           28,
           21,
           25,
           30,
           20,
           15,
           20,
           31,
           17,
           22,
           19,
           24,
           32,
           15,
           24,
           22,
           2,
           8,
           33,
           13,
           25,
           11,
           29,
           13,
           18,
           29,
           32,
           19,
           34,
           25,
           15,
           33,
           24,
           18,
           11,
           17,
           25,
           33,
           22,
           28,
           17,
           14,
           23,
           21,
           14,
           11,
           21,
           24,
           11,
           4,
           28,
           9,
           25,
           13,
           32,
           34,
           19,
           27,
           29,
           31,
           27,
           34,
           32,
           31,
           8,
           14,
           19,
           12,
           34,
           10,
           19,
           21,
           16,
           23,
           9,
           29,
           24,
           10,
           12,
           27,
           18,
           11,
           27,
           35,
           19,
           35,
           15,
           10,
           26,
           29,
           27,
           23,
           24,
           15,
           10,
           22,
           17,
           35,
           9,
           16,
           20,
           16,
           23,
           12,
           13,
           18,
           31
          ],
          "value": [
           16,
           1,
           7,
           10,
           5,
           52,
           11,
           2,
           3,
           5,
           20,
           2,
           2,
           13,
           2,
           11,
           10,
           17,
           8,
           5,
           14,
           1,
           10,
           2,
           44,
           2,
           13,
           11,
           13,
           17,
           7,
           3,
           5,
           6,
           15,
           3,
           2,
           5,
           1,
           5,
           34,
           5,
           13,
           2,
           2,
           15,
           3,
           11,
           3,
           2,
           5,
           17,
           3,
           2,
           4,
           8,
           4,
           3,
           4,
           5,
           1,
           2,
           4,
           3,
           1,
           9,
           4,
           5,
           1,
           2,
           22,
           13,
           6,
           3,
           3,
           4,
           11,
           1,
           2,
           3,
           17,
           4,
           2,
           2,
           2,
           2,
           3,
           1,
           2,
           9,
           3,
           7,
           3,
           1,
           2,
           1,
           1,
           2,
           2,
           1,
           3,
           1,
           1,
           1,
           2,
           2,
           3,
           1,
           3,
           3,
           1,
           3,
           1,
           1,
           3,
           4,
           3,
           5,
           1,
           1,
           1,
           1,
           1,
           2,
           1,
           2,
           2,
           3,
           1,
           1,
           1,
           1,
           1,
           3,
           1,
           3,
           1,
           1,
           1,
           2,
           2,
           1,
           1,
           1,
           1,
           1,
           1
          ]
         },
         "node": {
          "label": [
           "New York",
           "Water/restroom break",
           "Shop for souvenirs",
           "Sightseeing",
           "Child-friendly rides",
           "Haunted House",
           "Simulator rides",
           "F&B outlet",
           "2 - Shop for souvenirs",
           "3 - Shop for souvenirs",
           "4 - Shop for souvenirs",
           "5 - Shop for souvenirs",
           "2 - Child-friendly rides",
           "3 - Haunted House",
           "4 - Simulator rides",
           "5 - Water/restroom break",
           "2 - Water/restroom break",
           "3 - Sightseeing",
           "4 - Sightseeing",
           "5 - Simulator rides",
           "2 - F&B outlet",
           "3 - F&B outlet",
           "4 - Water/restroom break",
           "5 - Haunted House",
           "3 - Simulator rides",
           "4 - F&B outlet",
           "5 - Sightseeing",
           "3 - Water/restroom break",
           "2 - Simulator rides",
           "5 - F&B outlet",
           "5 - Child-friendly rides",
           "2 - Sightseeing",
           "4 - Haunted House",
           "2 - Haunted House",
           "3 - Child-friendly rides",
           "4 - Child-friendly rides"
          ],
          "line": {
           "color": "black",
           "width": 0.5
          },
          "pad": 15,
          "thickness": 20
         },
         "type": "sankey"
        }
       ],
       "layout": {
        "font": {
         "size": 12
        },
        "template": {
         "data": {
          "bar": [
           {
            "error_x": {
             "color": "#2a3f5f"
            },
            "error_y": {
             "color": "#2a3f5f"
            },
            "marker": {
             "line": {
              "color": "#E5ECF6",
              "width": 0.5
             },
             "pattern": {
              "fillmode": "overlay",
              "size": 10,
              "solidity": 0.2
             }
            },
            "type": "bar"
           }
          ],
          "barpolar": [
           {
            "marker": {
             "line": {
              "color": "#E5ECF6",
              "width": 0.5
             },
             "pattern": {
              "fillmode": "overlay",
              "size": 10,
              "solidity": 0.2
             }
            },
            "type": "barpolar"
           }
          ],
          "carpet": [
           {
            "aaxis": {
             "endlinecolor": "#2a3f5f",
             "gridcolor": "white",
             "linecolor": "white",
             "minorgridcolor": "white",
             "startlinecolor": "#2a3f5f"
            },
            "baxis": {
             "endlinecolor": "#2a3f5f",
             "gridcolor": "white",
             "linecolor": "white",
             "minorgridcolor": "white",
             "startlinecolor": "#2a3f5f"
            },
            "type": "carpet"
           }
          ],
          "choropleth": [
           {
            "colorbar": {
             "outlinewidth": 0,
             "ticks": ""
            },
            "type": "choropleth"
           }
          ],
          "contour": [
           {
            "colorbar": {
             "outlinewidth": 0,
             "ticks": ""
            },
            "colorscale": [
             [
              0,
              "#0d0887"
             ],
             [
              0.1111111111111111,
              "#46039f"
             ],
             [
              0.2222222222222222,
              "#7201a8"
             ],
             [
              0.3333333333333333,
              "#9c179e"
             ],
             [
              0.4444444444444444,
              "#bd3786"
             ],
             [
              0.5555555555555556,
              "#d8576b"
             ],
             [
              0.6666666666666666,
              "#ed7953"
             ],
             [
              0.7777777777777778,
              "#fb9f3a"
             ],
             [
              0.8888888888888888,
              "#fdca26"
             ],
             [
              1,
              "#f0f921"
             ]
            ],
            "type": "contour"
           }
          ],
          "contourcarpet": [
           {
            "colorbar": {
             "outlinewidth": 0,
             "ticks": ""
            },
            "type": "contourcarpet"
           }
          ],
          "heatmap": [
           {
            "colorbar": {
             "outlinewidth": 0,
             "ticks": ""
            },
            "colorscale": [
             [
              0,
              "#0d0887"
             ],
             [
              0.1111111111111111,
              "#46039f"
             ],
             [
              0.2222222222222222,
              "#7201a8"
             ],
             [
              0.3333333333333333,
              "#9c179e"
             ],
             [
              0.4444444444444444,
              "#bd3786"
             ],
             [
              0.5555555555555556,
              "#d8576b"
             ],
             [
              0.6666666666666666,
              "#ed7953"
             ],
             [
              0.7777777777777778,
              "#fb9f3a"
             ],
             [
              0.8888888888888888,
              "#fdca26"
             ],
             [
              1,
              "#f0f921"
             ]
            ],
            "type": "heatmap"
           }
          ],
          "heatmapgl": [
           {
            "colorbar": {
             "outlinewidth": 0,
             "ticks": ""
            },
            "colorscale": [
             [
              0,
              "#0d0887"
             ],
             [
              0.1111111111111111,
              "#46039f"
             ],
             [
              0.2222222222222222,
              "#7201a8"
             ],
             [
              0.3333333333333333,
              "#9c179e"
             ],
             [
              0.4444444444444444,
              "#bd3786"
             ],
             [
              0.5555555555555556,
              "#d8576b"
             ],
             [
              0.6666666666666666,
              "#ed7953"
             ],
             [
              0.7777777777777778,
              "#fb9f3a"
             ],
             [
              0.8888888888888888,
              "#fdca26"
             ],
             [
              1,
              "#f0f921"
             ]
            ],
            "type": "heatmapgl"
           }
          ],
          "histogram": [
           {
            "marker": {
             "pattern": {
              "fillmode": "overlay",
              "size": 10,
              "solidity": 0.2
             }
            },
            "type": "histogram"
           }
          ],
          "histogram2d": [
           {
            "colorbar": {
             "outlinewidth": 0,
             "ticks": ""
            },
            "colorscale": [
             [
              0,
              "#0d0887"
             ],
             [
              0.1111111111111111,
              "#46039f"
             ],
             [
              0.2222222222222222,
              "#7201a8"
             ],
             [
              0.3333333333333333,
              "#9c179e"
             ],
             [
              0.4444444444444444,
              "#bd3786"
             ],
             [
              0.5555555555555556,
              "#d8576b"
             ],
             [
              0.6666666666666666,
              "#ed7953"
             ],
             [
              0.7777777777777778,
              "#fb9f3a"
             ],
             [
              0.8888888888888888,
              "#fdca26"
             ],
             [
              1,
              "#f0f921"
             ]
            ],
            "type": "histogram2d"
           }
          ],
          "histogram2dcontour": [
           {
            "colorbar": {
             "outlinewidth": 0,
             "ticks": ""
            },
            "colorscale": [
             [
              0,
              "#0d0887"
             ],
             [
              0.1111111111111111,
              "#46039f"
             ],
             [
              0.2222222222222222,
              "#7201a8"
             ],
             [
              0.3333333333333333,
              "#9c179e"
             ],
             [
              0.4444444444444444,
              "#bd3786"
             ],
             [
              0.5555555555555556,
              "#d8576b"
             ],
             [
              0.6666666666666666,
              "#ed7953"
             ],
             [
              0.7777777777777778,
              "#fb9f3a"
             ],
             [
              0.8888888888888888,
              "#fdca26"
             ],
             [
              1,
              "#f0f921"
             ]
            ],
            "type": "histogram2dcontour"
           }
          ],
          "mesh3d": [
           {
            "colorbar": {
             "outlinewidth": 0,
             "ticks": ""
            },
            "type": "mesh3d"
           }
          ],
          "parcoords": [
           {
            "line": {
             "colorbar": {
              "outlinewidth": 0,
              "ticks": ""
             }
            },
            "type": "parcoords"
           }
          ],
          "pie": [
           {
            "automargin": true,
            "type": "pie"
           }
          ],
          "scatter": [
           {
            "fillpattern": {
             "fillmode": "overlay",
             "size": 10,
             "solidity": 0.2
            },
            "type": "scatter"
           }
          ],
          "scatter3d": [
           {
            "line": {
             "colorbar": {
              "outlinewidth": 0,
              "ticks": ""
             }
            },
            "marker": {
             "colorbar": {
              "outlinewidth": 0,
              "ticks": ""
             }
            },
            "type": "scatter3d"
           }
          ],
          "scattercarpet": [
           {
            "marker": {
             "colorbar": {
              "outlinewidth": 0,
              "ticks": ""
             }
            },
            "type": "scattercarpet"
           }
          ],
          "scattergeo": [
           {
            "marker": {
             "colorbar": {
              "outlinewidth": 0,
              "ticks": ""
             }
            },
            "type": "scattergeo"
           }
          ],
          "scattergl": [
           {
            "marker": {
             "colorbar": {
              "outlinewidth": 0,
              "ticks": ""
             }
            },
            "type": "scattergl"
           }
          ],
          "scattermapbox": [
           {
            "marker": {
             "colorbar": {
              "outlinewidth": 0,
              "ticks": ""
             }
            },
            "type": "scattermapbox"
           }
          ],
          "scatterpolar": [
           {
            "marker": {
             "colorbar": {
              "outlinewidth": 0,
              "ticks": ""
             }
            },
            "type": "scatterpolar"
           }
          ],
          "scatterpolargl": [
           {
            "marker": {
             "colorbar": {
              "outlinewidth": 0,
              "ticks": ""
             }
            },
            "type": "scatterpolargl"
           }
          ],
          "scatterternary": [
           {
            "marker": {
             "colorbar": {
              "outlinewidth": 0,
              "ticks": ""
             }
            },
            "type": "scatterternary"
           }
          ],
          "surface": [
           {
            "colorbar": {
             "outlinewidth": 0,
             "ticks": ""
            },
            "colorscale": [
             [
              0,
              "#0d0887"
             ],
             [
              0.1111111111111111,
              "#46039f"
             ],
             [
              0.2222222222222222,
              "#7201a8"
             ],
             [
              0.3333333333333333,
              "#9c179e"
             ],
             [
              0.4444444444444444,
              "#bd3786"
             ],
             [
              0.5555555555555556,
              "#d8576b"
             ],
             [
              0.6666666666666666,
              "#ed7953"
             ],
             [
              0.7777777777777778,
              "#fb9f3a"
             ],
             [
              0.8888888888888888,
              "#fdca26"
             ],
             [
              1,
              "#f0f921"
             ]
            ],
            "type": "surface"
           }
          ],
          "table": [
           {
            "cells": {
             "fill": {
              "color": "#EBF0F8"
             },
             "line": {
              "color": "white"
             }
            },
            "header": {
             "fill": {
              "color": "#C8D4E3"
             },
             "line": {
              "color": "white"
             }
            },
            "type": "table"
           }
          ]
         },
         "layout": {
          "annotationdefaults": {
           "arrowcolor": "#2a3f5f",
           "arrowhead": 0,
           "arrowwidth": 1
          },
          "autotypenumbers": "strict",
          "coloraxis": {
           "colorbar": {
            "outlinewidth": 0,
            "ticks": ""
           }
          },
          "colorscale": {
           "diverging": [
            [
             0,
             "#8e0152"
            ],
            [
             0.1,
             "#c51b7d"
            ],
            [
             0.2,
             "#de77ae"
            ],
            [
             0.3,
             "#f1b6da"
            ],
            [
             0.4,
             "#fde0ef"
            ],
            [
             0.5,
             "#f7f7f7"
            ],
            [
             0.6,
             "#e6f5d0"
            ],
            [
             0.7,
             "#b8e186"
            ],
            [
             0.8,
             "#7fbc41"
            ],
            [
             0.9,
             "#4d9221"
            ],
            [
             1,
             "#276419"
            ]
           ],
           "sequential": [
            [
             0,
             "#0d0887"
            ],
            [
             0.1111111111111111,
             "#46039f"
            ],
            [
             0.2222222222222222,
             "#7201a8"
            ],
            [
             0.3333333333333333,
             "#9c179e"
            ],
            [
             0.4444444444444444,
             "#bd3786"
            ],
            [
             0.5555555555555556,
             "#d8576b"
            ],
            [
             0.6666666666666666,
             "#ed7953"
            ],
            [
             0.7777777777777778,
             "#fb9f3a"
            ],
            [
             0.8888888888888888,
             "#fdca26"
            ],
            [
             1,
             "#f0f921"
            ]
           ],
           "sequentialminus": [
            [
             0,
             "#0d0887"
            ],
            [
             0.1111111111111111,
             "#46039f"
            ],
            [
             0.2222222222222222,
             "#7201a8"
            ],
            [
             0.3333333333333333,
             "#9c179e"
            ],
            [
             0.4444444444444444,
             "#bd3786"
            ],
            [
             0.5555555555555556,
             "#d8576b"
            ],
            [
             0.6666666666666666,
             "#ed7953"
            ],
            [
             0.7777777777777778,
             "#fb9f3a"
            ],
            [
             0.8888888888888888,
             "#fdca26"
            ],
            [
             1,
             "#f0f921"
            ]
           ]
          },
          "colorway": [
           "#636efa",
           "#EF553B",
           "#00cc96",
           "#ab63fa",
           "#FFA15A",
           "#19d3f3",
           "#FF6692",
           "#B6E880",
           "#FF97FF",
           "#FECB52"
          ],
          "font": {
           "color": "#2a3f5f"
          },
          "geo": {
           "bgcolor": "white",
           "lakecolor": "white",
           "landcolor": "#E5ECF6",
           "showlakes": true,
           "showland": true,
           "subunitcolor": "white"
          },
          "hoverlabel": {
           "align": "left"
          },
          "hovermode": "closest",
          "mapbox": {
           "style": "light"
          },
          "paper_bgcolor": "white",
          "plot_bgcolor": "#E5ECF6",
          "polar": {
           "angularaxis": {
            "gridcolor": "white",
            "linecolor": "white",
            "ticks": ""
           },
           "bgcolor": "#E5ECF6",
           "radialaxis": {
            "gridcolor": "white",
            "linecolor": "white",
            "ticks": ""
           }
          },
          "scene": {
           "xaxis": {
            "backgroundcolor": "#E5ECF6",
            "gridcolor": "white",
            "gridwidth": 2,
            "linecolor": "white",
            "showbackground": true,
            "ticks": "",
            "zerolinecolor": "white"
           },
           "yaxis": {
            "backgroundcolor": "#E5ECF6",
            "gridcolor": "white",
            "gridwidth": 2,
            "linecolor": "white",
            "showbackground": true,
            "ticks": "",
            "zerolinecolor": "white"
           },
           "zaxis": {
            "backgroundcolor": "#E5ECF6",
            "gridcolor": "white",
            "gridwidth": 2,
            "linecolor": "white",
            "showbackground": true,
            "ticks": "",
            "zerolinecolor": "white"
           }
          },
          "shapedefaults": {
           "line": {
            "color": "#2a3f5f"
           }
          },
          "ternary": {
           "aaxis": {
            "gridcolor": "white",
            "linecolor": "white",
            "ticks": ""
           },
           "baxis": {
            "gridcolor": "white",
            "linecolor": "white",
            "ticks": ""
           },
           "bgcolor": "#E5ECF6",
           "caxis": {
            "gridcolor": "white",
            "linecolor": "white",
            "ticks": ""
           }
          },
          "title": {
           "x": 0.05
          },
          "xaxis": {
           "automargin": true,
           "gridcolor": "white",
           "linecolor": "white",
           "ticks": "",
           "title": {
            "standoff": 15
           },
           "zerolinecolor": "white",
           "zerolinewidth": 2
          },
          "yaxis": {
           "automargin": true,
           "gridcolor": "white",
           "linecolor": "white",
           "ticks": "",
           "title": {
            "standoff": 15
           },
           "zerolinecolor": "white",
           "zerolinewidth": 2
          }
         }
        },
        "title": {
         "text": "New York Zone Activity Flow"
        }
       }
      }
     },
     "metadata": {},
     "output_type": "display_data"
    }
   ],
   "source": [
    "import pandas as pd\n",
    "import plotly.graph_objects as go\n",
    "from collections import Counter\n",
    "\n",
    "# Load the dataset\n",
    "file_path = '../data/Updated_Theme_Parks_Survey_Responses A14.csv'\n",
    "df = pd.read_csv(file_path)\n",
    "\n",
    "# Define the list of valid New York activities (simplified names)\n",
    "new_york_activities = [\n",
    "    \"F&B outlet\", \"Shop for souvenirs\", \"Water/restroom break\", \n",
    "    \"Child-friendly rides\", \"Haunted House\", \"Sightseeing\", \"Simulator rides\"\n",
    "]\n",
    "\n",
    "# Mapping from dataset activity names to simplified activity names for New York zone\n",
    "activity_mapping = {\n",
    "    \"Go to the F&B outlet\": \"F&B outlet\",\n",
    "    \"Go and shop for souvenirs\": \"Shop for souvenirs\",\n",
    "    \"Go for a water/restroom break\": \"Water/restroom break\",\n",
    "    \"Go to the child-friendly rides\": \"Child-friendly rides\",\n",
    "    \"Go to the Haunted House\": \"Haunted House\",\n",
    "    \"Sightseeing\": \"Sightseeing\",\n",
    "    \"Go to the Simulator rides\": \"Simulator rides\"\n",
    "}\n",
    "\n",
    "# Activity columns to check\n",
    "activity_columns = [\n",
    "    'first_activity', 'second_activity', 'third_activity', 'fourth_activity', 'fifth_activity', \n",
    "    'sixth_activity', 'seventh_activity', 'eighth_activity', 'ninth_activity', 'tenth_activity',\n",
    "    'eleventh_activity', 'twelfth_activity', 'thirteenth_activity', 'fourteenth_activity'\n",
    "]\n",
    "\n",
    "# Clean the activity columns (strip and handle Na values)\n",
    "for col in activity_columns:\n",
    "    df[col] = df[col].str.strip().fillna('Na')\n",
    "\n",
    "# Initialize the list for valid activities (up to the 5th activity)\n",
    "valid_activity_df = []\n",
    "\n",
    "# Process each row and find the valid activities for New York\n",
    "for index, row in df.iterrows():\n",
    "    activity_indices = []\n",
    "    count = 0\n",
    "    \n",
    "    # Go through the first 5 activities and select the valid ones\n",
    "    for i in range(5):  # Only check the first 5 activities\n",
    "        activity_name = row[activity_columns[i]]\n",
    "        \n",
    "        # If activity is valid, add it, otherwise skip to the next\n",
    "        if activity_name in activity_mapping:\n",
    "            activity_indices.append(activity_mapping[activity_name])\n",
    "            count += 1\n",
    "        elif count < 5:  # If we haven't yet captured 5 valid activities, get the next valid one\n",
    "            for j in range(i+1, len(activity_columns)):\n",
    "                next_activity_name = row[activity_columns[j]]\n",
    "                if next_activity_name in activity_mapping:\n",
    "                    activity_indices.append(activity_mapping[next_activity_name])\n",
    "                    count += 1\n",
    "                    break\n",
    "    \n",
    "    # Ensure the activity_indices has exactly 5 activities, filling up missing ones with 'Na'\n",
    "    while len(activity_indices) < 5:\n",
    "        activity_indices.append('Na')\n",
    "\n",
    "    valid_activity_df.append(activity_indices)\n",
    "\n",
    "# Create a new dataframe with the valid activities (up to 5 activities)\n",
    "valid_activity_df = pd.DataFrame(valid_activity_df, columns=[f\"activity_{i+1}\" for i in range(5)])\n",
    "\n",
    "# Remove rows where the first activity is 'Na' (this filters out empty or invalid rows)\n",
    "valid_activity_df = valid_activity_df[valid_activity_df['activity_1'] != \"Na\"]\n",
    "\n",
    "# Flatten the activity columns and count the frequency of each activity\n",
    "activities = valid_activity_df.values.flatten().tolist()\n",
    "activity_counts = Counter([activity for activity in activities if activity != \"Na\"])\n",
    "\n",
    "# Define the top activities for the New York zone (simplified names)\n",
    "top_activities = new_york_activities\n",
    "\n",
    "# Filter the dataframe to include only valid activities (up to 5 activities)\n",
    "filtered_df = valid_activity_df.apply(lambda col: col.map(lambda x: x if x in top_activities else 'Na'))\n",
    "\n",
    "# Collect all activities for the nodes (excluding \"Na\")\n",
    "activities = filtered_df.values.flatten().tolist()\n",
    "activities = [activity for activity in activities if activity != \"Na\"]\n",
    "\n",
    "# Add the start node \"New York\" to the nodes list\n",
    "start_node = \"New York\"\n",
    "nodes = [start_node] + list(pd.Series(activities).unique())\n",
    "\n",
    "# Create a dictionary for activity to index mapping\n",
    "activity_to_index = {activity: index for index, activity in enumerate(nodes)}\n",
    "\n",
    "# Initialize the list to count occurrences of each transition (source-target pair)\n",
    "link_counts = Counter()\n",
    "\n",
    "# Loop through the dataframe to create links for the Sankey diagram\n",
    "for index, row in filtered_df.iterrows():\n",
    "    first = row['activity_1']\n",
    "    second = row['activity_2']\n",
    "    third = row['activity_3']\n",
    "    fourth = row['activity_4']\n",
    "    fifth = row['activity_5']\n",
    "\n",
    "    # Add \"2 - \", \"3 - \", \"4 - \", \"5 - \" to the activities\n",
    "    second = f\"2 - {second}\" if second != \"Na\" else \"Na\"\n",
    "    third = f\"3 - {third}\" if third != \"Na\" else \"Na\"\n",
    "    fourth = f\"4 - {fourth}\" if fourth != \"Na\" else \"Na\"\n",
    "    fifth = f\"5 - {fifth}\" if fifth != \"Na\" else \"Na\"\n",
    "\n",
    "    # Add to the dictionary if second, third, fourth, or fifth prefixed activities are not in activity_to_index\n",
    "    for activity in [second, third, fourth, fifth]:\n",
    "        if activity != \"Na\" and activity not in activity_to_index:\n",
    "            activity_to_index[activity] = len(activity_to_index)\n",
    "            nodes.append(activity)\n",
    "\n",
    "    # Track links between consecutive activities, ensuring they are valid (not \"Na\")\n",
    "    if first != \"Na\":\n",
    "        link_counts[(start_node, first)] += 1\n",
    "    if first != \"Na\" and second != \"Na\" and first != second:\n",
    "        link_counts[(first, second)] += 1\n",
    "    if second != \"Na\" and third != \"Na\" and second != third:\n",
    "        link_counts[(second, third)] += 1\n",
    "    if third != \"Na\" and fourth != \"Na\" and third != fourth:\n",
    "        link_counts[(third, fourth)] += 1\n",
    "    if fourth != \"Na\" and fifth != \"Na\" and fourth != fifth:\n",
    "        link_counts[(fourth, fifth)] += 1\n",
    "\n",
    "# Prepare lists for sources, targets, and values based on the link counts\n",
    "sources = []\n",
    "targets = []\n",
    "values = []\n",
    "\n",
    "for (source, target), count in link_counts.items():\n",
    "    if source != \"Na\" and target != \"Na\":  # Only add links that are valid\n",
    "        sources.append(activity_to_index[source])\n",
    "        targets.append(activity_to_index[target])\n",
    "        values.append(count)\n",
    "\n",
    "# Create the Sankey diagram\n",
    "fig = go.Figure(go.Sankey(\n",
    "    node=dict(\n",
    "        pad=15,\n",
    "        thickness=20,\n",
    "        line=dict(color=\"black\", width=0.5),\n",
    "        label=nodes\n",
    "    ),\n",
    "    link=dict(\n",
    "        source=sources,\n",
    "        target=targets,\n",
    "        value=values\n",
    "    )\n",
    "))\n",
    "\n",
    "# Update layout for better visualization\n",
    "fig.update_layout(title=\"New York Zone Activity Flow\", font_size=12)\n",
    "\n",
    "# Show the Sankey diagram\n",
    "fig.show()\n"
   ]
  }
 ],
 "metadata": {
  "kernelspec": {
   "display_name": "Python 3",
   "language": "python",
   "name": "python3"
  },
  "language_info": {
   "codemirror_mode": {
    "name": "ipython",
    "version": 3
   },
   "file_extension": ".py",
   "mimetype": "text/x-python",
   "name": "python",
   "nbconvert_exporter": "python",
   "pygments_lexer": "ipython3",
   "version": "3.10.6"
  }
 },
 "nbformat": 4,
 "nbformat_minor": 2
}

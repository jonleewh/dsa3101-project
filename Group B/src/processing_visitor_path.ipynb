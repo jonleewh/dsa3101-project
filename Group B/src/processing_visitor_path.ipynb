{
 "cells": [
  {
   "cell_type": "code",
   "execution_count": 22,
   "metadata": {},
   "outputs": [],
   "source": [
    "import pandas as pd\n",
    "import sqlite3"
   ]
  },
  {
   "cell_type": "markdown",
   "metadata": {},
   "source": [
    "### Read in the excel file, keep only the required column and put it into a dataframe"
   ]
  },
  {
   "cell_type": "code",
   "execution_count": 23,
   "metadata": {},
   "outputs": [
    {
     "data": {
      "text/html": [
       "<div>\n",
       "<style scoped>\n",
       "    .dataframe tbody tr th:only-of-type {\n",
       "        vertical-align: middle;\n",
       "    }\n",
       "\n",
       "    .dataframe tbody tr th {\n",
       "        vertical-align: top;\n",
       "    }\n",
       "\n",
       "    .dataframe thead th {\n",
       "        text-align: right;\n",
       "    }\n",
       "</style>\n",
       "<table border=\"1\" class=\"dataframe\">\n",
       "  <thead>\n",
       "    <tr style=\"text-align: right;\">\n",
       "      <th></th>\n",
       "      <th>Arrange the following activities in the order in which you experienced them during your visit.\\nA. Go to the rollercoasters\\nB. Go to the Water-based rides\\nC. Go to the F&amp;B outlet\\nD. Go and shop for souvenirs\\nE. Go for a water/restroom break\\nG. Go to the child-friendly rides\\nH. Go to the Haunted House\\nI. Go to the Simulator rides\\nJ. Sightseeing\\nK. Go to the Spinning rides</th>\n",
       "    </tr>\n",
       "  </thead>\n",
       "  <tbody>\n",
       "    <tr>\n",
       "      <th>0</th>\n",
       "      <td>E A D B D E I C</td>\n",
       "    </tr>\n",
       "    <tr>\n",
       "      <th>1</th>\n",
       "      <td>J G H I E B C A K D</td>\n",
       "    </tr>\n",
       "    <tr>\n",
       "      <th>2</th>\n",
       "      <td>H E K J I E B</td>\n",
       "    </tr>\n",
       "    <tr>\n",
       "      <th>3</th>\n",
       "      <td>A B C E H I G K J D</td>\n",
       "    </tr>\n",
       "    <tr>\n",
       "      <th>4</th>\n",
       "      <td>A E I C J D K G B H</td>\n",
       "    </tr>\n",
       "    <tr>\n",
       "      <th>...</th>\n",
       "      <td>...</td>\n",
       "    </tr>\n",
       "    <tr>\n",
       "      <th>154</th>\n",
       "      <td>J A I C E B G D</td>\n",
       "    </tr>\n",
       "    <tr>\n",
       "      <th>155</th>\n",
       "      <td>J A I C E B G D</td>\n",
       "    </tr>\n",
       "    <tr>\n",
       "      <th>156</th>\n",
       "      <td>A I C J E B G D</td>\n",
       "    </tr>\n",
       "    <tr>\n",
       "      <th>157</th>\n",
       "      <td>A I J C E B G D</td>\n",
       "    </tr>\n",
       "    <tr>\n",
       "      <th>158</th>\n",
       "      <td>I A B J E G C D</td>\n",
       "    </tr>\n",
       "  </tbody>\n",
       "</table>\n",
       "<p>159 rows × 1 columns</p>\n",
       "</div>"
      ],
      "text/plain": [
       "    Arrange the following activities in the order in which you experienced them during your visit.\\nA. Go to the rollercoasters\\nB. Go to the Water-based rides\\nC. Go to the F&B outlet\\nD. Go and shop for souvenirs\\nE. Go for a water/restroom break\\nG. Go to the child-friendly rides\\nH. Go to the Haunted House\\nI. Go to the Simulator rides\\nJ. Sightseeing\\nK. Go to the Spinning rides\n",
       "0                                      E A D B D E I C                                                                                                                                                                                                                                                                                                                                            \n",
       "1                                  J G H I E B C A K D                                                                                                                                                                                                                                                                                                                                            \n",
       "2                                       H E K J I E B                                                                                                                                                                                                                                                                                                                                             \n",
       "3                                  A B C E H I G K J D                                                                                                                                                                                                                                                                                                                                            \n",
       "4                                  A E I C J D K G B H                                                                                                                                                                                                                                                                                                                                            \n",
       "..                                                 ...                                                                                                                                                                                                                                                                                                                                            \n",
       "154                                    J A I C E B G D                                                                                                                                                                                                                                                                                                                                            \n",
       "155                                    J A I C E B G D                                                                                                                                                                                                                                                                                                                                            \n",
       "156                                    A I C J E B G D                                                                                                                                                                                                                                                                                                                                            \n",
       "157                                    A I J C E B G D                                                                                                                                                                                                                                                                                                                                            \n",
       "158                                    I A B J E G C D                                                                                                                                                                                                                                                                                                                                            \n",
       "\n",
       "[159 rows x 1 columns]"
      ]
     },
     "execution_count": 23,
     "metadata": {},
     "output_type": "execute_result"
    }
   ],
   "source": [
    "# Step 1: Read the Excel file and keep only the specified column\n",
    "file_path = '../../Group A/data/Theme Parks Survey Responses 4 Nov.csv' \n",
    "column_name = \"\"\"Arrange the following activities in the order in which you experienced them during your visit.\n",
    "A. Go to the rollercoasters\n",
    "B. Go to the Water-based rides\n",
    "C. Go to the F&B outlet\n",
    "D. Go and shop for souvenirs\n",
    "E. Go for a water/restroom break\n",
    "G. Go to the child-friendly rides\n",
    "H. Go to the Haunted House\n",
    "I. Go to the Simulator rides\n",
    "J. Sightseeing\n",
    "K. Go to the Spinning rides\"\"\"\n",
    "\n",
    "df = pd.read_csv(file_path, usecols=[column_name])\n",
    "df"
   ]
  },
  {
   "cell_type": "markdown",
   "metadata": {},
   "source": [
    "### Drop rows with \"NA\""
   ]
  },
  {
   "cell_type": "code",
   "execution_count": 24,
   "metadata": {},
   "outputs": [],
   "source": [
    "df = df.dropna()"
   ]
  },
  {
   "cell_type": "code",
   "execution_count": 25,
   "metadata": {},
   "outputs": [
    {
     "name": "stderr",
     "output_type": "stream",
     "text": [
      "/var/folders/s3/x_gq7dtj25z5d_3nmhjk3d340000gn/T/ipykernel_28066/287367131.py:2: SettingWithCopyWarning: \n",
      "A value is trying to be set on a copy of a slice from a DataFrame.\n",
      "Try using .loc[row_indexer,col_indexer] = value instead\n",
      "\n",
      "See the caveats in the documentation: https://pandas.pydata.org/pandas-docs/stable/user_guide/indexing.html#returning-a-view-versus-a-copy\n",
      "  df[column_name] = df[column_name].str.replace('F ', '', regex=True)\n",
      "/var/folders/s3/x_gq7dtj25z5d_3nmhjk3d340000gn/T/ipykernel_28066/287367131.py:3: SettingWithCopyWarning: \n",
      "A value is trying to be set on a copy of a slice from a DataFrame.\n",
      "Try using .loc[row_indexer,col_indexer] = value instead\n",
      "\n",
      "See the caveats in the documentation: https://pandas.pydata.org/pandas-docs/stable/user_guide/indexing.html#returning-a-view-versus-a-copy\n",
      "  df[column_name] = df[column_name].str.replace('H ', '', regex=True)\n"
     ]
    },
    {
     "data": {
      "text/html": [
       "<div>\n",
       "<style scoped>\n",
       "    .dataframe tbody tr th:only-of-type {\n",
       "        vertical-align: middle;\n",
       "    }\n",
       "\n",
       "    .dataframe tbody tr th {\n",
       "        vertical-align: top;\n",
       "    }\n",
       "\n",
       "    .dataframe thead th {\n",
       "        text-align: right;\n",
       "    }\n",
       "</style>\n",
       "<table border=\"1\" class=\"dataframe\">\n",
       "  <thead>\n",
       "    <tr style=\"text-align: right;\">\n",
       "      <th></th>\n",
       "      <th>Arrange the following activities in the order in which you experienced them during your visit.\\nA. Go to the rollercoasters\\nB. Go to the Water-based rides\\nC. Go to the F&amp;B outlet\\nD. Go and shop for souvenirs\\nE. Go for a water/restroom break\\nG. Go to the child-friendly rides\\nH. Go to the Haunted House\\nI. Go to the Simulator rides\\nJ. Sightseeing\\nK. Go to the Spinning rides</th>\n",
       "    </tr>\n",
       "  </thead>\n",
       "  <tbody>\n",
       "    <tr>\n",
       "      <th>0</th>\n",
       "      <td>E A D B D E I C</td>\n",
       "    </tr>\n",
       "    <tr>\n",
       "      <th>1</th>\n",
       "      <td>J G I E B C A K D</td>\n",
       "    </tr>\n",
       "    <tr>\n",
       "      <th>2</th>\n",
       "      <td>E K J I E B</td>\n",
       "    </tr>\n",
       "    <tr>\n",
       "      <th>3</th>\n",
       "      <td>A B C E I G K J D</td>\n",
       "    </tr>\n",
       "    <tr>\n",
       "      <th>4</th>\n",
       "      <td>A E I C J D K G B H</td>\n",
       "    </tr>\n",
       "  </tbody>\n",
       "</table>\n",
       "</div>"
      ],
      "text/plain": [
       "  Arrange the following activities in the order in which you experienced them during your visit.\\nA. Go to the rollercoasters\\nB. Go to the Water-based rides\\nC. Go to the F&B outlet\\nD. Go and shop for souvenirs\\nE. Go for a water/restroom break\\nG. Go to the child-friendly rides\\nH. Go to the Haunted House\\nI. Go to the Simulator rides\\nJ. Sightseeing\\nK. Go to the Spinning rides\n",
       "0                                    E A D B D E I C                                                                                                                                                                                                                                                                                                                                            \n",
       "1                                  J G I E B C A K D                                                                                                                                                                                                                                                                                                                                            \n",
       "2                                       E K J I E B                                                                                                                                                                                                                                                                                                                                             \n",
       "3                                  A B C E I G K J D                                                                                                                                                                                                                                                                                                                                            \n",
       "4                                A E I C J D K G B H                                                                                                                                                                                                                                                                                                                                            "
      ]
     },
     "execution_count": 25,
     "metadata": {},
     "output_type": "execute_result"
    }
   ],
   "source": [
    "\n",
    "# Remove all occurrences of the letter 'F' and 'H' from each entry in the specified column\n",
    "df[column_name] = df[column_name].str.replace('F ', '', regex=True)\n",
    "df[column_name] = df[column_name].str.replace('H ', '', regex=True)\n",
    "df.head()  # Display the DataFrame to confirm changes\n"
   ]
  },
  {
   "cell_type": "code",
   "execution_count": 26,
   "metadata": {},
   "outputs": [],
   "source": [
    "# Rename the column\n",
    "df = df.rename(columns={column_name: 'path'})\n",
    "# Export DataFrame to CSV file\n",
    "df.to_csv('../data/itinerary.csv', index=False)  # index=False to avoid writing row numbers"
   ]
  },
  {
   "cell_type": "markdown",
   "metadata": {},
   "source": [
    "### Load the leaned DataFrame into SQLite"
   ]
  },
  {
   "cell_type": "code",
   "execution_count": 27,
   "metadata": {},
   "outputs": [
    {
     "data": {
      "text/plain": [
       "157"
      ]
     },
     "execution_count": 27,
     "metadata": {},
     "output_type": "execute_result"
    }
   ],
   "source": [
    "conn = sqlite3.connect(':memory:')  # Use an in-memory SQLite database\n",
    "df.to_sql('activities', conn, index=False, if_exists='replace')"
   ]
  },
  {
   "cell_type": "markdown",
   "metadata": {},
   "source": [
    "### Step 4: Count occurrences of each letter and calculate percentages"
   ]
  },
  {
   "cell_type": "code",
   "execution_count": 28,
   "metadata": {},
   "outputs": [
    {
     "ename": "DatabaseError",
     "evalue": "Execution failed on sql '\nWITH letter_counts AS (\n    SELECT\n        SUBSTR(activities.[Arrange the following activities in the order in which you experienced them during your visit.\nA. Go to the rollercoasters\nB. Go to the Water-based rides\nC. Go to the F&B outlet\nD. Go and shop for souvenirs\nE. Go for a water/restroom break\nG. Go to the child-friendly rides\nH. Go to the Haunted House\nI. Go to the Simulator rides\nJ. Sightseeing\nK. Go to the Spinning rides], 1, 1) AS letter,\n        COUNT(*) AS count\n    FROM activities\n    GROUP BY letter\n),\ntotal_counts AS (\n    SELECT SUM(count) AS total\n    FROM letter_counts\n)\nSELECT\n    letter_counts.letter,\n    letter_counts.count,\n    (letter_counts.count * 100.0 / total_counts.total) AS percentage\nFROM letter_counts, total_counts\nORDER BY letter_counts.letter;\n': no such column: activities.Arrange the following activities in the order in which you experienced them during your visit.\nA. Go to the rollercoasters\nB. Go to the Water-based rides\nC. Go to the F&B outlet\nD. Go and shop for souvenirs\nE. Go for a water/restroom break\nG. Go to the child-friendly rides\nH. Go to the Haunted House\nI. Go to the Simulator rides\nJ. Sightseeing\nK. Go to the Spinning rides",
     "output_type": "error",
     "traceback": [
      "\u001b[0;31m---------------------------------------------------------------------------\u001b[0m",
      "\u001b[0;31mOperationalError\u001b[0m                          Traceback (most recent call last)",
      "File \u001b[0;32m/Library/Frameworks/Python.framework/Versions/3.10/lib/python3.10/site-packages/pandas/io/sql.py:2020\u001b[0m, in \u001b[0;36mSQLiteDatabase.execute\u001b[0;34m(self, *args, **kwargs)\u001b[0m\n\u001b[1;32m   2019\u001b[0m \u001b[38;5;28;01mtry\u001b[39;00m:\n\u001b[0;32m-> 2020\u001b[0m     \u001b[43mcur\u001b[49m\u001b[38;5;241;43m.\u001b[39;49m\u001b[43mexecute\u001b[49m\u001b[43m(\u001b[49m\u001b[38;5;241;43m*\u001b[39;49m\u001b[43margs\u001b[49m\u001b[43m,\u001b[49m\u001b[43m \u001b[49m\u001b[38;5;241;43m*\u001b[39;49m\u001b[38;5;241;43m*\u001b[39;49m\u001b[43mkwargs\u001b[49m\u001b[43m)\u001b[49m\n\u001b[1;32m   2021\u001b[0m     \u001b[38;5;28;01mreturn\u001b[39;00m cur\n",
      "\u001b[0;31mOperationalError\u001b[0m: no such column: activities.Arrange the following activities in the order in which you experienced them during your visit.\nA. Go to the rollercoasters\nB. Go to the Water-based rides\nC. Go to the F&B outlet\nD. Go and shop for souvenirs\nE. Go for a water/restroom break\nG. Go to the child-friendly rides\nH. Go to the Haunted House\nI. Go to the Simulator rides\nJ. Sightseeing\nK. Go to the Spinning rides",
      "\nThe above exception was the direct cause of the following exception:\n",
      "\u001b[0;31mDatabaseError\u001b[0m                             Traceback (most recent call last)",
      "Input \u001b[0;32mIn [28]\u001b[0m, in \u001b[0;36m<cell line: 22>\u001b[0;34m()\u001b[0m\n\u001b[1;32m      1\u001b[0m query \u001b[38;5;241m=\u001b[39m \u001b[38;5;124m\"\"\"\u001b[39m\n\u001b[1;32m      2\u001b[0m \u001b[38;5;124mWITH letter_counts AS (\u001b[39m\n\u001b[1;32m      3\u001b[0m \u001b[38;5;124m    SELECT\u001b[39m\n\u001b[0;32m   (...)\u001b[0m\n\u001b[1;32m     18\u001b[0m \u001b[38;5;124mORDER BY letter_counts.letter;\u001b[39m\n\u001b[1;32m     19\u001b[0m \u001b[38;5;124m\"\"\"\u001b[39m\u001b[38;5;241m.\u001b[39mformat(column_name)\n\u001b[1;32m     21\u001b[0m \u001b[38;5;66;03m# Execute the query and retrieve the results\u001b[39;00m\n\u001b[0;32m---> 22\u001b[0m result \u001b[38;5;241m=\u001b[39m \u001b[43mpd\u001b[49m\u001b[38;5;241;43m.\u001b[39;49m\u001b[43mread_sql_query\u001b[49m\u001b[43m(\u001b[49m\u001b[43mquery\u001b[49m\u001b[43m,\u001b[49m\u001b[43m \u001b[49m\u001b[43mconn\u001b[49m\u001b[43m)\u001b[49m\n\u001b[1;32m     24\u001b[0m \u001b[38;5;66;03m# Close the connection\u001b[39;00m\n\u001b[1;32m     25\u001b[0m conn\u001b[38;5;241m.\u001b[39mclose()\n",
      "File \u001b[0;32m/Library/Frameworks/Python.framework/Versions/3.10/lib/python3.10/site-packages/pandas/io/sql.py:399\u001b[0m, in \u001b[0;36mread_sql_query\u001b[0;34m(sql, con, index_col, coerce_float, params, parse_dates, chunksize, dtype)\u001b[0m\n\u001b[1;32m    341\u001b[0m \u001b[38;5;124;03m\"\"\"\u001b[39;00m\n\u001b[1;32m    342\u001b[0m \u001b[38;5;124;03mRead SQL query into a DataFrame.\u001b[39;00m\n\u001b[1;32m    343\u001b[0m \n\u001b[0;32m   (...)\u001b[0m\n\u001b[1;32m    396\u001b[0m \u001b[38;5;124;03mparameter will be converted to UTC.\u001b[39;00m\n\u001b[1;32m    397\u001b[0m \u001b[38;5;124;03m\"\"\"\u001b[39;00m\n\u001b[1;32m    398\u001b[0m pandas_sql \u001b[38;5;241m=\u001b[39m pandasSQL_builder(con)\n\u001b[0;32m--> 399\u001b[0m \u001b[38;5;28;01mreturn\u001b[39;00m \u001b[43mpandas_sql\u001b[49m\u001b[38;5;241;43m.\u001b[39;49m\u001b[43mread_query\u001b[49m\u001b[43m(\u001b[49m\n\u001b[1;32m    400\u001b[0m \u001b[43m    \u001b[49m\u001b[43msql\u001b[49m\u001b[43m,\u001b[49m\n\u001b[1;32m    401\u001b[0m \u001b[43m    \u001b[49m\u001b[43mindex_col\u001b[49m\u001b[38;5;241;43m=\u001b[39;49m\u001b[43mindex_col\u001b[49m\u001b[43m,\u001b[49m\n\u001b[1;32m    402\u001b[0m \u001b[43m    \u001b[49m\u001b[43mparams\u001b[49m\u001b[38;5;241;43m=\u001b[39;49m\u001b[43mparams\u001b[49m\u001b[43m,\u001b[49m\n\u001b[1;32m    403\u001b[0m \u001b[43m    \u001b[49m\u001b[43mcoerce_float\u001b[49m\u001b[38;5;241;43m=\u001b[39;49m\u001b[43mcoerce_float\u001b[49m\u001b[43m,\u001b[49m\n\u001b[1;32m    404\u001b[0m \u001b[43m    \u001b[49m\u001b[43mparse_dates\u001b[49m\u001b[38;5;241;43m=\u001b[39;49m\u001b[43mparse_dates\u001b[49m\u001b[43m,\u001b[49m\n\u001b[1;32m    405\u001b[0m \u001b[43m    \u001b[49m\u001b[43mchunksize\u001b[49m\u001b[38;5;241;43m=\u001b[39;49m\u001b[43mchunksize\u001b[49m\u001b[43m,\u001b[49m\n\u001b[1;32m    406\u001b[0m \u001b[43m    \u001b[49m\u001b[43mdtype\u001b[49m\u001b[38;5;241;43m=\u001b[39;49m\u001b[43mdtype\u001b[49m\u001b[43m,\u001b[49m\n\u001b[1;32m    407\u001b[0m \u001b[43m\u001b[49m\u001b[43m)\u001b[49m\n",
      "File \u001b[0;32m/Library/Frameworks/Python.framework/Versions/3.10/lib/python3.10/site-packages/pandas/io/sql.py:2080\u001b[0m, in \u001b[0;36mSQLiteDatabase.read_query\u001b[0;34m(self, sql, index_col, coerce_float, params, parse_dates, chunksize, dtype)\u001b[0m\n\u001b[1;32m   2068\u001b[0m \u001b[38;5;28;01mdef\u001b[39;00m \u001b[38;5;21mread_query\u001b[39m(\n\u001b[1;32m   2069\u001b[0m     \u001b[38;5;28mself\u001b[39m,\n\u001b[1;32m   2070\u001b[0m     sql,\n\u001b[0;32m   (...)\u001b[0m\n\u001b[1;32m   2076\u001b[0m     dtype: DtypeArg \u001b[38;5;241m|\u001b[39m \u001b[38;5;28;01mNone\u001b[39;00m \u001b[38;5;241m=\u001b[39m \u001b[38;5;28;01mNone\u001b[39;00m,\n\u001b[1;32m   2077\u001b[0m ):\n\u001b[1;32m   2079\u001b[0m     args \u001b[38;5;241m=\u001b[39m _convert_params(sql, params)\n\u001b[0;32m-> 2080\u001b[0m     cursor \u001b[38;5;241m=\u001b[39m \u001b[38;5;28;43mself\u001b[39;49m\u001b[38;5;241;43m.\u001b[39;49m\u001b[43mexecute\u001b[49m\u001b[43m(\u001b[49m\u001b[38;5;241;43m*\u001b[39;49m\u001b[43margs\u001b[49m\u001b[43m)\u001b[49m\n\u001b[1;32m   2081\u001b[0m     columns \u001b[38;5;241m=\u001b[39m [col_desc[\u001b[38;5;241m0\u001b[39m] \u001b[38;5;28;01mfor\u001b[39;00m col_desc \u001b[38;5;129;01min\u001b[39;00m cursor\u001b[38;5;241m.\u001b[39mdescription]\n\u001b[1;32m   2083\u001b[0m     \u001b[38;5;28;01mif\u001b[39;00m chunksize \u001b[38;5;129;01mis\u001b[39;00m \u001b[38;5;129;01mnot\u001b[39;00m \u001b[38;5;28;01mNone\u001b[39;00m:\n",
      "File \u001b[0;32m/Library/Frameworks/Python.framework/Versions/3.10/lib/python3.10/site-packages/pandas/io/sql.py:2032\u001b[0m, in \u001b[0;36mSQLiteDatabase.execute\u001b[0;34m(self, *args, **kwargs)\u001b[0m\n\u001b[1;32m   2029\u001b[0m     \u001b[38;5;28;01mraise\u001b[39;00m ex \u001b[38;5;28;01mfrom\u001b[39;00m \u001b[38;5;21;01minner_exc\u001b[39;00m\n\u001b[1;32m   2031\u001b[0m ex \u001b[38;5;241m=\u001b[39m DatabaseError(\u001b[38;5;124mf\u001b[39m\u001b[38;5;124m\"\u001b[39m\u001b[38;5;124mExecution failed on sql \u001b[39m\u001b[38;5;124m'\u001b[39m\u001b[38;5;132;01m{\u001b[39;00margs[\u001b[38;5;241m0\u001b[39m]\u001b[38;5;132;01m}\u001b[39;00m\u001b[38;5;124m'\u001b[39m\u001b[38;5;124m: \u001b[39m\u001b[38;5;132;01m{\u001b[39;00mexc\u001b[38;5;132;01m}\u001b[39;00m\u001b[38;5;124m\"\u001b[39m)\n\u001b[0;32m-> 2032\u001b[0m \u001b[38;5;28;01mraise\u001b[39;00m ex \u001b[38;5;28;01mfrom\u001b[39;00m \u001b[38;5;21;01mexc\u001b[39;00m\n",
      "\u001b[0;31mDatabaseError\u001b[0m: Execution failed on sql '\nWITH letter_counts AS (\n    SELECT\n        SUBSTR(activities.[Arrange the following activities in the order in which you experienced them during your visit.\nA. Go to the rollercoasters\nB. Go to the Water-based rides\nC. Go to the F&B outlet\nD. Go and shop for souvenirs\nE. Go for a water/restroom break\nG. Go to the child-friendly rides\nH. Go to the Haunted House\nI. Go to the Simulator rides\nJ. Sightseeing\nK. Go to the Spinning rides], 1, 1) AS letter,\n        COUNT(*) AS count\n    FROM activities\n    GROUP BY letter\n),\ntotal_counts AS (\n    SELECT SUM(count) AS total\n    FROM letter_counts\n)\nSELECT\n    letter_counts.letter,\n    letter_counts.count,\n    (letter_counts.count * 100.0 / total_counts.total) AS percentage\nFROM letter_counts, total_counts\nORDER BY letter_counts.letter;\n': no such column: activities.Arrange the following activities in the order in which you experienced them during your visit.\nA. Go to the rollercoasters\nB. Go to the Water-based rides\nC. Go to the F&B outlet\nD. Go and shop for souvenirs\nE. Go for a water/restroom break\nG. Go to the child-friendly rides\nH. Go to the Haunted House\nI. Go to the Simulator rides\nJ. Sightseeing\nK. Go to the Spinning rides"
     ]
    }
   ],
   "source": [
    "query = \"\"\"\n",
    "WITH letter_counts AS (\n",
    "    SELECT\n",
    "        SUBSTR(activities.[{}], 1, 1) AS letter,\n",
    "        COUNT(*) AS count\n",
    "    FROM activities\n",
    "    GROUP BY letter\n",
    "),\n",
    "total_counts AS (\n",
    "    SELECT SUM(count) AS total\n",
    "    FROM letter_counts\n",
    ")\n",
    "SELECT\n",
    "    letter_counts.letter,\n",
    "    letter_counts.count,\n",
    "    (letter_counts.count * 100.0 / total_counts.total) AS percentage\n",
    "FROM letter_counts, total_counts\n",
    "ORDER BY letter_counts.letter;\n",
    "\"\"\".format(column_name)\n",
    "\n",
    "# Execute the query and retrieve the results\n",
    "result = pd.read_sql_query(query, conn)\n",
    "\n",
    "# Close the connection\n",
    "conn.close()\n",
    "\n",
    "result"
   ]
  },
  {
   "cell_type": "markdown",
   "metadata": {},
   "source": [
    "### Checking if the percentage column sums up to 100%"
   ]
  },
  {
   "cell_type": "code",
   "execution_count": null,
   "metadata": {},
   "outputs": [
    {
     "data": {
      "text/plain": [
       "99.99999999999999"
      ]
     },
     "execution_count": 14,
     "metadata": {},
     "output_type": "execute_result"
    }
   ],
   "source": [
    "# Calculate the sum of the percentage column\n",
    "total_percentage = result['percentage'].sum()\n",
    "\n",
    "# Display the result\n",
    "total_percentage\n",
    "\n",
    "# if you want the total % column to sum up to 100% (but not necessary), you can \n",
    "# do so by rounding the percentage column to 2 decimal places\n",
    "\n",
    "# result['percentage'] = result['percentage'].round(2)\n",
    "\n",
    "# # Recalculate the sum to verify\n",
    "# total_percentage = result['percentage'].sum()\n",
    "# total_percentage"
   ]
  },
  {
   "cell_type": "markdown",
   "metadata": {},
   "source": [
    "### Putting the resulting output into a new csv file"
   ]
  },
  {
   "cell_type": "code",
   "execution_count": null,
   "metadata": {},
   "outputs": [
    {
     "name": "stdout",
     "output_type": "stream",
     "text": [
      "Data has been successfully saved to activity_counts_and_popularity_percentages.csv\n"
     ]
    }
   ],
   "source": [
    "# Specify the file path for your CSV output\n",
    "output_file_path = 'activity_counts_and_popularity_percentages.csv'\n",
    "\n",
    "# Save the DataFrame to a CSV file\n",
    "result.to_csv(output_file_path, index=False)\n",
    "\n",
    "print(f\"Data has been successfully saved to {output_file_path}\")\n"
   ]
  },
  {
   "cell_type": "code",
   "execution_count": null,
   "metadata": {},
   "outputs": [],
   "source": []
  }
 ],
 "metadata": {
  "kernelspec": {
   "display_name": "Python 3",
   "language": "python",
   "name": "python3"
  },
  "language_info": {
   "codemirror_mode": {
    "name": "ipython",
    "version": 3
   },
   "file_extension": ".py",
   "mimetype": "text/x-python",
   "name": "python",
   "nbconvert_exporter": "python",
   "pygments_lexer": "ipython3",
   "version": "3.10.6"
  }
 },
 "nbformat": 4,
 "nbformat_minor": 2
}

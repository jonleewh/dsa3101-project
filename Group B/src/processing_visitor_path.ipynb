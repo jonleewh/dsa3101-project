{
 "cells": [
  {
   "cell_type": "code",
   "execution_count": 8,
   "metadata": {},
   "outputs": [],
   "source": [
    "import pandas as pd\n",
    "import sqlite3"
   ]
  },
  {
   "cell_type": "markdown",
   "metadata": {},
   "source": [
    "### Read in the excel file, keep only the required column and put it into a dataframe"
   ]
  },
  {
   "cell_type": "code",
   "execution_count": 9,
   "metadata": {},
   "outputs": [
    {
     "data": {
      "text/html": [
       "<div>\n",
       "<style scoped>\n",
       "    .dataframe tbody tr th:only-of-type {\n",
       "        vertical-align: middle;\n",
       "    }\n",
       "\n",
       "    .dataframe tbody tr th {\n",
       "        vertical-align: top;\n",
       "    }\n",
       "\n",
       "    .dataframe thead th {\n",
       "        text-align: right;\n",
       "    }\n",
       "</style>\n",
       "<table border=\"1\" class=\"dataframe\">\n",
       "  <thead>\n",
       "    <tr style=\"text-align: right;\">\n",
       "      <th></th>\n",
       "      <th>Arrange the following activities in the order in which you experienced them during your visit.\\nA. Go to the rollercoasters\\nB. Go to the Water-based rides\\nC. Go to the F&amp;B outlet\\nD. Go and shop for souvenirs\\nE. Go for a water/restroom break\\nG. Go to the child-friendly rides\\nH. Go to the Haunted House\\nI. Go to the Simulator rides\\nJ. Sightseeing\\nK. Go to the Spinning rides</th>\n",
       "    </tr>\n",
       "  </thead>\n",
       "  <tbody>\n",
       "    <tr>\n",
       "      <th>0</th>\n",
       "      <td>E A D B D E I C</td>\n",
       "    </tr>\n",
       "    <tr>\n",
       "      <th>1</th>\n",
       "      <td>J G H I E B C A K D</td>\n",
       "    </tr>\n",
       "    <tr>\n",
       "      <th>2</th>\n",
       "      <td>H E K J I E B</td>\n",
       "    </tr>\n",
       "    <tr>\n",
       "      <th>3</th>\n",
       "      <td>A B C E H I G K J D</td>\n",
       "    </tr>\n",
       "    <tr>\n",
       "      <th>4</th>\n",
       "      <td>A E I C J D K G B H</td>\n",
       "    </tr>\n",
       "    <tr>\n",
       "      <th>...</th>\n",
       "      <td>...</td>\n",
       "    </tr>\n",
       "    <tr>\n",
       "      <th>154</th>\n",
       "      <td>J A I C E B G D</td>\n",
       "    </tr>\n",
       "    <tr>\n",
       "      <th>155</th>\n",
       "      <td>J A I C E B G D</td>\n",
       "    </tr>\n",
       "    <tr>\n",
       "      <th>156</th>\n",
       "      <td>A I C J E B G D</td>\n",
       "    </tr>\n",
       "    <tr>\n",
       "      <th>157</th>\n",
       "      <td>A I J C E B G D</td>\n",
       "    </tr>\n",
       "    <tr>\n",
       "      <th>158</th>\n",
       "      <td>I A B J E G C D</td>\n",
       "    </tr>\n",
       "  </tbody>\n",
       "</table>\n",
       "<p>159 rows × 1 columns</p>\n",
       "</div>"
      ],
      "text/plain": [
       "    Arrange the following activities in the order in which you experienced them during your visit.\\nA. Go to the rollercoasters\\nB. Go to the Water-based rides\\nC. Go to the F&B outlet\\nD. Go and shop for souvenirs\\nE. Go for a water/restroom break\\nG. Go to the child-friendly rides\\nH. Go to the Haunted House\\nI. Go to the Simulator rides\\nJ. Sightseeing\\nK. Go to the Spinning rides\n",
       "0                                      E A D B D E I C                                                                                                                                                                                                                                                                                                                                            \n",
       "1                                  J G H I E B C A K D                                                                                                                                                                                                                                                                                                                                            \n",
       "2                                       H E K J I E B                                                                                                                                                                                                                                                                                                                                             \n",
       "3                                  A B C E H I G K J D                                                                                                                                                                                                                                                                                                                                            \n",
       "4                                  A E I C J D K G B H                                                                                                                                                                                                                                                                                                                                            \n",
       "..                                                 ...                                                                                                                                                                                                                                                                                                                                            \n",
       "154                                    J A I C E B G D                                                                                                                                                                                                                                                                                                                                            \n",
       "155                                    J A I C E B G D                                                                                                                                                                                                                                                                                                                                            \n",
       "156                                    A I C J E B G D                                                                                                                                                                                                                                                                                                                                            \n",
       "157                                    A I J C E B G D                                                                                                                                                                                                                                                                                                                                            \n",
       "158                                    I A B J E G C D                                                                                                                                                                                                                                                                                                                                            \n",
       "\n",
       "[159 rows x 1 columns]"
      ]
     },
     "execution_count": 9,
     "metadata": {},
     "output_type": "execute_result"
    }
   ],
   "source": [
    "# Step 1: Read the Excel file and keep only the specified column\n",
    "file_path = '../../Group A/data/Theme Parks Survey Responses 4 Nov.csv' \n",
    "column_name = \"\"\"Arrange the following activities in the order in which you experienced them during your visit.\n",
    "A. Go to the rollercoasters\n",
    "B. Go to the Water-based rides\n",
    "C. Go to the F&B outlet\n",
    "D. Go and shop for souvenirs\n",
    "E. Go for a water/restroom break\n",
    "G. Go to the child-friendly rides\n",
    "H. Go to the Haunted House\n",
    "I. Go to the Simulator rides\n",
    "J. Sightseeing\n",
    "K. Go to the Spinning rides\"\"\"\n",
    "\n",
    "df = pd.read_csv(file_path, usecols=[column_name])\n",
    "df"
   ]
  },
  {
   "cell_type": "markdown",
   "metadata": {},
   "source": [
    "### Drop rows with \"NA\""
   ]
  },
  {
   "cell_type": "code",
   "execution_count": 10,
   "metadata": {},
   "outputs": [],
   "source": [
    "df = df.dropna()"
   ]
  },
  {
   "cell_type": "code",
   "execution_count": 11,
   "metadata": {},
   "outputs": [
    {
     "name": "stderr",
     "output_type": "stream",
     "text": [
      "/var/folders/s3/x_gq7dtj25z5d_3nmhjk3d340000gn/T/ipykernel_50463/2916445712.py:2: SettingWithCopyWarning: \n",
      "A value is trying to be set on a copy of a slice from a DataFrame.\n",
      "Try using .loc[row_indexer,col_indexer] = value instead\n",
      "\n",
      "See the caveats in the documentation: https://pandas.pydata.org/pandas-docs/stable/user_guide/indexing.html#returning-a-view-versus-a-copy\n",
      "  df[column_name] = df[column_name].str.replace('F ', '', regex=True)\n",
      "/var/folders/s3/x_gq7dtj25z5d_3nmhjk3d340000gn/T/ipykernel_50463/2916445712.py:3: SettingWithCopyWarning: \n",
      "A value is trying to be set on a copy of a slice from a DataFrame.\n",
      "Try using .loc[row_indexer,col_indexer] = value instead\n",
      "\n",
      "See the caveats in the documentation: https://pandas.pydata.org/pandas-docs/stable/user_guide/indexing.html#returning-a-view-versus-a-copy\n",
      "  df[column_name] = df[column_name].str.replace('H ', '', regex=True)\n",
      "/var/folders/s3/x_gq7dtj25z5d_3nmhjk3d340000gn/T/ipykernel_50463/2916445712.py:4: SettingWithCopyWarning: \n",
      "A value is trying to be set on a copy of a slice from a DataFrame.\n",
      "Try using .loc[row_indexer,col_indexer] = value instead\n",
      "\n",
      "See the caveats in the documentation: https://pandas.pydata.org/pandas-docs/stable/user_guide/indexing.html#returning-a-view-versus-a-copy\n",
      "  df[column_name] = df[column_name].str.replace('B ', '', regex=True)\n",
      "/var/folders/s3/x_gq7dtj25z5d_3nmhjk3d340000gn/T/ipykernel_50463/2916445712.py:5: SettingWithCopyWarning: \n",
      "A value is trying to be set on a copy of a slice from a DataFrame.\n",
      "Try using .loc[row_indexer,col_indexer] = value instead\n",
      "\n",
      "See the caveats in the documentation: https://pandas.pydata.org/pandas-docs/stable/user_guide/indexing.html#returning-a-view-versus-a-copy\n",
      "  df[column_name] = df[column_name].str.replace('B', '', regex=True)\n"
     ]
    },
    {
     "data": {
      "text/html": [
       "<div>\n",
       "<style scoped>\n",
       "    .dataframe tbody tr th:only-of-type {\n",
       "        vertical-align: middle;\n",
       "    }\n",
       "\n",
       "    .dataframe tbody tr th {\n",
       "        vertical-align: top;\n",
       "    }\n",
       "\n",
       "    .dataframe thead th {\n",
       "        text-align: right;\n",
       "    }\n",
       "</style>\n",
       "<table border=\"1\" class=\"dataframe\">\n",
       "  <thead>\n",
       "    <tr style=\"text-align: right;\">\n",
       "      <th></th>\n",
       "      <th>Arrange the following activities in the order in which you experienced them during your visit.\\nA. Go to the rollercoasters\\nB. Go to the Water-based rides\\nC. Go to the F&amp;B outlet\\nD. Go and shop for souvenirs\\nE. Go for a water/restroom break\\nG. Go to the child-friendly rides\\nH. Go to the Haunted House\\nI. Go to the Simulator rides\\nJ. Sightseeing\\nK. Go to the Spinning rides</th>\n",
       "    </tr>\n",
       "  </thead>\n",
       "  <tbody>\n",
       "    <tr>\n",
       "      <th>0</th>\n",
       "      <td>E A D D E I C</td>\n",
       "    </tr>\n",
       "    <tr>\n",
       "      <th>1</th>\n",
       "      <td>J G I E C A K D</td>\n",
       "    </tr>\n",
       "    <tr>\n",
       "      <th>2</th>\n",
       "      <td>E K J I E</td>\n",
       "    </tr>\n",
       "    <tr>\n",
       "      <th>3</th>\n",
       "      <td>A C E I G K J D</td>\n",
       "    </tr>\n",
       "    <tr>\n",
       "      <th>4</th>\n",
       "      <td>A E I C J D K G H</td>\n",
       "    </tr>\n",
       "  </tbody>\n",
       "</table>\n",
       "</div>"
      ],
      "text/plain": [
       "  Arrange the following activities in the order in which you experienced them during your visit.\\nA. Go to the rollercoasters\\nB. Go to the Water-based rides\\nC. Go to the F&B outlet\\nD. Go and shop for souvenirs\\nE. Go for a water/restroom break\\nG. Go to the child-friendly rides\\nH. Go to the Haunted House\\nI. Go to the Simulator rides\\nJ. Sightseeing\\nK. Go to the Spinning rides\n",
       "0                                      E A D D E I C                                                                                                                                                                                                                                                                                                                                            \n",
       "1                                    J G I E C A K D                                                                                                                                                                                                                                                                                                                                            \n",
       "2                                         E K J I E                                                                                                                                                                                                                                                                                                                                             \n",
       "3                                    A C E I G K J D                                                                                                                                                                                                                                                                                                                                            \n",
       "4                                  A E I C J D K G H                                                                                                                                                                                                                                                                                                                                            "
      ]
     },
     "execution_count": 11,
     "metadata": {},
     "output_type": "execute_result"
    }
   ],
   "source": [
    "\n",
    "# Remove all occurrences of the letter 'F' and 'H' from each entry in the specified column\n",
    "df[column_name] = df[column_name].str.replace('F ', '', regex=True)\n",
    "df[column_name] = df[column_name].str.replace('H ', '', regex=True)\n",
    "df[column_name] = df[column_name].str.replace('B ', '', regex=True)\n",
    "df[column_name] = df[column_name].str.replace('B', '', regex=True)\n",
    "\n",
    "df.head()  # Display the DataFrame to confirm changes\n"
   ]
  },
  {
   "cell_type": "code",
   "execution_count": 12,
   "metadata": {},
   "outputs": [],
   "source": [
    "# Rename the column\n",
    "df = df.rename(columns={column_name: 'path'})\n",
    "# Export DataFrame to CSV file\n",
    "df.to_csv('../data/itinerary.csv', index=False)  # index=False to avoid writing row numbers"
   ]
  },
  {
   "cell_type": "markdown",
   "metadata": {},
   "source": [
    "### Load the leaned DataFrame into SQLite"
   ]
  },
  {
   "cell_type": "code",
   "execution_count": 13,
   "metadata": {},
   "outputs": [
    {
     "data": {
      "text/plain": [
       "157"
      ]
     },
     "execution_count": 13,
     "metadata": {},
     "output_type": "execute_result"
    }
   ],
   "source": [
    "conn = sqlite3.connect(':memory:')  # Use an in-memory SQLite database\n",
    "df.to_sql('activities', conn, index=False, if_exists='replace')"
   ]
  },
  {
   "cell_type": "markdown",
   "metadata": {},
   "source": [
    "### Step 4: Count occurrences of each letter and calculate percentages"
   ]
  },
  {
   "cell_type": "code",
   "execution_count": 14,
   "metadata": {},
   "outputs": [
    {
     "data": {
      "text/html": [
       "<div>\n",
       "<style scoped>\n",
       "    .dataframe tbody tr th:only-of-type {\n",
       "        vertical-align: middle;\n",
       "    }\n",
       "\n",
       "    .dataframe tbody tr th {\n",
       "        vertical-align: top;\n",
       "    }\n",
       "\n",
       "    .dataframe thead th {\n",
       "        text-align: right;\n",
       "    }\n",
       "</style>\n",
       "<table border=\"1\" class=\"dataframe\">\n",
       "  <thead>\n",
       "    <tr style=\"text-align: right;\">\n",
       "      <th></th>\n",
       "      <th>letter</th>\n",
       "      <th>count</th>\n",
       "      <th>percentage</th>\n",
       "    </tr>\n",
       "  </thead>\n",
       "  <tbody>\n",
       "    <tr>\n",
       "      <th>0</th>\n",
       "      <td>A</td>\n",
       "      <td>83</td>\n",
       "      <td>52.866242</td>\n",
       "    </tr>\n",
       "    <tr>\n",
       "      <th>1</th>\n",
       "      <td>C</td>\n",
       "      <td>1</td>\n",
       "      <td>0.636943</td>\n",
       "    </tr>\n",
       "    <tr>\n",
       "      <th>2</th>\n",
       "      <td>D</td>\n",
       "      <td>2</td>\n",
       "      <td>1.273885</td>\n",
       "    </tr>\n",
       "    <tr>\n",
       "      <th>3</th>\n",
       "      <td>E</td>\n",
       "      <td>4</td>\n",
       "      <td>2.547771</td>\n",
       "    </tr>\n",
       "    <tr>\n",
       "      <th>4</th>\n",
       "      <td>G</td>\n",
       "      <td>8</td>\n",
       "      <td>5.095541</td>\n",
       "    </tr>\n",
       "    <tr>\n",
       "      <th>5</th>\n",
       "      <td>I</td>\n",
       "      <td>14</td>\n",
       "      <td>8.917197</td>\n",
       "    </tr>\n",
       "    <tr>\n",
       "      <th>6</th>\n",
       "      <td>J</td>\n",
       "      <td>43</td>\n",
       "      <td>27.388535</td>\n",
       "    </tr>\n",
       "    <tr>\n",
       "      <th>7</th>\n",
       "      <td>K</td>\n",
       "      <td>2</td>\n",
       "      <td>1.273885</td>\n",
       "    </tr>\n",
       "  </tbody>\n",
       "</table>\n",
       "</div>"
      ],
      "text/plain": [
       "  letter  count  percentage\n",
       "0      A     83   52.866242\n",
       "1      C      1    0.636943\n",
       "2      D      2    1.273885\n",
       "3      E      4    2.547771\n",
       "4      G      8    5.095541\n",
       "5      I     14    8.917197\n",
       "6      J     43   27.388535\n",
       "7      K      2    1.273885"
      ]
     },
     "execution_count": 14,
     "metadata": {},
     "output_type": "execute_result"
    }
   ],
   "source": [
    "query = \"\"\"\n",
    "WITH letter_counts AS (\n",
    "    SELECT\n",
    "        SUBSTR(activities.[{}], 1, 1) AS letter,\n",
    "        COUNT(*) AS count\n",
    "    FROM activities\n",
    "    GROUP BY letter\n",
    "),\n",
    "total_counts AS (\n",
    "    SELECT SUM(count) AS total\n",
    "    FROM letter_counts\n",
    ")\n",
    "SELECT\n",
    "    letter_counts.letter,\n",
    "    letter_counts.count,\n",
    "    (letter_counts.count * 100.0 / total_counts.total) AS percentage\n",
    "FROM letter_counts, total_counts\n",
    "ORDER BY letter_counts.letter;\n",
    "\"\"\".format('path')\n",
    "\n",
    "# Execute the query and retrieve the results\n",
    "result = pd.read_sql_query(query, conn)\n",
    "\n",
    "# Close the connection\n",
    "conn.close()\n",
    "\n",
    "result"
   ]
  },
  {
   "cell_type": "markdown",
   "metadata": {},
   "source": [
    "### Checking if the percentage column sums up to 100%"
   ]
  },
  {
   "cell_type": "code",
   "execution_count": 15,
   "metadata": {},
   "outputs": [
    {
     "data": {
      "text/plain": [
       "100.0"
      ]
     },
     "execution_count": 15,
     "metadata": {},
     "output_type": "execute_result"
    }
   ],
   "source": [
    "# Calculate the sum of the percentage column\n",
    "total_percentage = result['percentage'].sum()\n",
    "\n",
    "# Display the result\n",
    "total_percentage\n",
    "\n",
    "# if you want the total % column to sum up to 100% (but not necessary), you can \n",
    "# do so by rounding the percentage column to 2 decimal places\n",
    "\n",
    "# result['percentage'] = result['percentage'].round(2)\n",
    "\n",
    "# # Recalculate the sum to verify\n",
    "# total_percentage = result['percentage'].sum()\n",
    "# total_percentage"
   ]
  },
  {
   "cell_type": "markdown",
   "metadata": {},
   "source": [
    "### Putting the resulting output into a new csv file"
   ]
  },
  {
   "cell_type": "code",
   "execution_count": 16,
   "metadata": {},
   "outputs": [
    {
     "name": "stdout",
     "output_type": "stream",
     "text": [
      "Data has been successfully saved to activity_counts_and_popularity_percentages.csv\n"
     ]
    }
   ],
   "source": [
    "# Specify the file path for your CSV output\n",
    "output_file_path = 'activity_counts_and_popularity_percentages.csv'\n",
    "\n",
    "# Save the DataFrame to a CSV file\n",
    "result.to_csv(output_file_path, index=False)\n",
    "\n",
    "print(f\"Data has been successfully saved to {output_file_path}\")\n"
   ]
  }
 ],
 "metadata": {
  "kernelspec": {
   "display_name": "Python 3",
   "language": "python",
   "name": "python3"
  },
  "language_info": {
   "codemirror_mode": {
    "name": "ipython",
    "version": 3
   },
   "file_extension": ".py",
   "mimetype": "text/x-python",
   "name": "python",
   "nbconvert_exporter": "python",
   "pygments_lexer": "ipython3",
   "version": "3.10.6"
  }
 },
 "nbformat": 4,
 "nbformat_minor": 2
}

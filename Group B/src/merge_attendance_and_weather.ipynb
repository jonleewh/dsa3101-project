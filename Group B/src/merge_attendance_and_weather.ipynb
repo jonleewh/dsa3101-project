{
 "cells": [
  {
   "cell_type": "code",
   "execution_count": 12,
   "metadata": {},
   "outputs": [],
   "source": [
    "import pandas as pd\n",
    "from datetime import datetime\n",
    "\n",
    "# load csv files into dataframes\n",
    "weather = pd.read_csv('../data/weather_data_hour.csv')\n",
    "attendance = pd.read_csv('../data/attendance_365_days.csv')"
   ]
  },
  {
   "cell_type": "code",
   "execution_count": 13,
   "metadata": {},
   "outputs": [],
   "source": [
    "# Reformatting data in weather dataframe\n",
    "\n",
    "# Assuming the 'Date' column in the weather DataFrame is a string (not datetime)\n",
    "weather['Date'] = pd.to_datetime(weather['Date'])\n",
    "# Extract the month and day from the 'Date' column\n",
    "weather['Month'] = weather['Date'].dt.month\n",
    "weather['Day'] = weather['Date'].dt.day\n",
    "# Convert the 'Time' column to string (if it's not already)\n",
    "weather['Time'] = pd.to_datetime(weather['Time'], format='%H:%M:%S').dt.strftime('%H:%M')"
   ]
  },
  {
   "cell_type": "code",
   "execution_count": null,
   "metadata": {},
   "outputs": [
    {
     "name": "stdout",
     "output_type": "stream",
     "text": [
      "      Unnamed: 0       Date   Time  Temp  Rain Day of the Week  \\\n",
      "0              1 2023-11-01  10:00    31     0       Wednesday   \n",
      "1              2 2023-11-01  11:00    33     0       Wednesday   \n",
      "2              3 2023-11-01  12:00    32     0       Wednesday   \n",
      "3              4 2023-11-01  13:00    33     0       Wednesday   \n",
      "4              5 2023-11-01  14:00    32     0       Wednesday   \n",
      "...          ...        ...    ...   ...   ...             ...   \n",
      "2829        5328 2024-10-31  15:00    32     0        Thursday   \n",
      "2830        5329 2024-10-31  16:00    32     0        Thursday   \n",
      "2831        5333 2024-10-31  20:00    30     0        Thursday   \n",
      "2832        5334 2024-10-31  21:00    30     0        Thursday   \n",
      "2833        5335 2024-10-31  22:00    30     0        Thursday   \n",
      "\n",
      "      School Holiday  Public Holiday  Month  Day            Date/Time  \\\n",
      "0                  0               0     11    1  2023-11-01 10:00:00   \n",
      "1                  0               0     11    1  2023-11-01 11:00:00   \n",
      "2                  0               0     11    1  2023-11-01 12:00:00   \n",
      "3                  0               0     11    1  2023-11-01 13:00:00   \n",
      "4                  0               0     11    1  2023-11-01 14:00:00   \n",
      "...              ...             ...    ...  ...                  ...   \n",
      "2829               0               1     10   31  2024-10-31 15:00:00   \n",
      "2830               0               1     10   31  2024-10-31 16:00:00   \n",
      "2831               0               1     10   31  2024-10-31 20:00:00   \n",
      "2832               0               1     10   31  2024-10-31 21:00:00   \n",
      "2833               0               1     10   31  2024-10-31 22:00:00   \n",
      "\n",
      "      Wait Time Day of Week  Number of Visitors  \\\n",
      "0             6   Wednesday                  30   \n",
      "1            11   Wednesday                  55   \n",
      "2            14   Wednesday                  70   \n",
      "3            14   Wednesday                  70   \n",
      "4            13   Wednesday                  65   \n",
      "...         ...         ...                 ...   \n",
      "2829         32    Thursday                 160   \n",
      "2830         24    Thursday                 120   \n",
      "2831         30    Thursday                 150   \n",
      "2832         30    Thursday                 150   \n",
      "2833         31    Thursday                 155   \n",
      "\n",
      "      Number of New Visitors Arriving        Time Interval  \\\n",
      "0                                 0.0  2023-11-01 10:00:00   \n",
      "1                               200.0  2023-11-01 11:00:00   \n",
      "2                                 0.0  2023-11-01 12:00:00   \n",
      "3                               200.0  2023-11-01 13:00:00   \n",
      "4                                 0.0  2023-11-01 14:00:00   \n",
      "...                               ...                  ...   \n",
      "2829                              0.0  2024-10-31 15:00:00   \n",
      "2830                              0.0  2024-10-31 16:00:00   \n",
      "2831                            400.0  2024-10-31 20:00:00   \n",
      "2832                              0.0  2024-10-31 21:00:00   \n",
      "2833                              0.0  2024-10-31 22:00:00   \n",
      "\n",
      "      Number of New Visitors Arriving_sum  \n",
      "0                                   800.0  \n",
      "1                                   800.0  \n",
      "2                                   200.0  \n",
      "3                                   800.0  \n",
      "4                                  1400.0  \n",
      "...                                   ...  \n",
      "2829                                200.0  \n",
      "2830                                200.0  \n",
      "2831                               2400.0  \n",
      "2832                               1800.0  \n",
      "2833                                  0.0  \n",
      "\n",
      "[2834 rows x 17 columns]\n"
     ]
    }
   ],
   "source": [
    "# Perform a left merge on the common columns\n",
    "merged_df = pd.merge(weather, attendance, how='left', \n",
    "                     left_on=['Month', 'Day', 'Time'], \n",
    "                     right_on=['Month', 'Day', 'Time'])\n",
    "\n",
    "# Result: merged_df now contains all rows from weather and the relevant data from attendance\n",
    "print(merged_df)\n"
   ]
  },
  {
   "cell_type": "code",
   "execution_count": 15,
   "metadata": {},
   "outputs": [],
   "source": [
    "merged_df.to_csv(\"../data/weather_and_attendance.csv\")"
   ]
  }
 ],
 "metadata": {
  "kernelspec": {
   "display_name": "Python 3",
   "language": "python",
   "name": "python3"
  },
  "language_info": {
   "codemirror_mode": {
    "name": "ipython",
    "version": 3
   },
   "file_extension": ".py",
   "mimetype": "text/x-python",
   "name": "python",
   "nbconvert_exporter": "python",
   "pygments_lexer": "ipython3",
   "version": "3.10.6"
  }
 },
 "nbformat": 4,
 "nbformat_minor": 2
}

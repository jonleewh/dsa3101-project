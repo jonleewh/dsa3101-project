{
 "cells": [
  {
   "cell_type": "code",
   "execution_count": 1,
   "id": "6e497f13",
   "metadata": {},
   "outputs": [],
   "source": [
    "import pandas as pd"
   ]
  },
  {
   "cell_type": "code",
   "execution_count": 2,
   "id": "534e958a",
   "metadata": {},
   "outputs": [
    {
     "name": "stdout",
     "output_type": "stream",
     "text": [
      "Average Scores for Each Type of Attraction:\n",
      "[4.01257862 3.75471698 3.32704403 4.01886792 3.         2.96855346]\n"
     ]
    }
   ],
   "source": [
    "# \"Popularity score\" (based on how likely visitors are to re-ride them)\n",
    "\n",
    "file_path = '../../Group A/data/Theme Parks Survey Responses 4 Nov.csv'\n",
    "columns_to_read = ['Roller Coaster', 'Water-Based Rides', 'Haunted House and/or Dark Elements',\n",
    "                   'Simulators and/or 3D/4D experiences (e.g. Shrek)',\n",
    "                   'Rides with spinning elements (e.g. 360 degree swing)',\n",
    "                   'Child-Friendly Rides (e.g. Teacups)']\n",
    "\n",
    "# Read in only the specified columns\n",
    "df = pd.read_csv(file_path, usecols=columns_to_read)\n",
    "\n",
    "# Calculate the mean score for each of the selected columns\n",
    "popularity_score = df.mean()\n",
    "\n",
    "# Extract and print just the numerical values\n",
    "print(\"Average Scores for Each Type of Attraction:\")\n",
    "print(popularity_score.values)"
   ]
  },
  {
   "cell_type": "code",
   "execution_count": 3,
   "id": "80c14abd",
   "metadata": {},
   "outputs": [
    {
     "name": "stdout",
     "output_type": "stream",
     "text": [
      "3.9371069182389937\n"
     ]
    }
   ],
   "source": [
    "# Cleanliness score (restrooms)\n",
    "column_to_read = \"How would you rate the cleanliness of the restrooms?\"\n",
    "\n",
    "df = pd.read_csv(file_path, usecols=[column_to_read])\n",
    "cleanliness_restrooms = df.mean().item()\n",
    "print(cleanliness_restrooms)"
   ]
  },
  {
   "cell_type": "code",
   "execution_count": 4,
   "id": "3c515cc4",
   "metadata": {},
   "outputs": [
    {
     "name": "stdout",
     "output_type": "stream",
     "text": [
      "4.20125786163522\n"
     ]
    }
   ],
   "source": [
    "# Cleanliness score (overall)\n",
    "column_to_read = \"How would you rate the overall cleanliness of the theme park (e.g. litter, odour)?\"\n",
    "\n",
    "df = pd.read_csv(file_path, usecols=[column_to_read])\n",
    "cleanliness_overall = df.mean().item()\n",
    "print(cleanliness_overall)"
   ]
  },
  {
   "cell_type": "code",
   "execution_count": 5,
   "id": "6fd11d34",
   "metadata": {},
   "outputs": [
    {
     "name": "stdout",
     "output_type": "stream",
     "text": [
      "2.4201680672268906\n"
     ]
    }
   ],
   "source": [
    "# FnB Affordability\n",
    "column_to_read = \"Do you think the quality of food and drinks sold in USS is worth its price?\"\n",
    "\n",
    "df = pd.read_csv(file_path, usecols=[column_to_read])\n",
    "food_affordability = df.mean().item()\n",
    "print(food_affordability)"
   ]
  },
  {
   "cell_type": "code",
   "execution_count": 6,
   "id": "327d3279",
   "metadata": {},
   "outputs": [
    {
     "name": "stdout",
     "output_type": "stream",
     "text": [
      "4.050314465408805\n"
     ]
    }
   ],
   "source": [
    "# Weather disposition\n",
    "column_to_read = \"To what extent does the weather affect your experience?\"\n",
    "\n",
    "df = pd.read_csv(file_path, usecols=[column_to_read])\n",
    "weather_disposition = df.mean().item()\n",
    "print(weather_disposition)"
   ]
  },
  {
   "cell_type": "code",
   "execution_count": 7,
   "id": "45f283fb",
   "metadata": {},
   "outputs": [
    {
     "name": "stdout",
     "output_type": "stream",
     "text": [
      "Average Scores for Sufficiency Of Facilities:\n",
      "[3.51572327 3.33333333 3.96226415 3.32075472 3.45762712 3.28571429]\n"
     ]
    }
   ],
   "source": [
    "# Sufficiency of facilities\n",
    "file_path = '../../Group A/data/Theme Parks Survey Responses 4 Nov.csv'\n",
    "columns_to_read = ['Sitting/resting areas', 'Sheltered areas', 'Restrooms/Toilets',\n",
    "                   'Water Coolers', 'Baby Nursing Rooms', 'Special Needs Facilities (e.g. handicapped toilet, wheelchair-accessible ramp)']\n",
    "\n",
    "# Read in only the specified columns\n",
    "df = pd.read_csv(file_path, usecols=columns_to_read)\n",
    "\n",
    "# Calculate the mean score for each of the selected columns\n",
    "facility_sufficiency = df.mean()\n",
    "\n",
    "# Extract and print only the numerical values\n",
    "print(\"Average Scores for Sufficiency Of Facilities:\")\n",
    "print(facility_sufficiency.values)"
   ]
  },
  {
   "cell_type": "code",
   "execution_count": 8,
   "id": "96011079",
   "metadata": {},
   "outputs": [
    {
     "name": "stdout",
     "output_type": "stream",
     "text": [
      "Average Waiting Time: 16.53 minutes\n",
      "16.53361344537815\n"
     ]
    }
   ],
   "source": [
    "# Average waiting time for FnB\n",
    "df = pd.read_csv('../../Group A/data/Theme Parks Survey Responses 4 Nov.csv')\n",
    "\n",
    "# Define the mapping of time ranges to their midpoints\n",
    "time_mapping = {\n",
    "    \"Less than 10 minutes\": 5,\n",
    "    \"10 to 15 minutes\": 12.5,\n",
    "    \"15 to 20 minutes\": 17.5,\n",
    "    \"20 to 25 minutes\": 22.5,\n",
    "    \"25 to 30 minutes\": 27.5,\n",
    "    \"More than 30 minutes\": 35\n",
    "}\n",
    "\n",
    "# Map the responses to the corresponding midpoints\n",
    "df['Midpoint'] = df['On average, how long did you queue to order food/drinks at a F&B outlet in USS?'].map(time_mapping)\n",
    "\n",
    "# Calculate the average waiting time\n",
    "average_waiting_time = df['Midpoint'].mean()\n",
    "\n",
    "print(f\"Average Waiting Time: {average_waiting_time:.2f} minutes\")\n",
    "\n",
    "print(average_waiting_time)"
   ]
  },
  {
   "cell_type": "code",
   "execution_count": 9,
   "id": "b740765e",
   "metadata": {},
   "outputs": [
    {
     "name": "stdout",
     "output_type": "stream",
     "text": [
      "[4.0126, 3.7547, 3.327, 4.0189, 3.0, 2.9686, 3.9371, 4.2013, 3.5157, 3.3333, 3.9623, 3.3208, 3.4576, 3.2857, 16.534]\n"
     ]
    }
   ],
   "source": [
    "# Extract numerical values from each Series using .tolist() or .item() for scalar values\n",
    "parameters_list = [\n",
    "    popularity_score.values.tolist(),\n",
    "    cleanliness_restrooms,\n",
    "    cleanliness_overall,\n",
    "    facility_sufficiency.values.tolist(),\n",
    "    average_waiting_time\n",
    "]\n",
    "\n",
    "# Flatten the list (to ensure no nested lists)\n",
    "flat_parameters_list = [item for sublist in parameters_list for item in (sublist if isinstance(sublist, list) else [sublist])]\n",
    "\n",
    "# Set each value to 5 significant figures\n",
    "ml_parameters_list = [float(f\"{value:.5g}\") for value in flat_parameters_list]\n",
    "\n",
    "# Print the formatted list\n",
    "print(ml_parameters_list)"
   ]
  },
  {
   "cell_type": "code",
   "execution_count": null,
   "id": "2f62099a",
   "metadata": {},
   "outputs": [],
   "source": []
  }
 ],
 "metadata": {
  "kernelspec": {
   "display_name": "Python 3 (ipykernel)",
   "language": "python",
   "name": "python3"
  },
  "language_info": {
   "codemirror_mode": {
    "name": "ipython",
    "version": 3
   },
   "file_extension": ".py",
   "mimetype": "text/x-python",
   "name": "python",
   "nbconvert_exporter": "python",
   "pygments_lexer": "ipython3",
   "version": "3.9.13"
  }
 },
 "nbformat": 4,
 "nbformat_minor": 5
}

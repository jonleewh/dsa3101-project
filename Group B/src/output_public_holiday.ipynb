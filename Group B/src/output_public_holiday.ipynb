{
 "cells": [
  {
   "cell_type": "markdown",
   "id": "66ba456a",
   "metadata": {
    "tags": [
     "papermill-error-cell-tag"
    ]
   },
   "source": [
    "<span style=\"color:red; font-family:Helvetica Neue, Helvetica, Arial, sans-serif; font-size:2em;\">An Exception was encountered at '<a href=\"#papermill-error-cell\">In [8]</a>'.</span>"
   ]
  },
  {
   "cell_type": "code",
   "execution_count": 1,
   "id": "ada5e25f",
   "metadata": {
    "execution": {
     "iopub.execute_input": "2024-11-14T14:53:57.075005Z",
     "iopub.status.busy": "2024-11-14T14:53:57.074532Z",
     "iopub.status.idle": "2024-11-14T14:53:57.085431Z",
     "shell.execute_reply": "2024-11-14T14:53:57.084871Z"
    },
    "papermill": {
     "duration": 0.018991,
     "end_time": "2024-11-14T14:53:57.087414",
     "exception": false,
     "start_time": "2024-11-14T14:53:57.068423",
     "status": "completed"
    },
    "tags": [
     "injected-parameters"
    ]
   },
   "outputs": [],
   "source": [
    "# Parameters\n",
    "csv_file = \"../data/spawning csv files/public_holiday.csv\"\n"
   ]
  },
  {
   "cell_type": "code",
   "execution_count": 2,
   "id": "96e2544e",
   "metadata": {
    "execution": {
     "iopub.execute_input": "2024-11-14T14:53:57.093504Z",
     "iopub.status.busy": "2024-11-14T14:53:57.093280Z",
     "iopub.status.idle": "2024-11-14T14:53:57.366086Z",
     "shell.execute_reply": "2024-11-14T14:53:57.365307Z"
    },
    "papermill": {
     "duration": 0.278062,
     "end_time": "2024-11-14T14:53:57.368411",
     "exception": false,
     "start_time": "2024-11-14T14:53:57.090349",
     "status": "completed"
    },
    "tags": []
   },
   "outputs": [],
   "source": [
    "import pandas as pd\n",
    "from datetime import datetime, timedelta\n",
    "\n",
    "import os\n",
    "import sys\n",
    "\n",
    "sys.path.append(os.getcwd())  # Add current working directory to the Python path\n",
    "from classes import Visitor, Entrance, Attraction, Seasonal, Utility, ThemePark"
   ]
  },
  {
   "cell_type": "code",
   "execution_count": 3,
   "id": "02cc6d9f",
   "metadata": {
    "execution": {
     "iopub.execute_input": "2024-11-14T14:53:57.373863Z",
     "iopub.status.busy": "2024-11-14T14:53:57.373698Z",
     "iopub.status.idle": "2024-11-14T14:53:57.381916Z",
     "shell.execute_reply": "2024-11-14T14:53:57.381670Z"
    },
    "papermill": {
     "duration": 0.01166,
     "end_time": "2024-11-14T14:53:57.382801",
     "exception": false,
     "start_time": "2024-11-14T14:53:57.371141",
     "status": "completed"
    },
    "tags": []
   },
   "outputs": [
    {
     "name": "stdout",
     "output_type": "stream",
     "text": [
      "Data loaded from ../data/spawning csv files/public_holiday.csv\n"
     ]
    }
   ],
   "source": [
    "#STEP 1: SPAWNING VISITORS, MAKE visitor_generator_df\n",
    "\n",
    "# Receive the parameter passed by papermill\n",
    "csv_file = globals().get('csv_file')\n",
    "\n",
    "spawning_df = pd.read_csv(csv_file)\n",
    "print(f\"Data loaded from {csv_file}\")\n",
    "\n",
    "# Convert columns to the desired types\n",
    "spawning_df['Average Wait Time'] = spawning_df['Average Wait Time'].astype(float)  # Convert to float\n",
    "spawning_df['Number of Visitors'] = spawning_df['Number of Visitors'].astype(int)  # Convert to int\n",
    "spawning_df['Number of New Visitors Arriving'] = spawning_df['Number of New Visitors Arriving'].astype(int)  # Convert to int\n",
    "\n",
    "# Convert df into dictionary for easier reference\n",
    "spawning_dict = {}\n",
    "for index, row in spawning_df.iterrows():\n",
    "    number = row['Number of New Visitors Arriving']\n",
    "    if number >= 0:\n",
    "        spawning_dict[row['Time']] = number\n",
    "    else:\n",
    "        spawning_dict[row['Time']] = 0"
   ]
  },
  {
   "cell_type": "code",
   "execution_count": 4,
   "id": "2fa98690",
   "metadata": {
    "execution": {
     "iopub.execute_input": "2024-11-14T14:53:57.385712Z",
     "iopub.status.busy": "2024-11-14T14:53:57.385615Z",
     "iopub.status.idle": "2024-11-14T14:53:57.388433Z",
     "shell.execute_reply": "2024-11-14T14:53:57.388230Z"
    },
    "papermill": {
     "duration": 0.005094,
     "end_time": "2024-11-14T14:53:57.389304",
     "exception": false,
     "start_time": "2024-11-14T14:53:57.384210",
     "status": "completed"
    },
    "tags": []
   },
   "outputs": [],
   "source": [
    "#STEP 2: IMPORT LIST OF ITINERARIES\n",
    "itineraries = pd.read_csv('../data/itinerary.csv')\n",
    "itineraries['path list'] = itineraries['path'].str.split()\n",
    "all_possible_itineraries = [sublist for sublist in itineraries['path list']]"
   ]
  },
  {
   "cell_type": "code",
   "execution_count": 5,
   "id": "9d035925",
   "metadata": {
    "execution": {
     "iopub.execute_input": "2024-11-14T14:53:57.391498Z",
     "iopub.status.busy": "2024-11-14T14:53:57.391409Z",
     "iopub.status.idle": "2024-11-14T14:53:57.397340Z",
     "shell.execute_reply": "2024-11-14T14:53:57.397112Z"
    },
    "papermill": {
     "duration": 0.007974,
     "end_time": "2024-11-14T14:53:57.398185",
     "exception": false,
     "start_time": "2024-11-14T14:53:57.390211",
     "status": "completed"
    },
    "tags": []
   },
   "outputs": [],
   "source": [
    "#STEP 3: CREATING NODES, MAKE NODE LIST \n",
    "\n",
    "attraction_generator_df = pd.read_csv(\"../data/theme_park_nodes.csv\")\n",
    "\n",
    "entrance = []\n",
    "attractions = [] # List to store Attraction objects\n",
    "utilities = []\n",
    "seasonals = []\n",
    "\n",
    "\n",
    "for index, row in attraction_generator_df.iterrows():\n",
    "    if row['type'] in ['Entrance']:\n",
    "        new_entrance = Entrance()\n",
    "        entrance.append(new_entrance)\n",
    "\n",
    "    if row['type'] in ['Ride']:\n",
    "        new_attraction = Attraction(name=row['name'], ride_duration=row['duration'], ride_capacity=row['capacity']) # change according to the finalised csv\n",
    "        attractions.append(new_attraction) \n",
    "    \n",
    "    if row['type'] == 'Seasonal':\n",
    "        time_string = row['timeslots']\n",
    "        time_list = time_string.split(\", \") \n",
    "        datetime_list = [datetime.strptime(item, \"%H:%M\") for item in time_list]\n",
    "\n",
    "        new_seasonal = Seasonal(name=row['name'], ride_duration=row['duration'], ride_capacity=row['capacity'], timeslot=datetime_list) # change according to the finalised csv\n",
    "        seasonals.append(new_seasonal)     \n",
    "    \n",
    "    if row['type'] in ['Restroom', 'Dining Outlet', 'Food Cart', 'Retail']:\n",
    "        new_utility = Utility(name=row['name'], service_duration=row['duration'], util_capacity=row['capacity'])\n",
    "        utilities.append(new_utility)\n",
    "\n",
    "combined_dict = {item.name: item for item in entrance + attractions + utilities + seasonals}"
   ]
  },
  {
   "cell_type": "code",
   "execution_count": 6,
   "id": "9322b412",
   "metadata": {
    "execution": {
     "iopub.execute_input": "2024-11-14T14:53:57.400365Z",
     "iopub.status.busy": "2024-11-14T14:53:57.400280Z",
     "iopub.status.idle": "2024-11-14T14:53:57.409823Z",
     "shell.execute_reply": "2024-11-14T14:53:57.409623Z"
    },
    "papermill": {
     "duration": 0.011539,
     "end_time": "2024-11-14T14:53:57.410622",
     "exception": false,
     "start_time": "2024-11-14T14:53:57.399083",
     "status": "completed"
    },
    "tags": []
   },
   "outputs": [],
   "source": [
    "#STEP 4: IMPORTING EDGES (to facilitate Visitors travelling from one node to another)\n",
    "paths_df = pd.read_csv('../data/theme_park_paths.csv')"
   ]
  },
  {
   "cell_type": "code",
   "execution_count": 7,
   "id": "42f18526",
   "metadata": {
    "execution": {
     "iopub.execute_input": "2024-11-14T14:53:57.413097Z",
     "iopub.status.busy": "2024-11-14T14:53:57.412998Z",
     "iopub.status.idle": "2024-11-14T14:53:57.415131Z",
     "shell.execute_reply": "2024-11-14T14:53:57.414911Z"
    },
    "papermill": {
     "duration": 0.00438,
     "end_time": "2024-11-14T14:53:57.416033",
     "exception": false,
     "start_time": "2024-11-14T14:53:57.411653",
     "status": "completed"
    },
    "tags": []
   },
   "outputs": [],
   "source": [
    "#STEP 5: CREATING USS, PUT THINGS TOGETHER\n",
    "\n",
    "# Creating ThemePark object\n",
    "USS = ThemePark(spawning_dict, all_possible_itineraries)\n",
    "\n",
    "for item in entrance:\n",
    "    USS.add_entrance(item)\n",
    "\n",
    "# Add Attraction objects to the park\n",
    "for item in attractions:\n",
    "    USS.add_attraction(item)\n",
    "\n",
    "# Add Utility objects to the park\n",
    "for item in utilities:\n",
    "    USS.add_utility(item)\n",
    "\n",
    "# Add Seasonal objects to the park\n",
    "for item in seasonals:\n",
    "    USS.add_seasonal(item)\n",
    "\n",
    "# Open the park at 10:00\n",
    "USS.current_time = datetime.strptime(\"09:59\", \"%H:%M\")\n",
    "USS.open_park(USS.current_time)\n",
    "\n",
    "# Create a dictionary to store data of waiting time and crowd level across attractions and utilities across the theme park\n",
    "park_data = {}"
   ]
  },
  {
   "cell_type": "markdown",
   "id": "b11aa96e",
   "metadata": {
    "tags": [
     "papermill-error-cell-tag"
    ]
   },
   "source": [
    "<span id=\"papermill-error-cell\" style=\"color:red; font-family:Helvetica Neue, Helvetica, Arial, sans-serif; font-size:2em;\">Execution using papermill encountered an exception here and stopped:</span>"
   ]
  },
  {
   "cell_type": "code",
   "execution_count": 8,
   "id": "48d2ae91",
   "metadata": {
    "execution": {
     "iopub.execute_input": "2024-11-14T14:53:57.418273Z",
     "iopub.status.busy": "2024-11-14T14:53:57.418175Z",
     "iopub.status.idle": "2024-11-14T14:53:57.619539Z",
     "shell.execute_reply": "2024-11-14T14:53:57.619034Z"
    },
    "papermill": {
     "duration": 0.203291,
     "end_time": "2024-11-14T14:53:57.620232",
     "exception": true,
     "start_time": "2024-11-14T14:53:57.416941",
     "status": "failed"
    },
    "tags": []
   },
   "outputs": [
    {
     "name": "stdout",
     "output_type": "stream",
     "text": [
      "The time now at Starbucks is 1900-01-01 10:00:00.\n",
      "The time now at Mel's Drive-In is 1900-01-01 10:00:00.\n",
      "The time now at KT's Grill is 1900-01-01 10:00:00.\n",
      "The time now at Loui's NY Pizza Parlor is 1900-01-01 10:00:00.\n",
      "The time now at StarBot Cafe is 1900-01-01 10:00:00.\n",
      "The time now at Oasis Spice Cafe is 1900-01-01 10:00:00.\n",
      "The time now at Discovery Food Court is 1900-01-01 10:00:00.\n",
      "The time now at Fossil Fuels is 1900-01-01 10:00:00.\n",
      "The time now at Friar's Good Food is 1900-01-01 10:00:00.\n",
      "The time now at Goldilocks is 1900-01-01 10:00:00.\n",
      "The time now at Star Snacks is 1900-01-01 10:00:00.\n",
      "The time now at Pops! Popcorn Delight is 1900-01-01 10:00:00.\n",
      "The time now at Galactic Treats is 1900-01-01 10:00:00.\n",
      "The time now at Frozen Fuel is 1900-01-01 10:00:00.\n",
      "The time now at Cairo Market is 1900-01-01 10:00:00.\n",
      "The time now at Pharaoh's Dessert Oasis is 1900-01-01 10:00:00.\n",
      "The time now at Mariner's Market is 1900-01-01 10:00:00.\n",
      "The time now at Jungle Bites is 1900-01-01 10:00:00.\n",
      "The time now at That's a Wrap! is 1900-01-01 10:00:00.\n",
      "The time now at Candylicious is 1900-01-01 10:00:00.\n",
      "The time now at Universal Studios Store is 1900-01-01 10:00:00.\n",
      "The time now at Hello Kitty Studio is 1900-01-01 10:00:00.\n",
      "The time now at Minion Mart is 1900-01-01 10:00:00.\n",
      "The time now at UNIVRS is 1900-01-01 10:00:00.\n",
      "The time now at Big Bird's Emporium is 1900-01-01 10:00:00.\n",
      "The time now at Transformers Supply Vault is 1900-01-01 10:00:00.\n",
      "The time now at The Sci-Fi Emporium is 1900-01-01 10:00:00.\n",
      "The time now at Carter's Curiosities is 1900-01-01 10:00:00.\n",
      "The time now at The Dino-Store is 1900-01-01 10:00:00.\n",
      "The time now at Fairy Godmother's Potion Shop is 1900-01-01 10:00:00.\n",
      "The time now at Restroom 1 is 1900-01-01 10:00:00.\n",
      "The time now at Restroom 2 is 1900-01-01 10:00:00.\n",
      "The time now at Restroom 3 is 1900-01-01 10:00:00.\n",
      "The time now at Restroom 4 is 1900-01-01 10:00:00.\n",
      "The time now at Restroom 5 is 1900-01-01 10:00:00.\n",
      "The time now at Restroom 6 is 1900-01-01 10:00:00.\n",
      "The time now at Restroom 7 is 1900-01-01 10:00:00.\n",
      "Visitor (0, 0) is at the Entrance at time 1900-01-01 10:01:00.\n",
      "Visitor (1, 0) is at the Entrance at time 1900-01-01 10:01:00.\n",
      "Visitor (2, 0) is at the Entrance at time 1900-01-01 10:01:00.\n",
      "Visitor (3, 0) is at the Entrance at time 1900-01-01 10:01:00.\n",
      "Visitor (4, 1) is at the Entrance at time 1900-01-01 10:01:00.\n",
      "Visitor (5, 0) is at the Entrance at time 1900-01-01 10:01:00.\n",
      "Visitor (6, 0) is at the Entrance at time 1900-01-01 10:01:00.\n",
      "Visitor (7, 0) is at the Entrance at time 1900-01-01 10:01:00.\n",
      "Visitor (8, 0) is at the Entrance at time 1900-01-01 10:01:00.\n",
      "Visitor (9, 0) is at the Entrance at time 1900-01-01 10:01:00.\n",
      "Visitor (10, 1) is at the Entrance at time 1900-01-01 10:01:00.\n",
      "Visitor (11, 0) is at the Entrance at time 1900-01-01 10:01:00.\n",
      "Visitor (12, 0) is at the Entrance at time 1900-01-01 10:01:00.\n",
      "Visitor (13, 0) is at the Entrance at time 1900-01-01 10:01:00.\n",
      "Visitor (14, 0) is at the Entrance at time 1900-01-01 10:01:00.\n",
      "Visitor (15, 0) is at the Entrance at time 1900-01-01 10:01:00.\n",
      "Visitor (16, 0) is at the Entrance at time 1900-01-01 10:01:00.\n",
      "Visitor (17, 0) is at the Entrance at time 1900-01-01 10:01:00.\n",
      "Visitor (18, 0) is at the Entrance at time 1900-01-01 10:01:00.\n",
      "Visitor (19, 0) is at the Entrance at time 1900-01-01 10:01:00.\n",
      "Visitor (20, 1) is at the Entrance at time 1900-01-01 10:01:00.\n",
      "Visitor (21, 0) is at the Entrance at time 1900-01-01 10:01:00.\n",
      "Visitor (22, 0) is at the Entrance at time 1900-01-01 10:01:00.\n",
      "Visitor (23, 0) is at the Entrance at time 1900-01-01 10:01:00.\n",
      "Visitor (24, 0) is at the Entrance at time 1900-01-01 10:01:00.\n",
      "Visitor (25, 1) is at the Entrance at time 1900-01-01 10:01:00.\n",
      "Visitor (26, 0) is at the Entrance at time 1900-01-01 10:01:00.\n",
      "Visitor (27, 0) is at the Entrance at time 1900-01-01 10:01:00.\n",
      "Visitor (28, 0) is at the Entrance at time 1900-01-01 10:01:00.\n",
      "Visitor (29, 0) is at the Entrance at time 1900-01-01 10:01:00.\n",
      "Visitor (30, 0) is at the Entrance at time 1900-01-01 10:01:00.\n",
      "Visitor (31, 0) is at the Entrance at time 1900-01-01 10:01:00.\n",
      "Visitor (32, 0) is at the Entrance at time 1900-01-01 10:01:00.\n",
      "Visitor (33, 0) is at the Entrance at time 1900-01-01 10:01:00.\n",
      "Visitor (34, 0) is at the Entrance at time 1900-01-01 10:01:00.\n",
      "Visitor (35, 0) is at the Entrance at time 1900-01-01 10:01:00.\n",
      "Visitor (36, 0) is at the Entrance at time 1900-01-01 10:01:00.\n",
      "Visitor (37, 0) is at the Entrance at time 1900-01-01 10:01:00.\n",
      "Visitor (38, 0) is at the Entrance at time 1900-01-01 10:01:00.\n",
      "Visitor (39, 1) is at the Entrance at time 1900-01-01 10:01:00.\n",
      "Visitor (40, 0) is at the Entrance at time 1900-01-01 10:01:00.\n",
      "Visitor (41, 0) is at the Entrance at time 1900-01-01 10:01:00.\n",
      "Visitor (42, 0) is at the Entrance at time 1900-01-01 10:01:00.\n",
      "Visitor (43, 0) is at the Entrance at time 1900-01-01 10:01:00.\n",
      "Visitor (44, 0) is at the Entrance at time 1900-01-01 10:01:00.\n",
      "Visitor (45, 0) is at the Entrance at time 1900-01-01 10:01:00.\n",
      "Visitor (46, 0) is at the Entrance at time 1900-01-01 10:01:00.\n",
      "Visitor (47, 1) is at the Entrance at time 1900-01-01 10:01:00.\n",
      "Visitor (48, 0) is at the Entrance at time 1900-01-01 10:01:00.\n",
      "Visitor (49, 0) is at the Entrance at time 1900-01-01 10:01:00.\n",
      "Visitor (50, 0) is at the Entrance at time 1900-01-01 10:01:00.\n",
      "Visitor (51, 0) is at the Entrance at time 1900-01-01 10:01:00.\n",
      "Visitor (52, 0) is at the Entrance at time 1900-01-01 10:01:00.\n",
      "Visitor (53, 0) is at the Entrance at time 1900-01-01 10:01:00.\n",
      "Visitor (54, 0) is at the Entrance at time 1900-01-01 10:01:00.\n",
      "Visitor (55, 0) is at the Entrance at time 1900-01-01 10:01:00.\n",
      "Visitor (56, 0) is at the Entrance at time 1900-01-01 10:01:00.\n",
      "Visitor (57, 0) is at the Entrance at time 1900-01-01 10:01:00.\n",
      "Visitor (58, 1) is at the Entrance at time 1900-01-01 10:01:00.\n",
      "Visitor (59, 0) is at the Entrance at time 1900-01-01 10:01:00.\n",
      "Visitor (60, 0) is at the Entrance at time 1900-01-01 10:01:00.\n",
      "Visitor (61, 0) is at the Entrance at time 1900-01-01 10:01:00.\n",
      "Visitor (0, 0) is prepared to leave the Entrance at time 1900-01-01 10:01:00.\n",
      "Visitor (1, 0) is prepared to leave the Entrance at time 1900-01-01 10:01:00.\n",
      "Visitor (2, 0) is prepared to leave the Entrance at time 1900-01-01 10:01:00.\n",
      "Visitor (3, 0) is prepared to leave the Entrance at time 1900-01-01 10:01:00.\n",
      "Visitor (4, 1) is prepared to leave the Entrance at time 1900-01-01 10:01:00.\n",
      "Visitor (5, 0) is prepared to leave the Entrance at time 1900-01-01 10:01:00.\n",
      "Visitor (6, 0) is prepared to leave the Entrance at time 1900-01-01 10:01:00.\n",
      "Visitor (7, 0) is prepared to leave the Entrance at time 1900-01-01 10:01:00.\n",
      "Visitor (8, 0) is prepared to leave the Entrance at time 1900-01-01 10:01:00.\n",
      "Visitor (9, 0) is prepared to leave the Entrance at time 1900-01-01 10:01:00.\n",
      "Visitor (10, 1) is prepared to leave the Entrance at time 1900-01-01 10:01:00.\n",
      "Visitor (11, 0) is prepared to leave the Entrance at time 1900-01-01 10:01:00.\n",
      "Visitor (12, 0) is prepared to leave the Entrance at time 1900-01-01 10:01:00.\n",
      "Visitor (13, 0) is prepared to leave the Entrance at time 1900-01-01 10:01:00.\n",
      "Visitor (14, 0) is prepared to leave the Entrance at time 1900-01-01 10:01:00.\n",
      "Visitor (15, 0) is prepared to leave the Entrance at time 1900-01-01 10:01:00.\n",
      "Visitor (16, 0) is prepared to leave the Entrance at time 1900-01-01 10:01:00.\n",
      "Visitor (17, 0) is prepared to leave the Entrance at time 1900-01-01 10:01:00.\n",
      "Visitor (18, 0) is prepared to leave the Entrance at time 1900-01-01 10:01:00.\n",
      "Visitor (19, 0) is prepared to leave the Entrance at time 1900-01-01 10:01:00.\n",
      "Visitor (20, 1) is prepared to leave the Entrance at time 1900-01-01 10:01:00.\n",
      "Visitor (21, 0) is prepared to leave the Entrance at time 1900-01-01 10:01:00.\n",
      "Visitor (22, 0) is prepared to leave the Entrance at time 1900-01-01 10:01:00.\n",
      "Visitor (23, 0) is prepared to leave the Entrance at time 1900-01-01 10:01:00.\n",
      "Visitor (24, 0) is prepared to leave the Entrance at time 1900-01-01 10:01:00.\n",
      "Visitor (25, 1) is prepared to leave the Entrance at time 1900-01-01 10:01:00.\n",
      "Visitor (26, 0) is prepared to leave the Entrance at time 1900-01-01 10:01:00.\n",
      "Visitor (27, 0) is prepared to leave the Entrance at time 1900-01-01 10:01:00.\n",
      "Visitor (28, 0) is prepared to leave the Entrance at time 1900-01-01 10:01:00.\n",
      "Visitor (29, 0) is prepared to leave the Entrance at time 1900-01-01 10:01:00.\n",
      "Visitor (30, 0) is prepared to leave the Entrance at time 1900-01-01 10:01:00.\n",
      "Visitor (31, 0) is prepared to leave the Entrance at time 1900-01-01 10:01:00.\n",
      "Visitor (32, 0) is prepared to leave the Entrance at time 1900-01-01 10:01:00.\n",
      "Visitor (33, 0) is prepared to leave the Entrance at time 1900-01-01 10:01:00.\n",
      "Visitor (34, 0) is prepared to leave the Entrance at time 1900-01-01 10:01:00.\n",
      "Visitor (35, 0) is prepared to leave the Entrance at time 1900-01-01 10:01:00.\n",
      "Visitor (36, 0) is prepared to leave the Entrance at time 1900-01-01 10:01:00.\n",
      "Visitor (37, 0) is prepared to leave the Entrance at time 1900-01-01 10:01:00.\n",
      "Visitor (38, 0) is prepared to leave the Entrance at time 1900-01-01 10:01:00.\n",
      "Visitor (39, 1) is prepared to leave the Entrance at time 1900-01-01 10:01:00.\n",
      "Visitor (40, 0) is prepared to leave the Entrance at time 1900-01-01 10:01:00.\n",
      "Visitor (41, 0) is prepared to leave the Entrance at time 1900-01-01 10:01:00.\n",
      "Visitor (42, 0) is prepared to leave the Entrance at time 1900-01-01 10:01:00.\n",
      "Visitor (43, 0) is prepared to leave the Entrance at time 1900-01-01 10:01:00.\n",
      "Visitor (44, 0) is prepared to leave the Entrance at time 1900-01-01 10:01:00.\n",
      "Visitor (45, 0) is prepared to leave the Entrance at time 1900-01-01 10:01:00.\n",
      "Visitor (46, 0) is prepared to leave the Entrance at time 1900-01-01 10:01:00.\n",
      "Visitor (47, 1) is prepared to leave the Entrance at time 1900-01-01 10:01:00.\n",
      "Visitor (48, 0) is prepared to leave the Entrance at time 1900-01-01 10:01:00.\n",
      "Visitor (49, 0) is prepared to leave the Entrance at time 1900-01-01 10:01:00.\n",
      "Visitor (50, 0) is prepared to leave the Entrance at time 1900-01-01 10:01:00.\n",
      "Visitor (51, 0) is prepared to leave the Entrance at time 1900-01-01 10:01:00.\n",
      "Visitor (52, 0) is prepared to leave the Entrance at time 1900-01-01 10:01:00.\n",
      "Visitor (53, 0) is prepared to leave the Entrance at time 1900-01-01 10:01:00.\n",
      "Visitor (54, 0) is prepared to leave the Entrance at time 1900-01-01 10:01:00.\n",
      "Visitor (55, 0) is prepared to leave the Entrance at time 1900-01-01 10:01:00.\n",
      "Visitor (56, 0) is prepared to leave the Entrance at time 1900-01-01 10:01:00.\n",
      "Visitor (57, 0) is prepared to leave the Entrance at time 1900-01-01 10:01:00.\n",
      "Visitor (58, 1) is prepared to leave the Entrance at time 1900-01-01 10:01:00.\n",
      "Visitor (59, 0) is prepared to leave the Entrance at time 1900-01-01 10:01:00.\n",
      "Visitor (60, 0) is prepared to leave the Entrance at time 1900-01-01 10:01:00.\n",
      "Visitor (61, 0) is prepared to leave the Entrance at time 1900-01-01 10:01:00.\n"
     ]
    },
    {
     "ename": "ValueError",
     "evalue": "not enough values to unpack (expected 3, got 2)",
     "output_type": "error",
     "traceback": [
      "\u001b[0;31m---------------------------------------------------------------------------\u001b[0m",
      "\u001b[0;31mValueError\u001b[0m                                Traceback (most recent call last)",
      "Input \u001b[0;32mIn [8]\u001b[0m, in \u001b[0;36m<cell line: 3>\u001b[0;34m()\u001b[0m\n\u001b[1;32m     49\u001b[0m \u001b[38;5;28;01mif\u001b[39;00m \u001b[38;5;28mtype\u001b[39m(node)\u001b[38;5;241m.\u001b[39m\u001b[38;5;18m__name__\u001b[39m \u001b[38;5;129;01min\u001b[39;00m [\u001b[38;5;124m\"\u001b[39m\u001b[38;5;124mAttraction\u001b[39m\u001b[38;5;124m\"\u001b[39m, \u001b[38;5;124m\"\u001b[39m\u001b[38;5;124mSeasonal\u001b[39m\u001b[38;5;124m\"\u001b[39m]:\n\u001b[1;32m     50\u001b[0m     node\u001b[38;5;241m.\u001b[39mprocess_ride()\n\u001b[0;32m---> 52\u001b[0m     time_slot, crowd, wait \u001b[38;5;241m=\u001b[39m node\u001b[38;5;241m.\u001b[39mget_data() \u001b[38;5;66;03m# Note: should only be called AFTER calling process_queue()\u001b[39;00m\n\u001b[1;32m     53\u001b[0m     park_data\u001b[38;5;241m.\u001b[39msetdefault(node\u001b[38;5;241m.\u001b[39mname, {})\u001b[38;5;241m.\u001b[39msetdefault(time_slot, {\u001b[38;5;124m'\u001b[39m\u001b[38;5;124mcrowd level\u001b[39m\u001b[38;5;124m'\u001b[39m: \u001b[38;5;28;01mNone\u001b[39;00m, \u001b[38;5;124m'\u001b[39m\u001b[38;5;124mwaiting time\u001b[39m\u001b[38;5;124m'\u001b[39m: \u001b[38;5;28;01mNone\u001b[39;00m})\n\u001b[1;32m     54\u001b[0m     park_data[node\u001b[38;5;241m.\u001b[39mname][time_slot][\u001b[38;5;124m'\u001b[39m\u001b[38;5;124mcrowd level\u001b[39m\u001b[38;5;124m'\u001b[39m] \u001b[38;5;241m=\u001b[39m crowd\n",
      "\u001b[0;31mValueError\u001b[0m: not enough values to unpack (expected 3, got 2)"
     ]
    }
   ],
   "source": [
    "\n",
    "\n",
    "#STEP 6: UP AND RUNNING\n",
    "\n",
    "while USS.current_time <= datetime.strptime(\"21:00\", \"%H:%M\"): \n",
    "    # advance time on all objects:\n",
    "    USS.advance_time()\n",
    "    \n",
    "    current_time_str = USS.current_time.strftime('%H:%M')\n",
    "    if current_time_str in USS.spawning_dict.keys():        \n",
    "        new_visitors = []\n",
    "        result = USS.spawn_visitor(USS.current_time, attraction_generator_df, paths_df)\n",
    "        if result != None: \n",
    "            new_visitors.extend(result)\n",
    "        if new_visitors:\n",
    "            for visitor in new_visitors: # spawning\n",
    "                USS.existing_visitors.append(visitor)\n",
    "                \n",
    "    USS.existing_visitors = [visitor for visitor in USS.existing_visitors if visitor.status != \"completed\"]\n",
    "\n",
    "    for item in USS.attractions + USS.seasonals + USS.utilities + USS.existing_visitors:\n",
    "        item.advance_time()\n",
    "    \n",
    "    for visitor in USS.existing_visitors:\n",
    "        if visitor.status == \"done\":\n",
    "            visitor.find_next_location()\n",
    "            visitor.find_count_down()\n",
    "        elif visitor.status == \"moving\":\n",
    "            if visitor.count_down > 0:\n",
    "                visitor.count_down -= 1\n",
    "            else: # arrive\n",
    "                visitor.status = \"none\"\n",
    "                visitor.current_location = visitor.next_location\n",
    "        elif visitor.status == \"queuing\":\n",
    "            if visitor.queuing > 45: # cross threshold, will move to the next itinerary\n",
    "                visitor.status = \"done\"\n",
    "                visitor.queuing = 0\n",
    "            else:\n",
    "                visitor.queuing += 1\n",
    "        elif visitor.status == \"being served\":\n",
    "            pass\n",
    "        \n",
    "        if visitor.status == \"none\":\n",
    "            node = combined_dict[visitor.current_location]\n",
    "            node.add_visitor(visitor)\n",
    "    \n",
    "    for node in USS.entrance + USS.attractions + USS.seasonals + USS.utilities:\n",
    "        if type(node).__name__ in [\"Entrance\"]:\n",
    "            node.process()\n",
    "\n",
    "        if type(node).__name__ in [\"Attraction\", \"Seasonal\"]:\n",
    "            node.process_ride()\n",
    "            \n",
    "            time_slot, crowd, wait = node.get_data() # Note: should only be called AFTER calling process_queue()\n",
    "            park_data.setdefault(node.name, {}).setdefault(time_slot, {'crowd level': None, 'waiting time': None})\n",
    "            park_data[node.name][time_slot]['crowd level'] = crowd\n",
    "            park_data[node.name][time_slot]['waiting time'] = wait\n",
    "\n",
    "        if type(node).__name__ in [\"Seasonal\"]:\n",
    "            node.process_ride()\n",
    "            \n",
    "            time_slot, crowd, wait = node.get_data() # Note: should only be called AFTER calling process_queue()\n",
    "            park_data.setdefault(node.name, {}).setdefault(time_slot, {'crowd level': None, 'waiting time': None})\n",
    "            park_data[node.name][time_slot]['crowd level'] = crowd\n",
    "            park_data[node.name][time_slot]['waiting time'] = wait\n",
    "            \n",
    "            node.release_visitor()\n",
    "        \n",
    "        if type(node).__name__ in [\"Utility\"]:\n",
    "            node.process()\n",
    "\n",
    "            time_slot, crowd, wait = node.get_data() # Note: should only be called AFTER calling process_queue()\n",
    "            park_data.setdefault(node.name, {}).setdefault(time_slot, {'crowd level': None, 'waiting time': None})\n",
    "            park_data[node.name][time_slot]['crowd level'] = crowd\n",
    "            park_data[node.name][time_slot]['waiting time'] = wait\n",
    "\n",
    "            \n"
   ]
  },
  {
   "cell_type": "code",
   "execution_count": null,
   "id": "522bfcf0",
   "metadata": {
    "papermill": {
     "duration": null,
     "end_time": null,
     "exception": null,
     "start_time": null,
     "status": "pending"
    },
    "tags": []
   },
   "outputs": [],
   "source": [
    "# optional\n",
    "#STEP 7: HOW MANY VISITORS VISITED\n",
    "\n",
    "# Upon finishing the time period, data on number of visitors served can be retrieved\n",
    "quantity_data = {}\n",
    "\n",
    "for item in USS.attractions + USS.utilities + USS.seasonals:\n",
    "    quantity_data[item.name] = item.total_served\n",
    "    print(item, 'has served ', quantity_data[item.name], ' visitors.')"
   ]
  },
  {
   "cell_type": "code",
   "execution_count": null,
   "id": "d1c361e4",
   "metadata": {
    "papermill": {
     "duration": null,
     "end_time": null,
     "exception": null,
     "start_time": null,
     "status": "pending"
    },
    "tags": []
   },
   "outputs": [],
   "source": [
    "#STEP 8: EXPORT DATA AS CSV FILES FOR FURTHER ANALYSIS\n",
    "\n",
    "import pandas as pd\n",
    "import os\n",
    "# Dictionary to store DataFrames with dynamic names\n",
    "dataframes = {}\n",
    "\n",
    "# Iterate over each node (e.g., \"Accelerator\")\n",
    "for node, time_slot in park_data.items():\n",
    "    # Initialize a list to hold rows of data for each time slot\n",
    "    rows = []\n",
    "    \n",
    "    # Iterate over each time entry in the node's data\n",
    "    for timestamp, entry in time_slot.items():\n",
    "        if isinstance(entry, dict):  # Ensure entry is a dictionary (which it is)\n",
    "            # Prepare a row dictionary combining the timestamp and its data\n",
    "            row = {'timestamp': timestamp}\n",
    "            \n",
    "            # Check if 'crowd level' and 'waiting time' are integers or dictionaries\n",
    "            if isinstance(entry['crowd level'], dict):\n",
    "                row['fast_pass_crowd_level'] = entry['crowd level']['fast_pass_queue']\n",
    "                row['regular_crowd_level'] = entry['crowd level']['regular_queue']\n",
    "            else:\n",
    "                # Assuming 'crowd level' is just an integer (e.g., 0)\n",
    "                row['fast_pass_crowd_level'] = entry['crowd level']\n",
    "                row['regular_crowd_level'] = entry['crowd level']\n",
    "\n",
    "            if isinstance(entry['waiting time'], dict):\n",
    "                row['fast_pass_waiting_time'] = entry['waiting time']['fast_pass_queue']\n",
    "                row['regular_waiting_time'] = entry['waiting time']['regular_queue']\n",
    "            else:\n",
    "                # Assuming 'waiting time' is just an integer (e.g., 0)\n",
    "                row['fast_pass_waiting_time'] = entry['waiting time']\n",
    "                row['regular_waiting_time'] = entry['waiting time']\n",
    "            \n",
    "            rows.append(row)\n",
    "\n",
    "    # Create DataFrame for each node\n",
    "    df = pd.DataFrame(rows)\n",
    "    \n",
    "    # Create a dynamic key for the dictionary using the node name\n",
    "    df_name = f'{node}_df'\n",
    "    \n",
    "    # Store the DataFrame in the dictionary\n",
    "    dataframes[df_name] = df\n",
    "\n",
    "# Extract the base name (without extension) of the csv file\n",
    "csv_base_name = os.path.splitext(os.path.basename(csv_file))[0]\n",
    "\n",
    "# Create output directory with the corresponding CSV file name and timestamp\n",
    "output_dir = f'../data/simulation_output_{csv_base_name}/'\n",
    "os.makedirs(output_dir, exist_ok=True)\n",
    "\n",
    "\n",
    "# Export each DataFrame to a CSV file\n",
    "for key, df in dataframes.items():\n",
    "    csv_file = os.path.join(output_dir, f'{key}.csv')\n",
    "    df.to_csv(csv_file, index=False)\n",
    "\n"
   ]
  }
 ],
 "metadata": {
  "kernelspec": {
   "display_name": "Python 3",
   "language": "python",
   "name": "python3"
  },
  "language_info": {
   "codemirror_mode": {
    "name": "ipython",
    "version": 3
   },
   "file_extension": ".py",
   "mimetype": "text/x-python",
   "name": "python",
   "nbconvert_exporter": "python",
   "pygments_lexer": "ipython3",
   "version": "3.10.6"
  },
  "papermill": {
   "default_parameters": {},
   "duration": 1.728945,
   "end_time": "2024-11-14T14:53:57.838821",
   "environment_variables": {},
   "exception": true,
   "input_path": "park_simulation.ipynb",
   "output_path": "output_public_holiday.ipynb",
   "parameters": {
    "csv_file": "../data/spawning csv files/public_holiday.csv"
   },
   "start_time": "2024-11-14T14:53:56.109876",
   "version": "2.6.0"
  }
 },
 "nbformat": 4,
 "nbformat_minor": 5
}